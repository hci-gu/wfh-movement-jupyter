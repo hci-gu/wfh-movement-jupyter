{
 "cells": [
  {
   "cell_type": "code",
   "execution_count": null,
   "id": "1a72f477",
   "metadata": {},
   "outputs": [],
   "source": [
    "import numpy as np\n",
    "import pandas as pd\n",
    "import matplotlib.pyplot as plt\n",
    "from datetime import datetime\n",
    "from dateutil import parser\n",
    "import requests\n",
    "import json\n",
    "\n",
    "pd.options.plotting.backend = \"plotly\"\n",
    "\n",
    "%matplotlib inline"
   ]
  },
  {
   "cell_type": "markdown",
   "id": "121c8393-bc12-4e31-ace8-b0550f11a80a",
   "metadata": {
    "tags": []
   },
   "source": [
    "# Data setup"
   ]
  },
  {
   "cell_type": "markdown",
   "id": "84a147e7-bb4b-4f3d-a1b8-bf8e7df2fd59",
   "metadata": {},
   "source": [
    "## Fetch data"
   ]
  },
  {
   "cell_type": "code",
   "execution_count": null,
   "id": "f9e534d7-a5b0-4771-8037-ae92a54bac4d",
   "metadata": {},
   "outputs": [],
   "source": [
    "# dataset = '12-months-before-after-2021-12-13'\n",
    "# dataset = '12-months-before-after-2021-12-14'\n",
    "# dataset = '24-before-24-after-2021-12-14'\n",
    "# dataset = 'calendar-months-48-updated-2021-12-20' # period data\n",
    "# dataset = 'before-after-2021-11-15'\n",
    "# dataset = 'before-after-weekdays-2021-12-16'\n",
    "# dataset = '2019-vs-after-2020-03-16-2021-12-22' # weekdays data\n",
    "# dataset = '2019-vs-after-2020-03-16-min-100-days-2021-12-22'\n",
    "\n",
    "dataset = '2019-vs-after-2020-03-16-weekday-2021-12-22' # day data"
   ]
  },
  {
   "cell_type": "code",
   "execution_count": null,
   "id": "21c89c7c-9d98-4137-aa29-e00822613546",
   "metadata": {},
   "outputs": [],
   "source": [
    "url = 'http://host.docker.internal:4000/analytics/dataset/' + dataset"
   ]
  },
  {
   "cell_type": "code",
   "execution_count": null,
   "id": "b2174d5b",
   "metadata": {},
   "outputs": [],
   "source": [
    "response = requests.get(url).text"
   ]
  },
  {
   "cell_type": "code",
   "execution_count": null,
   "id": "4e33d85e-efcf-4aba-ad99-5b2414d16659",
   "metadata": {},
   "outputs": [],
   "source": [
    "data = json.loads(response)"
   ]
  },
  {
   "cell_type": "code",
   "execution_count": null,
   "id": "e40b043b-d699-4a56-9bef-5f64e1b1a364",
   "metadata": {},
   "outputs": [],
   "source": [
    "len(data['rows'])"
   ]
  },
  {
   "cell_type": "markdown",
   "id": "6b6d829f-eb93-40c1-9615-0e2a58423b7c",
   "metadata": {
    "tags": []
   },
   "source": [
    "## Format data"
   ]
  },
  {
   "cell_type": "code",
   "execution_count": null,
   "id": "22ab90eb",
   "metadata": {},
   "outputs": [],
   "source": [
    "rows = []\n",
    "for row in data['rows']:\n",
    "    if (row['compareDate'] is None or row['compareDate'] == 'Invalid date'):\n",
    "        continue\n",
    "    user = [row['id'], row['gender'], row['ageRange'], row['occupation'], parser.parse(row['compareDate']), row['stepsEstimate']]\n",
    "    for hour in row['rows']:\n",
    "        rows.append(user + [hour['series'], hour['hour'], hour['value']])\n",
    "\n",
    "df = pd.DataFrame(rows, columns=['id', 'gender', 'ageRange', 'occupation', 'compareDate', 'stepsEstimate', 'series', 'hour', 'steps'])"
   ]
  },
  {
   "cell_type": "code",
   "execution_count": null,
   "id": "c0c29f9c-862d-46b9-9e73-a12409f71dde",
   "metadata": {
    "tags": []
   },
   "outputs": [],
   "source": [
    "df"
   ]
  },
  {
   "cell_type": "code",
   "execution_count": null,
   "id": "23b3c2c1-8316-41b8-b5b6-0fdaaa32f934",
   "metadata": {},
   "outputs": [],
   "source": [
    "#fdf = df[(df.occupation.notnull())]"
   ]
  },
  {
   "cell_type": "code",
   "execution_count": null,
   "id": "b5d0950e-b018-4b5c-af30-a112637d408f",
   "metadata": {
    "tags": []
   },
   "outputs": [],
   "source": [
    "df.head()"
   ]
  },
  {
   "cell_type": "code",
   "execution_count": null,
   "id": "daaee8fe-7656-4daa-b73d-05683ed7ab4f",
   "metadata": {},
   "outputs": [],
   "source": [
    "df.shape"
   ]
  },
  {
   "cell_type": "code",
   "execution_count": null,
   "id": "6c5dc7af-2cfb-4a9e-aaa1-4eb3ac2a0bfe",
   "metadata": {
    "tags": []
   },
   "outputs": [],
   "source": [
    "df.info()"
   ]
  },
  {
   "cell_type": "code",
   "execution_count": null,
   "id": "9fc65da9-1da7-4660-a3ee-82503ea04efe",
   "metadata": {
    "tags": []
   },
   "outputs": [],
   "source": [
    "df.describe()"
   ]
  },
  {
   "cell_type": "code",
   "execution_count": null,
   "id": "acb0230f-2085-4767-ae6b-54e3c022d924",
   "metadata": {},
   "outputs": [],
   "source": [
    "value = ''\n",
    "df = df[(df.ageRange.notnull()) & (df.ageRange == value)] if value else df"
   ]
  },
  {
   "cell_type": "code",
   "execution_count": null,
   "id": "3db41925-59a4-4b1d-a279-0e281d8eecd3",
   "metadata": {},
   "outputs": [],
   "source": [
    "work_ages = ['25-34', '35-44','45-54','55-64']\n",
    "df['work_age'] = df.ageRange.isin(work_ages)"
   ]
  },
  {
   "cell_type": "code",
   "execution_count": null,
   "id": "88311f26-1e52-45db-a167-9bc77d728db7",
   "metadata": {},
   "outputs": [],
   "source": [
    "%store df"
   ]
  },
  {
   "cell_type": "code",
   "execution_count": null,
   "id": "f5755955-083d-43d0-bb95-c50174a59cd5",
   "metadata": {},
   "outputs": [],
   "source": [
    "# From Folkhälsomyndigheten, weekly cases nationwide summed up for each month https://www.folkhalsomyndigheten.se/smittskydd-beredskap/utbrott/aktuella-utbrott/covid-19/statistik-och-analyser/bekraftade-fall-i-sverige/\n",
    "\n",
    "data = json.loads(\"\"\"[\n",
    "    { \"date\": \"2018-11-15\", \"value\": 0 },\n",
    "    { \"date\": \"2018-12-15\", \"value\": 0 },\n",
    "    { \"date\": \"2019-01-15\", \"value\": 0 },\n",
    "    { \"date\": \"2019-02-15\", \"value\": 0 },\n",
    "    { \"date\": \"2019-03-15\", \"value\": 0 },\n",
    "    { \"date\": \"2019-04-15\", \"value\": 0 },\n",
    "    { \"date\": \"2019-05-15\", \"value\": 0 },\n",
    "    { \"date\": \"2019-06-15\", \"value\": 0 },\n",
    "    { \"date\": \"2019-07-15\", \"value\": 0 },\n",
    "    { \"date\": \"2019-08-15\", \"value\": 0 },\n",
    "    { \"date\": \"2019-09-15\", \"value\": 0 },\n",
    "    { \"date\": \"2019-10-15\", \"value\": 0 },\n",
    "    { \"date\": \"2019-11-15\", \"value\": 0 },\n",
    "    { \"date\": \"2019-12-15\", \"value\": 0 },\n",
    "    { \"date\": \"2020-01-15\", \"value\": 0 },\n",
    "    { \"date\": \"2020-02-15\", \"value\": 14 },\n",
    "    { \"date\": \"2020-03-15\", \"value\": 7159 },\n",
    "    { \"date\": \"2020-04-15\", \"value\": 15527 },\n",
    "    { \"date\": \"2020-05-15\", \"value\": 15961 },\n",
    "    { \"date\": \"2020-06-15\", \"value\": 31951 },\n",
    "    { \"date\": \"2020-07-15\", \"value\": 6673 },\n",
    "    { \"date\": \"2020-08-15\", \"value\": 8285 },\n",
    "    { \"date\": \"2020-09-15\", \"value\": 10233 },\n",
    "    { \"date\": \"2020-10-15\", \"value\": 37527 },\n",
    "    { \"date\": \"2020-11-15\", \"value\": 161065 },\n",
    "    { \"date\": \"2020-12-15\", \"value\": 207718 },\n",
    "    { \"date\": \"2021-01-15\", \"value\": 92437 },\n",
    "    { \"date\": \"2021-02-15\", \"value\": 99336 },\n",
    "    { \"date\": \"2021-03-15\", \"value\": 178998 },\n",
    "    { \"date\": \"2021-04-15\", \"value\": 146055 },\n",
    "    { \"date\": \"2021-05-15\", \"value\": 65547 },\n",
    "    { \"date\": \"2021-06-15\", \"value\": 8215 },\n",
    "    { \"date\": \"2021-07-15\", \"value\": 12613 },\n",
    "    { \"date\": \"2021-08-15\", \"value\": 34179 },\n",
    "    { \"date\": \"2021-09-15\", \"value\": 18942 },\n",
    "    { \"date\": \"2021-10-15\", \"value\": 20232 },\n",
    "    { \"date\": \"2021-11-15\", \"value\": 38639 }\n",
    "  ]\"\"\")\n",
    "rows = []\n",
    "for row in data:\n",
    "    rows.append([parser.parse(row['date']), row['value']])\n",
    "\n",
    "covid_cases = pd.DataFrame(rows, columns=['date', 'cases'])\n",
    "\n",
    "%store covid_cases"
   ]
  },
  {
   "cell_type": "code",
   "execution_count": null,
   "id": "63f07166-7be4-412e-99f5-4327c8980226",
   "metadata": {},
   "outputs": [],
   "source": []
  }
 ],
 "metadata": {
  "kernelspec": {
   "display_name": "Python 3 (ipykernel)",
   "language": "python",
   "name": "python3"
  },
  "language_info": {
   "codemirror_mode": {
    "name": "ipython",
    "version": 3
   },
   "file_extension": ".py",
   "mimetype": "text/x-python",
   "name": "python",
   "nbconvert_exporter": "python",
   "pygments_lexer": "ipython3",
   "version": "3.9.7"
  }
 },
 "nbformat": 4,
 "nbformat_minor": 5
}
