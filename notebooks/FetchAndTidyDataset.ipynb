{
 "cells": [
  {
   "cell_type": "code",
   "execution_count": 1,
   "id": "1a72f477",
   "metadata": {},
   "outputs": [],
   "source": [
    "import numpy as np\n",
    "import pandas as pd\n",
    "import matplotlib.pyplot as plt\n",
    "from datetime import datetime\n",
    "from dateutil import parser\n",
    "import requests\n",
    "import json\n",
    "from ipywidgets import widgets \n",
    "\n",
    "pd.options.plotting.backend = \"plotly\"\n",
    "\n",
    "%matplotlib inline\n",
    "%run global.ipynb"
   ]
  },
  {
   "cell_type": "markdown",
   "id": "121c8393-bc12-4e31-ace8-b0550f11a80a",
   "metadata": {
    "tags": []
   },
   "source": [
    "# Data setup"
   ]
  },
  {
   "cell_type": "markdown",
   "id": "84a147e7-bb4b-4f3d-a1b8-bf8e7df2fd59",
   "metadata": {
    "tags": []
   },
   "source": [
    "## Fetch data"
   ]
  },
  {
   "cell_type": "code",
   "execution_count": 2,
   "id": "8251dbb0-56e2-4c16-9f50-4a067eeae277",
   "metadata": {},
   "outputs": [],
   "source": [
    "import os\n",
    "\n",
    "with open(os.path.join(os.getcwd(), 'data/dataset-2-2-day-2023-03-07'), 'r') as f:\n",
    "    day_data = json.load(f)\n",
    "\n",
    "week_data = []\n",
    "datasets = ['data/dataset-2-2-week-2023-03-07-1', 'data/dataset-2-2-week-2023-03-07-2', 'data/dataset-2-2-week-2023-03-07-3']\n",
    "for dataset in datasets:\n",
    "    with open(os.path.join(os.getcwd(), dataset), 'r') as f:\n",
    "        tmp_data = json.load(f)\n",
    "        week_data.extend(tmp_data)"
   ]
  },
  {
   "cell_type": "code",
   "execution_count": 3,
   "id": "22ab90eb",
   "metadata": {
    "tags": []
   },
   "outputs": [],
   "source": [
    "weekdata = data_to_df(week_data)\n",
    "week_df = weekdata[0]\n",
    "week_users_df = weekdata[1]"
   ]
  },
  {
   "cell_type": "code",
   "execution_count": 4,
   "id": "9fc65da9-1da7-4660-a3ee-82503ea04efe",
   "metadata": {
    "tags": []
   },
   "outputs": [],
   "source": [
    "daydata = data_to_df(day_data)\n",
    "day_df = daydata[0]\n",
    "day_users_df = daydata[1]"
   ]
  },
  {
   "cell_type": "code",
   "execution_count": 5,
   "id": "88311f26-1e52-45db-a167-9bc77d728db7",
   "metadata": {},
   "outputs": [
    {
     "name": "stdout",
     "output_type": "stream",
     "text": [
      "Stored 'week_df' (DataFrame)\n",
      "Stored 'week_users_df' (DataFrame)\n"
     ]
    }
   ],
   "source": [
    "%store week_df\n",
    "%store week_users_df"
   ]
  },
  {
   "cell_type": "code",
   "execution_count": 6,
   "id": "9b5f2a43-44ed-4c4a-a7a9-d7a4afdd717a",
   "metadata": {},
   "outputs": [
    {
     "name": "stdout",
     "output_type": "stream",
     "text": [
      "Stored 'day_df' (DataFrame)\n",
      "Stored 'day_users_df' (DataFrame)\n"
     ]
    }
   ],
   "source": [
    "%store day_df\n",
    "%store day_users_df"
   ]
  },
  {
   "cell_type": "markdown",
   "id": "d78b0915-d917-40d7-b170-04d1128a4b8b",
   "metadata": {},
   "source": [
    "## Covid cases"
   ]
  },
  {
   "cell_type": "code",
   "execution_count": 7,
   "id": "f5755955-083d-43d0-bb95-c50174a59cd5",
   "metadata": {},
   "outputs": [
    {
     "name": "stdout",
     "output_type": "stream",
     "text": [
      "Stored 'covid_cases' (DataFrame)\n"
     ]
    }
   ],
   "source": [
    "# From Folkhälsomyndigheten, weekly cases nationwide summed up for each month https://www.folkhalsomyndigheten.se/smittskydd-beredskap/utbrott/aktuella-utbrott/covid-19/statistik-och-analyser/bekraftade-fall-i-sverige/\n",
    "\n",
    "data = json.loads(\"\"\"[\n",
    "    { \"date\": \"2019-03-15\", \"value\": 0 },\n",
    "    { \"date\": \"2019-04-15\", \"value\": 0 },\n",
    "    { \"date\": \"2019-05-15\", \"value\": 0 },\n",
    "    { \"date\": \"2019-06-15\", \"value\": 0 },\n",
    "    { \"date\": \"2019-07-15\", \"value\": 0 },\n",
    "    { \"date\": \"2019-08-15\", \"value\": 0 },\n",
    "    { \"date\": \"2019-09-15\", \"value\": 0 },\n",
    "    { \"date\": \"2019-10-15\", \"value\": 0 },\n",
    "    { \"date\": \"2019-11-15\", \"value\": 0 },\n",
    "    { \"date\": \"2019-12-15\", \"value\": 0 },\n",
    "    { \"date\": \"2020-01-15\", \"value\": 0 },\n",
    "    { \"date\": \"2020-02-15\", \"value\": 14 },\n",
    "    { \"date\": \"2020-03-15\", \"value\": 7159 },\n",
    "    { \"date\": \"2020-04-15\", \"value\": 15527 },\n",
    "    { \"date\": \"2020-05-15\", \"value\": 15961 },\n",
    "    { \"date\": \"2020-06-15\", \"value\": 31951 },\n",
    "    { \"date\": \"2020-07-15\", \"value\": 6673 },\n",
    "    { \"date\": \"2020-08-15\", \"value\": 8285 },\n",
    "    { \"date\": \"2020-09-15\", \"value\": 10233 },\n",
    "    { \"date\": \"2020-10-15\", \"value\": 37527 },\n",
    "    { \"date\": \"2020-11-15\", \"value\": 161065 },\n",
    "    { \"date\": \"2020-12-15\", \"value\": 207718 },\n",
    "    { \"date\": \"2021-01-15\", \"value\": 92437 },\n",
    "    { \"date\": \"2021-02-15\", \"value\": 99336 }\n",
    "  ]\"\"\")\n",
    "rows = []\n",
    "for row in data:\n",
    "    rows.append([parser.parse(row['date']), row['value']])\n",
    "\n",
    "covid_cases = pd.DataFrame(rows, columns=['date', 'cases'])\n",
    "\n",
    "%store covid_cases"
   ]
  },
  {
   "cell_type": "code",
   "execution_count": null,
   "id": "d0dc75e0-20a6-4fe6-b54b-36bbb4460742",
   "metadata": {},
   "outputs": [],
   "source": []
  }
 ],
 "metadata": {
  "kernelspec": {
   "display_name": "Python 3 (ipykernel)",
   "language": "python",
   "name": "python3"
  },
  "language_info": {
   "codemirror_mode": {
    "name": "ipython",
    "version": 3
   },
   "file_extension": ".py",
   "mimetype": "text/x-python",
   "name": "python",
   "nbconvert_exporter": "python",
   "pygments_lexer": "ipython3",
   "version": "3.9.12"
  }
 },
 "nbformat": 4,
 "nbformat_minor": 5
}
