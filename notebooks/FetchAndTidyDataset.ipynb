{
 "cells": [
  {
   "cell_type": "code",
   "execution_count": 16,
   "id": "1a72f477",
   "metadata": {},
   "outputs": [],
   "source": [
    "import numpy as np\n",
    "import pandas as pd\n",
    "import matplotlib.pyplot as plt\n",
    "from datetime import datetime\n",
    "from dateutil import parser\n",
    "import requests\n",
    "import json\n",
    "from ipywidgets import widgets \n",
    "\n",
    "pd.options.plotting.backend = \"plotly\"\n",
    "\n",
    "%matplotlib inline\n",
    "%run global.ipynb"
   ]
  },
  {
   "cell_type": "markdown",
   "id": "121c8393-bc12-4e31-ace8-b0550f11a80a",
   "metadata": {
    "tags": []
   },
   "source": [
    "# Data setup"
   ]
  },
  {
   "cell_type": "markdown",
   "id": "84a147e7-bb4b-4f3d-a1b8-bf8e7df2fd59",
   "metadata": {
    "tags": []
   },
   "source": [
    "## Fetch data"
   ]
  },
  {
   "cell_type": "code",
   "execution_count": 15,
   "id": "8251dbb0-56e2-4c16-9f50-4a067eeae277",
   "metadata": {},
   "outputs": [
    {
     "ename": "FileNotFoundError",
     "evalue": "[Errno 2] No such file or directory: '/home/jovyan/work/data/dataset-2-2-day-2023-03-07'",
     "output_type": "error",
     "traceback": [
      "\u001b[0;31m---------------------------------------------------------------------------\u001b[0m",
      "\u001b[0;31mFileNotFoundError\u001b[0m                         Traceback (most recent call last)",
      "Input \u001b[0;32mIn [15]\u001b[0m, in \u001b[0;36m<cell line: 3>\u001b[0;34m()\u001b[0m\n\u001b[1;32m      1\u001b[0m \u001b[38;5;28;01mimport\u001b[39;00m \u001b[38;5;21;01mos\u001b[39;00m\n\u001b[0;32m----> 3\u001b[0m \u001b[38;5;28;01mwith\u001b[39;00m \u001b[38;5;28;43mopen\u001b[39;49m\u001b[43m(\u001b[49m\u001b[43mos\u001b[49m\u001b[38;5;241;43m.\u001b[39;49m\u001b[43mpath\u001b[49m\u001b[38;5;241;43m.\u001b[39;49m\u001b[43mjoin\u001b[49m\u001b[43m(\u001b[49m\u001b[43mos\u001b[49m\u001b[38;5;241;43m.\u001b[39;49m\u001b[43mgetcwd\u001b[49m\u001b[43m(\u001b[49m\u001b[43m)\u001b[49m\u001b[43m,\u001b[49m\u001b[43m \u001b[49m\u001b[38;5;124;43m'\u001b[39;49m\u001b[38;5;124;43mdata/dataset-2-2-day-2023-03-07\u001b[39;49m\u001b[38;5;124;43m'\u001b[39;49m\u001b[43m)\u001b[49m\u001b[43m,\u001b[49m\u001b[43m \u001b[49m\u001b[38;5;124;43m'\u001b[39;49m\u001b[38;5;124;43mr\u001b[39;49m\u001b[38;5;124;43m'\u001b[39;49m\u001b[43m)\u001b[49m \u001b[38;5;28;01mas\u001b[39;00m f:\n\u001b[1;32m      4\u001b[0m     day_data \u001b[38;5;241m=\u001b[39m json\u001b[38;5;241m.\u001b[39mload(f)\n\u001b[1;32m      6\u001b[0m week_data \u001b[38;5;241m=\u001b[39m []\n",
      "\u001b[0;31mFileNotFoundError\u001b[0m: [Errno 2] No such file or directory: '/home/jovyan/work/data/dataset-2-2-day-2023-03-07'"
     ]
    }
   ],
   "source": [
    "import os\n",
    "\n",
    "with open(os.path.join(os.getcwd(), 'data/dataset-2-2-day-2023-03-07'), 'r') as f:\n",
    "    day_data = json.load(f)\n",
    "\n",
    "week_data = []\n",
    "datasets = ['data/dataset-2-2-week-2023-03-07-1', 'data/dataset-2-2-week-2023-03-07-2', 'data/dataset-2-2-week-2023-03-07-3']\n",
    "for dataset in datasets:\n",
    "    with open(os.path.join(os.getcwd(), dataset), 'r') as f:\n",
    "        tmp_data = json.load(f)\n",
    "        week_data.extend(tmp_data)"
   ]
  },
  {
   "cell_type": "code",
   "execution_count": 17,
   "id": "3515d274",
   "metadata": {},
   "outputs": [
    {
     "data": {
      "text/html": [
       "<div>\n",
       "<style scoped>\n",
       "    .dataframe tbody tr th:only-of-type {\n",
       "        vertical-align: middle;\n",
       "    }\n",
       "\n",
       "    .dataframe tbody tr th {\n",
       "        vertical-align: top;\n",
       "    }\n",
       "\n",
       "    .dataframe thead th {\n",
       "        text-align: right;\n",
       "    }\n",
       "</style>\n",
       "<table border=\"1\" class=\"dataframe\">\n",
       "  <thead>\n",
       "    <tr style=\"text-align: right;\">\n",
       "      <th></th>\n",
       "      <th>date</th>\n",
       "      <th>steps</th>\n",
       "      <th>userId</th>\n",
       "      <th>gender</th>\n",
       "      <th>ageRange</th>\n",
       "      <th>created</th>\n",
       "      <th>stepsEstimate</th>\n",
       "    </tr>\n",
       "  </thead>\n",
       "  <tbody>\n",
       "    <tr>\n",
       "      <th>0</th>\n",
       "      <td>2017-09-18</td>\n",
       "      <td>2421.0</td>\n",
       "      <td>5f772fc063993d0008607bb4</td>\n",
       "      <td>male</td>\n",
       "      <td>25-34</td>\n",
       "      <td>2020-10-02 13:48:48.153000+00:00</td>\n",
       "      <td>0.25</td>\n",
       "    </tr>\n",
       "    <tr>\n",
       "      <th>1</th>\n",
       "      <td>2017-09-19</td>\n",
       "      <td>5718.0</td>\n",
       "      <td>5f772fc063993d0008607bb4</td>\n",
       "      <td>male</td>\n",
       "      <td>25-34</td>\n",
       "      <td>2020-10-02 13:48:48.153000+00:00</td>\n",
       "      <td>0.25</td>\n",
       "    </tr>\n",
       "    <tr>\n",
       "      <th>2</th>\n",
       "      <td>2017-09-20</td>\n",
       "      <td>4542.0</td>\n",
       "      <td>5f772fc063993d0008607bb4</td>\n",
       "      <td>male</td>\n",
       "      <td>25-34</td>\n",
       "      <td>2020-10-02 13:48:48.153000+00:00</td>\n",
       "      <td>0.25</td>\n",
       "    </tr>\n",
       "    <tr>\n",
       "      <th>3</th>\n",
       "      <td>2017-09-21</td>\n",
       "      <td>6021.0</td>\n",
       "      <td>5f772fc063993d0008607bb4</td>\n",
       "      <td>male</td>\n",
       "      <td>25-34</td>\n",
       "      <td>2020-10-02 13:48:48.153000+00:00</td>\n",
       "      <td>0.25</td>\n",
       "    </tr>\n",
       "    <tr>\n",
       "      <th>4</th>\n",
       "      <td>2017-09-22</td>\n",
       "      <td>2970.0</td>\n",
       "      <td>5f772fc063993d0008607bb4</td>\n",
       "      <td>male</td>\n",
       "      <td>25-34</td>\n",
       "      <td>2020-10-02 13:48:48.153000+00:00</td>\n",
       "      <td>0.25</td>\n",
       "    </tr>\n",
       "    <tr>\n",
       "      <th>...</th>\n",
       "      <td>...</td>\n",
       "      <td>...</td>\n",
       "      <td>...</td>\n",
       "      <td>...</td>\n",
       "      <td>...</td>\n",
       "      <td>...</td>\n",
       "      <td>...</td>\n",
       "    </tr>\n",
       "    <tr>\n",
       "      <th>1361803</th>\n",
       "      <td>2023-05-22</td>\n",
       "      <td>165.0</td>\n",
       "      <td>64784cba2562860008d7f574</td>\n",
       "      <td>female</td>\n",
       "      <td>45-54</td>\n",
       "      <td>2023-06-01 07:46:02.263000+00:00</td>\n",
       "      <td>0.00</td>\n",
       "    </tr>\n",
       "    <tr>\n",
       "      <th>1361804</th>\n",
       "      <td>2023-05-25</td>\n",
       "      <td>18.0</td>\n",
       "      <td>64784cba2562860008d7f574</td>\n",
       "      <td>female</td>\n",
       "      <td>45-54</td>\n",
       "      <td>2023-06-01 07:46:02.263000+00:00</td>\n",
       "      <td>0.00</td>\n",
       "    </tr>\n",
       "    <tr>\n",
       "      <th>1361805</th>\n",
       "      <td>2023-05-26</td>\n",
       "      <td>4687.0</td>\n",
       "      <td>64784cba2562860008d7f574</td>\n",
       "      <td>female</td>\n",
       "      <td>45-54</td>\n",
       "      <td>2023-06-01 07:46:02.263000+00:00</td>\n",
       "      <td>0.00</td>\n",
       "    </tr>\n",
       "    <tr>\n",
       "      <th>1361806</th>\n",
       "      <td>2023-05-29</td>\n",
       "      <td>2481.0</td>\n",
       "      <td>64784cba2562860008d7f574</td>\n",
       "      <td>female</td>\n",
       "      <td>45-54</td>\n",
       "      <td>2023-06-01 07:46:02.263000+00:00</td>\n",
       "      <td>0.00</td>\n",
       "    </tr>\n",
       "    <tr>\n",
       "      <th>1361807</th>\n",
       "      <td>2023-05-30</td>\n",
       "      <td>10061.0</td>\n",
       "      <td>64784cba2562860008d7f574</td>\n",
       "      <td>female</td>\n",
       "      <td>45-54</td>\n",
       "      <td>2023-06-01 07:46:02.263000+00:00</td>\n",
       "      <td>0.00</td>\n",
       "    </tr>\n",
       "  </tbody>\n",
       "</table>\n",
       "<p>1361808 rows × 7 columns</p>\n",
       "</div>"
      ],
      "text/plain": [
       "              date    steps                    userId  gender ageRange  \\\n",
       "0       2017-09-18   2421.0  5f772fc063993d0008607bb4    male    25-34   \n",
       "1       2017-09-19   5718.0  5f772fc063993d0008607bb4    male    25-34   \n",
       "2       2017-09-20   4542.0  5f772fc063993d0008607bb4    male    25-34   \n",
       "3       2017-09-21   6021.0  5f772fc063993d0008607bb4    male    25-34   \n",
       "4       2017-09-22   2970.0  5f772fc063993d0008607bb4    male    25-34   \n",
       "...            ...      ...                       ...     ...      ...   \n",
       "1361803 2023-05-22    165.0  64784cba2562860008d7f574  female    45-54   \n",
       "1361804 2023-05-25     18.0  64784cba2562860008d7f574  female    45-54   \n",
       "1361805 2023-05-26   4687.0  64784cba2562860008d7f574  female    45-54   \n",
       "1361806 2023-05-29   2481.0  64784cba2562860008d7f574  female    45-54   \n",
       "1361807 2023-05-30  10061.0  64784cba2562860008d7f574  female    45-54   \n",
       "\n",
       "                                 created  stepsEstimate  \n",
       "0       2020-10-02 13:48:48.153000+00:00           0.25  \n",
       "1       2020-10-02 13:48:48.153000+00:00           0.25  \n",
       "2       2020-10-02 13:48:48.153000+00:00           0.25  \n",
       "3       2020-10-02 13:48:48.153000+00:00           0.25  \n",
       "4       2020-10-02 13:48:48.153000+00:00           0.25  \n",
       "...                                  ...            ...  \n",
       "1361803 2023-06-01 07:46:02.263000+00:00           0.00  \n",
       "1361804 2023-06-01 07:46:02.263000+00:00           0.00  \n",
       "1361805 2023-06-01 07:46:02.263000+00:00           0.00  \n",
       "1361806 2023-06-01 07:46:02.263000+00:00           0.00  \n",
       "1361807 2023-06-01 07:46:02.263000+00:00           0.00  \n",
       "\n",
       "[1361808 rows x 7 columns]"
      ]
     },
     "execution_count": 17,
     "metadata": {},
     "output_type": "execute_result"
    }
   ],
   "source": [
    "import os\n",
    "\n",
    "with open(os.path.join(os.getcwd(), 'data/steps_with_est.json'), 'r') as f:\n",
    "    estimates_data = json.load(f)\n",
    "\n",
    "estimates_df = estimates_data_to_df(estimates_data)\n",
    "\n",
    "estimates_df"
   ]
  },
  {
   "cell_type": "code",
   "execution_count": null,
   "id": "22ab90eb",
   "metadata": {
    "tags": []
   },
   "outputs": [],
   "source": [
    "weekdata = data_to_df(week_data)\n",
    "week_df = weekdata[0]\n",
    "week_users_df = weekdata[1]"
   ]
  },
  {
   "cell_type": "code",
   "execution_count": null,
   "id": "9fc65da9-1da7-4660-a3ee-82503ea04efe",
   "metadata": {
    "tags": []
   },
   "outputs": [],
   "source": [
    "daydata = data_to_df(day_data)\n",
    "day_df = daydata[0]\n",
    "day_users_df = daydata[1]"
   ]
  },
  {
   "cell_type": "code",
   "execution_count": null,
   "id": "88311f26-1e52-45db-a167-9bc77d728db7",
   "metadata": {},
   "outputs": [],
   "source": [
    "%store week_df\n",
    "%store week_users_df"
   ]
  },
  {
   "cell_type": "code",
   "execution_count": 18,
   "id": "9b5f2a43-44ed-4c4a-a7a9-d7a4afdd717a",
   "metadata": {},
   "outputs": [
    {
     "name": "stdout",
     "output_type": "stream",
     "text": [
      "Stored 'estimates_df' (DataFrame)\n"
     ]
    }
   ],
   "source": [
    "#%store day_df\n",
    "# %store day_users_df\n",
    "%store estimates_df"
   ]
  },
  {
   "cell_type": "markdown",
   "id": "d78b0915-d917-40d7-b170-04d1128a4b8b",
   "metadata": {},
   "source": [
    "## Covid cases"
   ]
  },
  {
   "cell_type": "code",
   "execution_count": null,
   "id": "f5755955-083d-43d0-bb95-c50174a59cd5",
   "metadata": {},
   "outputs": [],
   "source": [
    "# From Folkhälsomyndigheten, weekly cases nationwide summed up for each month https://www.folkhalsomyndigheten.se/smittskydd-beredskap/utbrott/aktuella-utbrott/covid-19/statistik-och-analyser/bekraftade-fall-i-sverige/\n",
    "\n",
    "data = json.loads(\"\"\"[\n",
    "    { \"date\": \"2019-03-15\", \"value\": 0 },\n",
    "    { \"date\": \"2019-04-15\", \"value\": 0 },\n",
    "    { \"date\": \"2019-05-15\", \"value\": 0 },\n",
    "    { \"date\": \"2019-06-15\", \"value\": 0 },\n",
    "    { \"date\": \"2019-07-15\", \"value\": 0 },\n",
    "    { \"date\": \"2019-08-15\", \"value\": 0 },\n",
    "    { \"date\": \"2019-09-15\", \"value\": 0 },\n",
    "    { \"date\": \"2019-10-15\", \"value\": 0 },\n",
    "    { \"date\": \"2019-11-15\", \"value\": 0 },\n",
    "    { \"date\": \"2019-12-15\", \"value\": 0 },\n",
    "    { \"date\": \"2020-01-15\", \"value\": 0 },\n",
    "    { \"date\": \"2020-02-15\", \"value\": 14 },\n",
    "    { \"date\": \"2020-03-15\", \"value\": 7159 },\n",
    "    { \"date\": \"2020-04-15\", \"value\": 15527 },\n",
    "    { \"date\": \"2020-05-15\", \"value\": 15961 },\n",
    "    { \"date\": \"2020-06-15\", \"value\": 31951 },\n",
    "    { \"date\": \"2020-07-15\", \"value\": 6673 },\n",
    "    { \"date\": \"2020-08-15\", \"value\": 8285 },\n",
    "    { \"date\": \"2020-09-15\", \"value\": 10233 },\n",
    "    { \"date\": \"2020-10-15\", \"value\": 37527 },\n",
    "    { \"date\": \"2020-11-15\", \"value\": 161065 },\n",
    "    { \"date\": \"2020-12-15\", \"value\": 207718 },\n",
    "    { \"date\": \"2021-01-15\", \"value\": 92437 },\n",
    "    { \"date\": \"2021-02-15\", \"value\": 99336 }\n",
    "  ]\"\"\")\n",
    "rows = []\n",
    "for row in data:\n",
    "    rows.append([parser.parse(row['date']), row['value']])\n",
    "\n",
    "covid_cases = pd.DataFrame(rows, columns=['date', 'cases'])\n",
    "\n",
    "%store covid_cases"
   ]
  },
  {
   "cell_type": "code",
   "execution_count": null,
   "id": "b6df94af-f20c-4543-958d-e0a3f2be3d33",
   "metadata": {},
   "outputs": [],
   "source": [
    "day_df"
   ]
  },
  {
   "cell_type": "code",
   "execution_count": null,
   "id": "4004a053-cda3-4117-91c8-795fd7ff4950",
   "metadata": {},
   "outputs": [],
   "source": [
    "# Create simplified users df from day_df\n",
    "\n"
   ]
  },
  {
   "cell_type": "code",
   "execution_count": null,
   "id": "2520565c",
   "metadata": {},
   "outputs": [],
   "source": []
  }
 ],
 "metadata": {
  "kernelspec": {
   "display_name": "Python 3 (ipykernel)",
   "language": "python",
   "name": "python3"
  },
  "language_info": {
   "codemirror_mode": {
    "name": "ipython",
    "version": 3
   },
   "file_extension": ".py",
   "mimetype": "text/x-python",
   "name": "python",
   "nbconvert_exporter": "python",
   "pygments_lexer": "ipython3",
   "version": "3.9.12"
  }
 },
 "nbformat": 4,
 "nbformat_minor": 5
}
