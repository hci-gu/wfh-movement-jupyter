{
 "cells": [
  {
   "cell_type": "code",
   "execution_count": 2,
   "id": "1a72f477",
   "metadata": {},
   "outputs": [],
   "source": [
    "import numpy as np\n",
    "import pandas as pd\n",
    "import matplotlib.pyplot as plt\n",
    "from datetime import datetime\n",
    "from dateutil import parser\n",
    "import requests\n",
    "import json\n",
    "from ipywidgets import widgets \n",
    "\n",
    "pd.options.plotting.backend = \"plotly\"\n",
    "\n",
    "%matplotlib inline\n",
    "%run global.ipynb"
   ]
  },
  {
   "cell_type": "markdown",
   "id": "121c8393-bc12-4e31-ace8-b0550f11a80a",
   "metadata": {
    "tags": []
   },
   "source": [
    "# Data setup"
   ]
  },
  {
   "cell_type": "markdown",
   "id": "84a147e7-bb4b-4f3d-a1b8-bf8e7df2fd59",
   "metadata": {
    "tags": []
   },
   "source": [
    "## Fetch data"
   ]
  },
  {
   "cell_type": "code",
   "execution_count": 3,
   "id": "21c89c7c-9d98-4137-aa29-e00822613546",
   "metadata": {},
   "outputs": [
    {
     "data": {
      "application/vnd.jupyter.widget-view+json": {
       "model_id": "d20ba7510a0d4ee999febe6f49f0b202",
       "version_major": 2,
       "version_minor": 0
      },
      "text/plain": [
       "Dropdown(options=('Day', 'Week'), value='Day')"
      ]
     },
     "metadata": {},
     "output_type": "display_data"
    }
   ],
   "source": [
    "from ipywidgets import widgets\n",
    "options = [\"Day\", \"Week\"]\n",
    "dropdown = widgets.Dropdown(options=options) \n",
    "mode = dropdown.value\n",
    "def on_change(change):\n",
    "    if change['type'] == 'change' and change['name'] == 'value':\n",
    "        global mode\n",
    "        mode = change['new']\n",
    "    \n",
    "dropdown.observe(on_change)\n",
    "display(dropdown)"
   ]
  },
  {
   "cell_type": "code",
   "execution_count": 3,
   "id": "8251dbb0-56e2-4c16-9f50-4a067eeae277",
   "metadata": {},
   "outputs": [],
   "source": [
    "import os\n",
    "\n",
    "if mode == 'Day':\n",
    "    with open(os.path.join(os.getcwd(), 'data/dataset-2-2-day-2023-03-07'), 'r') as f:\n",
    "        data = json.load(f)\n",
    "else:\n",
    "    data = []\n",
    "    datasets = ['data/dataset-2-2-week-2023-03-07-1', 'data/dataset-2-2-week-2023-03-07-2', 'data/dataset-2-2-week-2023-03-07-3']\n",
    "    for dataset in datasets:\n",
    "        with open(os.path.join(os.getcwd(), dataset), 'r') as f:\n",
    "            tmp_data = json.load(f)\n",
    "            data.extend(tmp_data)"
   ]
  },
  {
   "cell_type": "code",
   "execution_count": 4,
   "id": "452f9010-f232-4a80-8533-1475f51ef075",
   "metadata": {},
   "outputs": [],
   "source": [
    "%run global.ipynb"
   ]
  },
  {
   "cell_type": "code",
   "execution_count": 5,
   "id": "22ab90eb",
   "metadata": {
    "tags": []
   },
   "outputs": [],
   "source": [
    "rows = []\n",
    "user_list = []\n",
    "for row in data:\n",
    "    if (row['compareDate'] is None or row['compareDate'] == 'Invalid date'):\n",
    "        continue\n",
    "    user = [row['id'], row['gender'], row['ageRange'], row['occupation'], parser.parse(row['compareDate']), row['stepsEstimate']]\n",
    "    user_list.append(user)\n",
    "    for hour in row['rows']:\n",
    "        rows.append(user + [hour['series'], hour['hour'], hour['value']])\n",
    "\n",
    "users_df = pd.DataFrame(user_list, columns=['id', 'gender', 'ageRange', 'occupation', 'compareDate', 'stepsEstimate'])\n",
    "df = pd.DataFrame(rows, columns=['id', 'gender', 'ageRange', 'occupation', 'compareDate', 'stepsEstimate', 'series', 'hour', 'steps'])"
   ]
  },
  {
   "cell_type": "code",
   "execution_count": 6,
   "id": "c0c29f9c-862d-46b9-9e73-a12409f71dde",
   "metadata": {
    "tags": []
   },
   "outputs": [
    {
     "data": {
      "text/html": [
       "<div>\n",
       "<style scoped>\n",
       "    .dataframe tbody tr th:only-of-type {\n",
       "        vertical-align: middle;\n",
       "    }\n",
       "\n",
       "    .dataframe tbody tr th {\n",
       "        vertical-align: top;\n",
       "    }\n",
       "\n",
       "    .dataframe thead th {\n",
       "        text-align: right;\n",
       "    }\n",
       "</style>\n",
       "<table border=\"1\" class=\"dataframe\">\n",
       "  <thead>\n",
       "    <tr style=\"text-align: right;\">\n",
       "      <th></th>\n",
       "      <th>id</th>\n",
       "      <th>gender</th>\n",
       "      <th>ageRange</th>\n",
       "      <th>occupation</th>\n",
       "      <th>compareDate</th>\n",
       "      <th>stepsEstimate</th>\n",
       "      <th>series</th>\n",
       "      <th>hour</th>\n",
       "      <th>steps</th>\n",
       "    </tr>\n",
       "  </thead>\n",
       "  <tbody>\n",
       "    <tr>\n",
       "      <th>0</th>\n",
       "      <td>5ee39a5f5e886e000876182a</td>\n",
       "      <td>None</td>\n",
       "      <td>None</td>\n",
       "      <td>None</td>\n",
       "      <td>2020-03-16</td>\n",
       "      <td>NaN</td>\n",
       "      <td>2019-12-16</td>\n",
       "      <td>10</td>\n",
       "      <td>74.400000</td>\n",
       "    </tr>\n",
       "    <tr>\n",
       "      <th>1</th>\n",
       "      <td>5ee39a5f5e886e000876182a</td>\n",
       "      <td>None</td>\n",
       "      <td>None</td>\n",
       "      <td>None</td>\n",
       "      <td>2020-03-16</td>\n",
       "      <td>NaN</td>\n",
       "      <td>2019-12-16</td>\n",
       "      <td>11</td>\n",
       "      <td>113.466667</td>\n",
       "    </tr>\n",
       "    <tr>\n",
       "      <th>2</th>\n",
       "      <td>5ee39a5f5e886e000876182a</td>\n",
       "      <td>None</td>\n",
       "      <td>None</td>\n",
       "      <td>None</td>\n",
       "      <td>2020-03-16</td>\n",
       "      <td>NaN</td>\n",
       "      <td>2019-12-16</td>\n",
       "      <td>12</td>\n",
       "      <td>267.066667</td>\n",
       "    </tr>\n",
       "    <tr>\n",
       "      <th>3</th>\n",
       "      <td>5ee39a5f5e886e000876182a</td>\n",
       "      <td>None</td>\n",
       "      <td>None</td>\n",
       "      <td>None</td>\n",
       "      <td>2020-03-16</td>\n",
       "      <td>NaN</td>\n",
       "      <td>2019-12-16</td>\n",
       "      <td>13</td>\n",
       "      <td>178.866667</td>\n",
       "    </tr>\n",
       "    <tr>\n",
       "      <th>4</th>\n",
       "      <td>5ee39a5f5e886e000876182a</td>\n",
       "      <td>None</td>\n",
       "      <td>None</td>\n",
       "      <td>None</td>\n",
       "      <td>2020-03-16</td>\n",
       "      <td>NaN</td>\n",
       "      <td>2019-12-16</td>\n",
       "      <td>14</td>\n",
       "      <td>323.000000</td>\n",
       "    </tr>\n",
       "    <tr>\n",
       "      <th>...</th>\n",
       "      <td>...</td>\n",
       "      <td>...</td>\n",
       "      <td>...</td>\n",
       "      <td>...</td>\n",
       "      <td>...</td>\n",
       "      <td>...</td>\n",
       "      <td>...</td>\n",
       "      <td>...</td>\n",
       "      <td>...</td>\n",
       "    </tr>\n",
       "    <tr>\n",
       "      <th>694051</th>\n",
       "      <td>61af75effdde7a000853faad</td>\n",
       "      <td>Female</td>\n",
       "      <td>35-44</td>\n",
       "      <td>tjänsteman kommun</td>\n",
       "      <td>2020-03-16</td>\n",
       "      <td>-0.2</td>\n",
       "      <td>2021-02-16</td>\n",
       "      <td>05</td>\n",
       "      <td>10.445672</td>\n",
       "    </tr>\n",
       "    <tr>\n",
       "      <th>694052</th>\n",
       "      <td>61af75effdde7a000853faad</td>\n",
       "      <td>Female</td>\n",
       "      <td>35-44</td>\n",
       "      <td>tjänsteman kommun</td>\n",
       "      <td>2020-03-16</td>\n",
       "      <td>-0.2</td>\n",
       "      <td>2021-02-16</td>\n",
       "      <td>06</td>\n",
       "      <td>364.363903</td>\n",
       "    </tr>\n",
       "    <tr>\n",
       "      <th>694053</th>\n",
       "      <td>61af75effdde7a000853faad</td>\n",
       "      <td>Female</td>\n",
       "      <td>35-44</td>\n",
       "      <td>tjänsteman kommun</td>\n",
       "      <td>2020-03-16</td>\n",
       "      <td>-0.2</td>\n",
       "      <td>2021-02-16</td>\n",
       "      <td>07</td>\n",
       "      <td>979.696745</td>\n",
       "    </tr>\n",
       "    <tr>\n",
       "      <th>694054</th>\n",
       "      <td>61af75effdde7a000853faad</td>\n",
       "      <td>Female</td>\n",
       "      <td>35-44</td>\n",
       "      <td>tjänsteman kommun</td>\n",
       "      <td>2020-03-16</td>\n",
       "      <td>-0.2</td>\n",
       "      <td>2021-02-16</td>\n",
       "      <td>08</td>\n",
       "      <td>424.530925</td>\n",
       "    </tr>\n",
       "    <tr>\n",
       "      <th>694055</th>\n",
       "      <td>61af75effdde7a000853faad</td>\n",
       "      <td>Female</td>\n",
       "      <td>35-44</td>\n",
       "      <td>tjänsteman kommun</td>\n",
       "      <td>2020-03-16</td>\n",
       "      <td>-0.2</td>\n",
       "      <td>2021-02-16</td>\n",
       "      <td>09</td>\n",
       "      <td>465.862883</td>\n",
       "    </tr>\n",
       "  </tbody>\n",
       "</table>\n",
       "<p>694056 rows × 9 columns</p>\n",
       "</div>"
      ],
      "text/plain": [
       "                              id  gender ageRange          occupation  \\\n",
       "0       5ee39a5f5e886e000876182a    None     None                None   \n",
       "1       5ee39a5f5e886e000876182a    None     None                None   \n",
       "2       5ee39a5f5e886e000876182a    None     None                None   \n",
       "3       5ee39a5f5e886e000876182a    None     None                None   \n",
       "4       5ee39a5f5e886e000876182a    None     None                None   \n",
       "...                          ...     ...      ...                 ...   \n",
       "694051  61af75effdde7a000853faad  Female    35-44  tjänsteman kommun    \n",
       "694052  61af75effdde7a000853faad  Female    35-44  tjänsteman kommun    \n",
       "694053  61af75effdde7a000853faad  Female    35-44  tjänsteman kommun    \n",
       "694054  61af75effdde7a000853faad  Female    35-44  tjänsteman kommun    \n",
       "694055  61af75effdde7a000853faad  Female    35-44  tjänsteman kommun    \n",
       "\n",
       "       compareDate  stepsEstimate      series hour       steps  \n",
       "0       2020-03-16            NaN  2019-12-16   10   74.400000  \n",
       "1       2020-03-16            NaN  2019-12-16   11  113.466667  \n",
       "2       2020-03-16            NaN  2019-12-16   12  267.066667  \n",
       "3       2020-03-16            NaN  2019-12-16   13  178.866667  \n",
       "4       2020-03-16            NaN  2019-12-16   14  323.000000  \n",
       "...            ...            ...         ...  ...         ...  \n",
       "694051  2020-03-16           -0.2  2021-02-16   05   10.445672  \n",
       "694052  2020-03-16           -0.2  2021-02-16   06  364.363903  \n",
       "694053  2020-03-16           -0.2  2021-02-16   07  979.696745  \n",
       "694054  2020-03-16           -0.2  2021-02-16   08  424.530925  \n",
       "694055  2020-03-16           -0.2  2021-02-16   09  465.862883  \n",
       "\n",
       "[694056 rows x 9 columns]"
      ]
     },
     "execution_count": 6,
     "metadata": {},
     "output_type": "execute_result"
    }
   ],
   "source": [
    "df"
   ]
  },
  {
   "cell_type": "code",
   "execution_count": 7,
   "id": "9fc65da9-1da7-4660-a3ee-82503ea04efe",
   "metadata": {
    "tags": []
   },
   "outputs": [
    {
     "data": {
      "text/html": [
       "<div>\n",
       "<style scoped>\n",
       "    .dataframe tbody tr th:only-of-type {\n",
       "        vertical-align: middle;\n",
       "    }\n",
       "\n",
       "    .dataframe tbody tr th {\n",
       "        vertical-align: top;\n",
       "    }\n",
       "\n",
       "    .dataframe thead th {\n",
       "        text-align: right;\n",
       "    }\n",
       "</style>\n",
       "<table border=\"1\" class=\"dataframe\">\n",
       "  <thead>\n",
       "    <tr style=\"text-align: right;\">\n",
       "      <th></th>\n",
       "      <th>stepsEstimate</th>\n",
       "      <th>steps</th>\n",
       "    </tr>\n",
       "  </thead>\n",
       "  <tbody>\n",
       "    <tr>\n",
       "      <th>count</th>\n",
       "      <td>681552.000000</td>\n",
       "      <td>694056.000000</td>\n",
       "    </tr>\n",
       "    <tr>\n",
       "      <th>mean</th>\n",
       "      <td>-0.123252</td>\n",
       "      <td>296.931812</td>\n",
       "    </tr>\n",
       "    <tr>\n",
       "      <th>std</th>\n",
       "      <td>0.354606</td>\n",
       "      <td>406.192781</td>\n",
       "    </tr>\n",
       "    <tr>\n",
       "      <th>min</th>\n",
       "      <td>-1.000000</td>\n",
       "      <td>0.000000</td>\n",
       "    </tr>\n",
       "    <tr>\n",
       "      <th>25%</th>\n",
       "      <td>-0.350000</td>\n",
       "      <td>12.258065</td>\n",
       "    </tr>\n",
       "    <tr>\n",
       "      <th>50%</th>\n",
       "      <td>-0.100000</td>\n",
       "      <td>164.662601</td>\n",
       "    </tr>\n",
       "    <tr>\n",
       "      <th>75%</th>\n",
       "      <td>0.050000</td>\n",
       "      <td>438.259186</td>\n",
       "    </tr>\n",
       "    <tr>\n",
       "      <th>max</th>\n",
       "      <td>2.000000</td>\n",
       "      <td>36653.066667</td>\n",
       "    </tr>\n",
       "  </tbody>\n",
       "</table>\n",
       "</div>"
      ],
      "text/plain": [
       "       stepsEstimate          steps\n",
       "count  681552.000000  694056.000000\n",
       "mean       -0.123252     296.931812\n",
       "std         0.354606     406.192781\n",
       "min        -1.000000       0.000000\n",
       "25%        -0.350000      12.258065\n",
       "50%        -0.100000     164.662601\n",
       "75%         0.050000     438.259186\n",
       "max         2.000000   36653.066667"
      ]
     },
     "execution_count": 7,
     "metadata": {},
     "output_type": "execute_result"
    }
   ],
   "source": [
    "df.describe()"
   ]
  },
  {
   "cell_type": "code",
   "execution_count": 8,
   "id": "3db41925-59a4-4b1d-a279-0e281d8eecd3",
   "metadata": {},
   "outputs": [],
   "source": [
    "work_ages = ['25-34', '35-44','45-54','55-64']\n",
    "df['work_age'] = df.ageRange.isin(work_ages)"
   ]
  },
  {
   "cell_type": "code",
   "execution_count": 9,
   "id": "a45189b4-8afe-4127-8a5b-02d52fc04cf9",
   "metadata": {
    "tags": []
   },
   "outputs": [],
   "source": [
    "df['period'] = np.select([\n",
    "    (df.series > before_period_start) & (df.series < before_period_end),\n",
    "    (df.series > after_period_start) & (df.series < after_period_end)\n",
    "], ['Before', 'During'], default='none')"
   ]
  },
  {
   "cell_type": "code",
   "execution_count": 10,
   "id": "88311f26-1e52-45db-a167-9bc77d728db7",
   "metadata": {},
   "outputs": [
    {
     "name": "stdout",
     "output_type": "stream",
     "text": [
      "Stored 'df' (DataFrame)\n"
     ]
    }
   ],
   "source": [
    "%store df"
   ]
  },
  {
   "cell_type": "code",
   "execution_count": 11,
   "id": "9b5f2a43-44ed-4c4a-a7a9-d7a4afdd717a",
   "metadata": {},
   "outputs": [
    {
     "name": "stdout",
     "output_type": "stream",
     "text": [
      "Stored 'users_df' (DataFrame)\n"
     ]
    }
   ],
   "source": [
    "%store users_df"
   ]
  },
  {
   "cell_type": "markdown",
   "id": "d78b0915-d917-40d7-b170-04d1128a4b8b",
   "metadata": {},
   "source": [
    "## Covid cases"
   ]
  },
  {
   "cell_type": "code",
   "execution_count": 12,
   "id": "f5755955-083d-43d0-bb95-c50174a59cd5",
   "metadata": {},
   "outputs": [
    {
     "name": "stdout",
     "output_type": "stream",
     "text": [
      "Stored 'covid_cases' (DataFrame)\n"
     ]
    }
   ],
   "source": [
    "# From Folkhälsomyndigheten, weekly cases nationwide summed up for each month https://www.folkhalsomyndigheten.se/smittskydd-beredskap/utbrott/aktuella-utbrott/covid-19/statistik-och-analyser/bekraftade-fall-i-sverige/\n",
    "\n",
    "data = json.loads(\"\"\"[\n",
    "    { \"date\": \"2019-03-15\", \"value\": 0 },\n",
    "    { \"date\": \"2019-04-15\", \"value\": 0 },\n",
    "    { \"date\": \"2019-05-15\", \"value\": 0 },\n",
    "    { \"date\": \"2019-06-15\", \"value\": 0 },\n",
    "    { \"date\": \"2019-07-15\", \"value\": 0 },\n",
    "    { \"date\": \"2019-08-15\", \"value\": 0 },\n",
    "    { \"date\": \"2019-09-15\", \"value\": 0 },\n",
    "    { \"date\": \"2019-10-15\", \"value\": 0 },\n",
    "    { \"date\": \"2019-11-15\", \"value\": 0 },\n",
    "    { \"date\": \"2019-12-15\", \"value\": 0 },\n",
    "    { \"date\": \"2020-01-15\", \"value\": 0 },\n",
    "    { \"date\": \"2020-02-15\", \"value\": 14 },\n",
    "    { \"date\": \"2020-03-15\", \"value\": 7159 },\n",
    "    { \"date\": \"2020-04-15\", \"value\": 15527 },\n",
    "    { \"date\": \"2020-05-15\", \"value\": 15961 },\n",
    "    { \"date\": \"2020-06-15\", \"value\": 31951 },\n",
    "    { \"date\": \"2020-07-15\", \"value\": 6673 },\n",
    "    { \"date\": \"2020-08-15\", \"value\": 8285 },\n",
    "    { \"date\": \"2020-09-15\", \"value\": 10233 },\n",
    "    { \"date\": \"2020-10-15\", \"value\": 37527 },\n",
    "    { \"date\": \"2020-11-15\", \"value\": 161065 },\n",
    "    { \"date\": \"2020-12-15\", \"value\": 207718 },\n",
    "    { \"date\": \"2021-01-15\", \"value\": 92437 },\n",
    "    { \"date\": \"2021-02-15\", \"value\": 99336 }\n",
    "  ]\"\"\")\n",
    "rows = []\n",
    "for row in data:\n",
    "    rows.append([parser.parse(row['date']), row['value']])\n",
    "\n",
    "covid_cases = pd.DataFrame(rows, columns=['date', 'cases'])\n",
    "\n",
    "%store covid_cases"
   ]
  },
  {
   "cell_type": "code",
   "execution_count": null,
   "id": "d0dc75e0-20a6-4fe6-b54b-36bbb4460742",
   "metadata": {},
   "outputs": [],
   "source": []
  }
 ],
 "metadata": {
  "kernelspec": {
   "display_name": "Python 3 (ipykernel)",
   "language": "python",
   "name": "python3"
  },
  "language_info": {
   "codemirror_mode": {
    "name": "ipython",
    "version": 3
   },
   "file_extension": ".py",
   "mimetype": "text/x-python",
   "name": "python",
   "nbconvert_exporter": "python",
   "pygments_lexer": "ipython3",
   "version": "3.9.12"
  }
 },
 "nbformat": 4,
 "nbformat_minor": 5
}
