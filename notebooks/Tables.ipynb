{
 "cells": [
  {
   "cell_type": "code",
   "execution_count": 1,
   "id": "8cd31890-ff05-48d3-a372-fdd3bb500c38",
   "metadata": {},
   "outputs": [],
   "source": [
    "import pandas as pd\n",
    "import numpy as np\n",
    "import plotly.io as pio\n",
    "import plotly.express as px\n",
    "from plotly.subplots import make_subplots\n",
    "import plotly.graph_objects as go\n",
    "import ipywidgets as widgets\n",
    "import matplotlib.pyplot as plt\n",
    "\n",
    "pio.templates.default = \"seaborn\"\n",
    "pd.options.plotting.backend = \"plotly\"\n",
    "\n",
    "%matplotlib inline"
   ]
  },
  {
   "cell_type": "code",
   "execution_count": 2,
   "id": "8653052d-5e8c-47d8-8ae6-fd418dad8612",
   "metadata": {},
   "outputs": [],
   "source": [
    "%store -r day_df\n",
    "%store -r day_users_df"
   ]
  },
  {
   "cell_type": "code",
   "execution_count": 3,
   "id": "ffbe6ca3-9ce3-4438-903a-87e044a1196a",
   "metadata": {},
   "outputs": [],
   "source": [
    "%run global.ipynb"
   ]
  },
  {
   "cell_type": "code",
   "execution_count": 4,
   "id": "c766c3ea-1620-4659-a9eb-a0cdbaa62853",
   "metadata": {},
   "outputs": [],
   "source": [
    "users_df = day_users_df\n",
    "df = day_df"
   ]
  },
  {
   "cell_type": "code",
   "execution_count": 5,
   "id": "52f49025-a4c2-4578-9385-91d494f91f29",
   "metadata": {},
   "outputs": [
    {
     "data": {
      "text/plain": [
       "1534"
      ]
     },
     "execution_count": 5,
     "metadata": {},
     "output_type": "execute_result"
    }
   ],
   "source": [
    "total_users = users_df[users_df['gender'].notnull()]['id'].count()\n",
    "total_users"
   ]
  },
  {
   "cell_type": "code",
   "execution_count": 12,
   "id": "7b3608fb-990e-483a-9824-54ca7134ef62",
   "metadata": {},
   "outputs": [
    {
     "data": {
      "text/html": [
       "<div>\n",
       "<style scoped>\n",
       "    .dataframe tbody tr th:only-of-type {\n",
       "        vertical-align: middle;\n",
       "    }\n",
       "\n",
       "    .dataframe tbody tr th {\n",
       "        vertical-align: top;\n",
       "    }\n",
       "\n",
       "    .dataframe thead th {\n",
       "        text-align: right;\n",
       "    }\n",
       "</style>\n",
       "<table border=\"1\" class=\"dataframe\">\n",
       "  <thead>\n",
       "    <tr style=\"text-align: right;\">\n",
       "      <th></th>\n",
       "      <th>id</th>\n",
       "      <th>gender</th>\n",
       "      <th>ageRange</th>\n",
       "      <th>occupation</th>\n",
       "      <th>compareDate</th>\n",
       "      <th>stepsEstimate</th>\n",
       "    </tr>\n",
       "  </thead>\n",
       "  <tbody>\n",
       "    <tr>\n",
       "      <th>0</th>\n",
       "      <td>5ee39a5f5e886e000876182a</td>\n",
       "      <td>None</td>\n",
       "      <td>None</td>\n",
       "      <td>None</td>\n",
       "      <td>2020-03-16</td>\n",
       "      <td>NaN</td>\n",
       "    </tr>\n",
       "    <tr>\n",
       "      <th>1</th>\n",
       "      <td>5ee39a6c25435e00071454e5</td>\n",
       "      <td>None</td>\n",
       "      <td>None</td>\n",
       "      <td>None</td>\n",
       "      <td>2020-03-16</td>\n",
       "      <td>NaN</td>\n",
       "    </tr>\n",
       "    <tr>\n",
       "      <th>2</th>\n",
       "      <td>5ee7889a48553d0007a3611b</td>\n",
       "      <td>None</td>\n",
       "      <td>None</td>\n",
       "      <td>None</td>\n",
       "      <td>2020-03-16</td>\n",
       "      <td>NaN</td>\n",
       "    </tr>\n",
       "    <tr>\n",
       "      <th>3</th>\n",
       "      <td>5ee363476c1e91000780579a</td>\n",
       "      <td>None</td>\n",
       "      <td>None</td>\n",
       "      <td>None</td>\n",
       "      <td>2020-03-16</td>\n",
       "      <td>NaN</td>\n",
       "    </tr>\n",
       "    <tr>\n",
       "      <th>4</th>\n",
       "      <td>5ee86f904553a80008cc0d89</td>\n",
       "      <td>None</td>\n",
       "      <td>None</td>\n",
       "      <td>None</td>\n",
       "      <td>2020-03-16</td>\n",
       "      <td>NaN</td>\n",
       "    </tr>\n",
       "    <tr>\n",
       "      <th>...</th>\n",
       "      <td>...</td>\n",
       "      <td>...</td>\n",
       "      <td>...</td>\n",
       "      <td>...</td>\n",
       "      <td>...</td>\n",
       "      <td>...</td>\n",
       "    </tr>\n",
       "    <tr>\n",
       "      <th>1642</th>\n",
       "      <td>61e842c795259e0009bc6b34</td>\n",
       "      <td>Female</td>\n",
       "      <td>None</td>\n",
       "      <td>None</td>\n",
       "      <td>2020-03-16</td>\n",
       "      <td>0.3</td>\n",
       "    </tr>\n",
       "    <tr>\n",
       "      <th>1643</th>\n",
       "      <td>61ec70a206e45600092d7d07</td>\n",
       "      <td>Female</td>\n",
       "      <td>45-54</td>\n",
       "      <td>None</td>\n",
       "      <td>2020-03-16</td>\n",
       "      <td>0.0</td>\n",
       "    </tr>\n",
       "    <tr>\n",
       "      <th>1644</th>\n",
       "      <td>61efb71c51565f0009029cd9</td>\n",
       "      <td>Female</td>\n",
       "      <td>18-24</td>\n",
       "      <td>fysioterapeut</td>\n",
       "      <td>2020-03-16</td>\n",
       "      <td>-0.2</td>\n",
       "    </tr>\n",
       "    <tr>\n",
       "      <th>1645</th>\n",
       "      <td>61efb79a0e3de70009254596</td>\n",
       "      <td>Female</td>\n",
       "      <td>None</td>\n",
       "      <td>None</td>\n",
       "      <td>2020-03-16</td>\n",
       "      <td>0.8</td>\n",
       "    </tr>\n",
       "    <tr>\n",
       "      <th>1646</th>\n",
       "      <td>61af75effdde7a000853faad</td>\n",
       "      <td>Female</td>\n",
       "      <td>35-44</td>\n",
       "      <td>tjänsteman kommun</td>\n",
       "      <td>2020-03-16</td>\n",
       "      <td>-0.2</td>\n",
       "    </tr>\n",
       "  </tbody>\n",
       "</table>\n",
       "<p>1647 rows × 6 columns</p>\n",
       "</div>"
      ],
      "text/plain": [
       "                            id  gender ageRange          occupation  \\\n",
       "0     5ee39a5f5e886e000876182a    None     None                None   \n",
       "1     5ee39a6c25435e00071454e5    None     None                None   \n",
       "2     5ee7889a48553d0007a3611b    None     None                None   \n",
       "3     5ee363476c1e91000780579a    None     None                None   \n",
       "4     5ee86f904553a80008cc0d89    None     None                None   \n",
       "...                        ...     ...      ...                 ...   \n",
       "1642  61e842c795259e0009bc6b34  Female     None                None   \n",
       "1643  61ec70a206e45600092d7d07  Female    45-54                None   \n",
       "1644  61efb71c51565f0009029cd9  Female    18-24      fysioterapeut    \n",
       "1645  61efb79a0e3de70009254596  Female     None                None   \n",
       "1646  61af75effdde7a000853faad  Female    35-44  tjänsteman kommun    \n",
       "\n",
       "     compareDate  stepsEstimate  \n",
       "0     2020-03-16            NaN  \n",
       "1     2020-03-16            NaN  \n",
       "2     2020-03-16            NaN  \n",
       "3     2020-03-16            NaN  \n",
       "4     2020-03-16            NaN  \n",
       "...          ...            ...  \n",
       "1642  2020-03-16            0.3  \n",
       "1643  2020-03-16            0.0  \n",
       "1644  2020-03-16           -0.2  \n",
       "1645  2020-03-16            0.8  \n",
       "1646  2020-03-16           -0.2  \n",
       "\n",
       "[1647 rows x 6 columns]"
      ]
     },
     "execution_count": 12,
     "metadata": {},
     "output_type": "execute_result"
    }
   ],
   "source": [
    "users_df"
   ]
  },
  {
   "cell_type": "code",
   "execution_count": 13,
   "id": "4388e334-e3a6-4eab-9b89-92c6dc4614e3",
   "metadata": {},
   "outputs": [],
   "source": [
    "def getChange(users):\n",
    "    users = users.groupby(['hour','series', 'period']).median().unstack('series')['steps'].mean(axis=1).reset_index().groupby(['period']).sum().unstack('period')[0]\n",
    "    #users['diff'] = users.before - users.after;\n",
    "    users['change'] = -((users['Before'] - users['During']) / users['Before']) * 100\n",
    "    return users\n",
    "\n",
    "def getChangeGenders(male, female):\n",
    "    users = users.groupby(['hour','series', 'period']).median().unstack('series')['steps'].mean(axis=1).reset_index().groupby(['period']).sum().unstack('period')[0]\n",
    "    #users['diff'] = users.before - users.after;\n",
    "    users['change'] = -((users.before - users.after) / users.before) * 100\n",
    "    return users\n",
    "\n",
    "def getCount(users):\n",
    "    users = users\n",
    "    return users.groupby\n",
    "\n",
    "def make_pretty(styler):\n",
    "    styler.set_caption(\"Users\")\n",
    "    # styler.background_gradient(axis=None, vmin=1, vmax=2, cmap=\"YlGnBu\")\n",
    "    return styler"
   ]
  },
  {
   "cell_type": "code",
   "execution_count": 14,
   "id": "e3bdb943-8bc4-4ab6-8926-fb2dee49b6af",
   "metadata": {},
   "outputs": [
    {
     "data": {
      "text/html": [
       "<div>\n",
       "<style scoped>\n",
       "    .dataframe tbody tr th:only-of-type {\n",
       "        vertical-align: middle;\n",
       "    }\n",
       "\n",
       "    .dataframe tbody tr th {\n",
       "        vertical-align: top;\n",
       "    }\n",
       "\n",
       "    .dataframe thead th {\n",
       "        text-align: right;\n",
       "    }\n",
       "</style>\n",
       "<table border=\"1\" class=\"dataframe\">\n",
       "  <thead>\n",
       "    <tr style=\"text-align: right;\">\n",
       "      <th></th>\n",
       "      <th>hour</th>\n",
       "      <th>period</th>\n",
       "      <th>0</th>\n",
       "    </tr>\n",
       "  </thead>\n",
       "  <tbody>\n",
       "    <tr>\n",
       "      <th>0</th>\n",
       "      <td>00</td>\n",
       "      <td>Before</td>\n",
       "      <td>14.621472</td>\n",
       "    </tr>\n",
       "    <tr>\n",
       "      <th>1</th>\n",
       "      <td>00</td>\n",
       "      <td>During</td>\n",
       "      <td>7.916593</td>\n",
       "    </tr>\n",
       "    <tr>\n",
       "      <th>2</th>\n",
       "      <td>01</td>\n",
       "      <td>Before</td>\n",
       "      <td>3.331820</td>\n",
       "    </tr>\n",
       "    <tr>\n",
       "      <th>3</th>\n",
       "      <td>01</td>\n",
       "      <td>During</td>\n",
       "      <td>1.404895</td>\n",
       "    </tr>\n",
       "    <tr>\n",
       "      <th>4</th>\n",
       "      <td>02</td>\n",
       "      <td>Before</td>\n",
       "      <td>0.403431</td>\n",
       "    </tr>\n",
       "    <tr>\n",
       "      <th>5</th>\n",
       "      <td>02</td>\n",
       "      <td>During</td>\n",
       "      <td>0.102151</td>\n",
       "    </tr>\n",
       "    <tr>\n",
       "      <th>6</th>\n",
       "      <td>03</td>\n",
       "      <td>Before</td>\n",
       "      <td>0.021505</td>\n",
       "    </tr>\n",
       "    <tr>\n",
       "      <th>7</th>\n",
       "      <td>03</td>\n",
       "      <td>During</td>\n",
       "      <td>0.000000</td>\n",
       "    </tr>\n",
       "    <tr>\n",
       "      <th>8</th>\n",
       "      <td>04</td>\n",
       "      <td>Before</td>\n",
       "      <td>0.002875</td>\n",
       "    </tr>\n",
       "    <tr>\n",
       "      <th>9</th>\n",
       "      <td>04</td>\n",
       "      <td>During</td>\n",
       "      <td>0.000000</td>\n",
       "    </tr>\n",
       "    <tr>\n",
       "      <th>10</th>\n",
       "      <td>05</td>\n",
       "      <td>Before</td>\n",
       "      <td>1.616769</td>\n",
       "    </tr>\n",
       "    <tr>\n",
       "      <th>11</th>\n",
       "      <td>05</td>\n",
       "      <td>During</td>\n",
       "      <td>0.121364</td>\n",
       "    </tr>\n",
       "    <tr>\n",
       "      <th>12</th>\n",
       "      <td>06</td>\n",
       "      <td>Before</td>\n",
       "      <td>32.769603</td>\n",
       "    </tr>\n",
       "    <tr>\n",
       "      <th>13</th>\n",
       "      <td>06</td>\n",
       "      <td>During</td>\n",
       "      <td>10.975494</td>\n",
       "    </tr>\n",
       "    <tr>\n",
       "      <th>14</th>\n",
       "      <td>07</td>\n",
       "      <td>Before</td>\n",
       "      <td>211.567458</td>\n",
       "    </tr>\n",
       "    <tr>\n",
       "      <th>15</th>\n",
       "      <td>07</td>\n",
       "      <td>During</td>\n",
       "      <td>105.713176</td>\n",
       "    </tr>\n",
       "    <tr>\n",
       "      <th>16</th>\n",
       "      <td>08</td>\n",
       "      <td>Before</td>\n",
       "      <td>311.565669</td>\n",
       "    </tr>\n",
       "    <tr>\n",
       "      <th>17</th>\n",
       "      <td>08</td>\n",
       "      <td>During</td>\n",
       "      <td>177.784161</td>\n",
       "    </tr>\n",
       "    <tr>\n",
       "      <th>18</th>\n",
       "      <td>09</td>\n",
       "      <td>Before</td>\n",
       "      <td>262.356016</td>\n",
       "    </tr>\n",
       "    <tr>\n",
       "      <th>19</th>\n",
       "      <td>09</td>\n",
       "      <td>During</td>\n",
       "      <td>191.227935</td>\n",
       "    </tr>\n",
       "    <tr>\n",
       "      <th>20</th>\n",
       "      <td>10</td>\n",
       "      <td>Before</td>\n",
       "      <td>303.456531</td>\n",
       "    </tr>\n",
       "    <tr>\n",
       "      <th>21</th>\n",
       "      <td>10</td>\n",
       "      <td>During</td>\n",
       "      <td>275.604703</td>\n",
       "    </tr>\n",
       "    <tr>\n",
       "      <th>22</th>\n",
       "      <td>11</td>\n",
       "      <td>Before</td>\n",
       "      <td>456.502533</td>\n",
       "    </tr>\n",
       "    <tr>\n",
       "      <th>23</th>\n",
       "      <td>11</td>\n",
       "      <td>During</td>\n",
       "      <td>431.686659</td>\n",
       "    </tr>\n",
       "    <tr>\n",
       "      <th>24</th>\n",
       "      <td>12</td>\n",
       "      <td>Before</td>\n",
       "      <td>548.990970</td>\n",
       "    </tr>\n",
       "    <tr>\n",
       "      <th>25</th>\n",
       "      <td>12</td>\n",
       "      <td>During</td>\n",
       "      <td>562.433734</td>\n",
       "    </tr>\n",
       "    <tr>\n",
       "      <th>26</th>\n",
       "      <td>13</td>\n",
       "      <td>Before</td>\n",
       "      <td>449.337500</td>\n",
       "    </tr>\n",
       "    <tr>\n",
       "      <th>27</th>\n",
       "      <td>13</td>\n",
       "      <td>During</td>\n",
       "      <td>470.378500</td>\n",
       "    </tr>\n",
       "    <tr>\n",
       "      <th>28</th>\n",
       "      <td>14</td>\n",
       "      <td>Before</td>\n",
       "      <td>436.491043</td>\n",
       "    </tr>\n",
       "    <tr>\n",
       "      <th>29</th>\n",
       "      <td>14</td>\n",
       "      <td>During</td>\n",
       "      <td>449.521186</td>\n",
       "    </tr>\n",
       "    <tr>\n",
       "      <th>30</th>\n",
       "      <td>15</td>\n",
       "      <td>Before</td>\n",
       "      <td>466.264189</td>\n",
       "    </tr>\n",
       "    <tr>\n",
       "      <th>31</th>\n",
       "      <td>15</td>\n",
       "      <td>During</td>\n",
       "      <td>453.693194</td>\n",
       "    </tr>\n",
       "    <tr>\n",
       "      <th>32</th>\n",
       "      <td>16</td>\n",
       "      <td>Before</td>\n",
       "      <td>517.093363</td>\n",
       "    </tr>\n",
       "    <tr>\n",
       "      <th>33</th>\n",
       "      <td>16</td>\n",
       "      <td>During</td>\n",
       "      <td>476.388894</td>\n",
       "    </tr>\n",
       "    <tr>\n",
       "      <th>34</th>\n",
       "      <td>17</td>\n",
       "      <td>Before</td>\n",
       "      <td>504.383872</td>\n",
       "    </tr>\n",
       "    <tr>\n",
       "      <th>35</th>\n",
       "      <td>17</td>\n",
       "      <td>During</td>\n",
       "      <td>458.931227</td>\n",
       "    </tr>\n",
       "    <tr>\n",
       "      <th>36</th>\n",
       "      <td>18</td>\n",
       "      <td>Before</td>\n",
       "      <td>380.225506</td>\n",
       "    </tr>\n",
       "    <tr>\n",
       "      <th>37</th>\n",
       "      <td>18</td>\n",
       "      <td>During</td>\n",
       "      <td>364.699417</td>\n",
       "    </tr>\n",
       "    <tr>\n",
       "      <th>38</th>\n",
       "      <td>19</td>\n",
       "      <td>Before</td>\n",
       "      <td>276.705352</td>\n",
       "    </tr>\n",
       "    <tr>\n",
       "      <th>39</th>\n",
       "      <td>19</td>\n",
       "      <td>During</td>\n",
       "      <td>262.975762</td>\n",
       "    </tr>\n",
       "    <tr>\n",
       "      <th>40</th>\n",
       "      <td>20</td>\n",
       "      <td>Before</td>\n",
       "      <td>203.101859</td>\n",
       "    </tr>\n",
       "    <tr>\n",
       "      <th>41</th>\n",
       "      <td>20</td>\n",
       "      <td>During</td>\n",
       "      <td>176.396293</td>\n",
       "    </tr>\n",
       "    <tr>\n",
       "      <th>42</th>\n",
       "      <td>21</td>\n",
       "      <td>Before</td>\n",
       "      <td>144.616855</td>\n",
       "    </tr>\n",
       "    <tr>\n",
       "      <th>43</th>\n",
       "      <td>21</td>\n",
       "      <td>During</td>\n",
       "      <td>108.545550</td>\n",
       "    </tr>\n",
       "    <tr>\n",
       "      <th>44</th>\n",
       "      <td>22</td>\n",
       "      <td>Before</td>\n",
       "      <td>91.321711</td>\n",
       "    </tr>\n",
       "    <tr>\n",
       "      <th>45</th>\n",
       "      <td>22</td>\n",
       "      <td>During</td>\n",
       "      <td>60.523840</td>\n",
       "    </tr>\n",
       "    <tr>\n",
       "      <th>46</th>\n",
       "      <td>23</td>\n",
       "      <td>Before</td>\n",
       "      <td>44.789870</td>\n",
       "    </tr>\n",
       "    <tr>\n",
       "      <th>47</th>\n",
       "      <td>23</td>\n",
       "      <td>During</td>\n",
       "      <td>25.910200</td>\n",
       "    </tr>\n",
       "  </tbody>\n",
       "</table>\n",
       "</div>"
      ],
      "text/plain": [
       "   hour  period           0\n",
       "0    00  Before   14.621472\n",
       "1    00  During    7.916593\n",
       "2    01  Before    3.331820\n",
       "3    01  During    1.404895\n",
       "4    02  Before    0.403431\n",
       "5    02  During    0.102151\n",
       "6    03  Before    0.021505\n",
       "7    03  During    0.000000\n",
       "8    04  Before    0.002875\n",
       "9    04  During    0.000000\n",
       "10   05  Before    1.616769\n",
       "11   05  During    0.121364\n",
       "12   06  Before   32.769603\n",
       "13   06  During   10.975494\n",
       "14   07  Before  211.567458\n",
       "15   07  During  105.713176\n",
       "16   08  Before  311.565669\n",
       "17   08  During  177.784161\n",
       "18   09  Before  262.356016\n",
       "19   09  During  191.227935\n",
       "20   10  Before  303.456531\n",
       "21   10  During  275.604703\n",
       "22   11  Before  456.502533\n",
       "23   11  During  431.686659\n",
       "24   12  Before  548.990970\n",
       "25   12  During  562.433734\n",
       "26   13  Before  449.337500\n",
       "27   13  During  470.378500\n",
       "28   14  Before  436.491043\n",
       "29   14  During  449.521186\n",
       "30   15  Before  466.264189\n",
       "31   15  During  453.693194\n",
       "32   16  Before  517.093363\n",
       "33   16  During  476.388894\n",
       "34   17  Before  504.383872\n",
       "35   17  During  458.931227\n",
       "36   18  Before  380.225506\n",
       "37   18  During  364.699417\n",
       "38   19  Before  276.705352\n",
       "39   19  During  262.975762\n",
       "40   20  Before  203.101859\n",
       "41   20  During  176.396293\n",
       "42   21  Before  144.616855\n",
       "43   21  During  108.545550\n",
       "44   22  Before   91.321711\n",
       "45   22  During   60.523840\n",
       "46   23  Before   44.789870\n",
       "47   23  During   25.910200"
      ]
     },
     "execution_count": 14,
     "metadata": {},
     "output_type": "execute_result"
    }
   ],
   "source": [
    "df.groupby(['hour','series', 'period']).median().unstack('series')['steps'].mean(axis=1).reset_index()"
   ]
  },
  {
   "cell_type": "code",
   "execution_count": 15,
   "id": "25c1fcfd-8abc-42a2-8045-94636928e0d5",
   "metadata": {},
   "outputs": [
    {
     "data": {
      "text/html": [
       "<div>\n",
       "<style scoped>\n",
       "    .dataframe tbody tr th:only-of-type {\n",
       "        vertical-align: middle;\n",
       "    }\n",
       "\n",
       "    .dataframe tbody tr th {\n",
       "        vertical-align: top;\n",
       "    }\n",
       "\n",
       "    .dataframe thead th {\n",
       "        text-align: right;\n",
       "    }\n",
       "</style>\n",
       "<table border=\"1\" class=\"dataframe\">\n",
       "  <thead>\n",
       "    <tr style=\"text-align: right;\">\n",
       "      <th>period</th>\n",
       "      <th>Before</th>\n",
       "      <th>During</th>\n",
       "    </tr>\n",
       "    <tr>\n",
       "      <th>hour</th>\n",
       "      <th></th>\n",
       "      <th></th>\n",
       "    </tr>\n",
       "  </thead>\n",
       "  <tbody>\n",
       "    <tr>\n",
       "      <th>00</th>\n",
       "      <td>14.621472</td>\n",
       "      <td>7.916593</td>\n",
       "    </tr>\n",
       "    <tr>\n",
       "      <th>01</th>\n",
       "      <td>3.331820</td>\n",
       "      <td>1.404895</td>\n",
       "    </tr>\n",
       "    <tr>\n",
       "      <th>02</th>\n",
       "      <td>0.403431</td>\n",
       "      <td>0.102151</td>\n",
       "    </tr>\n",
       "    <tr>\n",
       "      <th>03</th>\n",
       "      <td>0.021505</td>\n",
       "      <td>0.000000</td>\n",
       "    </tr>\n",
       "    <tr>\n",
       "      <th>04</th>\n",
       "      <td>0.002875</td>\n",
       "      <td>0.000000</td>\n",
       "    </tr>\n",
       "    <tr>\n",
       "      <th>05</th>\n",
       "      <td>1.616769</td>\n",
       "      <td>0.121364</td>\n",
       "    </tr>\n",
       "    <tr>\n",
       "      <th>06</th>\n",
       "      <td>32.769603</td>\n",
       "      <td>10.975494</td>\n",
       "    </tr>\n",
       "    <tr>\n",
       "      <th>07</th>\n",
       "      <td>211.567458</td>\n",
       "      <td>105.713176</td>\n",
       "    </tr>\n",
       "    <tr>\n",
       "      <th>08</th>\n",
       "      <td>311.565669</td>\n",
       "      <td>177.784161</td>\n",
       "    </tr>\n",
       "    <tr>\n",
       "      <th>09</th>\n",
       "      <td>262.356016</td>\n",
       "      <td>191.227935</td>\n",
       "    </tr>\n",
       "    <tr>\n",
       "      <th>10</th>\n",
       "      <td>303.456531</td>\n",
       "      <td>275.604703</td>\n",
       "    </tr>\n",
       "    <tr>\n",
       "      <th>11</th>\n",
       "      <td>456.502533</td>\n",
       "      <td>431.686659</td>\n",
       "    </tr>\n",
       "    <tr>\n",
       "      <th>12</th>\n",
       "      <td>548.990970</td>\n",
       "      <td>562.433734</td>\n",
       "    </tr>\n",
       "    <tr>\n",
       "      <th>13</th>\n",
       "      <td>449.337500</td>\n",
       "      <td>470.378500</td>\n",
       "    </tr>\n",
       "    <tr>\n",
       "      <th>14</th>\n",
       "      <td>436.491043</td>\n",
       "      <td>449.521186</td>\n",
       "    </tr>\n",
       "    <tr>\n",
       "      <th>15</th>\n",
       "      <td>466.264189</td>\n",
       "      <td>453.693194</td>\n",
       "    </tr>\n",
       "    <tr>\n",
       "      <th>16</th>\n",
       "      <td>517.093363</td>\n",
       "      <td>476.388894</td>\n",
       "    </tr>\n",
       "    <tr>\n",
       "      <th>17</th>\n",
       "      <td>504.383872</td>\n",
       "      <td>458.931227</td>\n",
       "    </tr>\n",
       "    <tr>\n",
       "      <th>18</th>\n",
       "      <td>380.225506</td>\n",
       "      <td>364.699417</td>\n",
       "    </tr>\n",
       "    <tr>\n",
       "      <th>19</th>\n",
       "      <td>276.705352</td>\n",
       "      <td>262.975762</td>\n",
       "    </tr>\n",
       "    <tr>\n",
       "      <th>20</th>\n",
       "      <td>203.101859</td>\n",
       "      <td>176.396293</td>\n",
       "    </tr>\n",
       "    <tr>\n",
       "      <th>21</th>\n",
       "      <td>144.616855</td>\n",
       "      <td>108.545550</td>\n",
       "    </tr>\n",
       "    <tr>\n",
       "      <th>22</th>\n",
       "      <td>91.321711</td>\n",
       "      <td>60.523840</td>\n",
       "    </tr>\n",
       "    <tr>\n",
       "      <th>23</th>\n",
       "      <td>44.789870</td>\n",
       "      <td>25.910200</td>\n",
       "    </tr>\n",
       "  </tbody>\n",
       "</table>\n",
       "</div>"
      ],
      "text/plain": [
       "period      Before      During\n",
       "hour                          \n",
       "00       14.621472    7.916593\n",
       "01        3.331820    1.404895\n",
       "02        0.403431    0.102151\n",
       "03        0.021505    0.000000\n",
       "04        0.002875    0.000000\n",
       "05        1.616769    0.121364\n",
       "06       32.769603   10.975494\n",
       "07      211.567458  105.713176\n",
       "08      311.565669  177.784161\n",
       "09      262.356016  191.227935\n",
       "10      303.456531  275.604703\n",
       "11      456.502533  431.686659\n",
       "12      548.990970  562.433734\n",
       "13      449.337500  470.378500\n",
       "14      436.491043  449.521186\n",
       "15      466.264189  453.693194\n",
       "16      517.093363  476.388894\n",
       "17      504.383872  458.931227\n",
       "18      380.225506  364.699417\n",
       "19      276.705352  262.975762\n",
       "20      203.101859  176.396293\n",
       "21      144.616855  108.545550\n",
       "22       91.321711   60.523840\n",
       "23       44.789870   25.910200"
      ]
     },
     "execution_count": 15,
     "metadata": {},
     "output_type": "execute_result"
    }
   ],
   "source": [
    "df.groupby(['hour','series', 'period']).median().unstack('series')['steps'].mean(axis=1).reset_index().groupby(['period', 'hour']).sum().unstack('period')[0]"
   ]
  },
  {
   "cell_type": "code",
   "execution_count": 16,
   "id": "b106146c-7948-44c2-abc6-d43fdbd2108a",
   "metadata": {},
   "outputs": [
    {
     "ename": "KeyError",
     "evalue": "\"Column(s) ['test'] do not exist\"",
     "output_type": "error",
     "traceback": [
      "\u001b[0;31m---------------------------------------------------------------------------\u001b[0m",
      "\u001b[0;31mKeyError\u001b[0m                                  Traceback (most recent call last)",
      "Input \u001b[0;32mIn [16]\u001b[0m, in \u001b[0;36m<cell line: 1>\u001b[0;34m()\u001b[0m\n\u001b[0;32m----> 1\u001b[0m df_agg \u001b[38;5;241m=\u001b[39m \u001b[43mdf\u001b[49m\u001b[38;5;241;43m.\u001b[39;49m\u001b[43magg\u001b[49m\u001b[43m(\u001b[49m\u001b[43m{\u001b[49m\n\u001b[1;32m      2\u001b[0m \u001b[43m    \u001b[49m\u001b[38;5;124;43m'\u001b[39;49m\u001b[38;5;124;43mtest\u001b[39;49m\u001b[38;5;124;43m'\u001b[39;49m\u001b[43m:\u001b[49m\u001b[43m \u001b[49m\u001b[43m[\u001b[49m\u001b[38;5;124;43m'\u001b[39;49m\u001b[38;5;124;43mmean\u001b[39;49m\u001b[38;5;124;43m'\u001b[39;49m\u001b[43m]\u001b[49m\n\u001b[1;32m      3\u001b[0m \u001b[43m}\u001b[49m\u001b[43m)\u001b[49m\n",
      "File \u001b[0;32m/opt/conda/lib/python3.9/site-packages/pandas/core/frame.py:8649\u001b[0m, in \u001b[0;36mDataFrame.aggregate\u001b[0;34m(self, func, axis, *args, **kwargs)\u001b[0m\n\u001b[1;32m   8646\u001b[0m relabeling, func, columns, order \u001b[38;5;241m=\u001b[39m reconstruct_func(func, \u001b[38;5;241m*\u001b[39m\u001b[38;5;241m*\u001b[39mkwargs)\n\u001b[1;32m   8648\u001b[0m op \u001b[38;5;241m=\u001b[39m frame_apply(\u001b[38;5;28mself\u001b[39m, func\u001b[38;5;241m=\u001b[39mfunc, axis\u001b[38;5;241m=\u001b[39maxis, args\u001b[38;5;241m=\u001b[39margs, kwargs\u001b[38;5;241m=\u001b[39mkwargs)\n\u001b[0;32m-> 8649\u001b[0m result \u001b[38;5;241m=\u001b[39m \u001b[43mop\u001b[49m\u001b[38;5;241;43m.\u001b[39;49m\u001b[43magg\u001b[49m\u001b[43m(\u001b[49m\u001b[43m)\u001b[49m\n\u001b[1;32m   8651\u001b[0m \u001b[38;5;28;01mif\u001b[39;00m relabeling:\n\u001b[1;32m   8652\u001b[0m     \u001b[38;5;66;03m# This is to keep the order to columns occurrence unchanged, and also\u001b[39;00m\n\u001b[1;32m   8653\u001b[0m     \u001b[38;5;66;03m# keep the order of new columns occurrence unchanged\u001b[39;00m\n\u001b[1;32m   8654\u001b[0m \n\u001b[1;32m   8655\u001b[0m     \u001b[38;5;66;03m# For the return values of reconstruct_func, if relabeling is\u001b[39;00m\n\u001b[1;32m   8656\u001b[0m     \u001b[38;5;66;03m# False, columns and order will be None.\u001b[39;00m\n\u001b[1;32m   8657\u001b[0m     \u001b[38;5;28;01massert\u001b[39;00m columns \u001b[38;5;129;01mis\u001b[39;00m \u001b[38;5;129;01mnot\u001b[39;00m \u001b[38;5;28;01mNone\u001b[39;00m\n",
      "File \u001b[0;32m/opt/conda/lib/python3.9/site-packages/pandas/core/apply.py:739\u001b[0m, in \u001b[0;36mFrameApply.agg\u001b[0;34m(self)\u001b[0m\n\u001b[1;32m    737\u001b[0m result \u001b[38;5;241m=\u001b[39m \u001b[38;5;28;01mNone\u001b[39;00m\n\u001b[1;32m    738\u001b[0m \u001b[38;5;28;01mtry\u001b[39;00m:\n\u001b[0;32m--> 739\u001b[0m     result \u001b[38;5;241m=\u001b[39m \u001b[38;5;28;43msuper\u001b[39;49m\u001b[43m(\u001b[49m\u001b[43m)\u001b[49m\u001b[38;5;241;43m.\u001b[39;49m\u001b[43magg\u001b[49m\u001b[43m(\u001b[49m\u001b[43m)\u001b[49m\n\u001b[1;32m    740\u001b[0m \u001b[38;5;28;01mexcept\u001b[39;00m \u001b[38;5;167;01mTypeError\u001b[39;00m \u001b[38;5;28;01mas\u001b[39;00m err:\n\u001b[1;32m    741\u001b[0m     exc \u001b[38;5;241m=\u001b[39m \u001b[38;5;167;01mTypeError\u001b[39;00m(\n\u001b[1;32m    742\u001b[0m         \u001b[38;5;124m\"\u001b[39m\u001b[38;5;124mDataFrame constructor called with \u001b[39m\u001b[38;5;124m\"\u001b[39m\n\u001b[1;32m    743\u001b[0m         \u001b[38;5;124mf\u001b[39m\u001b[38;5;124m\"\u001b[39m\u001b[38;5;124mincompatible data and dtype: \u001b[39m\u001b[38;5;132;01m{\u001b[39;00merr\u001b[38;5;132;01m}\u001b[39;00m\u001b[38;5;124m\"\u001b[39m\n\u001b[1;32m    744\u001b[0m     )\n",
      "File \u001b[0;32m/opt/conda/lib/python3.9/site-packages/pandas/core/apply.py:168\u001b[0m, in \u001b[0;36mApply.agg\u001b[0;34m(self)\u001b[0m\n\u001b[1;32m    165\u001b[0m     \u001b[38;5;28;01mreturn\u001b[39;00m \u001b[38;5;28mself\u001b[39m\u001b[38;5;241m.\u001b[39mapply_str()\n\u001b[1;32m    167\u001b[0m \u001b[38;5;28;01mif\u001b[39;00m is_dict_like(arg):\n\u001b[0;32m--> 168\u001b[0m     \u001b[38;5;28;01mreturn\u001b[39;00m \u001b[38;5;28;43mself\u001b[39;49m\u001b[38;5;241;43m.\u001b[39;49m\u001b[43magg_dict_like\u001b[49m\u001b[43m(\u001b[49m\u001b[43m)\u001b[49m\n\u001b[1;32m    169\u001b[0m \u001b[38;5;28;01melif\u001b[39;00m is_list_like(arg):\n\u001b[1;32m    170\u001b[0m     \u001b[38;5;66;03m# we require a list, but not a 'str'\u001b[39;00m\n\u001b[1;32m    171\u001b[0m     \u001b[38;5;28;01mreturn\u001b[39;00m \u001b[38;5;28mself\u001b[39m\u001b[38;5;241m.\u001b[39magg_list_like()\n",
      "File \u001b[0;32m/opt/conda/lib/python3.9/site-packages/pandas/core/apply.py:467\u001b[0m, in \u001b[0;36mApply.agg_dict_like\u001b[0;34m(self)\u001b[0m\n\u001b[1;32m    464\u001b[0m     selected_obj \u001b[38;5;241m=\u001b[39m obj\u001b[38;5;241m.\u001b[39m_selected_obj\n\u001b[1;32m    465\u001b[0m     selection \u001b[38;5;241m=\u001b[39m obj\u001b[38;5;241m.\u001b[39m_selection\n\u001b[0;32m--> 467\u001b[0m arg \u001b[38;5;241m=\u001b[39m \u001b[38;5;28;43mself\u001b[39;49m\u001b[38;5;241;43m.\u001b[39;49m\u001b[43mnormalize_dictlike_arg\u001b[49m\u001b[43m(\u001b[49m\u001b[38;5;124;43m\"\u001b[39;49m\u001b[38;5;124;43magg\u001b[39;49m\u001b[38;5;124;43m\"\u001b[39;49m\u001b[43m,\u001b[49m\u001b[43m \u001b[49m\u001b[43mselected_obj\u001b[49m\u001b[43m,\u001b[49m\u001b[43m \u001b[49m\u001b[43marg\u001b[49m\u001b[43m)\u001b[49m\n\u001b[1;32m    469\u001b[0m \u001b[38;5;28;01mif\u001b[39;00m selected_obj\u001b[38;5;241m.\u001b[39mndim \u001b[38;5;241m==\u001b[39m \u001b[38;5;241m1\u001b[39m:\n\u001b[1;32m    470\u001b[0m     \u001b[38;5;66;03m# key only used for output\u001b[39;00m\n\u001b[1;32m    471\u001b[0m     colg \u001b[38;5;241m=\u001b[39m obj\u001b[38;5;241m.\u001b[39m_gotitem(selection, ndim\u001b[38;5;241m=\u001b[39m\u001b[38;5;241m1\u001b[39m)\n",
      "File \u001b[0;32m/opt/conda/lib/python3.9/site-packages/pandas/core/apply.py:585\u001b[0m, in \u001b[0;36mApply.normalize_dictlike_arg\u001b[0;34m(self, how, obj, func)\u001b[0m\n\u001b[1;32m    583\u001b[0m     \u001b[38;5;28;01mif\u001b[39;00m \u001b[38;5;28mlen\u001b[39m(cols) \u001b[38;5;241m>\u001b[39m \u001b[38;5;241m0\u001b[39m:\n\u001b[1;32m    584\u001b[0m         cols_sorted \u001b[38;5;241m=\u001b[39m \u001b[38;5;28mlist\u001b[39m(safe_sort(\u001b[38;5;28mlist\u001b[39m(cols)))\n\u001b[0;32m--> 585\u001b[0m         \u001b[38;5;28;01mraise\u001b[39;00m \u001b[38;5;167;01mKeyError\u001b[39;00m(\u001b[38;5;124mf\u001b[39m\u001b[38;5;124m\"\u001b[39m\u001b[38;5;124mColumn(s) \u001b[39m\u001b[38;5;132;01m{\u001b[39;00mcols_sorted\u001b[38;5;132;01m}\u001b[39;00m\u001b[38;5;124m do not exist\u001b[39m\u001b[38;5;124m\"\u001b[39m)\n\u001b[1;32m    587\u001b[0m is_aggregator \u001b[38;5;241m=\u001b[39m \u001b[38;5;28;01mlambda\u001b[39;00m x: \u001b[38;5;28misinstance\u001b[39m(x, (\u001b[38;5;28mlist\u001b[39m, \u001b[38;5;28mtuple\u001b[39m, \u001b[38;5;28mdict\u001b[39m))\n\u001b[1;32m    589\u001b[0m \u001b[38;5;66;03m# if we have a dict of any non-scalars\u001b[39;00m\n\u001b[1;32m    590\u001b[0m \u001b[38;5;66;03m# eg. {'A' : ['mean']}, normalize all to\u001b[39;00m\n\u001b[1;32m    591\u001b[0m \u001b[38;5;66;03m# be list-likes\u001b[39;00m\n\u001b[1;32m    592\u001b[0m \u001b[38;5;66;03m# Cannot use func.values() because arg may be a Series\u001b[39;00m\n",
      "\u001b[0;31mKeyError\u001b[0m: \"Column(s) ['test'] do not exist\""
     ]
    }
   ],
   "source": [
    "df_agg = df.agg({\n",
    "    'test': ['mean']\n",
    "})"
   ]
  },
  {
   "cell_type": "code",
   "execution_count": 18,
   "id": "c83359f7-69b4-468e-8c15-3ac04b6d787d",
   "metadata": {},
   "outputs": [],
   "source": [
    "data = df[df['period'] != 'none']\n",
    "table = pd.DataFrame()\n",
    "table['All'] = getChange(data)\n",
    "table['Male'] = getChange(data[data['gender'] == 'Male'])\n",
    "table['Female'] = getChange(data[data['gender'] == 'Female'])\n",
    "\n",
    "age_ranges = ['18-24', '25-34', '35-44', '45-54', '55-64', '65-74', '75-84']\n",
    "for age_range in age_ranges:\n",
    "    age_df = data[data['ageRange'] == age_range]\n",
    "    table[age_range] = getChange(age_df)\n",
    "    \n",
    "    table['Male ' + age_range] = getChange(age_df[age_df['gender'] == 'Male'])\n",
    "    table['Female ' + age_range] = getChange(age_df[age_df['gender'] == 'Female'])\n",
    "\n",
    "table = table.transpose()\n",
    "table['During'] = table['During'].map('{:.0f}'.format)\n",
    "table['Before'] = table['Before'].map('{:.0f}'.format)\n",
    "#table['diff'] = table['diff'].map('{:.0f}'.format)\n",
    "table['change'] = table['change'].map('{0:.2f}%'.format)"
   ]
  },
  {
   "cell_type": "code",
   "execution_count": 19,
   "id": "7b872ca1-344b-43ab-9528-63e5f373c3b5",
   "metadata": {},
   "outputs": [
    {
     "data": {
      "text/html": [
       "<div>\n",
       "<style scoped>\n",
       "    .dataframe tbody tr th:only-of-type {\n",
       "        vertical-align: middle;\n",
       "    }\n",
       "\n",
       "    .dataframe tbody tr th {\n",
       "        vertical-align: top;\n",
       "    }\n",
       "\n",
       "    .dataframe thead th {\n",
       "        text-align: right;\n",
       "    }\n",
       "</style>\n",
       "<table border=\"1\" class=\"dataframe\">\n",
       "  <thead>\n",
       "    <tr style=\"text-align: right;\">\n",
       "      <th>period</th>\n",
       "      <th>Before</th>\n",
       "      <th>During</th>\n",
       "      <th>change</th>\n",
       "    </tr>\n",
       "  </thead>\n",
       "  <tbody>\n",
       "    <tr>\n",
       "      <th>All</th>\n",
       "      <td>5662</td>\n",
       "      <td>5073</td>\n",
       "      <td>-10.40%</td>\n",
       "    </tr>\n",
       "    <tr>\n",
       "      <th>Male</th>\n",
       "      <td>6172</td>\n",
       "      <td>5637</td>\n",
       "      <td>-8.66%</td>\n",
       "    </tr>\n",
       "    <tr>\n",
       "      <th>Female</th>\n",
       "      <td>5442</td>\n",
       "      <td>4793</td>\n",
       "      <td>-11.93%</td>\n",
       "    </tr>\n",
       "    <tr>\n",
       "      <th>18-24</th>\n",
       "      <td>5615</td>\n",
       "      <td>4657</td>\n",
       "      <td>-17.06%</td>\n",
       "    </tr>\n",
       "    <tr>\n",
       "      <th>Male 18-24</th>\n",
       "      <td>5979</td>\n",
       "      <td>4815</td>\n",
       "      <td>-19.46%</td>\n",
       "    </tr>\n",
       "    <tr>\n",
       "      <th>Female 18-24</th>\n",
       "      <td>5422</td>\n",
       "      <td>4545</td>\n",
       "      <td>-16.17%</td>\n",
       "    </tr>\n",
       "    <tr>\n",
       "      <th>25-34</th>\n",
       "      <td>6155</td>\n",
       "      <td>5190</td>\n",
       "      <td>-15.68%</td>\n",
       "    </tr>\n",
       "    <tr>\n",
       "      <th>Male 25-34</th>\n",
       "      <td>6640</td>\n",
       "      <td>5581</td>\n",
       "      <td>-15.95%</td>\n",
       "    </tr>\n",
       "    <tr>\n",
       "      <th>Female 25-34</th>\n",
       "      <td>5651</td>\n",
       "      <td>4734</td>\n",
       "      <td>-16.23%</td>\n",
       "    </tr>\n",
       "    <tr>\n",
       "      <th>35-44</th>\n",
       "      <td>6297</td>\n",
       "      <td>5882</td>\n",
       "      <td>-6.59%</td>\n",
       "    </tr>\n",
       "    <tr>\n",
       "      <th>Male 35-44</th>\n",
       "      <td>7354</td>\n",
       "      <td>6857</td>\n",
       "      <td>-6.76%</td>\n",
       "    </tr>\n",
       "    <tr>\n",
       "      <th>Female 35-44</th>\n",
       "      <td>5692</td>\n",
       "      <td>5225</td>\n",
       "      <td>-8.20%</td>\n",
       "    </tr>\n",
       "    <tr>\n",
       "      <th>45-54</th>\n",
       "      <td>6115</td>\n",
       "      <td>5668</td>\n",
       "      <td>-7.31%</td>\n",
       "    </tr>\n",
       "    <tr>\n",
       "      <th>Male 45-54</th>\n",
       "      <td>6730</td>\n",
       "      <td>6425</td>\n",
       "      <td>-4.52%</td>\n",
       "    </tr>\n",
       "    <tr>\n",
       "      <th>Female 45-54</th>\n",
       "      <td>5788</td>\n",
       "      <td>5226</td>\n",
       "      <td>-9.71%</td>\n",
       "    </tr>\n",
       "    <tr>\n",
       "      <th>55-64</th>\n",
       "      <td>5306</td>\n",
       "      <td>4855</td>\n",
       "      <td>-8.50%</td>\n",
       "    </tr>\n",
       "    <tr>\n",
       "      <th>Male 55-64</th>\n",
       "      <td>5453</td>\n",
       "      <td>5240</td>\n",
       "      <td>-3.90%</td>\n",
       "    </tr>\n",
       "    <tr>\n",
       "      <th>Female 55-64</th>\n",
       "      <td>5238</td>\n",
       "      <td>4665</td>\n",
       "      <td>-10.95%</td>\n",
       "    </tr>\n",
       "    <tr>\n",
       "      <th>65-74</th>\n",
       "      <td>5279</td>\n",
       "      <td>4903</td>\n",
       "      <td>-7.11%</td>\n",
       "    </tr>\n",
       "    <tr>\n",
       "      <th>Male 65-74</th>\n",
       "      <td>5504</td>\n",
       "      <td>4928</td>\n",
       "      <td>-10.47%</td>\n",
       "    </tr>\n",
       "    <tr>\n",
       "      <th>Female 65-74</th>\n",
       "      <td>5095</td>\n",
       "      <td>4852</td>\n",
       "      <td>-4.77%</td>\n",
       "    </tr>\n",
       "    <tr>\n",
       "      <th>75-84</th>\n",
       "      <td>4168</td>\n",
       "      <td>3576</td>\n",
       "      <td>-14.18%</td>\n",
       "    </tr>\n",
       "    <tr>\n",
       "      <th>Male 75-84</th>\n",
       "      <td>5091</td>\n",
       "      <td>3955</td>\n",
       "      <td>-22.31%</td>\n",
       "    </tr>\n",
       "    <tr>\n",
       "      <th>Female 75-84</th>\n",
       "      <td>3488</td>\n",
       "      <td>3389</td>\n",
       "      <td>-2.86%</td>\n",
       "    </tr>\n",
       "  </tbody>\n",
       "</table>\n",
       "</div>"
      ],
      "text/plain": [
       "period       Before During   change\n",
       "All            5662   5073  -10.40%\n",
       "Male           6172   5637   -8.66%\n",
       "Female         5442   4793  -11.93%\n",
       "18-24          5615   4657  -17.06%\n",
       "Male 18-24     5979   4815  -19.46%\n",
       "Female 18-24   5422   4545  -16.17%\n",
       "25-34          6155   5190  -15.68%\n",
       "Male 25-34     6640   5581  -15.95%\n",
       "Female 25-34   5651   4734  -16.23%\n",
       "35-44          6297   5882   -6.59%\n",
       "Male 35-44     7354   6857   -6.76%\n",
       "Female 35-44   5692   5225   -8.20%\n",
       "45-54          6115   5668   -7.31%\n",
       "Male 45-54     6730   6425   -4.52%\n",
       "Female 45-54   5788   5226   -9.71%\n",
       "55-64          5306   4855   -8.50%\n",
       "Male 55-64     5453   5240   -3.90%\n",
       "Female 55-64   5238   4665  -10.95%\n",
       "65-74          5279   4903   -7.11%\n",
       "Male 65-74     5504   4928  -10.47%\n",
       "Female 65-74   5095   4852   -4.77%\n",
       "75-84          4168   3576  -14.18%\n",
       "Male 75-84     5091   3955  -22.31%\n",
       "Female 75-84   3488   3389   -2.86%"
      ]
     },
     "execution_count": 19,
     "metadata": {},
     "output_type": "execute_result"
    }
   ],
   "source": [
    "table"
   ]
  },
  {
   "cell_type": "code",
   "execution_count": 20,
   "id": "3e6a9580-b998-4bb1-b16c-03f230a19120",
   "metadata": {},
   "outputs": [],
   "source": [
    "users_table = users_df.groupby(['ageRange']).count()"
   ]
  },
  {
   "cell_type": "code",
   "execution_count": 46,
   "id": "96fef6c5-6661-4329-b05c-2db0ce22c78b",
   "metadata": {},
   "outputs": [
    {
     "data": {
      "text/html": [
       "<style type=\"text/css\">\n",
       "</style>\n",
       "<table id=\"T_3ad84\">\n",
       "  <caption>Users</caption>\n",
       "  <thead>\n",
       "    <tr>\n",
       "      <th class=\"blank\" >&nbsp;</th>\n",
       "      <th class=\"blank level0\" >&nbsp;</th>\n",
       "      <th id=\"T_3ad84_level0_col0\" class=\"col_heading level0 col0\" >count</th>\n",
       "      <th id=\"T_3ad84_level0_col1\" class=\"col_heading level0 col1\" >percent</th>\n",
       "    </tr>\n",
       "    <tr>\n",
       "      <th class=\"index_name level0\" >ageRange</th>\n",
       "      <th class=\"index_name level1\" >gender</th>\n",
       "      <th class=\"blank col0\" >&nbsp;</th>\n",
       "      <th class=\"blank col1\" >&nbsp;</th>\n",
       "    </tr>\n",
       "  </thead>\n",
       "  <tbody>\n",
       "    <tr>\n",
       "      <th id=\"T_3ad84_level0_row0\" class=\"row_heading level0 row0\" rowspan=\"2\">18-24</th>\n",
       "      <th id=\"T_3ad84_level1_row0\" class=\"row_heading level1 row0\" >Female</th>\n",
       "      <td id=\"T_3ad84_row0_col0\" class=\"data row0 col0\" >77</td>\n",
       "      <td id=\"T_3ad84_row0_col1\" class=\"data row0 col1\" >5.34%</td>\n",
       "    </tr>\n",
       "    <tr>\n",
       "      <th id=\"T_3ad84_level1_row1\" class=\"row_heading level1 row1\" >Male</th>\n",
       "      <td id=\"T_3ad84_row1_col0\" class=\"data row1 col0\" >64</td>\n",
       "      <td id=\"T_3ad84_row1_col1\" class=\"data row1 col1\" >4.44%</td>\n",
       "    </tr>\n",
       "    <tr>\n",
       "      <th id=\"T_3ad84_level0_row2\" class=\"row_heading level0 row2\" rowspan=\"4\">25-34</th>\n",
       "      <th id=\"T_3ad84_level1_row2\" class=\"row_heading level1 row2\" >Female</th>\n",
       "      <td id=\"T_3ad84_row2_col0\" class=\"data row2 col0\" >86</td>\n",
       "      <td id=\"T_3ad84_row2_col1\" class=\"data row2 col1\" >5.96%</td>\n",
       "    </tr>\n",
       "    <tr>\n",
       "      <th id=\"T_3ad84_level1_row3\" class=\"row_heading level1 row3\" >Male</th>\n",
       "      <td id=\"T_3ad84_row3_col0\" class=\"data row3 col0\" >150</td>\n",
       "      <td id=\"T_3ad84_row3_col1\" class=\"data row3 col1\" >10.40%</td>\n",
       "    </tr>\n",
       "    <tr>\n",
       "      <th id=\"T_3ad84_level1_row4\" class=\"row_heading level1 row4\" >Other</th>\n",
       "      <td id=\"T_3ad84_row4_col0\" class=\"data row4 col0\" >1</td>\n",
       "      <td id=\"T_3ad84_row4_col1\" class=\"data row4 col1\" >0.07%</td>\n",
       "    </tr>\n",
       "    <tr>\n",
       "      <th id=\"T_3ad84_level1_row5\" class=\"row_heading level1 row5\" >Prefer not to say</th>\n",
       "      <td id=\"T_3ad84_row5_col0\" class=\"data row5 col0\" >2</td>\n",
       "      <td id=\"T_3ad84_row5_col1\" class=\"data row5 col1\" >0.14%</td>\n",
       "    </tr>\n",
       "    <tr>\n",
       "      <th id=\"T_3ad84_level0_row6\" class=\"row_heading level0 row6\" rowspan=\"2\">35-44</th>\n",
       "      <th id=\"T_3ad84_level1_row6\" class=\"row_heading level1 row6\" >Female</th>\n",
       "      <td id=\"T_3ad84_row6_col0\" class=\"data row6 col0\" >160</td>\n",
       "      <td id=\"T_3ad84_row6_col1\" class=\"data row6 col1\" >11.09%</td>\n",
       "    </tr>\n",
       "    <tr>\n",
       "      <th id=\"T_3ad84_level1_row7\" class=\"row_heading level1 row7\" >Male</th>\n",
       "      <td id=\"T_3ad84_row7_col0\" class=\"data row7 col0\" >133</td>\n",
       "      <td id=\"T_3ad84_row7_col1\" class=\"data row7 col1\" >9.22%</td>\n",
       "    </tr>\n",
       "    <tr>\n",
       "      <th id=\"T_3ad84_level0_row8\" class=\"row_heading level0 row8\" rowspan=\"2\">45-54</th>\n",
       "      <th id=\"T_3ad84_level1_row8\" class=\"row_heading level1 row8\" >Female</th>\n",
       "      <td id=\"T_3ad84_row8_col0\" class=\"data row8 col0\" >230</td>\n",
       "      <td id=\"T_3ad84_row8_col1\" class=\"data row8 col1\" >15.94%</td>\n",
       "    </tr>\n",
       "    <tr>\n",
       "      <th id=\"T_3ad84_level1_row9\" class=\"row_heading level1 row9\" >Male</th>\n",
       "      <td id=\"T_3ad84_row9_col0\" class=\"data row9 col0\" >139</td>\n",
       "      <td id=\"T_3ad84_row9_col1\" class=\"data row9 col1\" >9.63%</td>\n",
       "    </tr>\n",
       "    <tr>\n",
       "      <th id=\"T_3ad84_level0_row10\" class=\"row_heading level0 row10\" rowspan=\"2\">55-64</th>\n",
       "      <th id=\"T_3ad84_level1_row10\" class=\"row_heading level1 row10\" >Female</th>\n",
       "      <td id=\"T_3ad84_row10_col0\" class=\"data row10 col0\" >162</td>\n",
       "      <td id=\"T_3ad84_row10_col1\" class=\"data row10 col1\" >11.23%</td>\n",
       "    </tr>\n",
       "    <tr>\n",
       "      <th id=\"T_3ad84_level1_row11\" class=\"row_heading level1 row11\" >Male</th>\n",
       "      <td id=\"T_3ad84_row11_col0\" class=\"data row11 col0\" >102</td>\n",
       "      <td id=\"T_3ad84_row11_col1\" class=\"data row11 col1\" >7.07%</td>\n",
       "    </tr>\n",
       "    <tr>\n",
       "      <th id=\"T_3ad84_level0_row12\" class=\"row_heading level0 row12\" rowspan=\"2\">65-74</th>\n",
       "      <th id=\"T_3ad84_level1_row12\" class=\"row_heading level1 row12\" >Female</th>\n",
       "      <td id=\"T_3ad84_row12_col0\" class=\"data row12 col0\" >60</td>\n",
       "      <td id=\"T_3ad84_row12_col1\" class=\"data row12 col1\" >4.16%</td>\n",
       "    </tr>\n",
       "    <tr>\n",
       "      <th id=\"T_3ad84_level1_row13\" class=\"row_heading level1 row13\" >Male</th>\n",
       "      <td id=\"T_3ad84_row13_col0\" class=\"data row13 col0\" >49</td>\n",
       "      <td id=\"T_3ad84_row13_col1\" class=\"data row13 col1\" >3.40%</td>\n",
       "    </tr>\n",
       "    <tr>\n",
       "      <th id=\"T_3ad84_level0_row14\" class=\"row_heading level0 row14\" rowspan=\"3\">75-84</th>\n",
       "      <th id=\"T_3ad84_level1_row14\" class=\"row_heading level1 row14\" >Female</th>\n",
       "      <td id=\"T_3ad84_row14_col0\" class=\"data row14 col0\" >17</td>\n",
       "      <td id=\"T_3ad84_row14_col1\" class=\"data row14 col1\" >1.18%</td>\n",
       "    </tr>\n",
       "    <tr>\n",
       "      <th id=\"T_3ad84_level1_row15\" class=\"row_heading level1 row15\" >Male</th>\n",
       "      <td id=\"T_3ad84_row15_col0\" class=\"data row15 col0\" >8</td>\n",
       "      <td id=\"T_3ad84_row15_col1\" class=\"data row15 col1\" >0.55%</td>\n",
       "    </tr>\n",
       "    <tr>\n",
       "      <th id=\"T_3ad84_level1_row16\" class=\"row_heading level1 row16\" >Other</th>\n",
       "      <td id=\"T_3ad84_row16_col0\" class=\"data row16 col0\" >1</td>\n",
       "      <td id=\"T_3ad84_row16_col1\" class=\"data row16 col1\" >0.07%</td>\n",
       "    </tr>\n",
       "    <tr>\n",
       "      <th id=\"T_3ad84_level0_row17\" class=\"row_heading level0 row17\" >85-94</th>\n",
       "      <th id=\"T_3ad84_level1_row17\" class=\"row_heading level1 row17\" >Male</th>\n",
       "      <td id=\"T_3ad84_row17_col0\" class=\"data row17 col0\" >2</td>\n",
       "      <td id=\"T_3ad84_row17_col1\" class=\"data row17 col1\" >0.14%</td>\n",
       "    </tr>\n",
       "  </tbody>\n",
       "</table>\n"
      ],
      "text/plain": [
       "<pandas.io.formats.style.Styler at 0xffff600c09a0>"
      ]
     },
     "execution_count": 46,
     "metadata": {},
     "output_type": "execute_result"
    }
   ],
   "source": [
    "users_table = users_df.groupby(['ageRange', 'gender']).count()\n",
    "users_table['count'] = users_table['id']\n",
    "users_table['percent'] = 100 * users_table['count'] / users_table['count'].sum()\n",
    "users_table['percent'] = users_table['percent'].map('{0:.2f}%'.format)\n",
    "#users_table['Female'] = users_table[users_table['gender'] == 'Female']\n",
    "#del users_table['ageRange']\n",
    "del users_table['occupation']\n",
    "del users_table['compareDate']\n",
    "del users_table['stepsEstimate']\n",
    "del users_table['id']\n",
    "\n",
    "# users_table['Male'] = 20000\n",
    "\n",
    "#users_table = users_table.transpose()\n",
    "#users_table = users_table.transpose()\n",
    "users_table.style.format(thousands=\" \").pipe(make_pretty)"
   ]
  },
  {
   "cell_type": "code",
   "execution_count": 22,
   "id": "82dea071-bf7f-4b6a-ba9b-6935a0044689",
   "metadata": {},
   "outputs": [
    {
     "data": {
      "text/html": [
       "<style type=\"text/css\">\n",
       "</style>\n",
       "<table id=\"T_8274a\">\n",
       "  <caption>Users</caption>\n",
       "  <thead>\n",
       "    <tr>\n",
       "      <th class=\"blank level0\" >&nbsp;</th>\n",
       "      <th id=\"T_8274a_level0_col0\" class=\"col_heading level0 col0\" >count</th>\n",
       "      <th id=\"T_8274a_level0_col1\" class=\"col_heading level0 col1\" >percent</th>\n",
       "    </tr>\n",
       "    <tr>\n",
       "      <th class=\"index_name level0\" >gender</th>\n",
       "      <th class=\"blank col0\" >&nbsp;</th>\n",
       "      <th class=\"blank col1\" >&nbsp;</th>\n",
       "    </tr>\n",
       "  </thead>\n",
       "  <tbody>\n",
       "    <tr>\n",
       "      <th id=\"T_8274a_level0_row0\" class=\"row_heading level0 row0\" >Female</th>\n",
       "      <td id=\"T_8274a_row0_col0\" class=\"data row0 col0\" >852</td>\n",
       "      <td id=\"T_8274a_row0_col1\" class=\"data row0 col1\" >55.54%</td>\n",
       "    </tr>\n",
       "    <tr>\n",
       "      <th id=\"T_8274a_level0_row1\" class=\"row_heading level0 row1\" >Male</th>\n",
       "      <td id=\"T_8274a_row1_col0\" class=\"data row1 col0\" >677</td>\n",
       "      <td id=\"T_8274a_row1_col1\" class=\"data row1 col1\" >44.13%</td>\n",
       "    </tr>\n",
       "    <tr>\n",
       "      <th id=\"T_8274a_level0_row2\" class=\"row_heading level0 row2\" >Other</th>\n",
       "      <td id=\"T_8274a_row2_col0\" class=\"data row2 col0\" >2</td>\n",
       "      <td id=\"T_8274a_row2_col1\" class=\"data row2 col1\" >0.13%</td>\n",
       "    </tr>\n",
       "    <tr>\n",
       "      <th id=\"T_8274a_level0_row3\" class=\"row_heading level0 row3\" >Prefer not to say</th>\n",
       "      <td id=\"T_8274a_row3_col0\" class=\"data row3 col0\" >3</td>\n",
       "      <td id=\"T_8274a_row3_col1\" class=\"data row3 col1\" >0.20%</td>\n",
       "    </tr>\n",
       "  </tbody>\n",
       "</table>\n"
      ],
      "text/plain": [
       "<pandas.io.formats.style.Styler at 0xffff6af129a0>"
      ]
     },
     "execution_count": 22,
     "metadata": {},
     "output_type": "execute_result"
    }
   ],
   "source": [
    "users_table = users_df.groupby(['gender']).count()\n",
    "users_table['count'] = users_table['id']\n",
    "users_table['percent'] = 100 * users_table['count'] / users_table['count'].sum()\n",
    "users_table['percent'] = users_table['percent'].map('{0:.2f}%'.format)\n",
    "del users_table['ageRange']\n",
    "del users_table['occupation']\n",
    "del users_table['compareDate']\n",
    "del users_table['stepsEstimate']\n",
    "del users_table['id']\n",
    "\n",
    "# users_table['Male'] = 20000\n",
    "\n",
    "#users_table = users_table.transpose()\n",
    "#users_table = users_table.transpose()\n",
    "users_table.style.format(thousands=\" \").pipe(make_pretty)"
   ]
  },
  {
   "cell_type": "code",
   "execution_count": 23,
   "id": "24ff8011-9f43-4352-999a-97af8ba3d12a",
   "metadata": {},
   "outputs": [
    {
     "data": {
      "text/plain": [
       "1534"
      ]
     },
     "execution_count": 23,
     "metadata": {},
     "output_type": "execute_result"
    }
   ],
   "source": [
    "users_table['count'].sum()"
   ]
  },
  {
   "cell_type": "code",
   "execution_count": 214,
   "id": "24abd39e-ccde-4302-9490-86315a141be1",
   "metadata": {},
   "outputs": [],
   "source": [
    "data = df[df['period'] != 'none']\n",
    "data=data[data['gender']=='Female']\n",
    "table = pd.DataFrame()\n",
    "#lookup = pd.DataFrame()\n",
    "#lookup['All'] = getChange(data)\n",
    "#lookup['Male'] = getChange(data[data['gender'] == 'Male'])\n",
    "#lookup['Female'] = getChange(data[data['gender'] == 'Female'])\n",
    "\n",
    "age_ranges = ['18-24', '25-34', '35-44', '45-54', '55-64', '65-74', '75-84']\n",
    "for age_range in age_ranges:\n",
    "    age_df = data[data['ageRange'] == age_range]\n",
    "    table[age_range] = getChange(age_df)\n",
    "    \n",
    "#    table['Male ' + age_range] = getChange(age_df[age_df['gender'] == 'Male'])\n",
    "#    table['Female ' + age_range] = getChange(age_df[age_df['gender'] == 'Female'])\n",
    "\n",
    "table = table.transpose()\n",
    "table['During'] = table['During'].map('{:.0f}'.format)\n",
    "table['Before'] = table['Before'].map('{:.0f}'.format)\n",
    "#table['diff'] = table['diff'].map('{:.0f}'.format)\n",
    "table['change'] = table['change'].map('{0:.2f}%'.format)"
   ]
  },
  {
   "cell_type": "code",
   "execution_count": 215,
   "id": "8bbf317e-b213-4c66-8070-7719ec154ace",
   "metadata": {},
   "outputs": [
    {
     "data": {
      "text/html": [
       "<div>\n",
       "<style scoped>\n",
       "    .dataframe tbody tr th:only-of-type {\n",
       "        vertical-align: middle;\n",
       "    }\n",
       "\n",
       "    .dataframe tbody tr th {\n",
       "        vertical-align: top;\n",
       "    }\n",
       "\n",
       "    .dataframe thead th {\n",
       "        text-align: right;\n",
       "    }\n",
       "</style>\n",
       "<table border=\"1\" class=\"dataframe\">\n",
       "  <thead>\n",
       "    <tr style=\"text-align: right;\">\n",
       "      <th>period</th>\n",
       "      <th>Before</th>\n",
       "      <th>During</th>\n",
       "      <th>change</th>\n",
       "    </tr>\n",
       "  </thead>\n",
       "  <tbody>\n",
       "    <tr>\n",
       "      <th>18-24</th>\n",
       "      <td>5422</td>\n",
       "      <td>4545</td>\n",
       "      <td>-16.17%</td>\n",
       "    </tr>\n",
       "    <tr>\n",
       "      <th>25-34</th>\n",
       "      <td>5651</td>\n",
       "      <td>4734</td>\n",
       "      <td>-16.23%</td>\n",
       "    </tr>\n",
       "    <tr>\n",
       "      <th>35-44</th>\n",
       "      <td>5692</td>\n",
       "      <td>5225</td>\n",
       "      <td>-8.20%</td>\n",
       "    </tr>\n",
       "    <tr>\n",
       "      <th>45-54</th>\n",
       "      <td>5788</td>\n",
       "      <td>5226</td>\n",
       "      <td>-9.71%</td>\n",
       "    </tr>\n",
       "    <tr>\n",
       "      <th>55-64</th>\n",
       "      <td>5238</td>\n",
       "      <td>4665</td>\n",
       "      <td>-10.95%</td>\n",
       "    </tr>\n",
       "    <tr>\n",
       "      <th>65-74</th>\n",
       "      <td>5095</td>\n",
       "      <td>4852</td>\n",
       "      <td>-4.77%</td>\n",
       "    </tr>\n",
       "    <tr>\n",
       "      <th>75-84</th>\n",
       "      <td>3488</td>\n",
       "      <td>3389</td>\n",
       "      <td>-2.86%</td>\n",
       "    </tr>\n",
       "  </tbody>\n",
       "</table>\n",
       "</div>"
      ],
      "text/plain": [
       "period Before During   change\n",
       "18-24    5422   4545  -16.17%\n",
       "25-34    5651   4734  -16.23%\n",
       "35-44    5692   5225   -8.20%\n",
       "45-54    5788   5226   -9.71%\n",
       "55-64    5238   4665  -10.95%\n",
       "65-74    5095   4852   -4.77%\n",
       "75-84    3488   3389   -2.86%"
      ]
     },
     "execution_count": 215,
     "metadata": {},
     "output_type": "execute_result"
    }
   ],
   "source": [
    "table"
   ]
  },
  {
   "cell_type": "code",
   "execution_count": 217,
   "id": "6bef2e4c-9587-4cba-b1fb-d4eb2f1581f4",
   "metadata": {},
   "outputs": [
    {
     "data": {
      "application/vnd.plotly.v1+json": {
       "config": {
        "plotlyServerURL": "https://plot.ly"
       },
       "data": [
        {
         "alignmentgroup": "True",
         "hovertemplate": "period=Before<br>index=%{x}<br>value=%{y}<extra></extra>",
         "legendgroup": "Before",
         "marker": {
          "color": "rgb(76,114,176)",
          "pattern": {
           "shape": ""
          }
         },
         "name": "Before",
         "offsetgroup": "Before",
         "orientation": "v",
         "showlegend": true,
         "textposition": "auto",
         "type": "bar",
         "x": [
          "18-24",
          "25-34",
          "35-44",
          "45-54",
          "55-64",
          "65-74",
          "75-84"
         ],
         "xaxis": "x",
         "y": [
          5422,
          5651,
          5692,
          5788,
          5238,
          5095,
          3488
         ],
         "yaxis": "y"
        },
        {
         "alignmentgroup": "True",
         "hovertemplate": "period=During<br>index=%{x}<br>value=%{y}<extra></extra>",
         "legendgroup": "During",
         "marker": {
          "color": "rgb(221,132,82)",
          "pattern": {
           "shape": ""
          }
         },
         "name": "During",
         "offsetgroup": "During",
         "orientation": "v",
         "showlegend": true,
         "textposition": "auto",
         "type": "bar",
         "x": [
          "18-24",
          "25-34",
          "35-44",
          "45-54",
          "55-64",
          "65-74",
          "75-84"
         ],
         "xaxis": "x",
         "y": [
          4545,
          4734,
          5225,
          5226,
          4665,
          4852,
          3389
         ],
         "yaxis": "y"
        }
       ],
       "layout": {
        "barmode": "group",
        "font": {
         "color": "#2D2D2D",
         "family": "Lato, sans-serif",
         "size": 18
        },
        "height": 400,
        "legend": {
         "bgcolor": "rgba(255,255,255, 0.0)",
         "title": {
          "text": ""
         },
         "tracegroupgap": 0,
         "x": 0.99,
         "xanchor": "right",
         "y": 0.99,
         "yanchor": "top"
        },
        "margin": {
         "b": 32,
         "l": 0,
         "r": 0,
         "t": 48
        },
        "template": {
         "data": {
          "bar": [
           {
            "error_x": {
             "color": "rgb(36,36,36)"
            },
            "error_y": {
             "color": "rgb(36,36,36)"
            },
            "marker": {
             "line": {
              "color": "rgb(234,234,242)",
              "width": 0.5
             },
             "pattern": {
              "fillmode": "overlay",
              "size": 10,
              "solidity": 0.2
             }
            },
            "type": "bar"
           }
          ],
          "barpolar": [
           {
            "marker": {
             "line": {
              "color": "rgb(234,234,242)",
              "width": 0.5
             },
             "pattern": {
              "fillmode": "overlay",
              "size": 10,
              "solidity": 0.2
             }
            },
            "type": "barpolar"
           }
          ],
          "carpet": [
           {
            "aaxis": {
             "endlinecolor": "rgb(36,36,36)",
             "gridcolor": "white",
             "linecolor": "white",
             "minorgridcolor": "white",
             "startlinecolor": "rgb(36,36,36)"
            },
            "baxis": {
             "endlinecolor": "rgb(36,36,36)",
             "gridcolor": "white",
             "linecolor": "white",
             "minorgridcolor": "white",
             "startlinecolor": "rgb(36,36,36)"
            },
            "type": "carpet"
           }
          ],
          "choropleth": [
           {
            "colorbar": {
             "outlinewidth": 0,
             "tickcolor": "rgb(36,36,36)",
             "ticklen": 8,
             "ticks": "outside",
             "tickwidth": 2
            },
            "type": "choropleth"
           }
          ],
          "contour": [
           {
            "colorbar": {
             "outlinewidth": 0,
             "tickcolor": "rgb(36,36,36)",
             "ticklen": 8,
             "ticks": "outside",
             "tickwidth": 2
            },
            "colorscale": [
             [
              0,
              "rgb(2,4,25)"
             ],
             [
              0.06274509803921569,
              "rgb(24,15,41)"
             ],
             [
              0.12549019607843137,
              "rgb(47,23,57)"
             ],
             [
              0.18823529411764706,
              "rgb(71,28,72)"
             ],
             [
              0.25098039215686274,
              "rgb(97,30,82)"
             ],
             [
              0.3137254901960784,
              "rgb(123,30,89)"
             ],
             [
              0.3764705882352941,
              "rgb(150,27,91)"
             ],
             [
              0.4392156862745098,
              "rgb(177,22,88)"
             ],
             [
              0.5019607843137255,
              "rgb(203,26,79)"
             ],
             [
              0.5647058823529412,
              "rgb(223,47,67)"
             ],
             [
              0.6274509803921569,
              "rgb(236,76,61)"
             ],
             [
              0.6901960784313725,
              "rgb(242,107,73)"
             ],
             [
              0.7529411764705882,
              "rgb(244,135,95)"
             ],
             [
              0.8156862745098039,
              "rgb(245,162,122)"
             ],
             [
              0.8784313725490196,
              "rgb(246,188,153)"
             ],
             [
              0.9411764705882353,
              "rgb(247,212,187)"
             ],
             [
              1,
              "rgb(250,234,220)"
             ]
            ],
            "type": "contour"
           }
          ],
          "contourcarpet": [
           {
            "colorbar": {
             "outlinewidth": 0,
             "tickcolor": "rgb(36,36,36)",
             "ticklen": 8,
             "ticks": "outside",
             "tickwidth": 2
            },
            "type": "contourcarpet"
           }
          ],
          "heatmap": [
           {
            "colorbar": {
             "outlinewidth": 0,
             "tickcolor": "rgb(36,36,36)",
             "ticklen": 8,
             "ticks": "outside",
             "tickwidth": 2
            },
            "colorscale": [
             [
              0,
              "rgb(2,4,25)"
             ],
             [
              0.06274509803921569,
              "rgb(24,15,41)"
             ],
             [
              0.12549019607843137,
              "rgb(47,23,57)"
             ],
             [
              0.18823529411764706,
              "rgb(71,28,72)"
             ],
             [
              0.25098039215686274,
              "rgb(97,30,82)"
             ],
             [
              0.3137254901960784,
              "rgb(123,30,89)"
             ],
             [
              0.3764705882352941,
              "rgb(150,27,91)"
             ],
             [
              0.4392156862745098,
              "rgb(177,22,88)"
             ],
             [
              0.5019607843137255,
              "rgb(203,26,79)"
             ],
             [
              0.5647058823529412,
              "rgb(223,47,67)"
             ],
             [
              0.6274509803921569,
              "rgb(236,76,61)"
             ],
             [
              0.6901960784313725,
              "rgb(242,107,73)"
             ],
             [
              0.7529411764705882,
              "rgb(244,135,95)"
             ],
             [
              0.8156862745098039,
              "rgb(245,162,122)"
             ],
             [
              0.8784313725490196,
              "rgb(246,188,153)"
             ],
             [
              0.9411764705882353,
              "rgb(247,212,187)"
             ],
             [
              1,
              "rgb(250,234,220)"
             ]
            ],
            "type": "heatmap"
           }
          ],
          "heatmapgl": [
           {
            "colorbar": {
             "outlinewidth": 0,
             "tickcolor": "rgb(36,36,36)",
             "ticklen": 8,
             "ticks": "outside",
             "tickwidth": 2
            },
            "colorscale": [
             [
              0,
              "rgb(2,4,25)"
             ],
             [
              0.06274509803921569,
              "rgb(24,15,41)"
             ],
             [
              0.12549019607843137,
              "rgb(47,23,57)"
             ],
             [
              0.18823529411764706,
              "rgb(71,28,72)"
             ],
             [
              0.25098039215686274,
              "rgb(97,30,82)"
             ],
             [
              0.3137254901960784,
              "rgb(123,30,89)"
             ],
             [
              0.3764705882352941,
              "rgb(150,27,91)"
             ],
             [
              0.4392156862745098,
              "rgb(177,22,88)"
             ],
             [
              0.5019607843137255,
              "rgb(203,26,79)"
             ],
             [
              0.5647058823529412,
              "rgb(223,47,67)"
             ],
             [
              0.6274509803921569,
              "rgb(236,76,61)"
             ],
             [
              0.6901960784313725,
              "rgb(242,107,73)"
             ],
             [
              0.7529411764705882,
              "rgb(244,135,95)"
             ],
             [
              0.8156862745098039,
              "rgb(245,162,122)"
             ],
             [
              0.8784313725490196,
              "rgb(246,188,153)"
             ],
             [
              0.9411764705882353,
              "rgb(247,212,187)"
             ],
             [
              1,
              "rgb(250,234,220)"
             ]
            ],
            "type": "heatmapgl"
           }
          ],
          "histogram": [
           {
            "marker": {
             "pattern": {
              "fillmode": "overlay",
              "size": 10,
              "solidity": 0.2
             }
            },
            "type": "histogram"
           }
          ],
          "histogram2d": [
           {
            "colorbar": {
             "outlinewidth": 0,
             "tickcolor": "rgb(36,36,36)",
             "ticklen": 8,
             "ticks": "outside",
             "tickwidth": 2
            },
            "colorscale": [
             [
              0,
              "rgb(2,4,25)"
             ],
             [
              0.06274509803921569,
              "rgb(24,15,41)"
             ],
             [
              0.12549019607843137,
              "rgb(47,23,57)"
             ],
             [
              0.18823529411764706,
              "rgb(71,28,72)"
             ],
             [
              0.25098039215686274,
              "rgb(97,30,82)"
             ],
             [
              0.3137254901960784,
              "rgb(123,30,89)"
             ],
             [
              0.3764705882352941,
              "rgb(150,27,91)"
             ],
             [
              0.4392156862745098,
              "rgb(177,22,88)"
             ],
             [
              0.5019607843137255,
              "rgb(203,26,79)"
             ],
             [
              0.5647058823529412,
              "rgb(223,47,67)"
             ],
             [
              0.6274509803921569,
              "rgb(236,76,61)"
             ],
             [
              0.6901960784313725,
              "rgb(242,107,73)"
             ],
             [
              0.7529411764705882,
              "rgb(244,135,95)"
             ],
             [
              0.8156862745098039,
              "rgb(245,162,122)"
             ],
             [
              0.8784313725490196,
              "rgb(246,188,153)"
             ],
             [
              0.9411764705882353,
              "rgb(247,212,187)"
             ],
             [
              1,
              "rgb(250,234,220)"
             ]
            ],
            "type": "histogram2d"
           }
          ],
          "histogram2dcontour": [
           {
            "colorbar": {
             "outlinewidth": 0,
             "tickcolor": "rgb(36,36,36)",
             "ticklen": 8,
             "ticks": "outside",
             "tickwidth": 2
            },
            "colorscale": [
             [
              0,
              "rgb(2,4,25)"
             ],
             [
              0.06274509803921569,
              "rgb(24,15,41)"
             ],
             [
              0.12549019607843137,
              "rgb(47,23,57)"
             ],
             [
              0.18823529411764706,
              "rgb(71,28,72)"
             ],
             [
              0.25098039215686274,
              "rgb(97,30,82)"
             ],
             [
              0.3137254901960784,
              "rgb(123,30,89)"
             ],
             [
              0.3764705882352941,
              "rgb(150,27,91)"
             ],
             [
              0.4392156862745098,
              "rgb(177,22,88)"
             ],
             [
              0.5019607843137255,
              "rgb(203,26,79)"
             ],
             [
              0.5647058823529412,
              "rgb(223,47,67)"
             ],
             [
              0.6274509803921569,
              "rgb(236,76,61)"
             ],
             [
              0.6901960784313725,
              "rgb(242,107,73)"
             ],
             [
              0.7529411764705882,
              "rgb(244,135,95)"
             ],
             [
              0.8156862745098039,
              "rgb(245,162,122)"
             ],
             [
              0.8784313725490196,
              "rgb(246,188,153)"
             ],
             [
              0.9411764705882353,
              "rgb(247,212,187)"
             ],
             [
              1,
              "rgb(250,234,220)"
             ]
            ],
            "type": "histogram2dcontour"
           }
          ],
          "mesh3d": [
           {
            "colorbar": {
             "outlinewidth": 0,
             "tickcolor": "rgb(36,36,36)",
             "ticklen": 8,
             "ticks": "outside",
             "tickwidth": 2
            },
            "type": "mesh3d"
           }
          ],
          "parcoords": [
           {
            "line": {
             "colorbar": {
              "outlinewidth": 0,
              "tickcolor": "rgb(36,36,36)",
              "ticklen": 8,
              "ticks": "outside",
              "tickwidth": 2
             }
            },
            "type": "parcoords"
           }
          ],
          "pie": [
           {
            "automargin": true,
            "type": "pie"
           }
          ],
          "scatter": [
           {
            "fillpattern": {
             "fillmode": "overlay",
             "size": 10,
             "solidity": 0.2
            },
            "type": "scatter"
           }
          ],
          "scatter3d": [
           {
            "line": {
             "colorbar": {
              "outlinewidth": 0,
              "tickcolor": "rgb(36,36,36)",
              "ticklen": 8,
              "ticks": "outside",
              "tickwidth": 2
             }
            },
            "marker": {
             "colorbar": {
              "outlinewidth": 0,
              "tickcolor": "rgb(36,36,36)",
              "ticklen": 8,
              "ticks": "outside",
              "tickwidth": 2
             }
            },
            "type": "scatter3d"
           }
          ],
          "scattercarpet": [
           {
            "marker": {
             "colorbar": {
              "outlinewidth": 0,
              "tickcolor": "rgb(36,36,36)",
              "ticklen": 8,
              "ticks": "outside",
              "tickwidth": 2
             }
            },
            "type": "scattercarpet"
           }
          ],
          "scattergeo": [
           {
            "marker": {
             "colorbar": {
              "outlinewidth": 0,
              "tickcolor": "rgb(36,36,36)",
              "ticklen": 8,
              "ticks": "outside",
              "tickwidth": 2
             }
            },
            "type": "scattergeo"
           }
          ],
          "scattergl": [
           {
            "marker": {
             "colorbar": {
              "outlinewidth": 0,
              "tickcolor": "rgb(36,36,36)",
              "ticklen": 8,
              "ticks": "outside",
              "tickwidth": 2
             }
            },
            "type": "scattergl"
           }
          ],
          "scattermapbox": [
           {
            "marker": {
             "colorbar": {
              "outlinewidth": 0,
              "tickcolor": "rgb(36,36,36)",
              "ticklen": 8,
              "ticks": "outside",
              "tickwidth": 2
             }
            },
            "type": "scattermapbox"
           }
          ],
          "scatterpolar": [
           {
            "marker": {
             "colorbar": {
              "outlinewidth": 0,
              "tickcolor": "rgb(36,36,36)",
              "ticklen": 8,
              "ticks": "outside",
              "tickwidth": 2
             }
            },
            "type": "scatterpolar"
           }
          ],
          "scatterpolargl": [
           {
            "marker": {
             "colorbar": {
              "outlinewidth": 0,
              "tickcolor": "rgb(36,36,36)",
              "ticklen": 8,
              "ticks": "outside",
              "tickwidth": 2
             }
            },
            "type": "scatterpolargl"
           }
          ],
          "scatterternary": [
           {
            "marker": {
             "colorbar": {
              "outlinewidth": 0,
              "tickcolor": "rgb(36,36,36)",
              "ticklen": 8,
              "ticks": "outside",
              "tickwidth": 2
             }
            },
            "type": "scatterternary"
           }
          ],
          "surface": [
           {
            "colorbar": {
             "outlinewidth": 0,
             "tickcolor": "rgb(36,36,36)",
             "ticklen": 8,
             "ticks": "outside",
             "tickwidth": 2
            },
            "colorscale": [
             [
              0,
              "rgb(2,4,25)"
             ],
             [
              0.06274509803921569,
              "rgb(24,15,41)"
             ],
             [
              0.12549019607843137,
              "rgb(47,23,57)"
             ],
             [
              0.18823529411764706,
              "rgb(71,28,72)"
             ],
             [
              0.25098039215686274,
              "rgb(97,30,82)"
             ],
             [
              0.3137254901960784,
              "rgb(123,30,89)"
             ],
             [
              0.3764705882352941,
              "rgb(150,27,91)"
             ],
             [
              0.4392156862745098,
              "rgb(177,22,88)"
             ],
             [
              0.5019607843137255,
              "rgb(203,26,79)"
             ],
             [
              0.5647058823529412,
              "rgb(223,47,67)"
             ],
             [
              0.6274509803921569,
              "rgb(236,76,61)"
             ],
             [
              0.6901960784313725,
              "rgb(242,107,73)"
             ],
             [
              0.7529411764705882,
              "rgb(244,135,95)"
             ],
             [
              0.8156862745098039,
              "rgb(245,162,122)"
             ],
             [
              0.8784313725490196,
              "rgb(246,188,153)"
             ],
             [
              0.9411764705882353,
              "rgb(247,212,187)"
             ],
             [
              1,
              "rgb(250,234,220)"
             ]
            ],
            "type": "surface"
           }
          ],
          "table": [
           {
            "cells": {
             "fill": {
              "color": "rgb(231,231,240)"
             },
             "line": {
              "color": "white"
             }
            },
            "header": {
             "fill": {
              "color": "rgb(183,183,191)"
             },
             "line": {
              "color": "white"
             }
            },
            "type": "table"
           }
          ]
         },
         "layout": {
          "annotationdefaults": {
           "arrowcolor": "rgb(67,103,167)"
          },
          "autotypenumbers": "strict",
          "coloraxis": {
           "colorbar": {
            "outlinewidth": 0,
            "tickcolor": "rgb(36,36,36)",
            "ticklen": 8,
            "ticks": "outside",
            "tickwidth": 2
           }
          },
          "colorscale": {
           "sequential": [
            [
             0,
             "rgb(2,4,25)"
            ],
            [
             0.06274509803921569,
             "rgb(24,15,41)"
            ],
            [
             0.12549019607843137,
             "rgb(47,23,57)"
            ],
            [
             0.18823529411764706,
             "rgb(71,28,72)"
            ],
            [
             0.25098039215686274,
             "rgb(97,30,82)"
            ],
            [
             0.3137254901960784,
             "rgb(123,30,89)"
            ],
            [
             0.3764705882352941,
             "rgb(150,27,91)"
            ],
            [
             0.4392156862745098,
             "rgb(177,22,88)"
            ],
            [
             0.5019607843137255,
             "rgb(203,26,79)"
            ],
            [
             0.5647058823529412,
             "rgb(223,47,67)"
            ],
            [
             0.6274509803921569,
             "rgb(236,76,61)"
            ],
            [
             0.6901960784313725,
             "rgb(242,107,73)"
            ],
            [
             0.7529411764705882,
             "rgb(244,135,95)"
            ],
            [
             0.8156862745098039,
             "rgb(245,162,122)"
            ],
            [
             0.8784313725490196,
             "rgb(246,188,153)"
            ],
            [
             0.9411764705882353,
             "rgb(247,212,187)"
            ],
            [
             1,
             "rgb(250,234,220)"
            ]
           ],
           "sequentialminus": [
            [
             0,
             "rgb(2,4,25)"
            ],
            [
             0.06274509803921569,
             "rgb(24,15,41)"
            ],
            [
             0.12549019607843137,
             "rgb(47,23,57)"
            ],
            [
             0.18823529411764706,
             "rgb(71,28,72)"
            ],
            [
             0.25098039215686274,
             "rgb(97,30,82)"
            ],
            [
             0.3137254901960784,
             "rgb(123,30,89)"
            ],
            [
             0.3764705882352941,
             "rgb(150,27,91)"
            ],
            [
             0.4392156862745098,
             "rgb(177,22,88)"
            ],
            [
             0.5019607843137255,
             "rgb(203,26,79)"
            ],
            [
             0.5647058823529412,
             "rgb(223,47,67)"
            ],
            [
             0.6274509803921569,
             "rgb(236,76,61)"
            ],
            [
             0.6901960784313725,
             "rgb(242,107,73)"
            ],
            [
             0.7529411764705882,
             "rgb(244,135,95)"
            ],
            [
             0.8156862745098039,
             "rgb(245,162,122)"
            ],
            [
             0.8784313725490196,
             "rgb(246,188,153)"
            ],
            [
             0.9411764705882353,
             "rgb(247,212,187)"
            ],
            [
             1,
             "rgb(250,234,220)"
            ]
           ]
          },
          "colorway": [
           "rgb(76,114,176)",
           "rgb(221,132,82)",
           "rgb(85,168,104)",
           "rgb(196,78,82)",
           "rgb(129,114,179)",
           "rgb(147,120,96)",
           "rgb(218,139,195)",
           "rgb(140,140,140)",
           "rgb(204,185,116)",
           "rgb(100,181,205)"
          ],
          "font": {
           "color": "rgb(36,36,36)"
          },
          "geo": {
           "bgcolor": "white",
           "lakecolor": "white",
           "landcolor": "rgb(234,234,242)",
           "showlakes": true,
           "showland": true,
           "subunitcolor": "white"
          },
          "hoverlabel": {
           "align": "left"
          },
          "hovermode": "closest",
          "paper_bgcolor": "white",
          "plot_bgcolor": "rgb(234,234,242)",
          "polar": {
           "angularaxis": {
            "gridcolor": "white",
            "linecolor": "white",
            "showgrid": true,
            "ticks": ""
           },
           "bgcolor": "rgb(234,234,242)",
           "radialaxis": {
            "gridcolor": "white",
            "linecolor": "white",
            "showgrid": true,
            "ticks": ""
           }
          },
          "scene": {
           "xaxis": {
            "backgroundcolor": "rgb(234,234,242)",
            "gridcolor": "white",
            "gridwidth": 2,
            "linecolor": "white",
            "showbackground": true,
            "showgrid": true,
            "ticks": "",
            "zerolinecolor": "white"
           },
           "yaxis": {
            "backgroundcolor": "rgb(234,234,242)",
            "gridcolor": "white",
            "gridwidth": 2,
            "linecolor": "white",
            "showbackground": true,
            "showgrid": true,
            "ticks": "",
            "zerolinecolor": "white"
           },
           "zaxis": {
            "backgroundcolor": "rgb(234,234,242)",
            "gridcolor": "white",
            "gridwidth": 2,
            "linecolor": "white",
            "showbackground": true,
            "showgrid": true,
            "ticks": "",
            "zerolinecolor": "white"
           }
          },
          "shapedefaults": {
           "fillcolor": "rgb(67,103,167)",
           "line": {
            "width": 0
           },
           "opacity": 0.5
          },
          "ternary": {
           "aaxis": {
            "gridcolor": "white",
            "linecolor": "white",
            "showgrid": true,
            "ticks": ""
           },
           "baxis": {
            "gridcolor": "white",
            "linecolor": "white",
            "showgrid": true,
            "ticks": ""
           },
           "bgcolor": "rgb(234,234,242)",
           "caxis": {
            "gridcolor": "white",
            "linecolor": "white",
            "showgrid": true,
            "ticks": ""
           }
          },
          "xaxis": {
           "automargin": true,
           "gridcolor": "white",
           "linecolor": "white",
           "showgrid": true,
           "ticks": "",
           "title": {
            "standoff": 15
           },
           "zerolinecolor": "white"
          },
          "yaxis": {
           "automargin": true,
           "gridcolor": "white",
           "linecolor": "white",
           "showgrid": true,
           "ticks": "",
           "title": {
            "standoff": 15
           },
           "zerolinecolor": "white"
          }
         }
        },
        "title": {
         "text": "Female"
        },
        "width": 500,
        "xaxis": {
         "anchor": "y",
         "autorange": true,
         "domain": [
          0,
          1
         ],
         "range": [
          -0.5,
          6.5
         ],
         "tickfont": {
          "size": 18
         },
         "tickformat": "%b %Y",
         "title": {
          "text": "Age range"
         },
         "type": "category"
        },
        "yaxis": {
         "anchor": "x",
         "autorange": true,
         "domain": [
          0,
          1
         ],
         "range": [
          0,
          6092.631578947368
         ],
         "tickfont": {
          "size": 18
         },
         "title": {
          "text": "Steps"
         },
         "type": "linear"
        },
        "yaxis2": {
         "title": {
          "standoff": 32
         }
        }
       }
      },
      "image/png": "[encoded data removed]",
      "text/html": [
       "<div>                            <div id=\"eac5d3f5-b0ff-41bc-9559-d81443f486c5\" class=\"plotly-graph-div\" style=\"height:400px; width:500px;\"></div>            <script type=\"text/javascript\">                require([\"plotly\"], function(Plotly) {                    window.PLOTLYENV=window.PLOTLYENV || {};                                    if (document.getElementById(\"eac5d3f5-b0ff-41bc-9559-d81443f486c5\")) {                    Plotly.newPlot(                        \"eac5d3f5-b0ff-41bc-9559-d81443f486c5\",                        [{\"alignmentgroup\":\"True\",\"hovertemplate\":\"period=Before<br>index=%{x}<br>value=%{y}<extra></extra>\",\"legendgroup\":\"Before\",\"marker\":{\"color\":\"rgb(76,114,176)\",\"pattern\":{\"shape\":\"\"}},\"name\":\"Before\",\"offsetgroup\":\"Before\",\"orientation\":\"v\",\"showlegend\":true,\"textposition\":\"auto\",\"x\":[\"18-24\",\"25-34\",\"35-44\",\"45-54\",\"55-64\",\"65-74\",\"75-84\"],\"xaxis\":\"x\",\"y\":[5422,5651,5692,5788,5238,5095,3488],\"yaxis\":\"y\",\"type\":\"bar\"},{\"alignmentgroup\":\"True\",\"hovertemplate\":\"period=During<br>index=%{x}<br>value=%{y}<extra></extra>\",\"legendgroup\":\"During\",\"marker\":{\"color\":\"rgb(221,132,82)\",\"pattern\":{\"shape\":\"\"}},\"name\":\"During\",\"offsetgroup\":\"During\",\"orientation\":\"v\",\"showlegend\":true,\"textposition\":\"auto\",\"x\":[\"18-24\",\"25-34\",\"35-44\",\"45-54\",\"55-64\",\"65-74\",\"75-84\"],\"xaxis\":\"x\",\"y\":[4545,4734,5225,5226,4665,4852,3389],\"yaxis\":\"y\",\"type\":\"bar\"}],                        {\"template\":{\"data\":{\"histogram2dcontour\":[{\"type\":\"histogram2dcontour\",\"colorbar\":{\"outlinewidth\":0,\"tickcolor\":\"rgb(36,36,36)\",\"ticklen\":8,\"ticks\":\"outside\",\"tickwidth\":2},\"colorscale\":[[0.0,\"rgb(2,4,25)\"],[0.06274509803921569,\"rgb(24,15,41)\"],[0.12549019607843137,\"rgb(47,23,57)\"],[0.18823529411764706,\"rgb(71,28,72)\"],[0.25098039215686274,\"rgb(97,30,82)\"],[0.3137254901960784,\"rgb(123,30,89)\"],[0.3764705882352941,\"rgb(150,27,91)\"],[0.4392156862745098,\"rgb(177,22,88)\"],[0.5019607843137255,\"rgb(203,26,79)\"],[0.5647058823529412,\"rgb(223,47,67)\"],[0.6274509803921569,\"rgb(236,76,61)\"],[0.6901960784313725,\"rgb(242,107,73)\"],[0.7529411764705882,\"rgb(244,135,95)\"],[0.8156862745098039,\"rgb(245,162,122)\"],[0.8784313725490196,\"rgb(246,188,153)\"],[0.9411764705882353,\"rgb(247,212,187)\"],[1.0,\"rgb(250,234,220)\"]]}],\"choropleth\":[{\"type\":\"choropleth\",\"colorbar\":{\"outlinewidth\":0,\"tickcolor\":\"rgb(36,36,36)\",\"ticklen\":8,\"ticks\":\"outside\",\"tickwidth\":2}}],\"histogram2d\":[{\"type\":\"histogram2d\",\"colorbar\":{\"outlinewidth\":0,\"tickcolor\":\"rgb(36,36,36)\",\"ticklen\":8,\"ticks\":\"outside\",\"tickwidth\":2},\"colorscale\":[[0.0,\"rgb(2,4,25)\"],[0.06274509803921569,\"rgb(24,15,41)\"],[0.12549019607843137,\"rgb(47,23,57)\"],[0.18823529411764706,\"rgb(71,28,72)\"],[0.25098039215686274,\"rgb(97,30,82)\"],[0.3137254901960784,\"rgb(123,30,89)\"],[0.3764705882352941,\"rgb(150,27,91)\"],[0.4392156862745098,\"rgb(177,22,88)\"],[0.5019607843137255,\"rgb(203,26,79)\"],[0.5647058823529412,\"rgb(223,47,67)\"],[0.6274509803921569,\"rgb(236,76,61)\"],[0.6901960784313725,\"rgb(242,107,73)\"],[0.7529411764705882,\"rgb(244,135,95)\"],[0.8156862745098039,\"rgb(245,162,122)\"],[0.8784313725490196,\"rgb(246,188,153)\"],[0.9411764705882353,\"rgb(247,212,187)\"],[1.0,\"rgb(250,234,220)\"]]}],\"heatmap\":[{\"type\":\"heatmap\",\"colorbar\":{\"outlinewidth\":0,\"tickcolor\":\"rgb(36,36,36)\",\"ticklen\":8,\"ticks\":\"outside\",\"tickwidth\":2},\"colorscale\":[[0.0,\"rgb(2,4,25)\"],[0.06274509803921569,\"rgb(24,15,41)\"],[0.12549019607843137,\"rgb(47,23,57)\"],[0.18823529411764706,\"rgb(71,28,72)\"],[0.25098039215686274,\"rgb(97,30,82)\"],[0.3137254901960784,\"rgb(123,30,89)\"],[0.3764705882352941,\"rgb(150,27,91)\"],[0.4392156862745098,\"rgb(177,22,88)\"],[0.5019607843137255,\"rgb(203,26,79)\"],[0.5647058823529412,\"rgb(223,47,67)\"],[0.6274509803921569,\"rgb(236,76,61)\"],[0.6901960784313725,\"rgb(242,107,73)\"],[0.7529411764705882,\"rgb(244,135,95)\"],[0.8156862745098039,\"rgb(245,162,122)\"],[0.8784313725490196,\"rgb(246,188,153)\"],[0.9411764705882353,\"rgb(247,212,187)\"],[1.0,\"rgb(250,234,220)\"]]}],\"heatmapgl\":[{\"type\":\"heatmapgl\",\"colorbar\":{\"outlinewidth\":0,\"tickcolor\":\"rgb(36,36,36)\",\"ticklen\":8,\"ticks\":\"outside\",\"tickwidth\":2},\"colorscale\":[[0.0,\"rgb(2,4,25)\"],[0.06274509803921569,\"rgb(24,15,41)\"],[0.12549019607843137,\"rgb(47,23,57)\"],[0.18823529411764706,\"rgb(71,28,72)\"],[0.25098039215686274,\"rgb(97,30,82)\"],[0.3137254901960784,\"rgb(123,30,89)\"],[0.3764705882352941,\"rgb(150,27,91)\"],[0.4392156862745098,\"rgb(177,22,88)\"],[0.5019607843137255,\"rgb(203,26,79)\"],[0.5647058823529412,\"rgb(223,47,67)\"],[0.6274509803921569,\"rgb(236,76,61)\"],[0.6901960784313725,\"rgb(242,107,73)\"],[0.7529411764705882,\"rgb(244,135,95)\"],[0.8156862745098039,\"rgb(245,162,122)\"],[0.8784313725490196,\"rgb(246,188,153)\"],[0.9411764705882353,\"rgb(247,212,187)\"],[1.0,\"rgb(250,234,220)\"]]}],\"contourcarpet\":[{\"type\":\"contourcarpet\",\"colorbar\":{\"outlinewidth\":0,\"tickcolor\":\"rgb(36,36,36)\",\"ticklen\":8,\"ticks\":\"outside\",\"tickwidth\":2}}],\"contour\":[{\"type\":\"contour\",\"colorbar\":{\"outlinewidth\":0,\"tickcolor\":\"rgb(36,36,36)\",\"ticklen\":8,\"ticks\":\"outside\",\"tickwidth\":2},\"colorscale\":[[0.0,\"rgb(2,4,25)\"],[0.06274509803921569,\"rgb(24,15,41)\"],[0.12549019607843137,\"rgb(47,23,57)\"],[0.18823529411764706,\"rgb(71,28,72)\"],[0.25098039215686274,\"rgb(97,30,82)\"],[0.3137254901960784,\"rgb(123,30,89)\"],[0.3764705882352941,\"rgb(150,27,91)\"],[0.4392156862745098,\"rgb(177,22,88)\"],[0.5019607843137255,\"rgb(203,26,79)\"],[0.5647058823529412,\"rgb(223,47,67)\"],[0.6274509803921569,\"rgb(236,76,61)\"],[0.6901960784313725,\"rgb(242,107,73)\"],[0.7529411764705882,\"rgb(244,135,95)\"],[0.8156862745098039,\"rgb(245,162,122)\"],[0.8784313725490196,\"rgb(246,188,153)\"],[0.9411764705882353,\"rgb(247,212,187)\"],[1.0,\"rgb(250,234,220)\"]]}],\"surface\":[{\"type\":\"surface\",\"colorbar\":{\"outlinewidth\":0,\"tickcolor\":\"rgb(36,36,36)\",\"ticklen\":8,\"ticks\":\"outside\",\"tickwidth\":2},\"colorscale\":[[0.0,\"rgb(2,4,25)\"],[0.06274509803921569,\"rgb(24,15,41)\"],[0.12549019607843137,\"rgb(47,23,57)\"],[0.18823529411764706,\"rgb(71,28,72)\"],[0.25098039215686274,\"rgb(97,30,82)\"],[0.3137254901960784,\"rgb(123,30,89)\"],[0.3764705882352941,\"rgb(150,27,91)\"],[0.4392156862745098,\"rgb(177,22,88)\"],[0.5019607843137255,\"rgb(203,26,79)\"],[0.5647058823529412,\"rgb(223,47,67)\"],[0.6274509803921569,\"rgb(236,76,61)\"],[0.6901960784313725,\"rgb(242,107,73)\"],[0.7529411764705882,\"rgb(244,135,95)\"],[0.8156862745098039,\"rgb(245,162,122)\"],[0.8784313725490196,\"rgb(246,188,153)\"],[0.9411764705882353,\"rgb(247,212,187)\"],[1.0,\"rgb(250,234,220)\"]]}],\"mesh3d\":[{\"type\":\"mesh3d\",\"colorbar\":{\"outlinewidth\":0,\"tickcolor\":\"rgb(36,36,36)\",\"ticklen\":8,\"ticks\":\"outside\",\"tickwidth\":2}}],\"scatter\":[{\"fillpattern\":{\"fillmode\":\"overlay\",\"size\":10,\"solidity\":0.2},\"type\":\"scatter\"}],\"parcoords\":[{\"type\":\"parcoords\",\"line\":{\"colorbar\":{\"outlinewidth\":0,\"tickcolor\":\"rgb(36,36,36)\",\"ticklen\":8,\"ticks\":\"outside\",\"tickwidth\":2}}}],\"scatterpolargl\":[{\"type\":\"scatterpolargl\",\"marker\":{\"colorbar\":{\"outlinewidth\":0,\"tickcolor\":\"rgb(36,36,36)\",\"ticklen\":8,\"ticks\":\"outside\",\"tickwidth\":2}}}],\"bar\":[{\"error_x\":{\"color\":\"rgb(36,36,36)\"},\"error_y\":{\"color\":\"rgb(36,36,36)\"},\"marker\":{\"line\":{\"color\":\"rgb(234,234,242)\",\"width\":0.5},\"pattern\":{\"fillmode\":\"overlay\",\"size\":10,\"solidity\":0.2}},\"type\":\"bar\"}],\"scattergeo\":[{\"type\":\"scattergeo\",\"marker\":{\"colorbar\":{\"outlinewidth\":0,\"tickcolor\":\"rgb(36,36,36)\",\"ticklen\":8,\"ticks\":\"outside\",\"tickwidth\":2}}}],\"scatterpolar\":[{\"type\":\"scatterpolar\",\"marker\":{\"colorbar\":{\"outlinewidth\":0,\"tickcolor\":\"rgb(36,36,36)\",\"ticklen\":8,\"ticks\":\"outside\",\"tickwidth\":2}}}],\"histogram\":[{\"marker\":{\"pattern\":{\"fillmode\":\"overlay\",\"size\":10,\"solidity\":0.2}},\"type\":\"histogram\"}],\"scattergl\":[{\"type\":\"scattergl\",\"marker\":{\"colorbar\":{\"outlinewidth\":0,\"tickcolor\":\"rgb(36,36,36)\",\"ticklen\":8,\"ticks\":\"outside\",\"tickwidth\":2}}}],\"scatter3d\":[{\"type\":\"scatter3d\",\"line\":{\"colorbar\":{\"outlinewidth\":0,\"tickcolor\":\"rgb(36,36,36)\",\"ticklen\":8,\"ticks\":\"outside\",\"tickwidth\":2}},\"marker\":{\"colorbar\":{\"outlinewidth\":0,\"tickcolor\":\"rgb(36,36,36)\",\"ticklen\":8,\"ticks\":\"outside\",\"tickwidth\":2}}}],\"scattermapbox\":[{\"type\":\"scattermapbox\",\"marker\":{\"colorbar\":{\"outlinewidth\":0,\"tickcolor\":\"rgb(36,36,36)\",\"ticklen\":8,\"ticks\":\"outside\",\"tickwidth\":2}}}],\"scatterternary\":[{\"type\":\"scatterternary\",\"marker\":{\"colorbar\":{\"outlinewidth\":0,\"tickcolor\":\"rgb(36,36,36)\",\"ticklen\":8,\"ticks\":\"outside\",\"tickwidth\":2}}}],\"scattercarpet\":[{\"type\":\"scattercarpet\",\"marker\":{\"colorbar\":{\"outlinewidth\":0,\"tickcolor\":\"rgb(36,36,36)\",\"ticklen\":8,\"ticks\":\"outside\",\"tickwidth\":2}}}],\"carpet\":[{\"aaxis\":{\"endlinecolor\":\"rgb(36,36,36)\",\"gridcolor\":\"white\",\"linecolor\":\"white\",\"minorgridcolor\":\"white\",\"startlinecolor\":\"rgb(36,36,36)\"},\"baxis\":{\"endlinecolor\":\"rgb(36,36,36)\",\"gridcolor\":\"white\",\"linecolor\":\"white\",\"minorgridcolor\":\"white\",\"startlinecolor\":\"rgb(36,36,36)\"},\"type\":\"carpet\"}],\"table\":[{\"cells\":{\"fill\":{\"color\":\"rgb(231,231,240)\"},\"line\":{\"color\":\"white\"}},\"header\":{\"fill\":{\"color\":\"rgb(183,183,191)\"},\"line\":{\"color\":\"white\"}},\"type\":\"table\"}],\"barpolar\":[{\"marker\":{\"line\":{\"color\":\"rgb(234,234,242)\",\"width\":0.5},\"pattern\":{\"fillmode\":\"overlay\",\"size\":10,\"solidity\":0.2}},\"type\":\"barpolar\"}],\"pie\":[{\"automargin\":true,\"type\":\"pie\"}]},\"layout\":{\"autotypenumbers\":\"strict\",\"colorway\":[\"rgb(76,114,176)\",\"rgb(221,132,82)\",\"rgb(85,168,104)\",\"rgb(196,78,82)\",\"rgb(129,114,179)\",\"rgb(147,120,96)\",\"rgb(218,139,195)\",\"rgb(140,140,140)\",\"rgb(204,185,116)\",\"rgb(100,181,205)\"],\"font\":{\"color\":\"rgb(36,36,36)\"},\"hovermode\":\"closest\",\"hoverlabel\":{\"align\":\"left\"},\"paper_bgcolor\":\"white\",\"plot_bgcolor\":\"rgb(234,234,242)\",\"polar\":{\"bgcolor\":\"rgb(234,234,242)\",\"angularaxis\":{\"gridcolor\":\"white\",\"linecolor\":\"white\",\"showgrid\":true,\"ticks\":\"\"},\"radialaxis\":{\"gridcolor\":\"white\",\"linecolor\":\"white\",\"showgrid\":true,\"ticks\":\"\"}},\"ternary\":{\"bgcolor\":\"rgb(234,234,242)\",\"aaxis\":{\"gridcolor\":\"white\",\"linecolor\":\"white\",\"showgrid\":true,\"ticks\":\"\"},\"baxis\":{\"gridcolor\":\"white\",\"linecolor\":\"white\",\"showgrid\":true,\"ticks\":\"\"},\"caxis\":{\"gridcolor\":\"white\",\"linecolor\":\"white\",\"showgrid\":true,\"ticks\":\"\"}},\"coloraxis\":{\"colorbar\":{\"outlinewidth\":0,\"tickcolor\":\"rgb(36,36,36)\",\"ticklen\":8,\"ticks\":\"outside\",\"tickwidth\":2}},\"colorscale\":{\"sequential\":[[0.0,\"rgb(2,4,25)\"],[0.06274509803921569,\"rgb(24,15,41)\"],[0.12549019607843137,\"rgb(47,23,57)\"],[0.18823529411764706,\"rgb(71,28,72)\"],[0.25098039215686274,\"rgb(97,30,82)\"],[0.3137254901960784,\"rgb(123,30,89)\"],[0.3764705882352941,\"rgb(150,27,91)\"],[0.4392156862745098,\"rgb(177,22,88)\"],[0.5019607843137255,\"rgb(203,26,79)\"],[0.5647058823529412,\"rgb(223,47,67)\"],[0.6274509803921569,\"rgb(236,76,61)\"],[0.6901960784313725,\"rgb(242,107,73)\"],[0.7529411764705882,\"rgb(244,135,95)\"],[0.8156862745098039,\"rgb(245,162,122)\"],[0.8784313725490196,\"rgb(246,188,153)\"],[0.9411764705882353,\"rgb(247,212,187)\"],[1.0,\"rgb(250,234,220)\"]],\"sequentialminus\":[[0.0,\"rgb(2,4,25)\"],[0.06274509803921569,\"rgb(24,15,41)\"],[0.12549019607843137,\"rgb(47,23,57)\"],[0.18823529411764706,\"rgb(71,28,72)\"],[0.25098039215686274,\"rgb(97,30,82)\"],[0.3137254901960784,\"rgb(123,30,89)\"],[0.3764705882352941,\"rgb(150,27,91)\"],[0.4392156862745098,\"rgb(177,22,88)\"],[0.5019607843137255,\"rgb(203,26,79)\"],[0.5647058823529412,\"rgb(223,47,67)\"],[0.6274509803921569,\"rgb(236,76,61)\"],[0.6901960784313725,\"rgb(242,107,73)\"],[0.7529411764705882,\"rgb(244,135,95)\"],[0.8156862745098039,\"rgb(245,162,122)\"],[0.8784313725490196,\"rgb(246,188,153)\"],[0.9411764705882353,\"rgb(247,212,187)\"],[1.0,\"rgb(250,234,220)\"]]},\"xaxis\":{\"gridcolor\":\"white\",\"linecolor\":\"white\",\"showgrid\":true,\"ticks\":\"\",\"title\":{\"standoff\":15},\"zerolinecolor\":\"white\",\"automargin\":true},\"yaxis\":{\"gridcolor\":\"white\",\"linecolor\":\"white\",\"showgrid\":true,\"ticks\":\"\",\"title\":{\"standoff\":15},\"zerolinecolor\":\"white\",\"automargin\":true},\"scene\":{\"xaxis\":{\"backgroundcolor\":\"rgb(234,234,242)\",\"gridcolor\":\"white\",\"linecolor\":\"white\",\"showbackground\":true,\"showgrid\":true,\"ticks\":\"\",\"zerolinecolor\":\"white\",\"gridwidth\":2},\"yaxis\":{\"backgroundcolor\":\"rgb(234,234,242)\",\"gridcolor\":\"white\",\"linecolor\":\"white\",\"showbackground\":true,\"showgrid\":true,\"ticks\":\"\",\"zerolinecolor\":\"white\",\"gridwidth\":2},\"zaxis\":{\"backgroundcolor\":\"rgb(234,234,242)\",\"gridcolor\":\"white\",\"linecolor\":\"white\",\"showbackground\":true,\"showgrid\":true,\"ticks\":\"\",\"zerolinecolor\":\"white\",\"gridwidth\":2}},\"shapedefaults\":{\"fillcolor\":\"rgb(67,103,167)\",\"line\":{\"width\":0},\"opacity\":0.5},\"annotationdefaults\":{\"arrowcolor\":\"rgb(67,103,167)\"},\"geo\":{\"bgcolor\":\"white\",\"landcolor\":\"rgb(234,234,242)\",\"subunitcolor\":\"white\",\"showland\":true,\"showlakes\":true,\"lakecolor\":\"white\"}}},\"xaxis\":{\"anchor\":\"y\",\"domain\":[0.0,1.0],\"title\":{\"text\":\"Age range\"},\"tickfont\":{\"size\":18},\"tickformat\":\"%b %Y\"},\"yaxis\":{\"anchor\":\"x\",\"domain\":[0.0,1.0],\"title\":{\"text\":\"Steps\"},\"tickfont\":{\"size\":18}},\"legend\":{\"title\":{\"text\":\"\"},\"tracegroupgap\":0,\"bgcolor\":\"rgba(255,255,255, 0.0)\",\"yanchor\":\"top\",\"y\":0.99,\"xanchor\":\"right\",\"x\":0.99},\"margin\":{\"t\":48,\"l\":0,\"r\":0,\"b\":32},\"barmode\":\"group\",\"height\":400,\"yaxis2\":{\"title\":{\"standoff\":32}},\"title\":{\"text\":\"Female\"},\"font\":{\"size\":18,\"color\":\"#2D2D2D\",\"family\":\"Lato, sans-serif\"},\"width\":500},                        {\"responsive\": true}                    ).then(function(){\n",
       "                            \n",
       "var gd = document.getElementById('eac5d3f5-b0ff-41bc-9559-d81443f486c5');\n",
       "var x = new MutationObserver(function (mutations, observer) {{\n",
       "        var display = window.getComputedStyle(gd).display;\n",
       "        if (!display || display === 'none') {{\n",
       "            console.log([gd, 'removed!']);\n",
       "            Plotly.purge(gd);\n",
       "            observer.disconnect();\n",
       "        }}\n",
       "}});\n",
       "\n",
       "// Listen for the removal of the full notebook cells\n",
       "var notebookContainer = gd.closest('#notebook-container');\n",
       "if (notebookContainer) {{\n",
       "    x.observe(notebookContainer, {childList: true});\n",
       "}}\n",
       "\n",
       "// Listen for the clearing of the current output cell\n",
       "var outputEl = gd.closest('.output');\n",
       "if (outputEl) {{\n",
       "    x.observe(outputEl, {childList: true});\n",
       "}}\n",
       "\n",
       "                        })                };                });            </script>        </div>"
      ]
     },
     "metadata": {},
     "output_type": "display_data"
    }
   ],
   "source": [
    "\n",
    "axis = table.index.to_numpy()\n",
    "data = table[['Before','During']].astype(int).to_numpy()\n",
    "\n",
    "#fig = plt.figure(figsize=(8,16))\n",
    "#ax = fig.add_subplot()\n",
    "\n",
    "#ax.bar(axis, data[:,0], label='Before')\n",
    "#ax.bar(axis, data[:,1], label='During')\n",
    "\n",
    "#plt.title('Male')\n",
    "#plt.ylabel('Steps')\n",
    "#plt.xlabel('Age group')\n",
    "\n",
    "#plt.legend()\n",
    "\n",
    "#style_plot(fig)\n",
    "\n",
    "#fig, ax = plt.subplots(nrows=1, ncols=2)\n",
    "\n",
    "fig1 = table[['Before', 'During']].astype(int).plot(kind='bar', barmode='group')\n",
    "#fig = table[['During']].astype(int).plot(kind='bar')\n",
    "style_plot(fig1)\n",
    "fig1.update_layout(yaxis=dict(title='Steps'), title='Female')\n",
    "fig1.update_layout(xaxis=dict(title='Age range'))\n",
    "fig1.update_layout(\n",
    "    margin=dict(l=0, r=0, t=48, b=32),\n",
    ")\n",
    "fig1.update_layout(height=400)\n",
    "fig1.update_layout(width=500)\n",
    "fig1.show()\n",
    "\n",
    "#fig.add_trace(fig1, row=1, col=1)\n",
    "#fig.show()\n"
   ]
  },
  {
   "cell_type": "code",
   "execution_count": 80,
   "id": "d844440b-e286-4149-a4e4-cddd21634eae",
   "metadata": {},
   "outputs": [
    {
     "data": {
      "text/html": [
       "<div>\n",
       "<style scoped>\n",
       "    .dataframe tbody tr th:only-of-type {\n",
       "        vertical-align: middle;\n",
       "    }\n",
       "\n",
       "    .dataframe tbody tr th {\n",
       "        vertical-align: top;\n",
       "    }\n",
       "\n",
       "    .dataframe thead th {\n",
       "        text-align: right;\n",
       "    }\n",
       "</style>\n",
       "<table border=\"1\" class=\"dataframe\">\n",
       "  <thead>\n",
       "    <tr style=\"text-align: right;\">\n",
       "      <th></th>\n",
       "      <th>Female</th>\n",
       "      <th>Male</th>\n",
       "      <th>Female %</th>\n",
       "      <th>Male %</th>\n",
       "    </tr>\n",
       "    <tr>\n",
       "      <th>Age Group</th>\n",
       "      <th></th>\n",
       "      <th></th>\n",
       "      <th></th>\n",
       "      <th></th>\n",
       "    </tr>\n",
       "  </thead>\n",
       "  <tbody>\n",
       "    <tr>\n",
       "      <th>18-24</th>\n",
       "      <td>77</td>\n",
       "      <td>64</td>\n",
       "      <td>54.61</td>\n",
       "      <td>45.39</td>\n",
       "    </tr>\n",
       "    <tr>\n",
       "      <th>25-34</th>\n",
       "      <td>86</td>\n",
       "      <td>150</td>\n",
       "      <td>36.44</td>\n",
       "      <td>63.56</td>\n",
       "    </tr>\n",
       "    <tr>\n",
       "      <th>35-44</th>\n",
       "      <td>160</td>\n",
       "      <td>133</td>\n",
       "      <td>54.61</td>\n",
       "      <td>45.39</td>\n",
       "    </tr>\n",
       "    <tr>\n",
       "      <th>45-54</th>\n",
       "      <td>230</td>\n",
       "      <td>139</td>\n",
       "      <td>62.33</td>\n",
       "      <td>37.67</td>\n",
       "    </tr>\n",
       "    <tr>\n",
       "      <th>55-64</th>\n",
       "      <td>162</td>\n",
       "      <td>102</td>\n",
       "      <td>61.36</td>\n",
       "      <td>38.64</td>\n",
       "    </tr>\n",
       "    <tr>\n",
       "      <th>65-74</th>\n",
       "      <td>60</td>\n",
       "      <td>49</td>\n",
       "      <td>55.05</td>\n",
       "      <td>44.95</td>\n",
       "    </tr>\n",
       "    <tr>\n",
       "      <th>75-84</th>\n",
       "      <td>17</td>\n",
       "      <td>8</td>\n",
       "      <td>68.00</td>\n",
       "      <td>32.00</td>\n",
       "    </tr>\n",
       "    <tr>\n",
       "      <th>85-94</th>\n",
       "      <td>0</td>\n",
       "      <td>2</td>\n",
       "      <td>0.00</td>\n",
       "      <td>100.00</td>\n",
       "    </tr>\n",
       "  </tbody>\n",
       "</table>\n",
       "</div>"
      ],
      "text/plain": [
       "           Female  Male  Female %  Male %\n",
       "Age Group                                \n",
       "18-24          77    64     54.61   45.39\n",
       "25-34          86   150     36.44   63.56\n",
       "35-44         160   133     54.61   45.39\n",
       "45-54         230   139     62.33   37.67\n",
       "55-64         162   102     61.36   38.64\n",
       "65-74          60    49     55.05   44.95\n",
       "75-84          17     8     68.00   32.00\n",
       "85-94           0     2      0.00  100.00"
      ]
     },
     "execution_count": 80,
     "metadata": {},
     "output_type": "execute_result"
    }
   ],
   "source": [
    "# table 2\n",
    "\n",
    "x = users_df.groupby(['ageRange','gender'])['id'].nunique().unstack()\n",
    "x = x.fillna(0).astype(int)\n",
    "x['Female %'] = (x['Female'] * 100 / (x['Female'] + x['Male'])).round(2)\n",
    "x['Male %'] = (x['Male'] * 100 / (x['Female'] + x['Male'])).round(2)\n",
    "del x['Other']\n",
    "del x['Prefer not to say']\n",
    "x.index.rename('Age Group', inplace=True)\n",
    "x.columns.name = None\n",
    "x"
   ]
  },
  {
   "cell_type": "code",
   "execution_count": null,
   "id": "3276fcb1-ab26-4d15-ad26-cf6da9d40c89",
   "metadata": {},
   "outputs": [],
   "source": []
  }
 ],
 "metadata": {
  "kernelspec": {
   "display_name": "Python 3 (ipykernel)",
   "language": "python",
   "name": "python3"
  },
  "language_info": {
   "codemirror_mode": {
    "name": "ipython",
    "version": 3
   },
   "file_extension": ".py",
   "mimetype": "text/x-python",
   "name": "python",
   "nbconvert_exporter": "python",
   "pygments_lexer": "ipython3",
   "version": "3.9.12"
  }
 },
 "nbformat": 4,
 "nbformat_minor": 5
}
