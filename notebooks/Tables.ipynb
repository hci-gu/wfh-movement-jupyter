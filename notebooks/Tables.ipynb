{
 "cells": [
  {
   "cell_type": "code",
   "execution_count": null,
   "id": "8cd31890-ff05-48d3-a372-fdd3bb500c38",
   "metadata": {},
   "outputs": [],
   "source": [
    "import pandas as pd\n",
    "import numpy as np\n",
    "import plotly.io as pio\n",
    "import plotly.express as px\n",
    "from plotly.subplots import make_subplots\n",
    "import plotly.graph_objects as go\n",
    "import ipywidgets as widgets\n",
    "import matplotlib.pyplot as plt\n",
    "\n",
    "pio.templates.default = \"seaborn\"\n",
    "pd.options.plotting.backend = \"plotly\"\n",
    "\n",
    "%matplotlib inline"
   ]
  },
  {
   "cell_type": "code",
   "execution_count": null,
   "id": "8653052d-5e8c-47d8-8ae6-fd418dad8612",
   "metadata": {},
   "outputs": [],
   "source": [
    "%store -r df\n",
    "%store -r users_df"
   ]
  },
  {
   "cell_type": "code",
   "execution_count": null,
   "id": "ffbe6ca3-9ce3-4438-903a-87e044a1196a",
   "metadata": {},
   "outputs": [],
   "source": [
    "%run global.ipynb"
   ]
  },
  {
   "cell_type": "code",
   "execution_count": null,
   "id": "c766c3ea-1620-4659-a9eb-a0cdbaa62853",
   "metadata": {},
   "outputs": [],
   "source": [
    "users_df"
   ]
  },
  {
   "cell_type": "code",
   "execution_count": null,
   "id": "52f49025-a4c2-4578-9385-91d494f91f29",
   "metadata": {},
   "outputs": [],
   "source": [
    "total_users = users_df[users_df['gender'].notnull()]['id'].count()\n",
    "total_users"
   ]
  },
  {
   "cell_type": "code",
   "execution_count": null,
   "id": "4388e334-e3a6-4eab-9b89-92c6dc4614e3",
   "metadata": {},
   "outputs": [],
   "source": [
    "def getChange(users):\n",
    "    users = users.groupby(['hour','series', 'period']).median().unstack('series')['steps'].mean(axis=1).reset_index().groupby(['period']).sum().unstack('period')[0]\n",
    "    #users['diff'] = users.before - users.after;\n",
    "    users['change'] = -((users.before - users.after) / users.before) * 100\n",
    "    return users\n",
    "\n",
    "def getChangeGenders(male, female):\n",
    "    users = users.groupby(['hour','series', 'period']).median().unstack('series')['steps'].mean(axis=1).reset_index().groupby(['period']).sum().unstack('period')[0]\n",
    "    #users['diff'] = users.before - users.after;\n",
    "    users['change'] = -((users.before - users.after) / users.before) * 100\n",
    "    return users\n",
    "\n",
    "def getCount(users):\n",
    "    users = users\n",
    "    return users.groupby\n",
    "\n",
    "def make_pretty(styler):\n",
    "    styler.set_caption(\"Users\")\n",
    "    # styler.background_gradient(axis=None, vmin=1, vmax=2, cmap=\"YlGnBu\")\n",
    "    return styler"
   ]
  },
  {
   "cell_type": "code",
   "execution_count": null,
   "id": "e3bdb943-8bc4-4ab6-8926-fb2dee49b6af",
   "metadata": {},
   "outputs": [],
   "source": [
    "df.groupby(['hour','series', 'period']).median().unstack('series')['steps'].mean(axis=1).reset_index()"
   ]
  },
  {
   "cell_type": "code",
   "execution_count": null,
   "id": "25c1fcfd-8abc-42a2-8045-94636928e0d5",
   "metadata": {},
   "outputs": [],
   "source": [
    "df.groupby(['hour','series', 'period']).median().unstack('series')['steps'].mean(axis=1).reset_index().groupby(['period', 'hour']).sum().unstack('period')[0]"
   ]
  },
  {
   "cell_type": "code",
   "execution_count": null,
   "id": "b106146c-7948-44c2-abc6-d43fdbd2108a",
   "metadata": {},
   "outputs": [],
   "source": [
    "df_agg = df.agg({\n",
    "    'test': ['mean']\n",
    "})"
   ]
  },
  {
   "cell_type": "code",
   "execution_count": null,
   "id": "c83359f7-69b4-468e-8c15-3ac04b6d787d",
   "metadata": {},
   "outputs": [],
   "source": [
    "data = df[df['period'] != 'none']\n",
    "table = pd.DataFrame()\n",
    "table['All'] = getChange(data)\n",
    "table['Male'] = getChange(data[data['gender'] == 'Male'])\n",
    "table['Female'] = getChange(data[data['gender'] == 'Female'])\n",
    "\n",
    "age_ranges = ['18-24', '25-34', '35-44', '45-54', '55-64', '65-74', '75-84']\n",
    "for age_range in age_ranges:\n",
    "    age_df = data[data['ageRange'] == age_range]\n",
    "    table[age_range] = getChange(age_df)\n",
    "    \n",
    "    table['Male ' + age_range] = getChange(age_df[age_df['gender'] == 'Male'])\n",
    "    table['Female ' + age_range] = getChange(age_df[age_df['gender'] == 'Female'])\n",
    "\n",
    "table = table.transpose()\n",
    "table.after = table.after.map('{:.0f}'.format)\n",
    "table.before = table.before.map('{:.0f}'.format)\n",
    "#table['diff'] = table['diff'].map('{:.0f}'.format)\n",
    "table['change'] = table['change'].map('{0:.2f}%'.format)"
   ]
  },
  {
   "cell_type": "code",
   "execution_count": null,
   "id": "7b872ca1-344b-43ab-9528-63e5f373c3b5",
   "metadata": {},
   "outputs": [],
   "source": [
    "table"
   ]
  },
  {
   "cell_type": "code",
   "execution_count": null,
   "id": "3e6a9580-b998-4bb1-b16c-03f230a19120",
   "metadata": {},
   "outputs": [],
   "source": [
    "users_table = users_df.groupby(['ageRange']).count()"
   ]
  },
  {
   "cell_type": "code",
   "execution_count": null,
   "id": "96fef6c5-6661-4329-b05c-2db0ce22c78b",
   "metadata": {},
   "outputs": [],
   "source": [
    "users_table = users_df.groupby(['ageRange']).count()\n",
    "users_table['count'] = users_table['id']\n",
    "users_table['percent'] = 100 * users_table['count'] / users_table['count'].sum()\n",
    "users_table['percent'] = users_table['percent'].map('{0:.2f}%'.format)\n",
    "#del users_table['ageRange']\n",
    "del users_table['occupation']\n",
    "del users_table['compareDate']\n",
    "del users_table['stepsEstimate']\n",
    "del users_table['id']\n",
    "\n",
    "# users_table['Male'] = 20000\n",
    "\n",
    "#users_table = users_table.transpose()\n",
    "#users_table = users_table.transpose()\n",
    "users_table.style.format(thousands=\" \").pipe(make_pretty)"
   ]
  },
  {
   "cell_type": "code",
   "execution_count": null,
   "id": "82dea071-bf7f-4b6a-ba9b-6935a0044689",
   "metadata": {},
   "outputs": [],
   "source": [
    "users_table = users_df.groupby(['gender']).count()\n",
    "users_table['count'] = users_table['id']\n",
    "users_table['percent'] = 100 * users_table['count'] / users_table['count'].sum()\n",
    "users_table['percent'] = users_table['percent'].map('{0:.2f}%'.format)\n",
    "del users_table['ageRange']\n",
    "del users_table['occupation']\n",
    "del users_table['compareDate']\n",
    "del users_table['stepsEstimate']\n",
    "del users_table['id']\n",
    "\n",
    "# users_table['Male'] = 20000\n",
    "\n",
    "#users_table = users_table.transpose()\n",
    "#users_table = users_table.transpose()\n",
    "users_table.style.format(thousands=\" \").pipe(make_pretty)"
   ]
  },
  {
   "cell_type": "code",
   "execution_count": null,
   "id": "24ff8011-9f43-4352-999a-97af8ba3d12a",
   "metadata": {},
   "outputs": [],
   "source": [
    "users_table['count'].sum()"
   ]
  },
  {
   "cell_type": "code",
   "execution_count": null,
   "id": "24abd39e-ccde-4302-9490-86315a141be1",
   "metadata": {},
   "outputs": [],
   "source": [
    "data = df[df['period'] != 'none']\n",
    "table = pd.DataFrame()\n",
    "lookup = pd.DataFrame()\n",
    "lookup['All'] = getChange(data)\n",
    "lookup['Male'] = getChange(data[data['gender'] == 'Male'])\n",
    "lookup['Female'] = getChange(data[data['gender'] == 'Female'])\n",
    "\n",
    "age_ranges = ['18-24', '25-34', '35-44', '45-54', '55-64', '65-74', '75-84']\n",
    "for age_range in age_ranges:\n",
    "    age_df = data[data['ageRange'] == age_range]\n",
    "    table[age_range] = getChange(age_df)\n",
    "    \n",
    "    #table['Male ' + age_range] = getChange(age_df[age_df['gender'] == 'Male'])\n",
    "    #table['Female ' + age_range] = getChange(age_df[age_df['gender'] == 'Female'])\n",
    "\n",
    "table = table.transpose()\n",
    "table.after = table.after.map('{:.0f}'.format)\n",
    "table.before = table.before.map('{:.0f}'.format)\n",
    "#table['diff'] = table['diff'].map('{:.0f}'.format)\n",
    "table['change'] = table['change'].map('{0:.2f}%'.format)"
   ]
  },
  {
   "cell_type": "code",
   "execution_count": null,
   "id": "6bef2e4c-9587-4cba-b1fb-d4eb2f1581f4",
   "metadata": {},
   "outputs": [],
   "source": [
    "table"
   ]
  },
  {
   "cell_type": "code",
   "execution_count": null,
   "id": "d844440b-e286-4149-a4e4-cddd21634eae",
   "metadata": {},
   "outputs": [],
   "source": []
  }
 ],
 "metadata": {
  "kernelspec": {
   "display_name": "Python 3 (ipykernel)",
   "language": "python",
   "name": "python3"
  },
  "language_info": {
   "codemirror_mode": {
    "name": "ipython",
    "version": 3
   },
   "file_extension": ".py",
   "mimetype": "text/x-python",
   "name": "python",
   "nbconvert_exporter": "python",
   "pygments_lexer": "ipython3",
   "version": "3.9.12"
  }
 },
 "nbformat": 4,
 "nbformat_minor": 5
}
