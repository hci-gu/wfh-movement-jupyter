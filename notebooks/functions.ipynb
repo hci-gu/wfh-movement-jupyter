{
 "cells": [
  {
   "cell_type": "code",
   "execution_count": null,
   "id": "74b808b2-b3a6-4a0f-bee2-ae841909f1fc",
   "metadata": {},
   "outputs": [],
   "source": [
    "def annotate_diff(plot, x, y, title, before, after):\n",
    "    diff = (1 - (before / after)) * 100\n",
    "    \n",
    "    plot.add_annotation(x=x + 2, y=y+160, text=title, showarrow=False, font=dict(\n",
    "        color=\"black\",\n",
    "        size=18,\n",
    "    ))\n",
    "    plot.add_annotation(x=x, y=y+100, text='{:10.0f}'.format(before), showarrow=False, font=dict(\n",
    "        color=\"#D78556\",\n",
    "        size=14,\n",
    "    ))\n",
    "    plot.add_annotation(x=x, y=y+50, text='{:10.0f}'.format(after), showarrow=False, font=dict(\n",
    "        color=\"#5470AF\",\n",
    "        size=14,\n",
    "    ))\n",
    "    color = '#5CA968' if diff > 0 else '#BE4D55'\n",
    "    plot.add_annotation(x=x, y=y, text='{:10.1f}%'.format(diff), showarrow=False, font=dict(\n",
    "        color=color,\n",
    "        size=14,\n",
    "    ))"
   ]
  },
  {
   "cell_type": "code",
   "execution_count": null,
   "id": "f6425f49-e31b-47b7-bd96-450c77ec7482",
   "metadata": {},
   "outputs": [],
   "source": []
  }
 ],
 "metadata": {
  "kernelspec": {
   "display_name": "Python 3 (ipykernel)",
   "language": "python",
   "name": "python3"
  },
  "language_info": {
   "codemirror_mode": {
    "name": "ipython",
    "version": 3
   },
   "file_extension": ".py",
   "mimetype": "text/x-python",
   "name": "python",
   "nbconvert_exporter": "python",
   "pygments_lexer": "ipython3",
   "version": "3.9.7"
  }
 },
 "nbformat": 4,
 "nbformat_minor": 5
}
