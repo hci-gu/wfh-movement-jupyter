{
 "cells": [
  {
   "cell_type": "code",
   "execution_count": null,
   "id": "16ca510d-facb-4d5e-81e1-f6f6fd4c8b02",
   "metadata": {},
   "outputs": [],
   "source": [
    "import pandas as pd\n",
    "import numpy as np\n",
    "import ruptures as rpt\n",
    "import plotly.express as px\n",
    "from plotly.subplots import make_subplots\n",
    "import plotly.graph_objects as go\n",
    "import ipywidgets as widgets\n",
    "import matplotlib.pyplot as plt\n",
    "from datetime import datetime\n",
    "from dateutil import parser\n",
    "\n",
    "pd.options.plotting.backend = \"plotly\"\n",
    "\n",
    "%matplotlib inline"
   ]
  },
  {
   "cell_type": "code",
   "execution_count": null,
   "id": "db48d4df-0c1d-41ab-bdb5-981e543bf1ef",
   "metadata": {},
   "outputs": [],
   "source": [
    "%store -r df\n",
    "%store -r covid_cases"
   ]
  },
  {
   "cell_type": "code",
   "execution_count": null,
   "id": "fb4e7c74-b25c-4fa6-a073-231a9c05d9dc",
   "metadata": {},
   "outputs": [],
   "source": [
    "df['date'] = pd.to_datetime(df['series'])"
   ]
  },
  {
   "cell_type": "code",
   "execution_count": null,
   "id": "48122b14-17ba-4b6b-92ce-066189ca2458",
   "metadata": {},
   "outputs": [],
   "source": [
    "df = df[df['date'] > '2018-10-01']\n",
    "df = df[df['date'] < '2021-12-01']"
   ]
  },
  {
   "cell_type": "code",
   "execution_count": null,
   "id": "39cc9d3b-0dbe-412b-8066-253507b9b0c2",
   "metadata": {},
   "outputs": [],
   "source": [
    "(df.groupby(['hour','series'])\n",
    "   .median().unstack('series')['steps'].plot.line())"
   ]
  },
  {
   "cell_type": "code",
   "execution_count": null,
   "id": "f87b966a-cd66-4e88-8ca2-bb4b9ecb725b",
   "metadata": {},
   "outputs": [],
   "source": [
    "df.groupby(['id','series']).median().unstack('series')['steps'].count().plot(title=\"Number of users for each month\")"
   ]
  },
  {
   "cell_type": "code",
   "execution_count": null,
   "id": "6fc73b17-50af-45f2-899a-fcb1072a1438",
   "metadata": {},
   "outputs": [],
   "source": [
    "df.groupby(['id','series']).median().unstack('series')['steps'].count()"
   ]
  },
  {
   "cell_type": "code",
   "execution_count": null,
   "id": "82d5cb08-eb2b-4870-ad73-d144aaabf79e",
   "metadata": {},
   "outputs": [],
   "source": [
    "months = df.groupby(['hour','series']).median().unstack('series')['steps'].sum()\n",
    "months"
   ]
  },
  {
   "cell_type": "code",
   "execution_count": null,
   "id": "cd001e89-06f5-45e1-a1a5-22a7ee5746ba",
   "metadata": {},
   "outputs": [],
   "source": [
    "months.plot.line(markers=True, line_shape='spline', height=600)"
   ]
  },
  {
   "cell_type": "code",
   "execution_count": null,
   "id": "938a49aa-bcf6-4020-a909-df2cc860b9c7",
   "metadata": {},
   "outputs": [],
   "source": [
    "month_before = df[df.series == '2020-02-16'].groupby(['hour','series']).median().unstack('series')['steps'].sum()['2020-02-16']\n",
    "month_before"
   ]
  },
  {
   "cell_type": "code",
   "execution_count": null,
   "id": "6f5c4493-e982-4a96-b114-9f123e454227",
   "metadata": {},
   "outputs": [],
   "source": [
    "period_before = df[df.date < '2020-03-16'].groupby(['hour','series']).median().unstack('series')['steps'].sum().median()\n",
    "period_before"
   ]
  },
  {
   "cell_type": "code",
   "execution_count": null,
   "id": "36923e00-2a98-45a5-a8bf-e67693232602",
   "metadata": {
    "tags": []
   },
   "outputs": [],
   "source": [
    "month_list = months.keys()\n",
    "rows = []\n",
    "for month in month_list:\n",
    "    value = months[month]\n",
    "    rows.append([month, value, value - period_before])\n",
    "    \n",
    "months_diff = pd.DataFrame(rows, columns=['month', 'steps', 'diff'])"
   ]
  },
  {
   "cell_type": "code",
   "execution_count": null,
   "id": "fdbb78d9-fcef-42cc-a387-71735d34d216",
   "metadata": {},
   "outputs": [],
   "source": [
    "months_diff['cu_sum'] = months_diff['diff'].cumsum()"
   ]
  },
  {
   "cell_type": "code",
   "execution_count": null,
   "id": "d786a9f8-5c1b-4fcf-b73b-95fd435d5a6a",
   "metadata": {},
   "outputs": [],
   "source": [
    "months_diff['diff'].plot.line(markers=True, line_shape='spline', height=600)"
   ]
  },
  {
   "cell_type": "code",
   "execution_count": null,
   "id": "0f09eb08-b343-4ffa-9528-5d2e9d5bbfdd",
   "metadata": {},
   "outputs": [],
   "source": [
    "months_diff['cu_sum'].plot.line(markers=True, line_shape='spline', height=700)"
   ]
  },
  {
   "cell_type": "code",
   "execution_count": null,
   "id": "239f0227-967b-4292-9d02-df737a699ef6",
   "metadata": {
    "tags": []
   },
   "outputs": [],
   "source": [
    "covid_cases['scaled'] = covid_cases.cases / 150\n",
    "fig = px.line(x=months_diff['month'], y=months_diff['diff'])\n",
    "fig.add_bar(x=covid_cases['date'], y=covid_cases['scaled'])\n",
    "fig.show()"
   ]
  },
  {
   "cell_type": "code",
   "execution_count": null,
   "id": "d3b9494a-71d1-4bda-97f8-a2375acd390d",
   "metadata": {},
   "outputs": [],
   "source": [
    "# covid_cases['scaled'] = covid_cases.cases / 150\n",
    "fig = make_subplots(specs=[[{ \"secondary_y\": True }]])\n",
    "fig.add_trace(go.Line(x=months_diff['month'], y=months_diff['diff'], name=\"Steps\"), secondary_y=True,)\n",
    "fig.add_trace(go.Bar(x=covid_cases['date'], y=covid_cases['cases'], name=\"Covid cases\"), secondary_y=False,)\n",
    "fig.update_layout(\n",
    "    title_text=\"Covid cases vs difference in steps each month\"\n",
    ")\n",
    "fig.update_yaxes(title_text=\"Cases\", secondary_y=False, domain=[0, 1])\n",
    "fig.update_yaxes(title_text=\"Steps\", secondary_y=True, domain=[0, 0])\n",
    "\n",
    "fig.update_xaxes(\n",
    "    dtick=\"M1\",\n",
    "    tickformat=\"%b\\n%Y\")\n",
    "\n",
    "fig.show()"
   ]
  },
  {
   "cell_type": "code",
   "execution_count": null,
   "id": "2ce00354-fc97-416a-b3c9-55ebe3e39421",
   "metadata": {},
   "outputs": [],
   "source": []
  }
 ],
 "metadata": {
  "kernelspec": {
   "display_name": "Python 3 (ipykernel)",
   "language": "python",
   "name": "python3"
  },
  "language_info": {
   "codemirror_mode": {
    "name": "ipython",
    "version": 3
   },
   "file_extension": ".py",
   "mimetype": "text/x-python",
   "name": "python",
   "nbconvert_exporter": "python",
   "pygments_lexer": "ipython3",
   "version": "3.9.7"
  }
 },
 "nbformat": 4,
 "nbformat_minor": 5
}
