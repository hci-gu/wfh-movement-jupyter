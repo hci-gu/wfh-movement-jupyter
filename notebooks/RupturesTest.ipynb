{
 "cells": [
  {
   "cell_type": "code",
   "execution_count": null,
   "id": "5416d18a-c7e7-4bfb-a0bc-901c2ef8d545",
   "metadata": {},
   "outputs": [],
   "source": [
    "import pandas as pd\n",
    "import numpy as np\n",
    "import ruptures as rpt\n",
    "import plotly.io as pio\n",
    "import plotly.express as px\n",
    "from plotly.subplots import make_subplots\n",
    "import plotly.graph_objects as go\n",
    "import ipywidgets as widgets\n",
    "import matplotlib.pyplot as plt\n",
    "\n",
    "pio.templates.default = \"seaborn\"\n",
    "pd.options.plotting.backend = \"plotly\"\n",
    "\n",
    "%matplotlib inline"
   ]
  },
  {
   "cell_type": "code",
   "execution_count": null,
   "id": "8a4d7835-849c-459f-8b5d-03f2c20d86cf",
   "metadata": {},
   "outputs": [],
   "source": [
    "%store -r df"
   ]
  },
  {
   "cell_type": "code",
   "execution_count": null,
   "id": "41c752bd-3b36-4a56-b419-5d340aeb7d64",
   "metadata": {},
   "outputs": [],
   "source": [
    "series_df = df[df['series'] == 'after']\n",
    "\n",
    "(series_df.groupby(['hour'])\n",
    "   .median()['steps'].plot.line())"
   ]
  },
  {
   "cell_type": "code",
   "execution_count": null,
   "id": "4ab2a378-c40b-4e55-ac0f-7ca6688d6e1f",
   "metadata": {},
   "outputs": [],
   "source": [
    "steps_before = np.array(df[df['series'] == 'before'].groupby(['hour']).median()['steps'])\n",
    "steps_after = np.array(df[df['series'] == 'after'].groupby(['hour']).median()['steps'])\n",
    "\n",
    "signal = steps_before"
   ]
  },
  {
   "cell_type": "code",
   "execution_count": null,
   "id": "ecce6134-48a7-461d-9d24-a2512d7d06db",
   "metadata": {},
   "outputs": [],
   "source": [
    "# detection\n",
    "#cost = rpt.costs.CostL2()\n",
    "model = \"l2\"\n",
    "algo = rpt.Binseg(model=model).fit(signal)\n",
    "my_bkps = algo.predict(n_bkps=14)\n",
    "\n",
    "# display\n",
    "rpt.display(signal, my_bkps, figsize=(17, 6))\n",
    "plt.show()\n",
    "\n",
    "# df2 = fdf[fdf['series'] == 'after']\n",
    "# bkps_timestamps = df2.iloc[[0] + my_bkps[:-1] +[-1]].index\n",
    "# durations = (bkps_timestamps[1:] - bkps_timestamps[:-1])\n",
    "# durations\n"
   ]
  },
  {
   "cell_type": "code",
   "execution_count": null,
   "id": "beec9a76-a462-4092-8546-9af29fcf1d45",
   "metadata": {},
   "outputs": [],
   "source": []
  }
 ],
 "metadata": {
  "kernelspec": {
   "display_name": "Python 3 (ipykernel)",
   "language": "python",
   "name": "python3"
  },
  "language_info": {
   "codemirror_mode": {
    "name": "ipython",
    "version": 3
   },
   "file_extension": ".py",
   "mimetype": "text/x-python",
   "name": "python",
   "nbconvert_exporter": "python",
   "pygments_lexer": "ipython3",
   "version": "3.9.7"
  }
 },
 "nbformat": 4,
 "nbformat_minor": 5
}
