{
 "cells": [
  {
   "cell_type": "code",
   "execution_count": 53,
   "id": "f6425f49-e31b-47b7-bd96-450c77ec7482",
   "metadata": {},
   "outputs": [],
   "source": [
    "before_period_start = '2019-03-01'\n",
    "before_period_end = '2020-03-01'\n",
    "\n",
    "after_period_start = '2020-03-01'\n",
    "after_period_end = '2021-03-01'"
   ]
  },
  {
   "cell_type": "code",
   "execution_count": 54,
   "id": "ce2bd6b7-f3ce-4a64-a049-764efa6838e6",
   "metadata": {},
   "outputs": [],
   "source": [
    "import plotly.express as px\n",
    "\n",
    "before_color = px.colors.qualitative.D3[0]\n",
    "during_color = px.colors.qualitative.D3[1]\n",
    "black_color = '#2D2D2D'\n",
    "green_color = px.colors.qualitative.D3[2]\n",
    "red_color = px.colors.qualitative.D3[3]"
   ]
  },
  {
   "cell_type": "code",
   "execution_count": 55,
   "id": "74b808b2-b3a6-4a0f-bee2-ae841909f1fc",
   "metadata": {},
   "outputs": [],
   "source": [
    "def annotate_diff(plot, x, y, offset, title, before, after):\n",
    "    diff = before - after;\n",
    "    diff_percent = -(diff / before) * 100\n",
    "    \n",
    "    plot.add_annotation(x=x, y=y+(offset * 3), text=title, showarrow=False, font=dict(\n",
    "        color=black_color,\n",
    "        size=18,\n",
    "    ))\n",
    "    plot.add_annotation(x=x - 1, y=y+(offset * 1.5), text='{:10.0f}'.format(before), showarrow=False, font=dict(\n",
    "        color=before_color,\n",
    "        size=14,\n",
    "    ))\n",
    "    plot.add_annotation(x=x - 1, y=y+offset, text='{:10.0f}'.format(after), showarrow=False, font=dict(\n",
    "        color=during_color,\n",
    "        size=14,\n",
    "    )) \n",
    "    color = green_color if diff_percent > 0 else red_color\n",
    "    xOff = -1 if diff_percent > 0 else 0\n",
    "    plot.add_annotation(x=x + xOff, y=y + 20, text='{:10.1f}%'.format(diff_percent), showarrow=False, font=dict(\n",
    "        color=color,\n",
    "        size=16,\n",
    "    ))\n",
    "    #plot.add_annotation(x=x - 1, y=y, text='{:10.0f},'.format(diff), showarrow=False, font=dict(\n",
    "    #    color='black',\n",
    "    #    size=14,\n",
    "    #))"
   ]
  },
  {
   "cell_type": "code",
   "execution_count": 56,
   "id": "00077acf-b634-4591-a0d0-f0e7f87f7897",
   "metadata": {},
   "outputs": [],
   "source": [
    "def annotate_before_after(plot, show_after=True, y_placement=1425):\n",
    "    before_start = parser.parse(before_period_start)\n",
    "    before_end = parser.parse(before_period_end)\n",
    "    before_mid = before_start + (before_end - before_start)/2\n",
    "    \n",
    "    after_start = parser.parse(after_period_start)\n",
    "    after_end = parser.parse(after_period_end)\n",
    "    after_mid = after_start + (after_end - after_start)/2\n",
    "    \n",
    "    plot.add_vrect(x0=before_start, x1=before_end,\n",
    "                        fillcolor=\"#F4AC45\", opacity=0.2,\n",
    "                        layer=\"below\", line_width=0)\n",
    "    \n",
    "    if (show_after):\n",
    "        plot.add_vrect(x0=after_start, x1=after_end,\n",
    "                            fillcolor=\"#5470AF\", opacity=0.2,\n",
    "                            layer=\"below\", line_width=0)\n",
    "    \n",
    "    plot.add_annotation(x=before_mid, y=y_placement,\n",
    "            text=\"Before\",\n",
    "            showarrow=False)\n",
    "    if (show_after):\n",
    "        plot.add_annotation(x=after_mid, y=y_placement,\n",
    "            text=\"During\",\n",
    "            showarrow=False)"
   ]
  },
  {
   "cell_type": "code",
   "execution_count": 57,
   "id": "a50cbaf0-9227-437d-a33e-881944cf27f6",
   "metadata": {},
   "outputs": [],
   "source": [
    "def annotateHourDiff(plot, steps, hour):\n",
    "    before = steps['Before'][hour].sum()\n",
    "    after = steps['During'][hour].sum()\n",
    "    \n",
    "    plot.add_annotation(x=7.5, y=300, text='{:10.0f}'.format(after - before), showarrow=False, font=dict(\n",
    "        color=black_color,\n",
    "        size=18,\n",
    "    ))"
   ]
  },
  {
   "cell_type": "code",
   "execution_count": 58,
   "id": "a46def0b-bbe7-4a0e-a411-e699c8928d8c",
   "metadata": {},
   "outputs": [],
   "source": [
    "def annotateMonthDiffs(plot, steps_before, steps_during):\n",
    "    \n",
    "    for i in range(0, 12):\n",
    "        before = steps_before.steps.iloc[i]\n",
    "        during = steps_during.steps.iloc[i]\n",
    "        \n",
    "        diff = before - during\n",
    "        diff_percent = -(diff / before) * 100\n",
    "        # diff_percent = -diff_percent if before >= during else diff_percent\n",
    "        \n",
    "        # position the label\n",
    "        month = steps_during.month.iloc[i]\n",
    "        offset = before - diff / 2\n",
    "        \n",
    "        if abs(diff) < 100:\n",
    "            continue\n",
    "        \n",
    "        plot.add_annotation(x=month, y=offset - 275, text='{:10.0f}%'.format(diff_percent), showarrow=False, font=dict(\n",
    "            color=black_color,\n",
    "            size=16,\n",
    "        ), xanchor=\"center\", xshift=-14)"
   ]
  },
  {
   "cell_type": "code",
   "execution_count": 59,
   "id": "88fa64aa-6795-4512-9997-f5a7a9b46903",
   "metadata": {},
   "outputs": [],
   "source": [
    "def format_title(title, subtitle=None, subtitle_font_size=14):\n",
    "    title = f'<b>{title}</b>'\n",
    "    if not subtitle:\n",
    "        return title\n",
    "    subtitle = f'<span style=\"font-size: {subtitle_font_size}px;\">{subtitle}</span>'\n",
    "    return f'{title}<br>{subtitle}'"
   ]
  },
  {
   "cell_type": "code",
   "execution_count": 60,
   "id": "72fb6701-fdcc-4530-b146-9ad759b8c19a",
   "metadata": {},
   "outputs": [],
   "source": [
    "def style_plot(fig, secondary_xaxis=False):\n",
    "    fig.update_layout(height=500)\n",
    "    fig.update_layout(xaxis=dict(tickfont=dict(size=16)), xaxis_tickformat = '%b %Y')\n",
    "#    if secondary_xaxis:\n",
    "        # fig.update_layout(xaxis2=dict(tickfont=dict(size=16)), xaxis2_tickformat = '%b %Y')\n",
    "    fig.update_layout(\n",
    "        margin=dict(l=0, r=0, t=48, b=32),\n",
    "    )\n",
    "    fig.update_layout(legend=dict(\n",
    "        bgcolor=\"rgba(255,255,255, 0.0)\",\n",
    "        yanchor=\"top\",\n",
    "        y=0.99,\n",
    "        xanchor=\"right\",\n",
    "        x=0.99\n",
    "    ))\n",
    "    fig.update_layout(title_font_size=24)\n",
    "    fig.update_layout(font=dict(\n",
    "        size=14,\n",
    "        color=black_color,\n",
    "        family=\"Lato, sans-serif\"\n",
    "    ))"
   ]
  },
  {
   "cell_type": "code",
   "execution_count": null,
   "id": "f7ed6bea-5cbf-4889-afd7-66b12d07a597",
   "metadata": {},
   "outputs": [],
   "source": []
  }
 ],
 "metadata": {
  "kernelspec": {
   "display_name": "Python 3 (ipykernel)",
   "language": "python",
   "name": "python3"
  },
  "language_info": {
   "codemirror_mode": {
    "name": "ipython",
    "version": 3
   },
   "file_extension": ".py",
   "mimetype": "text/x-python",
   "name": "python",
   "nbconvert_exporter": "python",
   "pygments_lexer": "ipython3",
   "version": "3.9.12"
  }
 },
 "nbformat": 4,
 "nbformat_minor": 5
}
