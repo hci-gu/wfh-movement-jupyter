{
 "cells": [
  {
   "cell_type": "code",
   "execution_count": 5,
   "id": "ed493913-e1bf-49a1-be52-68434ad192fd",
   "metadata": {},
   "outputs": [
    {
     "data": {
      "text/html": [
       "        <script type=\"text/javascript\">\n",
       "        window.PlotlyConfig = {MathJaxConfig: 'local'};\n",
       "        if (window.MathJax) {MathJax.Hub.Config({SVG: {font: \"STIX-Web\"}});}\n",
       "        if (typeof require !== 'undefined') {\n",
       "        require.undef(\"plotly\");\n",
       "        requirejs.config({\n",
       "            paths: {\n",
       "                'plotly': ['https://cdn.plot.ly/plotly-2.11.1.min']\n",
       "            }\n",
       "        });\n",
       "        require(['plotly'], function(Plotly) {\n",
       "            window._Plotly = Plotly;\n",
       "        });\n",
       "        }\n",
       "        </script>\n",
       "        "
      ]
     },
     "metadata": {},
     "output_type": "display_data"
    },
    {
     "data": {
      "text/html": [
       "        <script type=\"text/javascript\">\n",
       "        window.PlotlyConfig = {MathJaxConfig: 'local'};\n",
       "        if (window.MathJax) {MathJax.Hub.Config({SVG: {font: \"STIX-Web\"}});}\n",
       "        if (typeof require !== 'undefined') {\n",
       "        require.undef(\"plotly\");\n",
       "        requirejs.config({\n",
       "            paths: {\n",
       "                'plotly': ['https://cdn.plot.ly/plotly-2.11.1.min']\n",
       "            }\n",
       "        });\n",
       "        require(['plotly'], function(Plotly) {\n",
       "            window._Plotly = Plotly;\n",
       "        });\n",
       "        }\n",
       "        </script>\n",
       "        "
      ]
     },
     "metadata": {},
     "output_type": "display_data"
    }
   ],
   "source": [
    "import pandas as pd\n",
    "import numpy as np\n",
    "import ruptures as rpt\n",
    "import plotly.io as pio\n",
    "import cufflinks as cf\n",
    "import plotly.express as px\n",
    "from plotly.subplots import make_subplots\n",
    "import plotly.graph_objects as go\n",
    "import ipywidgets as widgets\n",
    "import matplotlib.pyplot as plt\n",
    "\n",
    "pio.templates.default = \"seaborn\"\n",
    "pd.options.plotting.backend = \"plotly\"\n",
    "pio.templates[\"plotly\"].layout.colorway = px.colors.qualitative.Alphabet\n",
    "\n",
    "%matplotlib inline\n",
    "%run global.ipynb\n",
    "\n",
    "from plotly.offline import download_plotlyjs, init_notebook_mode, plot, iplot\n",
    "init_notebook_mode(connected=True)\n",
    "# Use Plotly locally\n",
    "cf.go_offline()"
   ]
  },
  {
   "cell_type": "code",
   "execution_count": 6,
   "id": "623184e4-9883-45ee-8472-0c25bf659d28",
   "metadata": {},
   "outputs": [],
   "source": [
    "%store -r week_df\n",
    "df = week_df"
   ]
  },
  {
   "cell_type": "code",
   "execution_count": 7,
   "id": "c65ae948-97fe-4d86-a818-e3bcb3e65697",
   "metadata": {},
   "outputs": [],
   "source": [
    "df['hour'] = [int(i) for i in df.hour]\n",
    "df.sort_values(['hour'], ascending = [True], inplace = True)"
   ]
  },
  {
   "cell_type": "code",
   "execution_count": 8,
   "id": "bbdd0bb4-95f8-4c75-9022-f0afd1086f00",
   "metadata": {
    "tags": []
   },
   "outputs": [],
   "source": [
    "def plot_weekdays(title, users):\n",
    "    steps = users.groupby(['hour','series', 'period']).median().unstack('series')['steps']\n",
    "    plot = steps.plot.line(markers=False, line_shape='spline', height=400, title=title)\n",
    "    \n",
    "    days = ['Mon', 'Tue', 'Wed', 'Thu', 'Fri', 'Sat', 'Sun']\n",
    "    for day in range(0,7):\n",
    "        start = day * 24\n",
    "        end = start + 23\n",
    "        stepsBefore = steps['Before'][start:end].sum()\n",
    "        stepsAfter = steps['During'][start:end].sum()\n",
    "        offset = start + 2\n",
    "        \n",
    "        annotate_diff(plot, offset, 600, 50, days[day], stepsBefore, stepsAfter)\n",
    "\n",
    "    return go.FigureWidget(plot)\n",
    "\n",
    "def day_type_list():\n",
    "    return [\n",
    "        {\n",
    "            'name': 'all',\n",
    "            'start': 0,\n",
    "            'end': 24 * 7,\n",
    "        },\n",
    "        {\n",
    "            'name': 'weekday',\n",
    "            'start': 0,\n",
    "            'end': 24 * 5,\n",
    "        },\n",
    "        {\n",
    "            'name': 'weekend',\n",
    "            'start': 24 * 5,\n",
    "            'end': 24 * 7,\n",
    "        }\n",
    "    ]\n",
    "\n",
    "def week_list():\n",
    "    days = ['Mon', 'Tue', 'Wed', 'Thu', 'Fri', 'Sat', 'Sun']\n",
    "    _list = []\n",
    "    for i, day in enumerate(days):\n",
    "        _list.append({\n",
    "            'start': 24 * i,\n",
    "            'end': (24 * i) + 24,\n",
    "            'name': day\n",
    "        })\n",
    "    return _list"
   ]
  },
  {
   "cell_type": "code",
   "execution_count": 50,
   "id": "b2e6e58b-b509-4c47-abda-e3bfa55360f2",
   "metadata": {},
   "outputs": [],
   "source": [
    "def show_plot(data, title):\n",
    "    steps = data.groupby(['hour','series', 'period']).median().unstack('series')['steps'].mean(axis=1).reset_index().groupby(['hour', 'period']).sum().unstack('period')[0]\n",
    "    plot = steps.plot.line(markers=False, line_shape=\"spline\", height=400, title=format_title(title), color_discrete_sequence=[before_color, during_color])\n",
    "\n",
    "    ranges = week_list()\n",
    "\n",
    "    plot.update_layout(xaxis = dict(\n",
    "        tickvals = [0, 24, 48,72,96,120,144],\n",
    "        ticktext = ['Mon', 'Tue', 'Wed', 'Thu', 'Fri', 'Sat', 'Sun']\n",
    "    ), yaxis_title=\"Steps\", xaxis_title=\"Hour of day\", legend_title=None)\n",
    "\n",
    "    diffs = []\n",
    "\n",
    "    for range in ranges:\n",
    "        start = range['start']\n",
    "        end = range['end']\n",
    "        stepsBefore = steps['Before'][start:end].sum()\n",
    "        stepsAfter = steps['During'][start:end].sum()\n",
    "        diffs.append(stepsAfter - stepsBefore)\n",
    "\n",
    "        annotate_diff(plot, start + 2, 500, 50, '', stepsBefore, stepsAfter)\n",
    "\n",
    "    style_plot(plot)\n",
    "\n",
    "    plot.show()"
   ]
  },
  {
   "cell_type": "code",
   "execution_count": 53,
   "id": "9ebcdbd5-b2ac-438c-8568-386463ca590b",
   "metadata": {
    "tags": []
   },
   "outputs": [
    {
     "data": {
      "application/vnd.plotly.v1+json": {
       "config": {
        "plotlyServerURL": "https://plot.ly"
       },
       "data": [
        {
         "hovertemplate": "period=Before<br>hour=%{x}<br>value=%{y}<extra></extra>",
         "legendgroup": "Before",
         "line": {
          "color": "#1F77B4",
          "dash": "solid",
          "shape": "spline"
         },
         "marker": {
          "symbol": "circle"
         },
         "mode": "lines",
         "name": "Before",
         "orientation": "v",
         "showlegend": true,
         "type": "scatter",
         "x": [
          0,
          1,
          2,
          3,
          4,
          5,
          6,
          7,
          8,
          9,
          10,
          11,
          12,
          13,
          14,
          15,
          16,
          17,
          18,
          19,
          20,
          21,
          22,
          23,
          24,
          25,
          26,
          27,
          28,
          29,
          30,
          31,
          32,
          33,
          34,
          35,
          36,
          37,
          38,
          39,
          40,
          41,
          42,
          43,
          44,
          45,
          46,
          47,
          48,
          49,
          50,
          51,
          52,
          53,
          54,
          55,
          56,
          57,
          58,
          59,
          60,
          61,
          62,
          63,
          64,
          65,
          66,
          67,
          68,
          69,
          70,
          71,
          72,
          73,
          74,
          75,
          76,
          77,
          78,
          79,
          80,
          81,
          82,
          83,
          84,
          85,
          86,
          87,
          88,
          89,
          90,
          91,
          92,
          93,
          94,
          95,
          96,
          97,
          98,
          99,
          100,
          101,
          102,
          103,
          104,
          105,
          106,
          107,
          108,
          109,
          110,
          111,
          112,
          113,
          114,
          115,
          116,
          117,
          118,
          119,
          120,
          121,
          122,
          123,
          124,
          125,
          126,
          127,
          128,
          129,
          130,
          131,
          132,
          133,
          134,
          135,
          136,
          137,
          138,
          139,
          140,
          141,
          142,
          143,
          144,
          145,
          146,
          147,
          148,
          149,
          150,
          151,
          152,
          153,
          154,
          155,
          156,
          157,
          158,
          159,
          160,
          161,
          162,
          163,
          164,
          165,
          166,
          167
         ],
         "xaxis": "x",
         "y": [
          0,
          0,
          0,
          0,
          0,
          0,
          15.359245965698568,
          231.95659787466423,
          337.5600833123669,
          232.0563941537025,
          214.0316240111839,
          370.6746646579075,
          483.7029586339101,
          308.80867937227674,
          299.01360329946016,
          339.25028606744104,
          465.1521683530634,
          494.3785187149256,
          347.43993977044374,
          218.55553219842287,
          135.78050486721133,
          73.66332198618956,
          30.276484349808737,
          4.650719361414166,
          0.13333333333333333,
          0,
          0,
          0,
          0,
          0,
          16.980834203461082,
          265.41117456100943,
          360.46895975823577,
          230.28786480802447,
          211.69120172556197,
          377.1390331046123,
          488.8327965821957,
          310.67224771438526,
          290.31737791452383,
          351.0357008697636,
          466.473727626927,
          493.0475371776288,
          350.6839149655591,
          228.008204398409,
          153.9008363436999,
          82.77488186860215,
          35.14036278019274,
          7.4375,
          1.0684844069611785,
          0.9166666666666666,
          0,
          0,
          0,
          0,
          15.925302287864481,
          247.67560275597035,
          351.8280193111843,
          237.0890369288071,
          211.38070968464896,
          383.0598342076776,
          493.5318785416418,
          328.1959972389906,
          307.2442254160398,
          367.5456321062755,
          477.02764859726403,
          490.333828544705,
          344.07145439218203,
          231.87839580741914,
          150.0197772230142,
          93.61435589669934,
          40.89321124087757,
          8.962479172867983,
          0.2171481250930636,
          0,
          0,
          0,
          0,
          0,
          15.496650615073378,
          234.24048882094053,
          343.54952495854985,
          231.3385403800382,
          230.54145736198134,
          378.84698536201876,
          496.68233246513256,
          334.01546606367117,
          320.99039332562626,
          378.0880518314281,
          473.5960515432848,
          488.6171857426594,
          351.06964668047704,
          240.29140876509416,
          155.64756229775318,
          95.37917045088058,
          44.64300332859744,
          9.429372690578466,
          0.2417522563435622,
          0,
          0,
          0,
          0,
          0,
          12.957518358658888,
          213.61116946393986,
          312.4809690225981,
          230.74170326111667,
          248.6161879134581,
          407.49136583331875,
          508.0059585647804,
          377.10500046942144,
          380.98576344291223,
          448.58890482528,
          508.3998776752349,
          464.668578710811,
          336.46286275813844,
          208.37585493057705,
          142.4511938424045,
          100.64006108917681,
          72.9397778138963,
          31.927873212797977,
          6.404912186979408,
          0,
          0,
          0,
          0,
          0,
          0,
          3.9417087919571863,
          38.104157288305565,
          138.08583581523055,
          274.383486711829,
          421.82634810373594,
          494.04085756921376,
          516.0486340957366,
          500.0257541355748,
          462.9932388613303,
          397.2201462713329,
          343.55238553570666,
          259.221034963435,
          180.93514646144243,
          122.912484417611,
          93.09836106438439,
          67.59566428063773,
          37.55368106006696,
          11.663533176465805,
          0.19187945190504305,
          0,
          0,
          0,
          0,
          0,
          1.5473433777566143,
          21.591815964147973,
          96.99372666411561,
          219.27633824628597,
          360.0324241482556,
          425.4084435334207,
          438.6494803977411,
          434.1488064681171,
          400.54621774827325,
          347.0895001928475,
          283.9646377729947,
          208.51677977434636,
          154.25388686152647,
          98.25352872066719,
          57.771239485356226,
          27.064078727117458,
          5.8262413959000945
         ],
         "yaxis": "y"
        },
        {
         "hovertemplate": "period=During<br>hour=%{x}<br>value=%{y}<extra></extra>",
         "legendgroup": "During",
         "line": {
          "color": "#FF7F0E",
          "dash": "solid",
          "shape": "spline"
         },
         "marker": {
          "symbol": "circle"
         },
         "mode": "lines",
         "name": "During",
         "orientation": "v",
         "showlegend": true,
         "type": "scatter",
         "x": [
          0,
          1,
          2,
          3,
          4,
          5,
          6,
          7,
          8,
          9,
          10,
          11,
          12,
          13,
          14,
          15,
          16,
          17,
          18,
          19,
          20,
          21,
          22,
          23,
          24,
          25,
          26,
          27,
          28,
          29,
          30,
          31,
          32,
          33,
          34,
          35,
          36,
          37,
          38,
          39,
          40,
          41,
          42,
          43,
          44,
          45,
          46,
          47,
          48,
          49,
          50,
          51,
          52,
          53,
          54,
          55,
          56,
          57,
          58,
          59,
          60,
          61,
          62,
          63,
          64,
          65,
          66,
          67,
          68,
          69,
          70,
          71,
          72,
          73,
          74,
          75,
          76,
          77,
          78,
          79,
          80,
          81,
          82,
          83,
          84,
          85,
          86,
          87,
          88,
          89,
          90,
          91,
          92,
          93,
          94,
          95,
          96,
          97,
          98,
          99,
          100,
          101,
          102,
          103,
          104,
          105,
          106,
          107,
          108,
          109,
          110,
          111,
          112,
          113,
          114,
          115,
          116,
          117,
          118,
          119,
          120,
          121,
          122,
          123,
          124,
          125,
          126,
          127,
          128,
          129,
          130,
          131,
          132,
          133,
          134,
          135,
          136,
          137,
          138,
          139,
          140,
          141,
          142,
          143,
          144,
          145,
          146,
          147,
          148,
          149,
          150,
          151,
          152,
          153,
          154,
          155,
          156,
          157,
          158,
          159,
          160,
          161,
          162,
          163,
          164,
          165,
          166,
          167
         ],
         "xaxis": "x",
         "y": [
          0,
          0,
          0,
          0,
          0,
          0,
          3.7036491093136603,
          88.41420813850067,
          151.7064431860825,
          116.75537898186512,
          145.25284920016216,
          268.480036837956,
          427.6122814553139,
          271.7710932462371,
          247.50901967379673,
          285.2330732461936,
          368.21384041905156,
          405.0277372121579,
          315.9476535458074,
          202.00163277536774,
          116.5378383756775,
          60.91486307962646,
          27.088568136128202,
          5.708333333333333,
          0,
          0,
          0,
          0,
          0,
          0,
          4.023505529638034,
          97.52718198338954,
          156.32092804481292,
          116.85955436839235,
          147.27891830249754,
          285.8062281763642,
          436.7266083668506,
          265.14458268725826,
          237.7619469594334,
          280.2349774287363,
          372.7415999404537,
          409.60425961800587,
          316.9277332428497,
          199.83859370120464,
          114.78427818919408,
          58.25546263295829,
          29.04986654362165,
          6.364451544223425,
          0.19999999999999998,
          0,
          0,
          0,
          0,
          0,
          3.814031337021016,
          90.5737075360679,
          155.96156824371738,
          120.42742959376172,
          150.87392738018178,
          285.6163287997062,
          432.5599415802526,
          280.38030654049817,
          253.8585588835233,
          292.58591158236845,
          379.206620023534,
          410.09062557917423,
          330.0016629415097,
          208.22313147264154,
          118.98660957629708,
          66.1735963159857,
          31.291804394602565,
          7.596910479276002,
          0.4166666666666667,
          0,
          0,
          0,
          0,
          0,
          3.36875,
          87.85472812964468,
          153.37378509250212,
          128.7647351724099,
          164.2858661815199,
          301.0106421195506,
          454.4577545017048,
          302.8016773322602,
          269.4607611474846,
          306.13347278733266,
          376.4741299481684,
          391.3823193715728,
          312.0938010159992,
          203.77553733979994,
          121.48123582857518,
          69.2583876784222,
          34.58177552510336,
          11.000450417994571,
          2.6166666666666667,
          0.4666666666666666,
          0,
          0,
          0,
          0,
          2.529166666666667,
          72.08934990164344,
          135.92839094604395,
          127.40402964678674,
          180.2442834172542,
          316.12741581445107,
          465.95163448050903,
          355.5576563971049,
          328.26889871255065,
          372.93763574766655,
          420.52404393746383,
          389.4476450605512,
          276.37337501831047,
          172.08105915873725,
          99.35104827905816,
          64.86049292052978,
          44.70361321802559,
          21.49576551998469,
          4.317654947334709,
          0,
          0,
          0,
          0,
          0,
          0,
          1.2249999999999999,
          25.202568649203727,
          112.83005230907702,
          271.7835490839152,
          467.3984854375191,
          546.2884406854474,
          580.3945842061452,
          574.5069199991814,
          483.22419045409225,
          389.0044302185625,
          300.4691421180991,
          217.67348605441222,
          145.02374477602635,
          90.74553576910803,
          59.76615503232831,
          41.155575820644216,
          23.0860027249005,
          5.908235236061533,
          0,
          0,
          0,
          0,
          0,
          0,
          0.35000000000000003,
          16.608932275341644,
          83.95805697954567,
          225.67854639358652,
          401.10701425395956,
          500.89809860151576,
          525.806724235961,
          510.8619189945273,
          444.7865909409733,
          360.49551645083767,
          274.43029446373106,
          194.0485027654306,
          135.9226041585304,
          83.82337247949174,
          48.36972732614108,
          25.366774184442974,
          6.025000000000001
         ],
         "yaxis": "y"
        }
       ],
       "layout": {
        "annotations": [
         {
          "align": "left",
          "bgcolor": "white",
          "bordercolor": "#2D2D2D",
          "borderpad": 5,
          "borderwidth": 1,
          "height": 45,
          "showarrow": false,
          "text": "",
          "width": 60,
          "x": 3,
          "y": 544
         },
         {
          "font": {
           "color": "#2D2D2D",
           "size": 18
          },
          "showarrow": false,
          "text": "",
          "x": 2,
          "y": 650
         },
         {
          "font": {
           "color": "#1F77B4",
           "size": 16
          },
          "showarrow": false,
          "text": "      4602",
          "x": 1,
          "y": 575
         },
         {
          "font": {
           "color": "#FF7F0E",
           "size": 16
          },
          "showarrow": false,
          "text": "      3508",
          "x": 1,
          "y": 550
         },
         {
          "font": {
           "color": "#D62728",
           "size": 16
          },
          "showarrow": false,
          "text": "     -23.8%",
          "x": 2,
          "y": 520
         },
         {
          "align": "left",
          "bgcolor": "white",
          "bordercolor": "#2D2D2D",
          "borderpad": 5,
          "borderwidth": 1,
          "height": 45,
          "showarrow": false,
          "text": "",
          "width": 60,
          "x": 27,
          "y": 544
         },
         {
          "font": {
           "color": "#2D2D2D",
           "size": 18
          },
          "showarrow": false,
          "text": "",
          "x": 26,
          "y": 650
         },
         {
          "font": {
           "color": "#1F77B4",
           "size": 16
          },
          "showarrow": false,
          "text": "      4720",
          "x": 25,
          "y": 575
         },
         {
          "font": {
           "color": "#FF7F0E",
           "size": 16
          },
          "showarrow": false,
          "text": "      3535",
          "x": 25,
          "y": 550
         },
         {
          "font": {
           "color": "#D62728",
           "size": 16
          },
          "showarrow": false,
          "text": "     -25.1%",
          "x": 26,
          "y": 520
         },
         {
          "align": "left",
          "bgcolor": "white",
          "bordercolor": "#2D2D2D",
          "borderpad": 5,
          "borderwidth": 1,
          "height": 45,
          "showarrow": false,
          "text": "",
          "width": 60,
          "x": 51,
          "y": 544
         },
         {
          "font": {
           "color": "#2D2D2D",
           "size": 18
          },
          "showarrow": false,
          "text": "",
          "x": 50,
          "y": 650
         },
         {
          "font": {
           "color": "#1F77B4",
           "size": 16
          },
          "showarrow": false,
          "text": "      4782",
          "x": 49,
          "y": 575
         },
         {
          "font": {
           "color": "#FF7F0E",
           "size": 16
          },
          "showarrow": false,
          "text": "      3618",
          "x": 49,
          "y": 550
         },
         {
          "font": {
           "color": "#D62728",
           "size": 16
          },
          "showarrow": false,
          "text": "     -24.3%",
          "x": 50,
          "y": 520
         },
         {
          "align": "left",
          "bgcolor": "white",
          "bordercolor": "#2D2D2D",
          "borderpad": 5,
          "borderwidth": 1,
          "height": 45,
          "showarrow": false,
          "text": "",
          "width": 60,
          "x": 75,
          "y": 544
         },
         {
          "font": {
           "color": "#2D2D2D",
           "size": 18
          },
          "showarrow": false,
          "text": "",
          "x": 74,
          "y": 650
         },
         {
          "font": {
           "color": "#1F77B4",
           "size": 16
          },
          "showarrow": false,
          "text": "      4823",
          "x": 73,
          "y": 575
         },
         {
          "font": {
           "color": "#FF7F0E",
           "size": 16
          },
          "showarrow": false,
          "text": "      3692",
          "x": 73,
          "y": 550
         },
         {
          "font": {
           "color": "#D62728",
           "size": 16
          },
          "showarrow": false,
          "text": "     -23.4%",
          "x": 74,
          "y": 520
         },
         {
          "align": "left",
          "bgcolor": "white",
          "bordercolor": "#2D2D2D",
          "borderpad": 5,
          "borderwidth": 1,
          "height": 45,
          "showarrow": false,
          "text": "",
          "width": 60,
          "x": 99,
          "y": 544
         },
         {
          "font": {
           "color": "#2D2D2D",
           "size": 18
          },
          "showarrow": false,
          "text": "",
          "x": 98,
          "y": 650
         },
         {
          "font": {
           "color": "#1F77B4",
           "size": 16
          },
          "showarrow": false,
          "text": "      5007",
          "x": 97,
          "y": 575
         },
         {
          "font": {
           "color": "#FF7F0E",
           "size": 16
          },
          "showarrow": false,
          "text": "      3849",
          "x": 97,
          "y": 550
         },
         {
          "font": {
           "color": "#D62728",
           "size": 16
          },
          "showarrow": false,
          "text": "     -23.1%",
          "x": 98,
          "y": 520
         },
         {
          "align": "left",
          "bgcolor": "white",
          "bordercolor": "#2D2D2D",
          "borderpad": 5,
          "borderwidth": 1,
          "height": 45,
          "showarrow": false,
          "text": "",
          "width": 60,
          "x": 123,
          "y": 544
         },
         {
          "font": {
           "color": "#2D2D2D",
           "size": 18
          },
          "showarrow": false,
          "text": "",
          "x": 122,
          "y": 650
         },
         {
          "font": {
           "color": "#1F77B4",
           "size": 16
          },
          "showarrow": false,
          "text": "      4358",
          "x": 121,
          "y": 575
         },
         {
          "font": {
           "color": "#FF7F0E",
           "size": 16
          },
          "showarrow": false,
          "text": "      4334",
          "x": 121,
          "y": 550
         },
         {
          "font": {
           "color": "#D62728",
           "size": 16
          },
          "showarrow": false,
          "text": "      -0.5%",
          "x": 122,
          "y": 520
         },
         {
          "align": "left",
          "bgcolor": "white",
          "bordercolor": "#2D2D2D",
          "borderpad": 5,
          "borderwidth": 1,
          "height": 45,
          "showarrow": false,
          "text": "",
          "width": 60,
          "x": 147,
          "y": 544
         },
         {
          "font": {
           "color": "#2D2D2D",
           "size": 18
          },
          "showarrow": false,
          "text": "",
          "x": 146,
          "y": 650
         },
         {
          "font": {
           "color": "#1F77B4",
           "size": 16
          },
          "showarrow": false,
          "text": "      3593",
          "x": 145,
          "y": 575
         },
         {
          "font": {
           "color": "#FF7F0E",
           "size": 16
          },
          "showarrow": false,
          "text": "      3844",
          "x": 145,
          "y": 550
         },
         {
          "font": {
           "color": "#2CA02C",
           "size": 16
          },
          "showarrow": false,
          "text": "       7.0%",
          "x": 145,
          "y": 520
         }
        ],
        "autosize": true,
        "font": {
         "color": "#2D2D2D",
         "family": "Lato, sans-serif",
         "size": 18
        },
        "legend": {
         "bgcolor": "rgba(255,255,255, 0.0)",
         "title": {},
         "tracegroupgap": 0,
         "x": 0.99,
         "xanchor": "right",
         "y": 0.99,
         "yanchor": "top"
        },
        "margin": {
         "b": 32,
         "l": 0,
         "r": 0,
         "t": 48
        },
        "template": {
         "data": {
          "bar": [
           {
            "error_x": {
             "color": "rgb(36,36,36)"
            },
            "error_y": {
             "color": "rgb(36,36,36)"
            },
            "marker": {
             "line": {
              "color": "rgb(234,234,242)",
              "width": 0.5
             },
             "pattern": {
              "fillmode": "overlay",
              "size": 10,
              "solidity": 0.2
             }
            },
            "type": "bar"
           }
          ],
          "barpolar": [
           {
            "marker": {
             "line": {
              "color": "rgb(234,234,242)",
              "width": 0.5
             },
             "pattern": {
              "fillmode": "overlay",
              "size": 10,
              "solidity": 0.2
             }
            },
            "type": "barpolar"
           }
          ],
          "carpet": [
           {
            "aaxis": {
             "endlinecolor": "rgb(36,36,36)",
             "gridcolor": "white",
             "linecolor": "white",
             "minorgridcolor": "white",
             "startlinecolor": "rgb(36,36,36)"
            },
            "baxis": {
             "endlinecolor": "rgb(36,36,36)",
             "gridcolor": "white",
             "linecolor": "white",
             "minorgridcolor": "white",
             "startlinecolor": "rgb(36,36,36)"
            },
            "type": "carpet"
           }
          ],
          "choropleth": [
           {
            "colorbar": {
             "outlinewidth": 0,
             "tickcolor": "rgb(36,36,36)",
             "ticklen": 8,
             "ticks": "outside",
             "tickwidth": 2
            },
            "type": "choropleth"
           }
          ],
          "contour": [
           {
            "colorbar": {
             "outlinewidth": 0,
             "tickcolor": "rgb(36,36,36)",
             "ticklen": 8,
             "ticks": "outside",
             "tickwidth": 2
            },
            "colorscale": [
             [
              0,
              "rgb(2,4,25)"
             ],
             [
              0.06274509803921569,
              "rgb(24,15,41)"
             ],
             [
              0.12549019607843137,
              "rgb(47,23,57)"
             ],
             [
              0.18823529411764706,
              "rgb(71,28,72)"
             ],
             [
              0.25098039215686274,
              "rgb(97,30,82)"
             ],
             [
              0.3137254901960784,
              "rgb(123,30,89)"
             ],
             [
              0.3764705882352941,
              "rgb(150,27,91)"
             ],
             [
              0.4392156862745098,
              "rgb(177,22,88)"
             ],
             [
              0.5019607843137255,
              "rgb(203,26,79)"
             ],
             [
              0.5647058823529412,
              "rgb(223,47,67)"
             ],
             [
              0.6274509803921569,
              "rgb(236,76,61)"
             ],
             [
              0.6901960784313725,
              "rgb(242,107,73)"
             ],
             [
              0.7529411764705882,
              "rgb(244,135,95)"
             ],
             [
              0.8156862745098039,
              "rgb(245,162,122)"
             ],
             [
              0.8784313725490196,
              "rgb(246,188,153)"
             ],
             [
              0.9411764705882353,
              "rgb(247,212,187)"
             ],
             [
              1,
              "rgb(250,234,220)"
             ]
            ],
            "type": "contour"
           }
          ],
          "contourcarpet": [
           {
            "colorbar": {
             "outlinewidth": 0,
             "tickcolor": "rgb(36,36,36)",
             "ticklen": 8,
             "ticks": "outside",
             "tickwidth": 2
            },
            "type": "contourcarpet"
           }
          ],
          "heatmap": [
           {
            "colorbar": {
             "outlinewidth": 0,
             "tickcolor": "rgb(36,36,36)",
             "ticklen": 8,
             "ticks": "outside",
             "tickwidth": 2
            },
            "colorscale": [
             [
              0,
              "rgb(2,4,25)"
             ],
             [
              0.06274509803921569,
              "rgb(24,15,41)"
             ],
             [
              0.12549019607843137,
              "rgb(47,23,57)"
             ],
             [
              0.18823529411764706,
              "rgb(71,28,72)"
             ],
             [
              0.25098039215686274,
              "rgb(97,30,82)"
             ],
             [
              0.3137254901960784,
              "rgb(123,30,89)"
             ],
             [
              0.3764705882352941,
              "rgb(150,27,91)"
             ],
             [
              0.4392156862745098,
              "rgb(177,22,88)"
             ],
             [
              0.5019607843137255,
              "rgb(203,26,79)"
             ],
             [
              0.5647058823529412,
              "rgb(223,47,67)"
             ],
             [
              0.6274509803921569,
              "rgb(236,76,61)"
             ],
             [
              0.6901960784313725,
              "rgb(242,107,73)"
             ],
             [
              0.7529411764705882,
              "rgb(244,135,95)"
             ],
             [
              0.8156862745098039,
              "rgb(245,162,122)"
             ],
             [
              0.8784313725490196,
              "rgb(246,188,153)"
             ],
             [
              0.9411764705882353,
              "rgb(247,212,187)"
             ],
             [
              1,
              "rgb(250,234,220)"
             ]
            ],
            "type": "heatmap"
           }
          ],
          "heatmapgl": [
           {
            "colorbar": {
             "outlinewidth": 0,
             "tickcolor": "rgb(36,36,36)",
             "ticklen": 8,
             "ticks": "outside",
             "tickwidth": 2
            },
            "colorscale": [
             [
              0,
              "rgb(2,4,25)"
             ],
             [
              0.06274509803921569,
              "rgb(24,15,41)"
             ],
             [
              0.12549019607843137,
              "rgb(47,23,57)"
             ],
             [
              0.18823529411764706,
              "rgb(71,28,72)"
             ],
             [
              0.25098039215686274,
              "rgb(97,30,82)"
             ],
             [
              0.3137254901960784,
              "rgb(123,30,89)"
             ],
             [
              0.3764705882352941,
              "rgb(150,27,91)"
             ],
             [
              0.4392156862745098,
              "rgb(177,22,88)"
             ],
             [
              0.5019607843137255,
              "rgb(203,26,79)"
             ],
             [
              0.5647058823529412,
              "rgb(223,47,67)"
             ],
             [
              0.6274509803921569,
              "rgb(236,76,61)"
             ],
             [
              0.6901960784313725,
              "rgb(242,107,73)"
             ],
             [
              0.7529411764705882,
              "rgb(244,135,95)"
             ],
             [
              0.8156862745098039,
              "rgb(245,162,122)"
             ],
             [
              0.8784313725490196,
              "rgb(246,188,153)"
             ],
             [
              0.9411764705882353,
              "rgb(247,212,187)"
             ],
             [
              1,
              "rgb(250,234,220)"
             ]
            ],
            "type": "heatmapgl"
           }
          ],
          "histogram": [
           {
            "marker": {
             "pattern": {
              "fillmode": "overlay",
              "size": 10,
              "solidity": 0.2
             }
            },
            "type": "histogram"
           }
          ],
          "histogram2d": [
           {
            "colorbar": {
             "outlinewidth": 0,
             "tickcolor": "rgb(36,36,36)",
             "ticklen": 8,
             "ticks": "outside",
             "tickwidth": 2
            },
            "colorscale": [
             [
              0,
              "rgb(2,4,25)"
             ],
             [
              0.06274509803921569,
              "rgb(24,15,41)"
             ],
             [
              0.12549019607843137,
              "rgb(47,23,57)"
             ],
             [
              0.18823529411764706,
              "rgb(71,28,72)"
             ],
             [
              0.25098039215686274,
              "rgb(97,30,82)"
             ],
             [
              0.3137254901960784,
              "rgb(123,30,89)"
             ],
             [
              0.3764705882352941,
              "rgb(150,27,91)"
             ],
             [
              0.4392156862745098,
              "rgb(177,22,88)"
             ],
             [
              0.5019607843137255,
              "rgb(203,26,79)"
             ],
             [
              0.5647058823529412,
              "rgb(223,47,67)"
             ],
             [
              0.6274509803921569,
              "rgb(236,76,61)"
             ],
             [
              0.6901960784313725,
              "rgb(242,107,73)"
             ],
             [
              0.7529411764705882,
              "rgb(244,135,95)"
             ],
             [
              0.8156862745098039,
              "rgb(245,162,122)"
             ],
             [
              0.8784313725490196,
              "rgb(246,188,153)"
             ],
             [
              0.9411764705882353,
              "rgb(247,212,187)"
             ],
             [
              1,
              "rgb(250,234,220)"
             ]
            ],
            "type": "histogram2d"
           }
          ],
          "histogram2dcontour": [
           {
            "colorbar": {
             "outlinewidth": 0,
             "tickcolor": "rgb(36,36,36)",
             "ticklen": 8,
             "ticks": "outside",
             "tickwidth": 2
            },
            "colorscale": [
             [
              0,
              "rgb(2,4,25)"
             ],
             [
              0.06274509803921569,
              "rgb(24,15,41)"
             ],
             [
              0.12549019607843137,
              "rgb(47,23,57)"
             ],
             [
              0.18823529411764706,
              "rgb(71,28,72)"
             ],
             [
              0.25098039215686274,
              "rgb(97,30,82)"
             ],
             [
              0.3137254901960784,
              "rgb(123,30,89)"
             ],
             [
              0.3764705882352941,
              "rgb(150,27,91)"
             ],
             [
              0.4392156862745098,
              "rgb(177,22,88)"
             ],
             [
              0.5019607843137255,
              "rgb(203,26,79)"
             ],
             [
              0.5647058823529412,
              "rgb(223,47,67)"
             ],
             [
              0.6274509803921569,
              "rgb(236,76,61)"
             ],
             [
              0.6901960784313725,
              "rgb(242,107,73)"
             ],
             [
              0.7529411764705882,
              "rgb(244,135,95)"
             ],
             [
              0.8156862745098039,
              "rgb(245,162,122)"
             ],
             [
              0.8784313725490196,
              "rgb(246,188,153)"
             ],
             [
              0.9411764705882353,
              "rgb(247,212,187)"
             ],
             [
              1,
              "rgb(250,234,220)"
             ]
            ],
            "type": "histogram2dcontour"
           }
          ],
          "mesh3d": [
           {
            "colorbar": {
             "outlinewidth": 0,
             "tickcolor": "rgb(36,36,36)",
             "ticklen": 8,
             "ticks": "outside",
             "tickwidth": 2
            },
            "type": "mesh3d"
           }
          ],
          "parcoords": [
           {
            "line": {
             "colorbar": {
              "outlinewidth": 0,
              "tickcolor": "rgb(36,36,36)",
              "ticklen": 8,
              "ticks": "outside",
              "tickwidth": 2
             }
            },
            "type": "parcoords"
           }
          ],
          "pie": [
           {
            "automargin": true,
            "type": "pie"
           }
          ],
          "scatter": [
           {
            "fillpattern": {
             "fillmode": "overlay",
             "size": 10,
             "solidity": 0.2
            },
            "type": "scatter"
           }
          ],
          "scatter3d": [
           {
            "line": {
             "colorbar": {
              "outlinewidth": 0,
              "tickcolor": "rgb(36,36,36)",
              "ticklen": 8,
              "ticks": "outside",
              "tickwidth": 2
             }
            },
            "marker": {
             "colorbar": {
              "outlinewidth": 0,
              "tickcolor": "rgb(36,36,36)",
              "ticklen": 8,
              "ticks": "outside",
              "tickwidth": 2
             }
            },
            "type": "scatter3d"
           }
          ],
          "scattercarpet": [
           {
            "marker": {
             "colorbar": {
              "outlinewidth": 0,
              "tickcolor": "rgb(36,36,36)",
              "ticklen": 8,
              "ticks": "outside",
              "tickwidth": 2
             }
            },
            "type": "scattercarpet"
           }
          ],
          "scattergeo": [
           {
            "marker": {
             "colorbar": {
              "outlinewidth": 0,
              "tickcolor": "rgb(36,36,36)",
              "ticklen": 8,
              "ticks": "outside",
              "tickwidth": 2
             }
            },
            "type": "scattergeo"
           }
          ],
          "scattergl": [
           {
            "marker": {
             "colorbar": {
              "outlinewidth": 0,
              "tickcolor": "rgb(36,36,36)",
              "ticklen": 8,
              "ticks": "outside",
              "tickwidth": 2
             }
            },
            "type": "scattergl"
           }
          ],
          "scattermapbox": [
           {
            "marker": {
             "colorbar": {
              "outlinewidth": 0,
              "tickcolor": "rgb(36,36,36)",
              "ticklen": 8,
              "ticks": "outside",
              "tickwidth": 2
             }
            },
            "type": "scattermapbox"
           }
          ],
          "scatterpolar": [
           {
            "marker": {
             "colorbar": {
              "outlinewidth": 0,
              "tickcolor": "rgb(36,36,36)",
              "ticklen": 8,
              "ticks": "outside",
              "tickwidth": 2
             }
            },
            "type": "scatterpolar"
           }
          ],
          "scatterpolargl": [
           {
            "marker": {
             "colorbar": {
              "outlinewidth": 0,
              "tickcolor": "rgb(36,36,36)",
              "ticklen": 8,
              "ticks": "outside",
              "tickwidth": 2
             }
            },
            "type": "scatterpolargl"
           }
          ],
          "scatterternary": [
           {
            "marker": {
             "colorbar": {
              "outlinewidth": 0,
              "tickcolor": "rgb(36,36,36)",
              "ticklen": 8,
              "ticks": "outside",
              "tickwidth": 2
             }
            },
            "type": "scatterternary"
           }
          ],
          "surface": [
           {
            "colorbar": {
             "outlinewidth": 0,
             "tickcolor": "rgb(36,36,36)",
             "ticklen": 8,
             "ticks": "outside",
             "tickwidth": 2
            },
            "colorscale": [
             [
              0,
              "rgb(2,4,25)"
             ],
             [
              0.06274509803921569,
              "rgb(24,15,41)"
             ],
             [
              0.12549019607843137,
              "rgb(47,23,57)"
             ],
             [
              0.18823529411764706,
              "rgb(71,28,72)"
             ],
             [
              0.25098039215686274,
              "rgb(97,30,82)"
             ],
             [
              0.3137254901960784,
              "rgb(123,30,89)"
             ],
             [
              0.3764705882352941,
              "rgb(150,27,91)"
             ],
             [
              0.4392156862745098,
              "rgb(177,22,88)"
             ],
             [
              0.5019607843137255,
              "rgb(203,26,79)"
             ],
             [
              0.5647058823529412,
              "rgb(223,47,67)"
             ],
             [
              0.6274509803921569,
              "rgb(236,76,61)"
             ],
             [
              0.6901960784313725,
              "rgb(242,107,73)"
             ],
             [
              0.7529411764705882,
              "rgb(244,135,95)"
             ],
             [
              0.8156862745098039,
              "rgb(245,162,122)"
             ],
             [
              0.8784313725490196,
              "rgb(246,188,153)"
             ],
             [
              0.9411764705882353,
              "rgb(247,212,187)"
             ],
             [
              1,
              "rgb(250,234,220)"
             ]
            ],
            "type": "surface"
           }
          ],
          "table": [
           {
            "cells": {
             "fill": {
              "color": "rgb(231,231,240)"
             },
             "line": {
              "color": "white"
             }
            },
            "header": {
             "fill": {
              "color": "rgb(183,183,191)"
             },
             "line": {
              "color": "white"
             }
            },
            "type": "table"
           }
          ]
         },
         "layout": {
          "annotationdefaults": {
           "arrowcolor": "rgb(67,103,167)"
          },
          "autotypenumbers": "strict",
          "coloraxis": {
           "colorbar": {
            "outlinewidth": 0,
            "tickcolor": "rgb(36,36,36)",
            "ticklen": 8,
            "ticks": "outside",
            "tickwidth": 2
           }
          },
          "colorscale": {
           "sequential": [
            [
             0,
             "rgb(2,4,25)"
            ],
            [
             0.06274509803921569,
             "rgb(24,15,41)"
            ],
            [
             0.12549019607843137,
             "rgb(47,23,57)"
            ],
            [
             0.18823529411764706,
             "rgb(71,28,72)"
            ],
            [
             0.25098039215686274,
             "rgb(97,30,82)"
            ],
            [
             0.3137254901960784,
             "rgb(123,30,89)"
            ],
            [
             0.3764705882352941,
             "rgb(150,27,91)"
            ],
            [
             0.4392156862745098,
             "rgb(177,22,88)"
            ],
            [
             0.5019607843137255,
             "rgb(203,26,79)"
            ],
            [
             0.5647058823529412,
             "rgb(223,47,67)"
            ],
            [
             0.6274509803921569,
             "rgb(236,76,61)"
            ],
            [
             0.6901960784313725,
             "rgb(242,107,73)"
            ],
            [
             0.7529411764705882,
             "rgb(244,135,95)"
            ],
            [
             0.8156862745098039,
             "rgb(245,162,122)"
            ],
            [
             0.8784313725490196,
             "rgb(246,188,153)"
            ],
            [
             0.9411764705882353,
             "rgb(247,212,187)"
            ],
            [
             1,
             "rgb(250,234,220)"
            ]
           ],
           "sequentialminus": [
            [
             0,
             "rgb(2,4,25)"
            ],
            [
             0.06274509803921569,
             "rgb(24,15,41)"
            ],
            [
             0.12549019607843137,
             "rgb(47,23,57)"
            ],
            [
             0.18823529411764706,
             "rgb(71,28,72)"
            ],
            [
             0.25098039215686274,
             "rgb(97,30,82)"
            ],
            [
             0.3137254901960784,
             "rgb(123,30,89)"
            ],
            [
             0.3764705882352941,
             "rgb(150,27,91)"
            ],
            [
             0.4392156862745098,
             "rgb(177,22,88)"
            ],
            [
             0.5019607843137255,
             "rgb(203,26,79)"
            ],
            [
             0.5647058823529412,
             "rgb(223,47,67)"
            ],
            [
             0.6274509803921569,
             "rgb(236,76,61)"
            ],
            [
             0.6901960784313725,
             "rgb(242,107,73)"
            ],
            [
             0.7529411764705882,
             "rgb(244,135,95)"
            ],
            [
             0.8156862745098039,
             "rgb(245,162,122)"
            ],
            [
             0.8784313725490196,
             "rgb(246,188,153)"
            ],
            [
             0.9411764705882353,
             "rgb(247,212,187)"
            ],
            [
             1,
             "rgb(250,234,220)"
            ]
           ]
          },
          "colorway": [
           "rgb(76,114,176)",
           "rgb(221,132,82)",
           "rgb(85,168,104)",
           "rgb(196,78,82)",
           "rgb(129,114,179)",
           "rgb(147,120,96)",
           "rgb(218,139,195)",
           "rgb(140,140,140)",
           "rgb(204,185,116)",
           "rgb(100,181,205)"
          ],
          "font": {
           "color": "rgb(36,36,36)"
          },
          "geo": {
           "bgcolor": "white",
           "lakecolor": "white",
           "landcolor": "rgb(234,234,242)",
           "showlakes": true,
           "showland": true,
           "subunitcolor": "white"
          },
          "hoverlabel": {
           "align": "left"
          },
          "hovermode": "closest",
          "paper_bgcolor": "white",
          "plot_bgcolor": "rgb(234,234,242)",
          "polar": {
           "angularaxis": {
            "gridcolor": "white",
            "linecolor": "white",
            "showgrid": true,
            "ticks": ""
           },
           "bgcolor": "rgb(234,234,242)",
           "radialaxis": {
            "gridcolor": "white",
            "linecolor": "white",
            "showgrid": true,
            "ticks": ""
           }
          },
          "scene": {
           "xaxis": {
            "backgroundcolor": "rgb(234,234,242)",
            "gridcolor": "white",
            "gridwidth": 2,
            "linecolor": "white",
            "showbackground": true,
            "showgrid": true,
            "ticks": "",
            "zerolinecolor": "white"
           },
           "yaxis": {
            "backgroundcolor": "rgb(234,234,242)",
            "gridcolor": "white",
            "gridwidth": 2,
            "linecolor": "white",
            "showbackground": true,
            "showgrid": true,
            "ticks": "",
            "zerolinecolor": "white"
           },
           "zaxis": {
            "backgroundcolor": "rgb(234,234,242)",
            "gridcolor": "white",
            "gridwidth": 2,
            "linecolor": "white",
            "showbackground": true,
            "showgrid": true,
            "ticks": "",
            "zerolinecolor": "white"
           }
          },
          "shapedefaults": {
           "fillcolor": "rgb(67,103,167)",
           "line": {
            "width": 0
           },
           "opacity": 0.5
          },
          "ternary": {
           "aaxis": {
            "gridcolor": "white",
            "linecolor": "white",
            "showgrid": true,
            "ticks": ""
           },
           "baxis": {
            "gridcolor": "white",
            "linecolor": "white",
            "showgrid": true,
            "ticks": ""
           },
           "bgcolor": "rgb(234,234,242)",
           "caxis": {
            "gridcolor": "white",
            "linecolor": "white",
            "showgrid": true,
            "ticks": ""
           }
          },
          "xaxis": {
           "automargin": true,
           "gridcolor": "white",
           "linecolor": "white",
           "showgrid": true,
           "ticks": "",
           "title": {
            "standoff": 15
           },
           "zerolinecolor": "white"
          },
          "yaxis": {
           "automargin": true,
           "gridcolor": "white",
           "linecolor": "white",
           "showgrid": true,
           "ticks": "",
           "title": {
            "standoff": 15
           },
           "zerolinecolor": "white"
          }
         }
        },
        "title": {
         "font": {
          "size": 24
         },
         "text": "<b>All</b>"
        },
        "xaxis": {
         "anchor": "y",
         "autorange": true,
         "domain": [
          0,
          1
         ],
         "range": [
          -1.8427607680332123,
          167
         ],
         "tickfont": {
          "size": 18
         },
         "tickformat": "%b %Y",
         "ticktext": [
          "Mon",
          "Tue",
          "Wed",
          "Thu",
          "Fri",
          "Sat",
          "Sun"
         ],
         "tickvals": [
          0,
          24,
          48,
          72,
          96,
          120,
          144
         ],
         "title": {
          "text": "Hour of day"
         },
         "type": "linear"
        },
        "yaxis": {
         "anchor": "x",
         "autorange": true,
         "domain": [
          0,
          1
         ],
         "range": [
          -34.39199045219467,
          653.4478185916987
         ],
         "tickfont": {
          "size": 18
         },
         "title": {
          "text": "Steps"
         },
         "type": "linear"
        }
       }
      },
      "image/png": "[encoded data removed]",
      "text/html": [
       "<div>                            <div id=\"70580be9-676e-4984-8ced-919861720083\" class=\"plotly-graph-div\" style=\"height:500px; width:100%;\"></div>            <script type=\"text/javascript\">                require([\"plotly\"], function(Plotly) {                    window.PLOTLYENV=window.PLOTLYENV || {};                                    if (document.getElementById(\"70580be9-676e-4984-8ced-919861720083\")) {                    Plotly.newPlot(                        \"70580be9-676e-4984-8ced-919861720083\",                        [{\"hovertemplate\":\"period=Before<br>hour=%{x}<br>value=%{y}<extra></extra>\",\"legendgroup\":\"Before\",\"line\":{\"color\":\"#1F77B4\",\"dash\":\"solid\",\"shape\":\"spline\"},\"marker\":{\"symbol\":\"circle\"},\"mode\":\"lines\",\"name\":\"Before\",\"orientation\":\"v\",\"showlegend\":true,\"x\":[0,1,2,3,4,5,6,7,8,9,10,11,12,13,14,15,16,17,18,19,20,21,22,23,24,25,26,27,28,29,30,31,32,33,34,35,36,37,38,39,40,41,42,43,44,45,46,47,48,49,50,51,52,53,54,55,56,57,58,59,60,61,62,63,64,65,66,67,68,69,70,71,72,73,74,75,76,77,78,79,80,81,82,83,84,85,86,87,88,89,90,91,92,93,94,95,96,97,98,99,100,101,102,103,104,105,106,107,108,109,110,111,112,113,114,115,116,117,118,119,120,121,122,123,124,125,126,127,128,129,130,131,132,133,134,135,136,137,138,139,140,141,142,143,144,145,146,147,148,149,150,151,152,153,154,155,156,157,158,159,160,161,162,163,164,165,166,167],\"xaxis\":\"x\",\"y\":[0.0,0.0,0.0,0.0,0.0,0.0,15.359245965698568,231.95659787466423,337.5600833123669,232.0563941537025,214.0316240111839,370.6746646579075,483.7029586339101,308.80867937227674,299.01360329946016,339.25028606744104,465.1521683530634,494.3785187149256,347.43993977044374,218.55553219842287,135.78050486721133,73.66332198618956,30.276484349808737,4.650719361414166,0.13333333333333333,0.0,0.0,0.0,0.0,0.0,16.980834203461082,265.41117456100943,360.46895975823577,230.28786480802447,211.69120172556197,377.1390331046123,488.8327965821957,310.67224771438526,290.31737791452383,351.0357008697636,466.473727626927,493.0475371776288,350.6839149655591,228.008204398409,153.9008363436999,82.77488186860215,35.14036278019274,7.4375,1.0684844069611785,0.9166666666666666,0.0,0.0,0.0,0.0,15.925302287864481,247.67560275597035,351.8280193111843,237.0890369288071,211.38070968464896,383.0598342076776,493.5318785416418,328.1959972389906,307.2442254160398,367.5456321062755,477.02764859726403,490.333828544705,344.07145439218203,231.87839580741914,150.0197772230142,93.61435589669934,40.89321124087757,8.962479172867983,0.2171481250930636,0.0,0.0,0.0,0.0,0.0,15.496650615073378,234.24048882094053,343.54952495854985,231.3385403800382,230.54145736198134,378.84698536201876,496.68233246513256,334.01546606367117,320.99039332562626,378.0880518314281,473.5960515432848,488.6171857426594,351.06964668047704,240.29140876509416,155.64756229775318,95.37917045088058,44.64300332859744,9.429372690578466,0.2417522563435622,0.0,0.0,0.0,0.0,0.0,12.957518358658888,213.61116946393986,312.4809690225981,230.74170326111667,248.6161879134581,407.49136583331875,508.0059585647804,377.10500046942144,380.98576344291223,448.58890482528,508.3998776752349,464.668578710811,336.46286275813844,208.37585493057705,142.4511938424045,100.64006108917681,72.9397778138963,31.927873212797977,6.404912186979408,0.0,0.0,0.0,0.0,0.0,0.0,3.9417087919571863,38.104157288305565,138.08583581523055,274.383486711829,421.82634810373594,494.04085756921376,516.0486340957366,500.0257541355748,462.9932388613303,397.2201462713329,343.55238553570666,259.221034963435,180.93514646144243,122.912484417611,93.09836106438439,67.59566428063773,37.55368106006696,11.663533176465805,0.19187945190504305,0.0,0.0,0.0,0.0,0.0,1.5473433777566143,21.591815964147973,96.99372666411561,219.27633824628597,360.0324241482556,425.4084435334207,438.6494803977411,434.1488064681171,400.54621774827325,347.0895001928475,283.9646377729947,208.51677977434636,154.25388686152647,98.25352872066719,57.771239485356226,27.064078727117458,5.8262413959000945],\"yaxis\":\"y\",\"type\":\"scatter\"},{\"hovertemplate\":\"period=During<br>hour=%{x}<br>value=%{y}<extra></extra>\",\"legendgroup\":\"During\",\"line\":{\"color\":\"#FF7F0E\",\"dash\":\"solid\",\"shape\":\"spline\"},\"marker\":{\"symbol\":\"circle\"},\"mode\":\"lines\",\"name\":\"During\",\"orientation\":\"v\",\"showlegend\":true,\"x\":[0,1,2,3,4,5,6,7,8,9,10,11,12,13,14,15,16,17,18,19,20,21,22,23,24,25,26,27,28,29,30,31,32,33,34,35,36,37,38,39,40,41,42,43,44,45,46,47,48,49,50,51,52,53,54,55,56,57,58,59,60,61,62,63,64,65,66,67,68,69,70,71,72,73,74,75,76,77,78,79,80,81,82,83,84,85,86,87,88,89,90,91,92,93,94,95,96,97,98,99,100,101,102,103,104,105,106,107,108,109,110,111,112,113,114,115,116,117,118,119,120,121,122,123,124,125,126,127,128,129,130,131,132,133,134,135,136,137,138,139,140,141,142,143,144,145,146,147,148,149,150,151,152,153,154,155,156,157,158,159,160,161,162,163,164,165,166,167],\"xaxis\":\"x\",\"y\":[0.0,0.0,0.0,0.0,0.0,0.0,3.7036491093136603,88.41420813850067,151.7064431860825,116.75537898186512,145.25284920016216,268.480036837956,427.6122814553139,271.7710932462371,247.50901967379673,285.2330732461936,368.21384041905156,405.0277372121579,315.9476535458074,202.00163277536774,116.5378383756775,60.91486307962646,27.088568136128202,5.708333333333333,0.0,0.0,0.0,0.0,0.0,0.0,4.023505529638034,97.52718198338954,156.32092804481292,116.85955436839235,147.27891830249754,285.8062281763642,436.7266083668506,265.14458268725826,237.7619469594334,280.2349774287363,372.7415999404537,409.60425961800587,316.9277332428497,199.83859370120464,114.78427818919408,58.25546263295829,29.04986654362165,6.364451544223425,0.19999999999999998,0.0,0.0,0.0,0.0,0.0,3.814031337021016,90.5737075360679,155.96156824371738,120.42742959376172,150.87392738018178,285.6163287997062,432.5599415802526,280.38030654049817,253.8585588835233,292.58591158236845,379.206620023534,410.09062557917423,330.0016629415097,208.22313147264154,118.98660957629708,66.1735963159857,31.291804394602565,7.596910479276002,0.4166666666666667,0.0,0.0,0.0,0.0,0.0,3.36875,87.85472812964468,153.37378509250212,128.7647351724099,164.2858661815199,301.0106421195506,454.4577545017048,302.8016773322602,269.4607611474846,306.13347278733266,376.4741299481684,391.3823193715728,312.0938010159992,203.77553733979994,121.48123582857518,69.2583876784222,34.58177552510336,11.000450417994571,2.6166666666666667,0.4666666666666666,0.0,0.0,0.0,0.0,2.529166666666667,72.08934990164344,135.92839094604395,127.40402964678674,180.2442834172542,316.12741581445107,465.95163448050903,355.5576563971049,328.26889871255065,372.93763574766655,420.52404393746383,389.4476450605512,276.37337501831047,172.08105915873725,99.35104827905816,64.86049292052978,44.70361321802559,21.49576551998469,4.317654947334709,0.0,0.0,0.0,0.0,0.0,0.0,1.2249999999999999,25.202568649203727,112.83005230907702,271.7835490839152,467.3984854375191,546.2884406854474,580.3945842061452,574.5069199991814,483.22419045409225,389.0044302185625,300.4691421180991,217.67348605441222,145.02374477602635,90.74553576910803,59.76615503232831,41.155575820644216,23.0860027249005,5.908235236061533,0.0,0.0,0.0,0.0,0.0,0.0,0.35000000000000003,16.608932275341644,83.95805697954567,225.67854639358652,401.10701425395956,500.89809860151576,525.806724235961,510.8619189945273,444.7865909409733,360.49551645083767,274.43029446373106,194.0485027654306,135.9226041585304,83.82337247949174,48.36972732614108,25.366774184442974,6.025000000000001],\"yaxis\":\"y\",\"type\":\"scatter\"}],                        {\"template\":{\"data\":{\"histogram2dcontour\":[{\"type\":\"histogram2dcontour\",\"colorbar\":{\"outlinewidth\":0,\"tickcolor\":\"rgb(36,36,36)\",\"ticklen\":8,\"ticks\":\"outside\",\"tickwidth\":2},\"colorscale\":[[0.0,\"rgb(2,4,25)\"],[0.06274509803921569,\"rgb(24,15,41)\"],[0.12549019607843137,\"rgb(47,23,57)\"],[0.18823529411764706,\"rgb(71,28,72)\"],[0.25098039215686274,\"rgb(97,30,82)\"],[0.3137254901960784,\"rgb(123,30,89)\"],[0.3764705882352941,\"rgb(150,27,91)\"],[0.4392156862745098,\"rgb(177,22,88)\"],[0.5019607843137255,\"rgb(203,26,79)\"],[0.5647058823529412,\"rgb(223,47,67)\"],[0.6274509803921569,\"rgb(236,76,61)\"],[0.6901960784313725,\"rgb(242,107,73)\"],[0.7529411764705882,\"rgb(244,135,95)\"],[0.8156862745098039,\"rgb(245,162,122)\"],[0.8784313725490196,\"rgb(246,188,153)\"],[0.9411764705882353,\"rgb(247,212,187)\"],[1.0,\"rgb(250,234,220)\"]]}],\"choropleth\":[{\"type\":\"choropleth\",\"colorbar\":{\"outlinewidth\":0,\"tickcolor\":\"rgb(36,36,36)\",\"ticklen\":8,\"ticks\":\"outside\",\"tickwidth\":2}}],\"histogram2d\":[{\"type\":\"histogram2d\",\"colorbar\":{\"outlinewidth\":0,\"tickcolor\":\"rgb(36,36,36)\",\"ticklen\":8,\"ticks\":\"outside\",\"tickwidth\":2},\"colorscale\":[[0.0,\"rgb(2,4,25)\"],[0.06274509803921569,\"rgb(24,15,41)\"],[0.12549019607843137,\"rgb(47,23,57)\"],[0.18823529411764706,\"rgb(71,28,72)\"],[0.25098039215686274,\"rgb(97,30,82)\"],[0.3137254901960784,\"rgb(123,30,89)\"],[0.3764705882352941,\"rgb(150,27,91)\"],[0.4392156862745098,\"rgb(177,22,88)\"],[0.5019607843137255,\"rgb(203,26,79)\"],[0.5647058823529412,\"rgb(223,47,67)\"],[0.6274509803921569,\"rgb(236,76,61)\"],[0.6901960784313725,\"rgb(242,107,73)\"],[0.7529411764705882,\"rgb(244,135,95)\"],[0.8156862745098039,\"rgb(245,162,122)\"],[0.8784313725490196,\"rgb(246,188,153)\"],[0.9411764705882353,\"rgb(247,212,187)\"],[1.0,\"rgb(250,234,220)\"]]}],\"heatmap\":[{\"type\":\"heatmap\",\"colorbar\":{\"outlinewidth\":0,\"tickcolor\":\"rgb(36,36,36)\",\"ticklen\":8,\"ticks\":\"outside\",\"tickwidth\":2},\"colorscale\":[[0.0,\"rgb(2,4,25)\"],[0.06274509803921569,\"rgb(24,15,41)\"],[0.12549019607843137,\"rgb(47,23,57)\"],[0.18823529411764706,\"rgb(71,28,72)\"],[0.25098039215686274,\"rgb(97,30,82)\"],[0.3137254901960784,\"rgb(123,30,89)\"],[0.3764705882352941,\"rgb(150,27,91)\"],[0.4392156862745098,\"rgb(177,22,88)\"],[0.5019607843137255,\"rgb(203,26,79)\"],[0.5647058823529412,\"rgb(223,47,67)\"],[0.6274509803921569,\"rgb(236,76,61)\"],[0.6901960784313725,\"rgb(242,107,73)\"],[0.7529411764705882,\"rgb(244,135,95)\"],[0.8156862745098039,\"rgb(245,162,122)\"],[0.8784313725490196,\"rgb(246,188,153)\"],[0.9411764705882353,\"rgb(247,212,187)\"],[1.0,\"rgb(250,234,220)\"]]}],\"heatmapgl\":[{\"type\":\"heatmapgl\",\"colorbar\":{\"outlinewidth\":0,\"tickcolor\":\"rgb(36,36,36)\",\"ticklen\":8,\"ticks\":\"outside\",\"tickwidth\":2},\"colorscale\":[[0.0,\"rgb(2,4,25)\"],[0.06274509803921569,\"rgb(24,15,41)\"],[0.12549019607843137,\"rgb(47,23,57)\"],[0.18823529411764706,\"rgb(71,28,72)\"],[0.25098039215686274,\"rgb(97,30,82)\"],[0.3137254901960784,\"rgb(123,30,89)\"],[0.3764705882352941,\"rgb(150,27,91)\"],[0.4392156862745098,\"rgb(177,22,88)\"],[0.5019607843137255,\"rgb(203,26,79)\"],[0.5647058823529412,\"rgb(223,47,67)\"],[0.6274509803921569,\"rgb(236,76,61)\"],[0.6901960784313725,\"rgb(242,107,73)\"],[0.7529411764705882,\"rgb(244,135,95)\"],[0.8156862745098039,\"rgb(245,162,122)\"],[0.8784313725490196,\"rgb(246,188,153)\"],[0.9411764705882353,\"rgb(247,212,187)\"],[1.0,\"rgb(250,234,220)\"]]}],\"contourcarpet\":[{\"type\":\"contourcarpet\",\"colorbar\":{\"outlinewidth\":0,\"tickcolor\":\"rgb(36,36,36)\",\"ticklen\":8,\"ticks\":\"outside\",\"tickwidth\":2}}],\"contour\":[{\"type\":\"contour\",\"colorbar\":{\"outlinewidth\":0,\"tickcolor\":\"rgb(36,36,36)\",\"ticklen\":8,\"ticks\":\"outside\",\"tickwidth\":2},\"colorscale\":[[0.0,\"rgb(2,4,25)\"],[0.06274509803921569,\"rgb(24,15,41)\"],[0.12549019607843137,\"rgb(47,23,57)\"],[0.18823529411764706,\"rgb(71,28,72)\"],[0.25098039215686274,\"rgb(97,30,82)\"],[0.3137254901960784,\"rgb(123,30,89)\"],[0.3764705882352941,\"rgb(150,27,91)\"],[0.4392156862745098,\"rgb(177,22,88)\"],[0.5019607843137255,\"rgb(203,26,79)\"],[0.5647058823529412,\"rgb(223,47,67)\"],[0.6274509803921569,\"rgb(236,76,61)\"],[0.6901960784313725,\"rgb(242,107,73)\"],[0.7529411764705882,\"rgb(244,135,95)\"],[0.8156862745098039,\"rgb(245,162,122)\"],[0.8784313725490196,\"rgb(246,188,153)\"],[0.9411764705882353,\"rgb(247,212,187)\"],[1.0,\"rgb(250,234,220)\"]]}],\"surface\":[{\"type\":\"surface\",\"colorbar\":{\"outlinewidth\":0,\"tickcolor\":\"rgb(36,36,36)\",\"ticklen\":8,\"ticks\":\"outside\",\"tickwidth\":2},\"colorscale\":[[0.0,\"rgb(2,4,25)\"],[0.06274509803921569,\"rgb(24,15,41)\"],[0.12549019607843137,\"rgb(47,23,57)\"],[0.18823529411764706,\"rgb(71,28,72)\"],[0.25098039215686274,\"rgb(97,30,82)\"],[0.3137254901960784,\"rgb(123,30,89)\"],[0.3764705882352941,\"rgb(150,27,91)\"],[0.4392156862745098,\"rgb(177,22,88)\"],[0.5019607843137255,\"rgb(203,26,79)\"],[0.5647058823529412,\"rgb(223,47,67)\"],[0.6274509803921569,\"rgb(236,76,61)\"],[0.6901960784313725,\"rgb(242,107,73)\"],[0.7529411764705882,\"rgb(244,135,95)\"],[0.8156862745098039,\"rgb(245,162,122)\"],[0.8784313725490196,\"rgb(246,188,153)\"],[0.9411764705882353,\"rgb(247,212,187)\"],[1.0,\"rgb(250,234,220)\"]]}],\"mesh3d\":[{\"type\":\"mesh3d\",\"colorbar\":{\"outlinewidth\":0,\"tickcolor\":\"rgb(36,36,36)\",\"ticklen\":8,\"ticks\":\"outside\",\"tickwidth\":2}}],\"scatter\":[{\"fillpattern\":{\"fillmode\":\"overlay\",\"size\":10,\"solidity\":0.2},\"type\":\"scatter\"}],\"parcoords\":[{\"type\":\"parcoords\",\"line\":{\"colorbar\":{\"outlinewidth\":0,\"tickcolor\":\"rgb(36,36,36)\",\"ticklen\":8,\"ticks\":\"outside\",\"tickwidth\":2}}}],\"scatterpolargl\":[{\"type\":\"scatterpolargl\",\"marker\":{\"colorbar\":{\"outlinewidth\":0,\"tickcolor\":\"rgb(36,36,36)\",\"ticklen\":8,\"ticks\":\"outside\",\"tickwidth\":2}}}],\"bar\":[{\"error_x\":{\"color\":\"rgb(36,36,36)\"},\"error_y\":{\"color\":\"rgb(36,36,36)\"},\"marker\":{\"line\":{\"color\":\"rgb(234,234,242)\",\"width\":0.5},\"pattern\":{\"fillmode\":\"overlay\",\"size\":10,\"solidity\":0.2}},\"type\":\"bar\"}],\"scattergeo\":[{\"type\":\"scattergeo\",\"marker\":{\"colorbar\":{\"outlinewidth\":0,\"tickcolor\":\"rgb(36,36,36)\",\"ticklen\":8,\"ticks\":\"outside\",\"tickwidth\":2}}}],\"scatterpolar\":[{\"type\":\"scatterpolar\",\"marker\":{\"colorbar\":{\"outlinewidth\":0,\"tickcolor\":\"rgb(36,36,36)\",\"ticklen\":8,\"ticks\":\"outside\",\"tickwidth\":2}}}],\"histogram\":[{\"marker\":{\"pattern\":{\"fillmode\":\"overlay\",\"size\":10,\"solidity\":0.2}},\"type\":\"histogram\"}],\"scattergl\":[{\"type\":\"scattergl\",\"marker\":{\"colorbar\":{\"outlinewidth\":0,\"tickcolor\":\"rgb(36,36,36)\",\"ticklen\":8,\"ticks\":\"outside\",\"tickwidth\":2}}}],\"scatter3d\":[{\"type\":\"scatter3d\",\"line\":{\"colorbar\":{\"outlinewidth\":0,\"tickcolor\":\"rgb(36,36,36)\",\"ticklen\":8,\"ticks\":\"outside\",\"tickwidth\":2}},\"marker\":{\"colorbar\":{\"outlinewidth\":0,\"tickcolor\":\"rgb(36,36,36)\",\"ticklen\":8,\"ticks\":\"outside\",\"tickwidth\":2}}}],\"scattermapbox\":[{\"type\":\"scattermapbox\",\"marker\":{\"colorbar\":{\"outlinewidth\":0,\"tickcolor\":\"rgb(36,36,36)\",\"ticklen\":8,\"ticks\":\"outside\",\"tickwidth\":2}}}],\"scatterternary\":[{\"type\":\"scatterternary\",\"marker\":{\"colorbar\":{\"outlinewidth\":0,\"tickcolor\":\"rgb(36,36,36)\",\"ticklen\":8,\"ticks\":\"outside\",\"tickwidth\":2}}}],\"scattercarpet\":[{\"type\":\"scattercarpet\",\"marker\":{\"colorbar\":{\"outlinewidth\":0,\"tickcolor\":\"rgb(36,36,36)\",\"ticklen\":8,\"ticks\":\"outside\",\"tickwidth\":2}}}],\"carpet\":[{\"aaxis\":{\"endlinecolor\":\"rgb(36,36,36)\",\"gridcolor\":\"white\",\"linecolor\":\"white\",\"minorgridcolor\":\"white\",\"startlinecolor\":\"rgb(36,36,36)\"},\"baxis\":{\"endlinecolor\":\"rgb(36,36,36)\",\"gridcolor\":\"white\",\"linecolor\":\"white\",\"minorgridcolor\":\"white\",\"startlinecolor\":\"rgb(36,36,36)\"},\"type\":\"carpet\"}],\"table\":[{\"cells\":{\"fill\":{\"color\":\"rgb(231,231,240)\"},\"line\":{\"color\":\"white\"}},\"header\":{\"fill\":{\"color\":\"rgb(183,183,191)\"},\"line\":{\"color\":\"white\"}},\"type\":\"table\"}],\"barpolar\":[{\"marker\":{\"line\":{\"color\":\"rgb(234,234,242)\",\"width\":0.5},\"pattern\":{\"fillmode\":\"overlay\",\"size\":10,\"solidity\":0.2}},\"type\":\"barpolar\"}],\"pie\":[{\"automargin\":true,\"type\":\"pie\"}]},\"layout\":{\"autotypenumbers\":\"strict\",\"colorway\":[\"rgb(76,114,176)\",\"rgb(221,132,82)\",\"rgb(85,168,104)\",\"rgb(196,78,82)\",\"rgb(129,114,179)\",\"rgb(147,120,96)\",\"rgb(218,139,195)\",\"rgb(140,140,140)\",\"rgb(204,185,116)\",\"rgb(100,181,205)\"],\"font\":{\"color\":\"rgb(36,36,36)\"},\"hovermode\":\"closest\",\"hoverlabel\":{\"align\":\"left\"},\"paper_bgcolor\":\"white\",\"plot_bgcolor\":\"rgb(234,234,242)\",\"polar\":{\"bgcolor\":\"rgb(234,234,242)\",\"angularaxis\":{\"gridcolor\":\"white\",\"linecolor\":\"white\",\"showgrid\":true,\"ticks\":\"\"},\"radialaxis\":{\"gridcolor\":\"white\",\"linecolor\":\"white\",\"showgrid\":true,\"ticks\":\"\"}},\"ternary\":{\"bgcolor\":\"rgb(234,234,242)\",\"aaxis\":{\"gridcolor\":\"white\",\"linecolor\":\"white\",\"showgrid\":true,\"ticks\":\"\"},\"baxis\":{\"gridcolor\":\"white\",\"linecolor\":\"white\",\"showgrid\":true,\"ticks\":\"\"},\"caxis\":{\"gridcolor\":\"white\",\"linecolor\":\"white\",\"showgrid\":true,\"ticks\":\"\"}},\"coloraxis\":{\"colorbar\":{\"outlinewidth\":0,\"tickcolor\":\"rgb(36,36,36)\",\"ticklen\":8,\"ticks\":\"outside\",\"tickwidth\":2}},\"colorscale\":{\"sequential\":[[0.0,\"rgb(2,4,25)\"],[0.06274509803921569,\"rgb(24,15,41)\"],[0.12549019607843137,\"rgb(47,23,57)\"],[0.18823529411764706,\"rgb(71,28,72)\"],[0.25098039215686274,\"rgb(97,30,82)\"],[0.3137254901960784,\"rgb(123,30,89)\"],[0.3764705882352941,\"rgb(150,27,91)\"],[0.4392156862745098,\"rgb(177,22,88)\"],[0.5019607843137255,\"rgb(203,26,79)\"],[0.5647058823529412,\"rgb(223,47,67)\"],[0.6274509803921569,\"rgb(236,76,61)\"],[0.6901960784313725,\"rgb(242,107,73)\"],[0.7529411764705882,\"rgb(244,135,95)\"],[0.8156862745098039,\"rgb(245,162,122)\"],[0.8784313725490196,\"rgb(246,188,153)\"],[0.9411764705882353,\"rgb(247,212,187)\"],[1.0,\"rgb(250,234,220)\"]],\"sequentialminus\":[[0.0,\"rgb(2,4,25)\"],[0.06274509803921569,\"rgb(24,15,41)\"],[0.12549019607843137,\"rgb(47,23,57)\"],[0.18823529411764706,\"rgb(71,28,72)\"],[0.25098039215686274,\"rgb(97,30,82)\"],[0.3137254901960784,\"rgb(123,30,89)\"],[0.3764705882352941,\"rgb(150,27,91)\"],[0.4392156862745098,\"rgb(177,22,88)\"],[0.5019607843137255,\"rgb(203,26,79)\"],[0.5647058823529412,\"rgb(223,47,67)\"],[0.6274509803921569,\"rgb(236,76,61)\"],[0.6901960784313725,\"rgb(242,107,73)\"],[0.7529411764705882,\"rgb(244,135,95)\"],[0.8156862745098039,\"rgb(245,162,122)\"],[0.8784313725490196,\"rgb(246,188,153)\"],[0.9411764705882353,\"rgb(247,212,187)\"],[1.0,\"rgb(250,234,220)\"]]},\"xaxis\":{\"gridcolor\":\"white\",\"linecolor\":\"white\",\"showgrid\":true,\"ticks\":\"\",\"title\":{\"standoff\":15},\"zerolinecolor\":\"white\",\"automargin\":true},\"yaxis\":{\"gridcolor\":\"white\",\"linecolor\":\"white\",\"showgrid\":true,\"ticks\":\"\",\"title\":{\"standoff\":15},\"zerolinecolor\":\"white\",\"automargin\":true},\"scene\":{\"xaxis\":{\"backgroundcolor\":\"rgb(234,234,242)\",\"gridcolor\":\"white\",\"linecolor\":\"white\",\"showbackground\":true,\"showgrid\":true,\"ticks\":\"\",\"zerolinecolor\":\"white\",\"gridwidth\":2},\"yaxis\":{\"backgroundcolor\":\"rgb(234,234,242)\",\"gridcolor\":\"white\",\"linecolor\":\"white\",\"showbackground\":true,\"showgrid\":true,\"ticks\":\"\",\"zerolinecolor\":\"white\",\"gridwidth\":2},\"zaxis\":{\"backgroundcolor\":\"rgb(234,234,242)\",\"gridcolor\":\"white\",\"linecolor\":\"white\",\"showbackground\":true,\"showgrid\":true,\"ticks\":\"\",\"zerolinecolor\":\"white\",\"gridwidth\":2}},\"shapedefaults\":{\"fillcolor\":\"rgb(67,103,167)\",\"line\":{\"width\":0},\"opacity\":0.5},\"annotationdefaults\":{\"arrowcolor\":\"rgb(67,103,167)\"},\"geo\":{\"bgcolor\":\"white\",\"landcolor\":\"rgb(234,234,242)\",\"subunitcolor\":\"white\",\"showland\":true,\"showlakes\":true,\"lakecolor\":\"white\"}}},\"xaxis\":{\"anchor\":\"y\",\"domain\":[0.0,1.0],\"title\":{\"text\":\"Hour of day\"},\"tickvals\":[0,24,48,72,96,120,144],\"ticktext\":[\"Mon\",\"Tue\",\"Wed\",\"Thu\",\"Fri\",\"Sat\",\"Sun\"],\"tickfont\":{\"size\":18},\"tickformat\":\"%b %Y\"},\"yaxis\":{\"anchor\":\"x\",\"domain\":[0.0,1.0],\"title\":{\"text\":\"Steps\"},\"tickfont\":{\"size\":18}},\"legend\":{\"title\":{},\"tracegroupgap\":0,\"bgcolor\":\"rgba(255,255,255, 0.0)\",\"yanchor\":\"top\",\"y\":0.99,\"xanchor\":\"right\",\"x\":0.99},\"title\":{\"text\":\"<b>All</b>\",\"font\":{\"size\":24}},\"height\":500,\"annotations\":[{\"align\":\"left\",\"bgcolor\":\"white\",\"bordercolor\":\"#2D2D2D\",\"borderpad\":5,\"borderwidth\":1,\"height\":45,\"showarrow\":false,\"text\":\"\",\"width\":60,\"x\":3,\"y\":544},{\"font\":{\"color\":\"#2D2D2D\",\"size\":18},\"showarrow\":false,\"text\":\"\",\"x\":2,\"y\":650},{\"font\":{\"color\":\"#1F77B4\",\"size\":16},\"showarrow\":false,\"text\":\"      4602\",\"x\":1,\"y\":575.0},{\"font\":{\"color\":\"#FF7F0E\",\"size\":16},\"showarrow\":false,\"text\":\"      3508\",\"x\":1,\"y\":550},{\"font\":{\"color\":\"#D62728\",\"size\":16},\"showarrow\":false,\"text\":\"     -23.8%\",\"x\":2,\"y\":520},{\"align\":\"left\",\"bgcolor\":\"white\",\"bordercolor\":\"#2D2D2D\",\"borderpad\":5,\"borderwidth\":1,\"height\":45,\"showarrow\":false,\"text\":\"\",\"width\":60,\"x\":27,\"y\":544},{\"font\":{\"color\":\"#2D2D2D\",\"size\":18},\"showarrow\":false,\"text\":\"\",\"x\":26,\"y\":650},{\"font\":{\"color\":\"#1F77B4\",\"size\":16},\"showarrow\":false,\"text\":\"      4720\",\"x\":25,\"y\":575.0},{\"font\":{\"color\":\"#FF7F0E\",\"size\":16},\"showarrow\":false,\"text\":\"      3535\",\"x\":25,\"y\":550},{\"font\":{\"color\":\"#D62728\",\"size\":16},\"showarrow\":false,\"text\":\"     -25.1%\",\"x\":26,\"y\":520},{\"align\":\"left\",\"bgcolor\":\"white\",\"bordercolor\":\"#2D2D2D\",\"borderpad\":5,\"borderwidth\":1,\"height\":45,\"showarrow\":false,\"text\":\"\",\"width\":60,\"x\":51,\"y\":544},{\"font\":{\"color\":\"#2D2D2D\",\"size\":18},\"showarrow\":false,\"text\":\"\",\"x\":50,\"y\":650},{\"font\":{\"color\":\"#1F77B4\",\"size\":16},\"showarrow\":false,\"text\":\"      4782\",\"x\":49,\"y\":575.0},{\"font\":{\"color\":\"#FF7F0E\",\"size\":16},\"showarrow\":false,\"text\":\"      3618\",\"x\":49,\"y\":550},{\"font\":{\"color\":\"#D62728\",\"size\":16},\"showarrow\":false,\"text\":\"     -24.3%\",\"x\":50,\"y\":520},{\"align\":\"left\",\"bgcolor\":\"white\",\"bordercolor\":\"#2D2D2D\",\"borderpad\":5,\"borderwidth\":1,\"height\":45,\"showarrow\":false,\"text\":\"\",\"width\":60,\"x\":75,\"y\":544},{\"font\":{\"color\":\"#2D2D2D\",\"size\":18},\"showarrow\":false,\"text\":\"\",\"x\":74,\"y\":650},{\"font\":{\"color\":\"#1F77B4\",\"size\":16},\"showarrow\":false,\"text\":\"      4823\",\"x\":73,\"y\":575.0},{\"font\":{\"color\":\"#FF7F0E\",\"size\":16},\"showarrow\":false,\"text\":\"      3692\",\"x\":73,\"y\":550},{\"font\":{\"color\":\"#D62728\",\"size\":16},\"showarrow\":false,\"text\":\"     -23.4%\",\"x\":74,\"y\":520},{\"align\":\"left\",\"bgcolor\":\"white\",\"bordercolor\":\"#2D2D2D\",\"borderpad\":5,\"borderwidth\":1,\"height\":45,\"showarrow\":false,\"text\":\"\",\"width\":60,\"x\":99,\"y\":544},{\"font\":{\"color\":\"#2D2D2D\",\"size\":18},\"showarrow\":false,\"text\":\"\",\"x\":98,\"y\":650},{\"font\":{\"color\":\"#1F77B4\",\"size\":16},\"showarrow\":false,\"text\":\"      5007\",\"x\":97,\"y\":575.0},{\"font\":{\"color\":\"#FF7F0E\",\"size\":16},\"showarrow\":false,\"text\":\"      3849\",\"x\":97,\"y\":550},{\"font\":{\"color\":\"#D62728\",\"size\":16},\"showarrow\":false,\"text\":\"     -23.1%\",\"x\":98,\"y\":520},{\"align\":\"left\",\"bgcolor\":\"white\",\"bordercolor\":\"#2D2D2D\",\"borderpad\":5,\"borderwidth\":1,\"height\":45,\"showarrow\":false,\"text\":\"\",\"width\":60,\"x\":123,\"y\":544},{\"font\":{\"color\":\"#2D2D2D\",\"size\":18},\"showarrow\":false,\"text\":\"\",\"x\":122,\"y\":650},{\"font\":{\"color\":\"#1F77B4\",\"size\":16},\"showarrow\":false,\"text\":\"      4358\",\"x\":121,\"y\":575.0},{\"font\":{\"color\":\"#FF7F0E\",\"size\":16},\"showarrow\":false,\"text\":\"      4334\",\"x\":121,\"y\":550},{\"font\":{\"color\":\"#D62728\",\"size\":16},\"showarrow\":false,\"text\":\"      -0.5%\",\"x\":122,\"y\":520},{\"align\":\"left\",\"bgcolor\":\"white\",\"bordercolor\":\"#2D2D2D\",\"borderpad\":5,\"borderwidth\":1,\"height\":45,\"showarrow\":false,\"text\":\"\",\"width\":60,\"x\":147,\"y\":544},{\"font\":{\"color\":\"#2D2D2D\",\"size\":18},\"showarrow\":false,\"text\":\"\",\"x\":146,\"y\":650},{\"font\":{\"color\":\"#1F77B4\",\"size\":16},\"showarrow\":false,\"text\":\"      3593\",\"x\":145,\"y\":575.0},{\"font\":{\"color\":\"#FF7F0E\",\"size\":16},\"showarrow\":false,\"text\":\"      3844\",\"x\":145,\"y\":550},{\"font\":{\"color\":\"#2CA02C\",\"size\":16},\"showarrow\":false,\"text\":\"       7.0%\",\"x\":145,\"y\":520}],\"margin\":{\"l\":0,\"r\":0,\"t\":48,\"b\":32},\"font\":{\"size\":18,\"color\":\"#2D2D2D\",\"family\":\"Lato, sans-serif\"}},                        {\"responsive\": true}                    ).then(function(){\n",
       "                            \n",
       "var gd = document.getElementById('70580be9-676e-4984-8ced-919861720083');\n",
       "var x = new MutationObserver(function (mutations, observer) {{\n",
       "        var display = window.getComputedStyle(gd).display;\n",
       "        if (!display || display === 'none') {{\n",
       "            console.log([gd, 'removed!']);\n",
       "            Plotly.purge(gd);\n",
       "            observer.disconnect();\n",
       "        }}\n",
       "}});\n",
       "\n",
       "// Listen for the removal of the full notebook cells\n",
       "var notebookContainer = gd.closest('#notebook-container');\n",
       "if (notebookContainer) {{\n",
       "    x.observe(notebookContainer, {childList: true});\n",
       "}}\n",
       "\n",
       "// Listen for the clearing of the current output cell\n",
       "var outputEl = gd.closest('.output');\n",
       "if (outputEl) {{\n",
       "    x.observe(outputEl, {childList: true});\n",
       "}}\n",
       "\n",
       "                        })                };                });            </script>        </div>"
      ]
     },
     "metadata": {},
     "output_type": "display_data"
    },
    {
     "data": {
      "application/vnd.plotly.v1+json": {
       "config": {
        "plotlyServerURL": "https://plot.ly"
       },
       "data": [
        {
         "hovertemplate": "period=Before<br>hour=%{x}<br>value=%{y}<extra></extra>",
         "legendgroup": "Before",
         "line": {
          "color": "#1F77B4",
          "dash": "solid",
          "shape": "spline"
         },
         "marker": {
          "symbol": "circle"
         },
         "mode": "lines",
         "name": "Before",
         "orientation": "v",
         "showlegend": true,
         "type": "scatter",
         "x": [
          0,
          1,
          2,
          3,
          4,
          5,
          6,
          7,
          8,
          9,
          10,
          11,
          12,
          13,
          14,
          15,
          16,
          17,
          18,
          19,
          20,
          21,
          22,
          23,
          24,
          25,
          26,
          27,
          28,
          29,
          30,
          31,
          32,
          33,
          34,
          35,
          36,
          37,
          38,
          39,
          40,
          41,
          42,
          43,
          44,
          45,
          46,
          47,
          48,
          49,
          50,
          51,
          52,
          53,
          54,
          55,
          56,
          57,
          58,
          59,
          60,
          61,
          62,
          63,
          64,
          65,
          66,
          67,
          68,
          69,
          70,
          71,
          72,
          73,
          74,
          75,
          76,
          77,
          78,
          79,
          80,
          81,
          82,
          83,
          84,
          85,
          86,
          87,
          88,
          89,
          90,
          91,
          92,
          93,
          94,
          95,
          96,
          97,
          98,
          99,
          100,
          101,
          102,
          103,
          104,
          105,
          106,
          107,
          108,
          109,
          110,
          111,
          112,
          113,
          114,
          115,
          116,
          117,
          118,
          119,
          120,
          121,
          122,
          123,
          124,
          125,
          126,
          127,
          128,
          129,
          130,
          131,
          132,
          133,
          134,
          135,
          136,
          137,
          138,
          139,
          140,
          141,
          142,
          143,
          144,
          145,
          146,
          147,
          148,
          149,
          150,
          151,
          152,
          153,
          154,
          155,
          156,
          157,
          158,
          159,
          160,
          161,
          162,
          163,
          164,
          165,
          166,
          167
         ],
         "xaxis": "x",
         "y": [
          0.17592980315831233,
          0,
          0,
          0,
          0,
          0,
          2.0368448587153036,
          86.3256416502165,
          195.76083089961898,
          239.322766201313,
          239.48128267379016,
          339.75212796745194,
          445.93870486771266,
          352.5821945054959,
          351.89442722274384,
          378.6967071725988,
          394.7628341864759,
          372.17242146985444,
          278.483679577549,
          187.20413278459583,
          123.81206220833377,
          71.19669462162467,
          31.14633473255574,
          6.12372046061689,
          0.17500000000000002,
          0,
          0,
          0,
          0,
          0,
          1.8854166666666667,
          91.2982591772439,
          216.56433435967378,
          232.66555624961572,
          242.96916005961785,
          356.8807228831536,
          436.70482312841585,
          350.52201183586595,
          372.0042417637604,
          395.6345268499692,
          400.2742019839765,
          366.8940314017911,
          275.3703379093781,
          187.4975780613181,
          138.02804540324303,
          74.4528106817988,
          34.09720181879936,
          9.116666666666665,
          1.686111111111111,
          1.6304534787829226,
          0.4694444444444444,
          0,
          0,
          0,
          2.2770833333333336,
          95.8577680473383,
          197.73277324753113,
          245.69476694474778,
          229.65228736806117,
          355.59976054283175,
          443.030078200469,
          368.7056854481161,
          372.1333917869074,
          395.71772184315904,
          411.83928510630795,
          385.503183074039,
          274.08261929709096,
          198.21903589742178,
          133.9474565753974,
          95.08351647202899,
          41.44433821281111,
          10.827682813558924,
          0.4884791843381014,
          0,
          0,
          0,
          0,
          0,
          2.0396970367612464,
          86.59354740417052,
          213.7471517086717,
          237.08847424418806,
          261.1555021784857,
          355.3594515157115,
          451.93725907709677,
          364.3196739144683,
          380.6789242492605,
          423.0846205758639,
          409.9265531937588,
          369.66532183995713,
          277.12597892069124,
          193.44148810420347,
          139.5638762286921,
          87.95133384407404,
          43.24216284144725,
          10.805498368535874,
          0.7306863812159626,
          0,
          0,
          0,
          0,
          0,
          1.19265633274277,
          82.70578030068293,
          192.27215428395883,
          239.53088540110434,
          265.8846549761236,
          379.6795294176762,
          475.5709171627054,
          402.51768434021074,
          433.5418102276905,
          446.13303055028945,
          423.51030152278435,
          372.46228584685076,
          304.04654157619376,
          202.9819955022068,
          145.05142346558273,
          104.35413430460012,
          88.93884155337402,
          43.85783162921948,
          12.151173456477482,
          0.28439120845820437,
          0,
          0,
          0,
          0,
          0,
          1.8006468199376366,
          19.544991794726574,
          98.2486898740043,
          212.75876940821368,
          346.90951786243704,
          402.48761911298817,
          439.81105173209835,
          439.4538923202478,
          387.16112331643376,
          340.567555105119,
          307.9261658248649,
          239.69277420966955,
          185.08092816345115,
          140.18331073909576,
          107.09850291733237,
          83.89430140725254,
          50.358295927290015,
          19.278735100131655,
          3.1614781439050788,
          0,
          0,
          0,
          0,
          0,
          0.26666666666666666,
          10.10138888888889,
          58.702510353398175,
          160.73072182494624,
          271.5106537196702,
          342.14288849727274,
          370.98564801818105,
          374.1807778909177,
          340.87642430033196,
          287.7620791030299,
          242.6975120727908,
          187.81851020227654,
          137.05836469801034,
          87.10291906108449,
          52.03734733211737,
          24.659398112544125,
          6.642297597022754
         ],
         "yaxis": "y"
        },
        {
         "hovertemplate": "period=During<br>hour=%{x}<br>value=%{y}<extra></extra>",
         "legendgroup": "During",
         "line": {
          "color": "#FF7F0E",
          "dash": "solid",
          "shape": "spline"
         },
         "marker": {
          "symbol": "circle"
         },
         "mode": "lines",
         "name": "During",
         "orientation": "v",
         "showlegend": true,
         "type": "scatter",
         "x": [
          0,
          1,
          2,
          3,
          4,
          5,
          6,
          7,
          8,
          9,
          10,
          11,
          12,
          13,
          14,
          15,
          16,
          17,
          18,
          19,
          20,
          21,
          22,
          23,
          24,
          25,
          26,
          27,
          28,
          29,
          30,
          31,
          32,
          33,
          34,
          35,
          36,
          37,
          38,
          39,
          40,
          41,
          42,
          43,
          44,
          45,
          46,
          47,
          48,
          49,
          50,
          51,
          52,
          53,
          54,
          55,
          56,
          57,
          58,
          59,
          60,
          61,
          62,
          63,
          64,
          65,
          66,
          67,
          68,
          69,
          70,
          71,
          72,
          73,
          74,
          75,
          76,
          77,
          78,
          79,
          80,
          81,
          82,
          83,
          84,
          85,
          86,
          87,
          88,
          89,
          90,
          91,
          92,
          93,
          94,
          95,
          96,
          97,
          98,
          99,
          100,
          101,
          102,
          103,
          104,
          105,
          106,
          107,
          108,
          109,
          110,
          111,
          112,
          113,
          114,
          115,
          116,
          117,
          118,
          119,
          120,
          121,
          122,
          123,
          124,
          125,
          126,
          127,
          128,
          129,
          130,
          131,
          132,
          133,
          134,
          135,
          136,
          137,
          138,
          139,
          140,
          141,
          142,
          143,
          144,
          145,
          146,
          147,
          148,
          149,
          150,
          151,
          152,
          153,
          154,
          155,
          156,
          157,
          158,
          159,
          160,
          161,
          162,
          163,
          164,
          165,
          166,
          167
         ],
         "xaxis": "x",
         "y": [
          0,
          0,
          0,
          0,
          0,
          0,
          0.016666666666666666,
          17.30440271468831,
          65.25821020756241,
          100.72349370007498,
          146.98868018417923,
          241.25106263185504,
          352.43231550461905,
          305.0970914026791,
          301.77392642067247,
          322.69582254795745,
          334.116587699553,
          310.39500005689115,
          239.08331693364673,
          148.99815193356355,
          87.69562611621087,
          49.658913062868116,
          24.28787191369585,
          6.991158837392542,
          0.09166666666666667,
          0,
          0,
          0,
          0,
          0,
          0,
          16.661326182795374,
          69.96932070723241,
          102.30870508551492,
          161.19429045174556,
          258.96362658948834,
          343.07455344090386,
          297.3290317808357,
          306.31540699718954,
          314.99801000507017,
          333.0438619885638,
          326.2114747417613,
          240.8436586574999,
          141.75186380074118,
          88.69440956178641,
          49.043278505596284,
          25.90795676029822,
          5.978550706759058,
          0.2333333333333333,
          0,
          0,
          0,
          0,
          0,
          0,
          19.360015320134153,
          70.38869377295066,
          105.7522049025148,
          158.451324080992,
          265.5674299891325,
          349.6144040812839,
          313.31262749681156,
          317.9318700967464,
          333.85072209459673,
          346.85498161506507,
          323.281522196929,
          250.25608707295692,
          153.2044245520025,
          93.65145843390822,
          58.55429177337922,
          28.435822573277136,
          8.689230251501447,
          0.4583333333333333,
          0,
          0,
          0,
          0,
          0,
          0,
          17.08188539372908,
          72.53150009429946,
          117.0295175349886,
          170.52008953489653,
          267.0884422296413,
          369.1195714083701,
          320.63249730188153,
          320.43091498941385,
          336.6912224962275,
          338.51065467949434,
          313.68352958423594,
          238.9135924149381,
          159.5986649601053,
          101.19452929336008,
          61.91180946306644,
          31.49884689393436,
          11.352305265510402,
          3.77929019737373,
          0.6972222222222223,
          0.1416666666666667,
          0,
          0,
          0,
          0,
          12.39370940030662,
          57.70371902733077,
          106.21297837199707,
          177.5965422206115,
          288.0962172079867,
          390.9962710036211,
          366.70757031641006,
          353.9391759030282,
          371.0051514579325,
          362.7068930200753,
          306.2924284339476,
          238.25208682472703,
          156.9325734532405,
          93.37962950650484,
          65.64134581647235,
          47.64755050435965,
          24.31867487991448,
          7.333711674900683,
          0.3139842701907976,
          0,
          0,
          0,
          0,
          0,
          0,
          10.384936602657703,
          58.31320601730558,
          161.6434933590086,
          311.92676211450635,
          420.29422284579505,
          471.00351018352677,
          457.8723222024539,
          366.7418534068634,
          301.6761273596817,
          238.7653100575851,
          188.77913609929763,
          132.90082796382202,
          83.78962055929397,
          56.76058762090997,
          44.02997872610565,
          25.02826778964452,
          8.931592288334132,
          0.3684019055563253,
          0,
          0,
          0,
          0,
          0,
          0,
          4.947363758568741,
          37.281221174413844,
          119.49176944305604,
          258.0387677835356,
          364.67953142354116,
          393.9016546492612,
          379.39262970031797,
          335.7273957923351,
          276.25655851697434,
          216.76196309536257,
          157.2549320034912,
          116.34855765181491,
          68.61308669990109,
          39.24324524274504,
          21.706633330204966,
          6.740198923719636
         ],
         "yaxis": "y"
        }
       ],
       "layout": {
        "annotations": [
         {
          "align": "left",
          "bgcolor": "white",
          "bordercolor": "#2D2D2D",
          "borderpad": 5,
          "borderwidth": 1,
          "height": 45,
          "showarrow": false,
          "text": "",
          "width": 60,
          "x": 3,
          "y": 544
         },
         {
          "font": {
           "color": "#2D2D2D",
           "size": 18
          },
          "showarrow": false,
          "text": "",
          "x": 2,
          "y": 650
         },
         {
          "font": {
           "color": "#1F77B4",
           "size": 16
          },
          "showarrow": false,
          "text": "      4097",
          "x": 1,
          "y": 575
         },
         {
          "font": {
           "color": "#FF7F0E",
           "size": 16
          },
          "showarrow": false,
          "text": "      3055",
          "x": 1,
          "y": 550
         },
         {
          "font": {
           "color": "#D62728",
           "size": 16
          },
          "showarrow": false,
          "text": "     -25.4%",
          "x": 2,
          "y": 520
         },
         {
          "align": "left",
          "bgcolor": "white",
          "bordercolor": "#2D2D2D",
          "borderpad": 5,
          "borderwidth": 1,
          "height": 45,
          "showarrow": false,
          "text": "",
          "width": 60,
          "x": 27,
          "y": 544
         },
         {
          "font": {
           "color": "#2D2D2D",
           "size": 18
          },
          "showarrow": false,
          "text": "",
          "x": 26,
          "y": 650
         },
         {
          "font": {
           "color": "#1F77B4",
           "size": 16
          },
          "showarrow": false,
          "text": "      4183",
          "x": 25,
          "y": 575
         },
         {
          "font": {
           "color": "#FF7F0E",
           "size": 16
          },
          "showarrow": false,
          "text": "      3082",
          "x": 25,
          "y": 550
         },
         {
          "font": {
           "color": "#D62728",
           "size": 16
          },
          "showarrow": false,
          "text": "     -26.3%",
          "x": 26,
          "y": 520
         },
         {
          "align": "left",
          "bgcolor": "white",
          "bordercolor": "#2D2D2D",
          "borderpad": 5,
          "borderwidth": 1,
          "height": 45,
          "showarrow": false,
          "text": "",
          "width": 60,
          "x": 51,
          "y": 544
         },
         {
          "font": {
           "color": "#2D2D2D",
           "size": 18
          },
          "showarrow": false,
          "text": "",
          "x": 50,
          "y": 650
         },
         {
          "font": {
           "color": "#1F77B4",
           "size": 16
          },
          "showarrow": false,
          "text": "      4261",
          "x": 49,
          "y": 575
         },
         {
          "font": {
           "color": "#FF7F0E",
           "size": 16
          },
          "showarrow": false,
          "text": "      3197",
          "x": 49,
          "y": 550
         },
         {
          "font": {
           "color": "#D62728",
           "size": 16
          },
          "showarrow": false,
          "text": "     -25.0%",
          "x": 50,
          "y": 520
         },
         {
          "align": "left",
          "bgcolor": "white",
          "bordercolor": "#2D2D2D",
          "borderpad": 5,
          "borderwidth": 1,
          "height": 45,
          "showarrow": false,
          "text": "",
          "width": 60,
          "x": 75,
          "y": 544
         },
         {
          "font": {
           "color": "#2D2D2D",
           "size": 18
          },
          "showarrow": false,
          "text": "",
          "x": 74,
          "y": 650
         },
         {
          "font": {
           "color": "#1F77B4",
           "size": 16
          },
          "showarrow": false,
          "text": "      4308",
          "x": 73,
          "y": 575
         },
         {
          "font": {
           "color": "#FF7F0E",
           "size": 16
          },
          "showarrow": false,
          "text": "      3248",
          "x": 73,
          "y": 550
         },
         {
          "font": {
           "color": "#D62728",
           "size": 16
          },
          "showarrow": false,
          "text": "     -24.6%",
          "x": 74,
          "y": 520
         },
         {
          "align": "left",
          "bgcolor": "white",
          "bordercolor": "#2D2D2D",
          "borderpad": 5,
          "borderwidth": 1,
          "height": 45,
          "showarrow": false,
          "text": "",
          "width": 60,
          "x": 99,
          "y": 544
         },
         {
          "font": {
           "color": "#2D2D2D",
           "size": 18
          },
          "showarrow": false,
          "text": "",
          "x": 98,
          "y": 650
         },
         {
          "font": {
           "color": "#1F77B4",
           "size": 16
          },
          "showarrow": false,
          "text": "      4605",
          "x": 97,
          "y": 575
         },
         {
          "font": {
           "color": "#FF7F0E",
           "size": 16
          },
          "showarrow": false,
          "text": "      3424",
          "x": 97,
          "y": 550
         },
         {
          "font": {
           "color": "#D62728",
           "size": 16
          },
          "showarrow": false,
          "text": "     -25.6%",
          "x": 98,
          "y": 520
         },
         {
          "align": "left",
          "bgcolor": "white",
          "bordercolor": "#2D2D2D",
          "borderpad": 5,
          "borderwidth": 1,
          "height": 45,
          "showarrow": false,
          "text": "",
          "width": 60,
          "x": 123,
          "y": 544
         },
         {
          "font": {
           "color": "#2D2D2D",
           "size": 18
          },
          "showarrow": false,
          "text": "",
          "x": 122,
          "y": 650
         },
         {
          "font": {
           "color": "#1F77B4",
           "size": 16
          },
          "showarrow": false,
          "text": "      3815",
          "x": 121,
          "y": 575
         },
         {
          "font": {
           "color": "#FF7F0E",
           "size": 16
          },
          "showarrow": false,
          "text": "      3338",
          "x": 121,
          "y": 550
         },
         {
          "font": {
           "color": "#D62728",
           "size": 16
          },
          "showarrow": false,
          "text": "     -12.5%",
          "x": 122,
          "y": 520
         },
         {
          "align": "left",
          "bgcolor": "white",
          "bordercolor": "#2D2D2D",
          "borderpad": 5,
          "borderwidth": 1,
          "height": 45,
          "showarrow": false,
          "text": "",
          "width": 60,
          "x": 147,
          "y": 544
         },
         {
          "font": {
           "color": "#2D2D2D",
           "size": 18
          },
          "showarrow": false,
          "text": "",
          "x": 146,
          "y": 650
         },
         {
          "font": {
           "color": "#1F77B4",
           "size": 16
          },
          "showarrow": false,
          "text": "      2978",
          "x": 145,
          "y": 575
         },
         {
          "font": {
           "color": "#FF7F0E",
           "size": 16
          },
          "showarrow": false,
          "text": "      2806",
          "x": 145,
          "y": 550
         },
         {
          "font": {
           "color": "#D62728",
           "size": 16
          },
          "showarrow": false,
          "text": "      -5.8%",
          "x": 146,
          "y": 520
         }
        ],
        "autosize": true,
        "font": {
         "color": "#2D2D2D",
         "family": "Lato, sans-serif",
         "size": 18
        },
        "legend": {
         "bgcolor": "rgba(255,255,255, 0.0)",
         "title": {},
         "tracegroupgap": 0,
         "x": 0.99,
         "xanchor": "right",
         "y": 0.99,
         "yanchor": "top"
        },
        "margin": {
         "b": 32,
         "l": 0,
         "r": 0,
         "t": 48
        },
        "template": {
         "data": {
          "bar": [
           {
            "error_x": {
             "color": "rgb(36,36,36)"
            },
            "error_y": {
             "color": "rgb(36,36,36)"
            },
            "marker": {
             "line": {
              "color": "rgb(234,234,242)",
              "width": 0.5
             },
             "pattern": {
              "fillmode": "overlay",
              "size": 10,
              "solidity": 0.2
             }
            },
            "type": "bar"
           }
          ],
          "barpolar": [
           {
            "marker": {
             "line": {
              "color": "rgb(234,234,242)",
              "width": 0.5
             },
             "pattern": {
              "fillmode": "overlay",
              "size": 10,
              "solidity": 0.2
             }
            },
            "type": "barpolar"
           }
          ],
          "carpet": [
           {
            "aaxis": {
             "endlinecolor": "rgb(36,36,36)",
             "gridcolor": "white",
             "linecolor": "white",
             "minorgridcolor": "white",
             "startlinecolor": "rgb(36,36,36)"
            },
            "baxis": {
             "endlinecolor": "rgb(36,36,36)",
             "gridcolor": "white",
             "linecolor": "white",
             "minorgridcolor": "white",
             "startlinecolor": "rgb(36,36,36)"
            },
            "type": "carpet"
           }
          ],
          "choropleth": [
           {
            "colorbar": {
             "outlinewidth": 0,
             "tickcolor": "rgb(36,36,36)",
             "ticklen": 8,
             "ticks": "outside",
             "tickwidth": 2
            },
            "type": "choropleth"
           }
          ],
          "contour": [
           {
            "colorbar": {
             "outlinewidth": 0,
             "tickcolor": "rgb(36,36,36)",
             "ticklen": 8,
             "ticks": "outside",
             "tickwidth": 2
            },
            "colorscale": [
             [
              0,
              "rgb(2,4,25)"
             ],
             [
              0.06274509803921569,
              "rgb(24,15,41)"
             ],
             [
              0.12549019607843137,
              "rgb(47,23,57)"
             ],
             [
              0.18823529411764706,
              "rgb(71,28,72)"
             ],
             [
              0.25098039215686274,
              "rgb(97,30,82)"
             ],
             [
              0.3137254901960784,
              "rgb(123,30,89)"
             ],
             [
              0.3764705882352941,
              "rgb(150,27,91)"
             ],
             [
              0.4392156862745098,
              "rgb(177,22,88)"
             ],
             [
              0.5019607843137255,
              "rgb(203,26,79)"
             ],
             [
              0.5647058823529412,
              "rgb(223,47,67)"
             ],
             [
              0.6274509803921569,
              "rgb(236,76,61)"
             ],
             [
              0.6901960784313725,
              "rgb(242,107,73)"
             ],
             [
              0.7529411764705882,
              "rgb(244,135,95)"
             ],
             [
              0.8156862745098039,
              "rgb(245,162,122)"
             ],
             [
              0.8784313725490196,
              "rgb(246,188,153)"
             ],
             [
              0.9411764705882353,
              "rgb(247,212,187)"
             ],
             [
              1,
              "rgb(250,234,220)"
             ]
            ],
            "type": "contour"
           }
          ],
          "contourcarpet": [
           {
            "colorbar": {
             "outlinewidth": 0,
             "tickcolor": "rgb(36,36,36)",
             "ticklen": 8,
             "ticks": "outside",
             "tickwidth": 2
            },
            "type": "contourcarpet"
           }
          ],
          "heatmap": [
           {
            "colorbar": {
             "outlinewidth": 0,
             "tickcolor": "rgb(36,36,36)",
             "ticklen": 8,
             "ticks": "outside",
             "tickwidth": 2
            },
            "colorscale": [
             [
              0,
              "rgb(2,4,25)"
             ],
             [
              0.06274509803921569,
              "rgb(24,15,41)"
             ],
             [
              0.12549019607843137,
              "rgb(47,23,57)"
             ],
             [
              0.18823529411764706,
              "rgb(71,28,72)"
             ],
             [
              0.25098039215686274,
              "rgb(97,30,82)"
             ],
             [
              0.3137254901960784,
              "rgb(123,30,89)"
             ],
             [
              0.3764705882352941,
              "rgb(150,27,91)"
             ],
             [
              0.4392156862745098,
              "rgb(177,22,88)"
             ],
             [
              0.5019607843137255,
              "rgb(203,26,79)"
             ],
             [
              0.5647058823529412,
              "rgb(223,47,67)"
             ],
             [
              0.6274509803921569,
              "rgb(236,76,61)"
             ],
             [
              0.6901960784313725,
              "rgb(242,107,73)"
             ],
             [
              0.7529411764705882,
              "rgb(244,135,95)"
             ],
             [
              0.8156862745098039,
              "rgb(245,162,122)"
             ],
             [
              0.8784313725490196,
              "rgb(246,188,153)"
             ],
             [
              0.9411764705882353,
              "rgb(247,212,187)"
             ],
             [
              1,
              "rgb(250,234,220)"
             ]
            ],
            "type": "heatmap"
           }
          ],
          "heatmapgl": [
           {
            "colorbar": {
             "outlinewidth": 0,
             "tickcolor": "rgb(36,36,36)",
             "ticklen": 8,
             "ticks": "outside",
             "tickwidth": 2
            },
            "colorscale": [
             [
              0,
              "rgb(2,4,25)"
             ],
             [
              0.06274509803921569,
              "rgb(24,15,41)"
             ],
             [
              0.12549019607843137,
              "rgb(47,23,57)"
             ],
             [
              0.18823529411764706,
              "rgb(71,28,72)"
             ],
             [
              0.25098039215686274,
              "rgb(97,30,82)"
             ],
             [
              0.3137254901960784,
              "rgb(123,30,89)"
             ],
             [
              0.3764705882352941,
              "rgb(150,27,91)"
             ],
             [
              0.4392156862745098,
              "rgb(177,22,88)"
             ],
             [
              0.5019607843137255,
              "rgb(203,26,79)"
             ],
             [
              0.5647058823529412,
              "rgb(223,47,67)"
             ],
             [
              0.6274509803921569,
              "rgb(236,76,61)"
             ],
             [
              0.6901960784313725,
              "rgb(242,107,73)"
             ],
             [
              0.7529411764705882,
              "rgb(244,135,95)"
             ],
             [
              0.8156862745098039,
              "rgb(245,162,122)"
             ],
             [
              0.8784313725490196,
              "rgb(246,188,153)"
             ],
             [
              0.9411764705882353,
              "rgb(247,212,187)"
             ],
             [
              1,
              "rgb(250,234,220)"
             ]
            ],
            "type": "heatmapgl"
           }
          ],
          "histogram": [
           {
            "marker": {
             "pattern": {
              "fillmode": "overlay",
              "size": 10,
              "solidity": 0.2
             }
            },
            "type": "histogram"
           }
          ],
          "histogram2d": [
           {
            "colorbar": {
             "outlinewidth": 0,
             "tickcolor": "rgb(36,36,36)",
             "ticklen": 8,
             "ticks": "outside",
             "tickwidth": 2
            },
            "colorscale": [
             [
              0,
              "rgb(2,4,25)"
             ],
             [
              0.06274509803921569,
              "rgb(24,15,41)"
             ],
             [
              0.12549019607843137,
              "rgb(47,23,57)"
             ],
             [
              0.18823529411764706,
              "rgb(71,28,72)"
             ],
             [
              0.25098039215686274,
              "rgb(97,30,82)"
             ],
             [
              0.3137254901960784,
              "rgb(123,30,89)"
             ],
             [
              0.3764705882352941,
              "rgb(150,27,91)"
             ],
             [
              0.4392156862745098,
              "rgb(177,22,88)"
             ],
             [
              0.5019607843137255,
              "rgb(203,26,79)"
             ],
             [
              0.5647058823529412,
              "rgb(223,47,67)"
             ],
             [
              0.6274509803921569,
              "rgb(236,76,61)"
             ],
             [
              0.6901960784313725,
              "rgb(242,107,73)"
             ],
             [
              0.7529411764705882,
              "rgb(244,135,95)"
             ],
             [
              0.8156862745098039,
              "rgb(245,162,122)"
             ],
             [
              0.8784313725490196,
              "rgb(246,188,153)"
             ],
             [
              0.9411764705882353,
              "rgb(247,212,187)"
             ],
             [
              1,
              "rgb(250,234,220)"
             ]
            ],
            "type": "histogram2d"
           }
          ],
          "histogram2dcontour": [
           {
            "colorbar": {
             "outlinewidth": 0,
             "tickcolor": "rgb(36,36,36)",
             "ticklen": 8,
             "ticks": "outside",
             "tickwidth": 2
            },
            "colorscale": [
             [
              0,
              "rgb(2,4,25)"
             ],
             [
              0.06274509803921569,
              "rgb(24,15,41)"
             ],
             [
              0.12549019607843137,
              "rgb(47,23,57)"
             ],
             [
              0.18823529411764706,
              "rgb(71,28,72)"
             ],
             [
              0.25098039215686274,
              "rgb(97,30,82)"
             ],
             [
              0.3137254901960784,
              "rgb(123,30,89)"
             ],
             [
              0.3764705882352941,
              "rgb(150,27,91)"
             ],
             [
              0.4392156862745098,
              "rgb(177,22,88)"
             ],
             [
              0.5019607843137255,
              "rgb(203,26,79)"
             ],
             [
              0.5647058823529412,
              "rgb(223,47,67)"
             ],
             [
              0.6274509803921569,
              "rgb(236,76,61)"
             ],
             [
              0.6901960784313725,
              "rgb(242,107,73)"
             ],
             [
              0.7529411764705882,
              "rgb(244,135,95)"
             ],
             [
              0.8156862745098039,
              "rgb(245,162,122)"
             ],
             [
              0.8784313725490196,
              "rgb(246,188,153)"
             ],
             [
              0.9411764705882353,
              "rgb(247,212,187)"
             ],
             [
              1,
              "rgb(250,234,220)"
             ]
            ],
            "type": "histogram2dcontour"
           }
          ],
          "mesh3d": [
           {
            "colorbar": {
             "outlinewidth": 0,
             "tickcolor": "rgb(36,36,36)",
             "ticklen": 8,
             "ticks": "outside",
             "tickwidth": 2
            },
            "type": "mesh3d"
           }
          ],
          "parcoords": [
           {
            "line": {
             "colorbar": {
              "outlinewidth": 0,
              "tickcolor": "rgb(36,36,36)",
              "ticklen": 8,
              "ticks": "outside",
              "tickwidth": 2
             }
            },
            "type": "parcoords"
           }
          ],
          "pie": [
           {
            "automargin": true,
            "type": "pie"
           }
          ],
          "scatter": [
           {
            "fillpattern": {
             "fillmode": "overlay",
             "size": 10,
             "solidity": 0.2
            },
            "type": "scatter"
           }
          ],
          "scatter3d": [
           {
            "line": {
             "colorbar": {
              "outlinewidth": 0,
              "tickcolor": "rgb(36,36,36)",
              "ticklen": 8,
              "ticks": "outside",
              "tickwidth": 2
             }
            },
            "marker": {
             "colorbar": {
              "outlinewidth": 0,
              "tickcolor": "rgb(36,36,36)",
              "ticklen": 8,
              "ticks": "outside",
              "tickwidth": 2
             }
            },
            "type": "scatter3d"
           }
          ],
          "scattercarpet": [
           {
            "marker": {
             "colorbar": {
              "outlinewidth": 0,
              "tickcolor": "rgb(36,36,36)",
              "ticklen": 8,
              "ticks": "outside",
              "tickwidth": 2
             }
            },
            "type": "scattercarpet"
           }
          ],
          "scattergeo": [
           {
            "marker": {
             "colorbar": {
              "outlinewidth": 0,
              "tickcolor": "rgb(36,36,36)",
              "ticklen": 8,
              "ticks": "outside",
              "tickwidth": 2
             }
            },
            "type": "scattergeo"
           }
          ],
          "scattergl": [
           {
            "marker": {
             "colorbar": {
              "outlinewidth": 0,
              "tickcolor": "rgb(36,36,36)",
              "ticklen": 8,
              "ticks": "outside",
              "tickwidth": 2
             }
            },
            "type": "scattergl"
           }
          ],
          "scattermapbox": [
           {
            "marker": {
             "colorbar": {
              "outlinewidth": 0,
              "tickcolor": "rgb(36,36,36)",
              "ticklen": 8,
              "ticks": "outside",
              "tickwidth": 2
             }
            },
            "type": "scattermapbox"
           }
          ],
          "scatterpolar": [
           {
            "marker": {
             "colorbar": {
              "outlinewidth": 0,
              "tickcolor": "rgb(36,36,36)",
              "ticklen": 8,
              "ticks": "outside",
              "tickwidth": 2
             }
            },
            "type": "scatterpolar"
           }
          ],
          "scatterpolargl": [
           {
            "marker": {
             "colorbar": {
              "outlinewidth": 0,
              "tickcolor": "rgb(36,36,36)",
              "ticklen": 8,
              "ticks": "outside",
              "tickwidth": 2
             }
            },
            "type": "scatterpolargl"
           }
          ],
          "scatterternary": [
           {
            "marker": {
             "colorbar": {
              "outlinewidth": 0,
              "tickcolor": "rgb(36,36,36)",
              "ticklen": 8,
              "ticks": "outside",
              "tickwidth": 2
             }
            },
            "type": "scatterternary"
           }
          ],
          "surface": [
           {
            "colorbar": {
             "outlinewidth": 0,
             "tickcolor": "rgb(36,36,36)",
             "ticklen": 8,
             "ticks": "outside",
             "tickwidth": 2
            },
            "colorscale": [
             [
              0,
              "rgb(2,4,25)"
             ],
             [
              0.06274509803921569,
              "rgb(24,15,41)"
             ],
             [
              0.12549019607843137,
              "rgb(47,23,57)"
             ],
             [
              0.18823529411764706,
              "rgb(71,28,72)"
             ],
             [
              0.25098039215686274,
              "rgb(97,30,82)"
             ],
             [
              0.3137254901960784,
              "rgb(123,30,89)"
             ],
             [
              0.3764705882352941,
              "rgb(150,27,91)"
             ],
             [
              0.4392156862745098,
              "rgb(177,22,88)"
             ],
             [
              0.5019607843137255,
              "rgb(203,26,79)"
             ],
             [
              0.5647058823529412,
              "rgb(223,47,67)"
             ],
             [
              0.6274509803921569,
              "rgb(236,76,61)"
             ],
             [
              0.6901960784313725,
              "rgb(242,107,73)"
             ],
             [
              0.7529411764705882,
              "rgb(244,135,95)"
             ],
             [
              0.8156862745098039,
              "rgb(245,162,122)"
             ],
             [
              0.8784313725490196,
              "rgb(246,188,153)"
             ],
             [
              0.9411764705882353,
              "rgb(247,212,187)"
             ],
             [
              1,
              "rgb(250,234,220)"
             ]
            ],
            "type": "surface"
           }
          ],
          "table": [
           {
            "cells": {
             "fill": {
              "color": "rgb(231,231,240)"
             },
             "line": {
              "color": "white"
             }
            },
            "header": {
             "fill": {
              "color": "rgb(183,183,191)"
             },
             "line": {
              "color": "white"
             }
            },
            "type": "table"
           }
          ]
         },
         "layout": {
          "annotationdefaults": {
           "arrowcolor": "rgb(67,103,167)"
          },
          "autotypenumbers": "strict",
          "coloraxis": {
           "colorbar": {
            "outlinewidth": 0,
            "tickcolor": "rgb(36,36,36)",
            "ticklen": 8,
            "ticks": "outside",
            "tickwidth": 2
           }
          },
          "colorscale": {
           "sequential": [
            [
             0,
             "rgb(2,4,25)"
            ],
            [
             0.06274509803921569,
             "rgb(24,15,41)"
            ],
            [
             0.12549019607843137,
             "rgb(47,23,57)"
            ],
            [
             0.18823529411764706,
             "rgb(71,28,72)"
            ],
            [
             0.25098039215686274,
             "rgb(97,30,82)"
            ],
            [
             0.3137254901960784,
             "rgb(123,30,89)"
            ],
            [
             0.3764705882352941,
             "rgb(150,27,91)"
            ],
            [
             0.4392156862745098,
             "rgb(177,22,88)"
            ],
            [
             0.5019607843137255,
             "rgb(203,26,79)"
            ],
            [
             0.5647058823529412,
             "rgb(223,47,67)"
            ],
            [
             0.6274509803921569,
             "rgb(236,76,61)"
            ],
            [
             0.6901960784313725,
             "rgb(242,107,73)"
            ],
            [
             0.7529411764705882,
             "rgb(244,135,95)"
            ],
            [
             0.8156862745098039,
             "rgb(245,162,122)"
            ],
            [
             0.8784313725490196,
             "rgb(246,188,153)"
            ],
            [
             0.9411764705882353,
             "rgb(247,212,187)"
            ],
            [
             1,
             "rgb(250,234,220)"
            ]
           ],
           "sequentialminus": [
            [
             0,
             "rgb(2,4,25)"
            ],
            [
             0.06274509803921569,
             "rgb(24,15,41)"
            ],
            [
             0.12549019607843137,
             "rgb(47,23,57)"
            ],
            [
             0.18823529411764706,
             "rgb(71,28,72)"
            ],
            [
             0.25098039215686274,
             "rgb(97,30,82)"
            ],
            [
             0.3137254901960784,
             "rgb(123,30,89)"
            ],
            [
             0.3764705882352941,
             "rgb(150,27,91)"
            ],
            [
             0.4392156862745098,
             "rgb(177,22,88)"
            ],
            [
             0.5019607843137255,
             "rgb(203,26,79)"
            ],
            [
             0.5647058823529412,
             "rgb(223,47,67)"
            ],
            [
             0.6274509803921569,
             "rgb(236,76,61)"
            ],
            [
             0.6901960784313725,
             "rgb(242,107,73)"
            ],
            [
             0.7529411764705882,
             "rgb(244,135,95)"
            ],
            [
             0.8156862745098039,
             "rgb(245,162,122)"
            ],
            [
             0.8784313725490196,
             "rgb(246,188,153)"
            ],
            [
             0.9411764705882353,
             "rgb(247,212,187)"
            ],
            [
             1,
             "rgb(250,234,220)"
            ]
           ]
          },
          "colorway": [
           "rgb(76,114,176)",
           "rgb(221,132,82)",
           "rgb(85,168,104)",
           "rgb(196,78,82)",
           "rgb(129,114,179)",
           "rgb(147,120,96)",
           "rgb(218,139,195)",
           "rgb(140,140,140)",
           "rgb(204,185,116)",
           "rgb(100,181,205)"
          ],
          "font": {
           "color": "rgb(36,36,36)"
          },
          "geo": {
           "bgcolor": "white",
           "lakecolor": "white",
           "landcolor": "rgb(234,234,242)",
           "showlakes": true,
           "showland": true,
           "subunitcolor": "white"
          },
          "hoverlabel": {
           "align": "left"
          },
          "hovermode": "closest",
          "paper_bgcolor": "white",
          "plot_bgcolor": "rgb(234,234,242)",
          "polar": {
           "angularaxis": {
            "gridcolor": "white",
            "linecolor": "white",
            "showgrid": true,
            "ticks": ""
           },
           "bgcolor": "rgb(234,234,242)",
           "radialaxis": {
            "gridcolor": "white",
            "linecolor": "white",
            "showgrid": true,
            "ticks": ""
           }
          },
          "scene": {
           "xaxis": {
            "backgroundcolor": "rgb(234,234,242)",
            "gridcolor": "white",
            "gridwidth": 2,
            "linecolor": "white",
            "showbackground": true,
            "showgrid": true,
            "ticks": "",
            "zerolinecolor": "white"
           },
           "yaxis": {
            "backgroundcolor": "rgb(234,234,242)",
            "gridcolor": "white",
            "gridwidth": 2,
            "linecolor": "white",
            "showbackground": true,
            "showgrid": true,
            "ticks": "",
            "zerolinecolor": "white"
           },
           "zaxis": {
            "backgroundcolor": "rgb(234,234,242)",
            "gridcolor": "white",
            "gridwidth": 2,
            "linecolor": "white",
            "showbackground": true,
            "showgrid": true,
            "ticks": "",
            "zerolinecolor": "white"
           }
          },
          "shapedefaults": {
           "fillcolor": "rgb(67,103,167)",
           "line": {
            "width": 0
           },
           "opacity": 0.5
          },
          "ternary": {
           "aaxis": {
            "gridcolor": "white",
            "linecolor": "white",
            "showgrid": true,
            "ticks": ""
           },
           "baxis": {
            "gridcolor": "white",
            "linecolor": "white",
            "showgrid": true,
            "ticks": ""
           },
           "bgcolor": "rgb(234,234,242)",
           "caxis": {
            "gridcolor": "white",
            "linecolor": "white",
            "showgrid": true,
            "ticks": ""
           }
          },
          "xaxis": {
           "automargin": true,
           "gridcolor": "white",
           "linecolor": "white",
           "showgrid": true,
           "ticks": "",
           "title": {
            "standoff": 15
           },
           "zerolinecolor": "white"
          },
          "yaxis": {
           "automargin": true,
           "gridcolor": "white",
           "linecolor": "white",
           "showgrid": true,
           "ticks": "",
           "title": {
            "standoff": 15
           },
           "zerolinecolor": "white"
          }
         }
        },
        "title": {
         "font": {
          "size": 24
         },
         "text": "<b>18-24 & 65+</b>"
        },
        "xaxis": {
         "anchor": "y",
         "autorange": true,
         "domain": [
          0,
          1
         ],
         "range": [
          -1.8427607680332123,
          167
         ],
         "tickfont": {
          "size": 18
         },
         "tickformat": "%b %Y",
         "ticktext": [
          "Mon",
          "Tue",
          "Wed",
          "Thu",
          "Fri",
          "Sat",
          "Sun"
         ],
         "tickvals": [
          0,
          24,
          48,
          72,
          96,
          120,
          144
         ],
         "title": {
          "text": "Hour of day"
         },
         "type": "linear"
        },
        "yaxis": {
         "anchor": "x",
         "autorange": true,
         "domain": [
          0,
          1
         ],
         "range": [
          -34.39199045219467,
          653.4478185916987
         ],
         "tickfont": {
          "size": 18
         },
         "title": {
          "text": "Steps"
         },
         "type": "linear"
        }
       }
      },
      "image/png": "[encoded data removed]",
      "text/html": [
       "<div>                            <div id=\"6ec54acc-a881-4d5b-9781-3e8b2b11e39c\" class=\"plotly-graph-div\" style=\"height:500px; width:100%;\"></div>            <script type=\"text/javascript\">                require([\"plotly\"], function(Plotly) {                    window.PLOTLYENV=window.PLOTLYENV || {};                                    if (document.getElementById(\"6ec54acc-a881-4d5b-9781-3e8b2b11e39c\")) {                    Plotly.newPlot(                        \"6ec54acc-a881-4d5b-9781-3e8b2b11e39c\",                        [{\"hovertemplate\":\"period=Before<br>hour=%{x}<br>value=%{y}<extra></extra>\",\"legendgroup\":\"Before\",\"line\":{\"color\":\"#1F77B4\",\"dash\":\"solid\",\"shape\":\"spline\"},\"marker\":{\"symbol\":\"circle\"},\"mode\":\"lines\",\"name\":\"Before\",\"orientation\":\"v\",\"showlegend\":true,\"x\":[0,1,2,3,4,5,6,7,8,9,10,11,12,13,14,15,16,17,18,19,20,21,22,23,24,25,26,27,28,29,30,31,32,33,34,35,36,37,38,39,40,41,42,43,44,45,46,47,48,49,50,51,52,53,54,55,56,57,58,59,60,61,62,63,64,65,66,67,68,69,70,71,72,73,74,75,76,77,78,79,80,81,82,83,84,85,86,87,88,89,90,91,92,93,94,95,96,97,98,99,100,101,102,103,104,105,106,107,108,109,110,111,112,113,114,115,116,117,118,119,120,121,122,123,124,125,126,127,128,129,130,131,132,133,134,135,136,137,138,139,140,141,142,143,144,145,146,147,148,149,150,151,152,153,154,155,156,157,158,159,160,161,162,163,164,165,166,167],\"xaxis\":\"x\",\"y\":[0.17592980315831233,0.0,0.0,0.0,0.0,0.0,2.0368448587153036,86.3256416502165,195.76083089961898,239.322766201313,239.48128267379016,339.75212796745194,445.93870486771266,352.5821945054959,351.89442722274384,378.6967071725988,394.7628341864759,372.17242146985444,278.483679577549,187.20413278459583,123.81206220833377,71.19669462162467,31.14633473255574,6.12372046061689,0.17500000000000002,0.0,0.0,0.0,0.0,0.0,1.8854166666666667,91.2982591772439,216.56433435967378,232.66555624961572,242.96916005961785,356.8807228831536,436.70482312841585,350.52201183586595,372.0042417637604,395.6345268499692,400.2742019839765,366.8940314017911,275.3703379093781,187.4975780613181,138.02804540324303,74.4528106817988,34.09720181879936,9.116666666666665,1.686111111111111,1.6304534787829226,0.4694444444444444,0.0,0.0,0.0,2.2770833333333336,95.8577680473383,197.73277324753113,245.69476694474778,229.65228736806117,355.59976054283175,443.030078200469,368.7056854481161,372.1333917869074,395.71772184315904,411.83928510630795,385.503183074039,274.08261929709096,198.21903589742178,133.9474565753974,95.08351647202899,41.44433821281111,10.827682813558924,0.4884791843381014,0.0,0.0,0.0,0.0,0.0,2.0396970367612464,86.59354740417052,213.7471517086717,237.08847424418806,261.1555021784857,355.3594515157115,451.93725907709677,364.3196739144683,380.6789242492605,423.0846205758639,409.9265531937588,369.66532183995713,277.12597892069124,193.44148810420347,139.5638762286921,87.95133384407404,43.24216284144725,10.805498368535874,0.7306863812159626,0.0,0.0,0.0,0.0,0.0,1.19265633274277,82.70578030068293,192.27215428395883,239.53088540110434,265.8846549761236,379.6795294176762,475.5709171627054,402.51768434021074,433.5418102276905,446.13303055028945,423.51030152278435,372.46228584685076,304.04654157619376,202.9819955022068,145.05142346558273,104.35413430460012,88.93884155337402,43.85783162921948,12.151173456477482,0.28439120845820437,0.0,0.0,0.0,0.0,0.0,1.8006468199376366,19.544991794726574,98.2486898740043,212.75876940821368,346.90951786243704,402.48761911298817,439.81105173209835,439.4538923202478,387.16112331643376,340.567555105119,307.9261658248649,239.69277420966955,185.08092816345115,140.18331073909576,107.09850291733237,83.89430140725254,50.358295927290015,19.278735100131655,3.1614781439050788,0.0,0.0,0.0,0.0,0.0,0.26666666666666666,10.10138888888889,58.702510353398175,160.73072182494624,271.5106537196702,342.14288849727274,370.98564801818105,374.1807778909177,340.87642430033196,287.7620791030299,242.6975120727908,187.81851020227654,137.05836469801034,87.10291906108449,52.03734733211737,24.659398112544125,6.642297597022754],\"yaxis\":\"y\",\"type\":\"scatter\"},{\"hovertemplate\":\"period=During<br>hour=%{x}<br>value=%{y}<extra></extra>\",\"legendgroup\":\"During\",\"line\":{\"color\":\"#FF7F0E\",\"dash\":\"solid\",\"shape\":\"spline\"},\"marker\":{\"symbol\":\"circle\"},\"mode\":\"lines\",\"name\":\"During\",\"orientation\":\"v\",\"showlegend\":true,\"x\":[0,1,2,3,4,5,6,7,8,9,10,11,12,13,14,15,16,17,18,19,20,21,22,23,24,25,26,27,28,29,30,31,32,33,34,35,36,37,38,39,40,41,42,43,44,45,46,47,48,49,50,51,52,53,54,55,56,57,58,59,60,61,62,63,64,65,66,67,68,69,70,71,72,73,74,75,76,77,78,79,80,81,82,83,84,85,86,87,88,89,90,91,92,93,94,95,96,97,98,99,100,101,102,103,104,105,106,107,108,109,110,111,112,113,114,115,116,117,118,119,120,121,122,123,124,125,126,127,128,129,130,131,132,133,134,135,136,137,138,139,140,141,142,143,144,145,146,147,148,149,150,151,152,153,154,155,156,157,158,159,160,161,162,163,164,165,166,167],\"xaxis\":\"x\",\"y\":[0.0,0.0,0.0,0.0,0.0,0.0,0.016666666666666666,17.30440271468831,65.25821020756241,100.72349370007498,146.98868018417923,241.25106263185504,352.43231550461905,305.0970914026791,301.77392642067247,322.69582254795745,334.116587699553,310.39500005689115,239.08331693364673,148.99815193356355,87.69562611621087,49.658913062868116,24.28787191369585,6.991158837392542,0.09166666666666667,0.0,0.0,0.0,0.0,0.0,0.0,16.661326182795374,69.96932070723241,102.30870508551492,161.19429045174556,258.96362658948834,343.07455344090386,297.3290317808357,306.31540699718954,314.99801000507017,333.0438619885638,326.2114747417613,240.8436586574999,141.75186380074118,88.69440956178641,49.043278505596284,25.90795676029822,5.978550706759058,0.2333333333333333,0.0,0.0,0.0,0.0,0.0,0.0,19.360015320134153,70.38869377295066,105.7522049025148,158.451324080992,265.5674299891325,349.6144040812839,313.31262749681156,317.9318700967464,333.85072209459673,346.85498161506507,323.281522196929,250.25608707295692,153.2044245520025,93.65145843390822,58.55429177337922,28.435822573277136,8.689230251501447,0.4583333333333333,0.0,0.0,0.0,0.0,0.0,0.0,17.08188539372908,72.53150009429946,117.0295175349886,170.52008953489653,267.0884422296413,369.1195714083701,320.63249730188153,320.43091498941385,336.6912224962275,338.51065467949434,313.68352958423594,238.9135924149381,159.5986649601053,101.19452929336008,61.91180946306644,31.49884689393436,11.352305265510402,3.77929019737373,0.6972222222222223,0.1416666666666667,0.0,0.0,0.0,0.0,12.39370940030662,57.70371902733077,106.21297837199707,177.5965422206115,288.0962172079867,390.9962710036211,366.70757031641006,353.9391759030282,371.0051514579325,362.7068930200753,306.2924284339476,238.25208682472703,156.9325734532405,93.37962950650484,65.64134581647235,47.64755050435965,24.31867487991448,7.333711674900683,0.3139842701907976,0.0,0.0,0.0,0.0,0.0,0.0,10.384936602657703,58.31320601730558,161.6434933590086,311.92676211450635,420.29422284579505,471.00351018352677,457.8723222024539,366.7418534068634,301.6761273596817,238.7653100575851,188.77913609929763,132.90082796382202,83.78962055929397,56.76058762090997,44.02997872610565,25.02826778964452,8.931592288334132,0.3684019055563253,0.0,0.0,0.0,0.0,0.0,0.0,4.947363758568741,37.281221174413844,119.49176944305604,258.0387677835356,364.67953142354116,393.9016546492612,379.39262970031797,335.7273957923351,276.25655851697434,216.76196309536257,157.2549320034912,116.34855765181491,68.61308669990109,39.24324524274504,21.706633330204966,6.740198923719636],\"yaxis\":\"y\",\"type\":\"scatter\"}],                        {\"template\":{\"data\":{\"histogram2dcontour\":[{\"type\":\"histogram2dcontour\",\"colorbar\":{\"outlinewidth\":0,\"tickcolor\":\"rgb(36,36,36)\",\"ticklen\":8,\"ticks\":\"outside\",\"tickwidth\":2},\"colorscale\":[[0.0,\"rgb(2,4,25)\"],[0.06274509803921569,\"rgb(24,15,41)\"],[0.12549019607843137,\"rgb(47,23,57)\"],[0.18823529411764706,\"rgb(71,28,72)\"],[0.25098039215686274,\"rgb(97,30,82)\"],[0.3137254901960784,\"rgb(123,30,89)\"],[0.3764705882352941,\"rgb(150,27,91)\"],[0.4392156862745098,\"rgb(177,22,88)\"],[0.5019607843137255,\"rgb(203,26,79)\"],[0.5647058823529412,\"rgb(223,47,67)\"],[0.6274509803921569,\"rgb(236,76,61)\"],[0.6901960784313725,\"rgb(242,107,73)\"],[0.7529411764705882,\"rgb(244,135,95)\"],[0.8156862745098039,\"rgb(245,162,122)\"],[0.8784313725490196,\"rgb(246,188,153)\"],[0.9411764705882353,\"rgb(247,212,187)\"],[1.0,\"rgb(250,234,220)\"]]}],\"choropleth\":[{\"type\":\"choropleth\",\"colorbar\":{\"outlinewidth\":0,\"tickcolor\":\"rgb(36,36,36)\",\"ticklen\":8,\"ticks\":\"outside\",\"tickwidth\":2}}],\"histogram2d\":[{\"type\":\"histogram2d\",\"colorbar\":{\"outlinewidth\":0,\"tickcolor\":\"rgb(36,36,36)\",\"ticklen\":8,\"ticks\":\"outside\",\"tickwidth\":2},\"colorscale\":[[0.0,\"rgb(2,4,25)\"],[0.06274509803921569,\"rgb(24,15,41)\"],[0.12549019607843137,\"rgb(47,23,57)\"],[0.18823529411764706,\"rgb(71,28,72)\"],[0.25098039215686274,\"rgb(97,30,82)\"],[0.3137254901960784,\"rgb(123,30,89)\"],[0.3764705882352941,\"rgb(150,27,91)\"],[0.4392156862745098,\"rgb(177,22,88)\"],[0.5019607843137255,\"rgb(203,26,79)\"],[0.5647058823529412,\"rgb(223,47,67)\"],[0.6274509803921569,\"rgb(236,76,61)\"],[0.6901960784313725,\"rgb(242,107,73)\"],[0.7529411764705882,\"rgb(244,135,95)\"],[0.8156862745098039,\"rgb(245,162,122)\"],[0.8784313725490196,\"rgb(246,188,153)\"],[0.9411764705882353,\"rgb(247,212,187)\"],[1.0,\"rgb(250,234,220)\"]]}],\"heatmap\":[{\"type\":\"heatmap\",\"colorbar\":{\"outlinewidth\":0,\"tickcolor\":\"rgb(36,36,36)\",\"ticklen\":8,\"ticks\":\"outside\",\"tickwidth\":2},\"colorscale\":[[0.0,\"rgb(2,4,25)\"],[0.06274509803921569,\"rgb(24,15,41)\"],[0.12549019607843137,\"rgb(47,23,57)\"],[0.18823529411764706,\"rgb(71,28,72)\"],[0.25098039215686274,\"rgb(97,30,82)\"],[0.3137254901960784,\"rgb(123,30,89)\"],[0.3764705882352941,\"rgb(150,27,91)\"],[0.4392156862745098,\"rgb(177,22,88)\"],[0.5019607843137255,\"rgb(203,26,79)\"],[0.5647058823529412,\"rgb(223,47,67)\"],[0.6274509803921569,\"rgb(236,76,61)\"],[0.6901960784313725,\"rgb(242,107,73)\"],[0.7529411764705882,\"rgb(244,135,95)\"],[0.8156862745098039,\"rgb(245,162,122)\"],[0.8784313725490196,\"rgb(246,188,153)\"],[0.9411764705882353,\"rgb(247,212,187)\"],[1.0,\"rgb(250,234,220)\"]]}],\"heatmapgl\":[{\"type\":\"heatmapgl\",\"colorbar\":{\"outlinewidth\":0,\"tickcolor\":\"rgb(36,36,36)\",\"ticklen\":8,\"ticks\":\"outside\",\"tickwidth\":2},\"colorscale\":[[0.0,\"rgb(2,4,25)\"],[0.06274509803921569,\"rgb(24,15,41)\"],[0.12549019607843137,\"rgb(47,23,57)\"],[0.18823529411764706,\"rgb(71,28,72)\"],[0.25098039215686274,\"rgb(97,30,82)\"],[0.3137254901960784,\"rgb(123,30,89)\"],[0.3764705882352941,\"rgb(150,27,91)\"],[0.4392156862745098,\"rgb(177,22,88)\"],[0.5019607843137255,\"rgb(203,26,79)\"],[0.5647058823529412,\"rgb(223,47,67)\"],[0.6274509803921569,\"rgb(236,76,61)\"],[0.6901960784313725,\"rgb(242,107,73)\"],[0.7529411764705882,\"rgb(244,135,95)\"],[0.8156862745098039,\"rgb(245,162,122)\"],[0.8784313725490196,\"rgb(246,188,153)\"],[0.9411764705882353,\"rgb(247,212,187)\"],[1.0,\"rgb(250,234,220)\"]]}],\"contourcarpet\":[{\"type\":\"contourcarpet\",\"colorbar\":{\"outlinewidth\":0,\"tickcolor\":\"rgb(36,36,36)\",\"ticklen\":8,\"ticks\":\"outside\",\"tickwidth\":2}}],\"contour\":[{\"type\":\"contour\",\"colorbar\":{\"outlinewidth\":0,\"tickcolor\":\"rgb(36,36,36)\",\"ticklen\":8,\"ticks\":\"outside\",\"tickwidth\":2},\"colorscale\":[[0.0,\"rgb(2,4,25)\"],[0.06274509803921569,\"rgb(24,15,41)\"],[0.12549019607843137,\"rgb(47,23,57)\"],[0.18823529411764706,\"rgb(71,28,72)\"],[0.25098039215686274,\"rgb(97,30,82)\"],[0.3137254901960784,\"rgb(123,30,89)\"],[0.3764705882352941,\"rgb(150,27,91)\"],[0.4392156862745098,\"rgb(177,22,88)\"],[0.5019607843137255,\"rgb(203,26,79)\"],[0.5647058823529412,\"rgb(223,47,67)\"],[0.6274509803921569,\"rgb(236,76,61)\"],[0.6901960784313725,\"rgb(242,107,73)\"],[0.7529411764705882,\"rgb(244,135,95)\"],[0.8156862745098039,\"rgb(245,162,122)\"],[0.8784313725490196,\"rgb(246,188,153)\"],[0.9411764705882353,\"rgb(247,212,187)\"],[1.0,\"rgb(250,234,220)\"]]}],\"surface\":[{\"type\":\"surface\",\"colorbar\":{\"outlinewidth\":0,\"tickcolor\":\"rgb(36,36,36)\",\"ticklen\":8,\"ticks\":\"outside\",\"tickwidth\":2},\"colorscale\":[[0.0,\"rgb(2,4,25)\"],[0.06274509803921569,\"rgb(24,15,41)\"],[0.12549019607843137,\"rgb(47,23,57)\"],[0.18823529411764706,\"rgb(71,28,72)\"],[0.25098039215686274,\"rgb(97,30,82)\"],[0.3137254901960784,\"rgb(123,30,89)\"],[0.3764705882352941,\"rgb(150,27,91)\"],[0.4392156862745098,\"rgb(177,22,88)\"],[0.5019607843137255,\"rgb(203,26,79)\"],[0.5647058823529412,\"rgb(223,47,67)\"],[0.6274509803921569,\"rgb(236,76,61)\"],[0.6901960784313725,\"rgb(242,107,73)\"],[0.7529411764705882,\"rgb(244,135,95)\"],[0.8156862745098039,\"rgb(245,162,122)\"],[0.8784313725490196,\"rgb(246,188,153)\"],[0.9411764705882353,\"rgb(247,212,187)\"],[1.0,\"rgb(250,234,220)\"]]}],\"mesh3d\":[{\"type\":\"mesh3d\",\"colorbar\":{\"outlinewidth\":0,\"tickcolor\":\"rgb(36,36,36)\",\"ticklen\":8,\"ticks\":\"outside\",\"tickwidth\":2}}],\"scatter\":[{\"fillpattern\":{\"fillmode\":\"overlay\",\"size\":10,\"solidity\":0.2},\"type\":\"scatter\"}],\"parcoords\":[{\"type\":\"parcoords\",\"line\":{\"colorbar\":{\"outlinewidth\":0,\"tickcolor\":\"rgb(36,36,36)\",\"ticklen\":8,\"ticks\":\"outside\",\"tickwidth\":2}}}],\"scatterpolargl\":[{\"type\":\"scatterpolargl\",\"marker\":{\"colorbar\":{\"outlinewidth\":0,\"tickcolor\":\"rgb(36,36,36)\",\"ticklen\":8,\"ticks\":\"outside\",\"tickwidth\":2}}}],\"bar\":[{\"error_x\":{\"color\":\"rgb(36,36,36)\"},\"error_y\":{\"color\":\"rgb(36,36,36)\"},\"marker\":{\"line\":{\"color\":\"rgb(234,234,242)\",\"width\":0.5},\"pattern\":{\"fillmode\":\"overlay\",\"size\":10,\"solidity\":0.2}},\"type\":\"bar\"}],\"scattergeo\":[{\"type\":\"scattergeo\",\"marker\":{\"colorbar\":{\"outlinewidth\":0,\"tickcolor\":\"rgb(36,36,36)\",\"ticklen\":8,\"ticks\":\"outside\",\"tickwidth\":2}}}],\"scatterpolar\":[{\"type\":\"scatterpolar\",\"marker\":{\"colorbar\":{\"outlinewidth\":0,\"tickcolor\":\"rgb(36,36,36)\",\"ticklen\":8,\"ticks\":\"outside\",\"tickwidth\":2}}}],\"histogram\":[{\"marker\":{\"pattern\":{\"fillmode\":\"overlay\",\"size\":10,\"solidity\":0.2}},\"type\":\"histogram\"}],\"scattergl\":[{\"type\":\"scattergl\",\"marker\":{\"colorbar\":{\"outlinewidth\":0,\"tickcolor\":\"rgb(36,36,36)\",\"ticklen\":8,\"ticks\":\"outside\",\"tickwidth\":2}}}],\"scatter3d\":[{\"type\":\"scatter3d\",\"line\":{\"colorbar\":{\"outlinewidth\":0,\"tickcolor\":\"rgb(36,36,36)\",\"ticklen\":8,\"ticks\":\"outside\",\"tickwidth\":2}},\"marker\":{\"colorbar\":{\"outlinewidth\":0,\"tickcolor\":\"rgb(36,36,36)\",\"ticklen\":8,\"ticks\":\"outside\",\"tickwidth\":2}}}],\"scattermapbox\":[{\"type\":\"scattermapbox\",\"marker\":{\"colorbar\":{\"outlinewidth\":0,\"tickcolor\":\"rgb(36,36,36)\",\"ticklen\":8,\"ticks\":\"outside\",\"tickwidth\":2}}}],\"scatterternary\":[{\"type\":\"scatterternary\",\"marker\":{\"colorbar\":{\"outlinewidth\":0,\"tickcolor\":\"rgb(36,36,36)\",\"ticklen\":8,\"ticks\":\"outside\",\"tickwidth\":2}}}],\"scattercarpet\":[{\"type\":\"scattercarpet\",\"marker\":{\"colorbar\":{\"outlinewidth\":0,\"tickcolor\":\"rgb(36,36,36)\",\"ticklen\":8,\"ticks\":\"outside\",\"tickwidth\":2}}}],\"carpet\":[{\"aaxis\":{\"endlinecolor\":\"rgb(36,36,36)\",\"gridcolor\":\"white\",\"linecolor\":\"white\",\"minorgridcolor\":\"white\",\"startlinecolor\":\"rgb(36,36,36)\"},\"baxis\":{\"endlinecolor\":\"rgb(36,36,36)\",\"gridcolor\":\"white\",\"linecolor\":\"white\",\"minorgridcolor\":\"white\",\"startlinecolor\":\"rgb(36,36,36)\"},\"type\":\"carpet\"}],\"table\":[{\"cells\":{\"fill\":{\"color\":\"rgb(231,231,240)\"},\"line\":{\"color\":\"white\"}},\"header\":{\"fill\":{\"color\":\"rgb(183,183,191)\"},\"line\":{\"color\":\"white\"}},\"type\":\"table\"}],\"barpolar\":[{\"marker\":{\"line\":{\"color\":\"rgb(234,234,242)\",\"width\":0.5},\"pattern\":{\"fillmode\":\"overlay\",\"size\":10,\"solidity\":0.2}},\"type\":\"barpolar\"}],\"pie\":[{\"automargin\":true,\"type\":\"pie\"}]},\"layout\":{\"autotypenumbers\":\"strict\",\"colorway\":[\"rgb(76,114,176)\",\"rgb(221,132,82)\",\"rgb(85,168,104)\",\"rgb(196,78,82)\",\"rgb(129,114,179)\",\"rgb(147,120,96)\",\"rgb(218,139,195)\",\"rgb(140,140,140)\",\"rgb(204,185,116)\",\"rgb(100,181,205)\"],\"font\":{\"color\":\"rgb(36,36,36)\"},\"hovermode\":\"closest\",\"hoverlabel\":{\"align\":\"left\"},\"paper_bgcolor\":\"white\",\"plot_bgcolor\":\"rgb(234,234,242)\",\"polar\":{\"bgcolor\":\"rgb(234,234,242)\",\"angularaxis\":{\"gridcolor\":\"white\",\"linecolor\":\"white\",\"showgrid\":true,\"ticks\":\"\"},\"radialaxis\":{\"gridcolor\":\"white\",\"linecolor\":\"white\",\"showgrid\":true,\"ticks\":\"\"}},\"ternary\":{\"bgcolor\":\"rgb(234,234,242)\",\"aaxis\":{\"gridcolor\":\"white\",\"linecolor\":\"white\",\"showgrid\":true,\"ticks\":\"\"},\"baxis\":{\"gridcolor\":\"white\",\"linecolor\":\"white\",\"showgrid\":true,\"ticks\":\"\"},\"caxis\":{\"gridcolor\":\"white\",\"linecolor\":\"white\",\"showgrid\":true,\"ticks\":\"\"}},\"coloraxis\":{\"colorbar\":{\"outlinewidth\":0,\"tickcolor\":\"rgb(36,36,36)\",\"ticklen\":8,\"ticks\":\"outside\",\"tickwidth\":2}},\"colorscale\":{\"sequential\":[[0.0,\"rgb(2,4,25)\"],[0.06274509803921569,\"rgb(24,15,41)\"],[0.12549019607843137,\"rgb(47,23,57)\"],[0.18823529411764706,\"rgb(71,28,72)\"],[0.25098039215686274,\"rgb(97,30,82)\"],[0.3137254901960784,\"rgb(123,30,89)\"],[0.3764705882352941,\"rgb(150,27,91)\"],[0.4392156862745098,\"rgb(177,22,88)\"],[0.5019607843137255,\"rgb(203,26,79)\"],[0.5647058823529412,\"rgb(223,47,67)\"],[0.6274509803921569,\"rgb(236,76,61)\"],[0.6901960784313725,\"rgb(242,107,73)\"],[0.7529411764705882,\"rgb(244,135,95)\"],[0.8156862745098039,\"rgb(245,162,122)\"],[0.8784313725490196,\"rgb(246,188,153)\"],[0.9411764705882353,\"rgb(247,212,187)\"],[1.0,\"rgb(250,234,220)\"]],\"sequentialminus\":[[0.0,\"rgb(2,4,25)\"],[0.06274509803921569,\"rgb(24,15,41)\"],[0.12549019607843137,\"rgb(47,23,57)\"],[0.18823529411764706,\"rgb(71,28,72)\"],[0.25098039215686274,\"rgb(97,30,82)\"],[0.3137254901960784,\"rgb(123,30,89)\"],[0.3764705882352941,\"rgb(150,27,91)\"],[0.4392156862745098,\"rgb(177,22,88)\"],[0.5019607843137255,\"rgb(203,26,79)\"],[0.5647058823529412,\"rgb(223,47,67)\"],[0.6274509803921569,\"rgb(236,76,61)\"],[0.6901960784313725,\"rgb(242,107,73)\"],[0.7529411764705882,\"rgb(244,135,95)\"],[0.8156862745098039,\"rgb(245,162,122)\"],[0.8784313725490196,\"rgb(246,188,153)\"],[0.9411764705882353,\"rgb(247,212,187)\"],[1.0,\"rgb(250,234,220)\"]]},\"xaxis\":{\"gridcolor\":\"white\",\"linecolor\":\"white\",\"showgrid\":true,\"ticks\":\"\",\"title\":{\"standoff\":15},\"zerolinecolor\":\"white\",\"automargin\":true},\"yaxis\":{\"gridcolor\":\"white\",\"linecolor\":\"white\",\"showgrid\":true,\"ticks\":\"\",\"title\":{\"standoff\":15},\"zerolinecolor\":\"white\",\"automargin\":true},\"scene\":{\"xaxis\":{\"backgroundcolor\":\"rgb(234,234,242)\",\"gridcolor\":\"white\",\"linecolor\":\"white\",\"showbackground\":true,\"showgrid\":true,\"ticks\":\"\",\"zerolinecolor\":\"white\",\"gridwidth\":2},\"yaxis\":{\"backgroundcolor\":\"rgb(234,234,242)\",\"gridcolor\":\"white\",\"linecolor\":\"white\",\"showbackground\":true,\"showgrid\":true,\"ticks\":\"\",\"zerolinecolor\":\"white\",\"gridwidth\":2},\"zaxis\":{\"backgroundcolor\":\"rgb(234,234,242)\",\"gridcolor\":\"white\",\"linecolor\":\"white\",\"showbackground\":true,\"showgrid\":true,\"ticks\":\"\",\"zerolinecolor\":\"white\",\"gridwidth\":2}},\"shapedefaults\":{\"fillcolor\":\"rgb(67,103,167)\",\"line\":{\"width\":0},\"opacity\":0.5},\"annotationdefaults\":{\"arrowcolor\":\"rgb(67,103,167)\"},\"geo\":{\"bgcolor\":\"white\",\"landcolor\":\"rgb(234,234,242)\",\"subunitcolor\":\"white\",\"showland\":true,\"showlakes\":true,\"lakecolor\":\"white\"}}},\"xaxis\":{\"anchor\":\"y\",\"domain\":[0.0,1.0],\"title\":{\"text\":\"Hour of day\"},\"tickvals\":[0,24,48,72,96,120,144],\"ticktext\":[\"Mon\",\"Tue\",\"Wed\",\"Thu\",\"Fri\",\"Sat\",\"Sun\"],\"tickfont\":{\"size\":18},\"tickformat\":\"%b %Y\"},\"yaxis\":{\"anchor\":\"x\",\"domain\":[0.0,1.0],\"title\":{\"text\":\"Steps\"},\"tickfont\":{\"size\":18}},\"legend\":{\"title\":{},\"tracegroupgap\":0,\"bgcolor\":\"rgba(255,255,255, 0.0)\",\"yanchor\":\"top\",\"y\":0.99,\"xanchor\":\"right\",\"x\":0.99},\"title\":{\"text\":\"<b>18-24 & 65+</b>\",\"font\":{\"size\":24}},\"height\":500,\"annotations\":[{\"align\":\"left\",\"bgcolor\":\"white\",\"bordercolor\":\"#2D2D2D\",\"borderpad\":5,\"borderwidth\":1,\"height\":45,\"showarrow\":false,\"text\":\"\",\"width\":60,\"x\":3,\"y\":544},{\"font\":{\"color\":\"#2D2D2D\",\"size\":18},\"showarrow\":false,\"text\":\"\",\"x\":2,\"y\":650},{\"font\":{\"color\":\"#1F77B4\",\"size\":16},\"showarrow\":false,\"text\":\"      4097\",\"x\":1,\"y\":575.0},{\"font\":{\"color\":\"#FF7F0E\",\"size\":16},\"showarrow\":false,\"text\":\"      3055\",\"x\":1,\"y\":550},{\"font\":{\"color\":\"#D62728\",\"size\":16},\"showarrow\":false,\"text\":\"     -25.4%\",\"x\":2,\"y\":520},{\"align\":\"left\",\"bgcolor\":\"white\",\"bordercolor\":\"#2D2D2D\",\"borderpad\":5,\"borderwidth\":1,\"height\":45,\"showarrow\":false,\"text\":\"\",\"width\":60,\"x\":27,\"y\":544},{\"font\":{\"color\":\"#2D2D2D\",\"size\":18},\"showarrow\":false,\"text\":\"\",\"x\":26,\"y\":650},{\"font\":{\"color\":\"#1F77B4\",\"size\":16},\"showarrow\":false,\"text\":\"      4183\",\"x\":25,\"y\":575.0},{\"font\":{\"color\":\"#FF7F0E\",\"size\":16},\"showarrow\":false,\"text\":\"      3082\",\"x\":25,\"y\":550},{\"font\":{\"color\":\"#D62728\",\"size\":16},\"showarrow\":false,\"text\":\"     -26.3%\",\"x\":26,\"y\":520},{\"align\":\"left\",\"bgcolor\":\"white\",\"bordercolor\":\"#2D2D2D\",\"borderpad\":5,\"borderwidth\":1,\"height\":45,\"showarrow\":false,\"text\":\"\",\"width\":60,\"x\":51,\"y\":544},{\"font\":{\"color\":\"#2D2D2D\",\"size\":18},\"showarrow\":false,\"text\":\"\",\"x\":50,\"y\":650},{\"font\":{\"color\":\"#1F77B4\",\"size\":16},\"showarrow\":false,\"text\":\"      4261\",\"x\":49,\"y\":575.0},{\"font\":{\"color\":\"#FF7F0E\",\"size\":16},\"showarrow\":false,\"text\":\"      3197\",\"x\":49,\"y\":550},{\"font\":{\"color\":\"#D62728\",\"size\":16},\"showarrow\":false,\"text\":\"     -25.0%\",\"x\":50,\"y\":520},{\"align\":\"left\",\"bgcolor\":\"white\",\"bordercolor\":\"#2D2D2D\",\"borderpad\":5,\"borderwidth\":1,\"height\":45,\"showarrow\":false,\"text\":\"\",\"width\":60,\"x\":75,\"y\":544},{\"font\":{\"color\":\"#2D2D2D\",\"size\":18},\"showarrow\":false,\"text\":\"\",\"x\":74,\"y\":650},{\"font\":{\"color\":\"#1F77B4\",\"size\":16},\"showarrow\":false,\"text\":\"      4308\",\"x\":73,\"y\":575.0},{\"font\":{\"color\":\"#FF7F0E\",\"size\":16},\"showarrow\":false,\"text\":\"      3248\",\"x\":73,\"y\":550},{\"font\":{\"color\":\"#D62728\",\"size\":16},\"showarrow\":false,\"text\":\"     -24.6%\",\"x\":74,\"y\":520},{\"align\":\"left\",\"bgcolor\":\"white\",\"bordercolor\":\"#2D2D2D\",\"borderpad\":5,\"borderwidth\":1,\"height\":45,\"showarrow\":false,\"text\":\"\",\"width\":60,\"x\":99,\"y\":544},{\"font\":{\"color\":\"#2D2D2D\",\"size\":18},\"showarrow\":false,\"text\":\"\",\"x\":98,\"y\":650},{\"font\":{\"color\":\"#1F77B4\",\"size\":16},\"showarrow\":false,\"text\":\"      4605\",\"x\":97,\"y\":575.0},{\"font\":{\"color\":\"#FF7F0E\",\"size\":16},\"showarrow\":false,\"text\":\"      3424\",\"x\":97,\"y\":550},{\"font\":{\"color\":\"#D62728\",\"size\":16},\"showarrow\":false,\"text\":\"     -25.6%\",\"x\":98,\"y\":520},{\"align\":\"left\",\"bgcolor\":\"white\",\"bordercolor\":\"#2D2D2D\",\"borderpad\":5,\"borderwidth\":1,\"height\":45,\"showarrow\":false,\"text\":\"\",\"width\":60,\"x\":123,\"y\":544},{\"font\":{\"color\":\"#2D2D2D\",\"size\":18},\"showarrow\":false,\"text\":\"\",\"x\":122,\"y\":650},{\"font\":{\"color\":\"#1F77B4\",\"size\":16},\"showarrow\":false,\"text\":\"      3815\",\"x\":121,\"y\":575.0},{\"font\":{\"color\":\"#FF7F0E\",\"size\":16},\"showarrow\":false,\"text\":\"      3338\",\"x\":121,\"y\":550},{\"font\":{\"color\":\"#D62728\",\"size\":16},\"showarrow\":false,\"text\":\"     -12.5%\",\"x\":122,\"y\":520},{\"align\":\"left\",\"bgcolor\":\"white\",\"bordercolor\":\"#2D2D2D\",\"borderpad\":5,\"borderwidth\":1,\"height\":45,\"showarrow\":false,\"text\":\"\",\"width\":60,\"x\":147,\"y\":544},{\"font\":{\"color\":\"#2D2D2D\",\"size\":18},\"showarrow\":false,\"text\":\"\",\"x\":146,\"y\":650},{\"font\":{\"color\":\"#1F77B4\",\"size\":16},\"showarrow\":false,\"text\":\"      2978\",\"x\":145,\"y\":575.0},{\"font\":{\"color\":\"#FF7F0E\",\"size\":16},\"showarrow\":false,\"text\":\"      2806\",\"x\":145,\"y\":550},{\"font\":{\"color\":\"#D62728\",\"size\":16},\"showarrow\":false,\"text\":\"      -5.8%\",\"x\":146,\"y\":520}],\"margin\":{\"l\":0,\"r\":0,\"t\":48,\"b\":32},\"font\":{\"size\":18,\"color\":\"#2D2D2D\",\"family\":\"Lato, sans-serif\"}},                        {\"responsive\": true}                    ).then(function(){\n",
       "                            \n",
       "var gd = document.getElementById('6ec54acc-a881-4d5b-9781-3e8b2b11e39c');\n",
       "var x = new MutationObserver(function (mutations, observer) {{\n",
       "        var display = window.getComputedStyle(gd).display;\n",
       "        if (!display || display === 'none') {{\n",
       "            console.log([gd, 'removed!']);\n",
       "            Plotly.purge(gd);\n",
       "            observer.disconnect();\n",
       "        }}\n",
       "}});\n",
       "\n",
       "// Listen for the removal of the full notebook cells\n",
       "var notebookContainer = gd.closest('#notebook-container');\n",
       "if (notebookContainer) {{\n",
       "    x.observe(notebookContainer, {childList: true});\n",
       "}}\n",
       "\n",
       "// Listen for the clearing of the current output cell\n",
       "var outputEl = gd.closest('.output');\n",
       "if (outputEl) {{\n",
       "    x.observe(outputEl, {childList: true});\n",
       "}}\n",
       "\n",
       "                        })                };                });            </script>        </div>"
      ]
     },
     "metadata": {},
     "output_type": "display_data"
    },
    {
     "data": {
      "application/vnd.plotly.v1+json": {
       "config": {
        "plotlyServerURL": "https://plot.ly"
       },
       "data": [
        {
         "hovertemplate": "period=Before<br>hour=%{x}<br>value=%{y}<extra></extra>",
         "legendgroup": "Before",
         "line": {
          "color": "#1F77B4",
          "dash": "solid",
          "shape": "spline"
         },
         "marker": {
          "symbol": "circle"
         },
         "mode": "lines",
         "name": "Before",
         "orientation": "v",
         "showlegend": true,
         "type": "scatter",
         "x": [
          0,
          1,
          2,
          3,
          4,
          5,
          6,
          7,
          8,
          9,
          10,
          11,
          12,
          13,
          14,
          15,
          16,
          17,
          18,
          19,
          20,
          21,
          22,
          23,
          24,
          25,
          26,
          27,
          28,
          29,
          30,
          31,
          32,
          33,
          34,
          35,
          36,
          37,
          38,
          39,
          40,
          41,
          42,
          43,
          44,
          45,
          46,
          47,
          48,
          49,
          50,
          51,
          52,
          53,
          54,
          55,
          56,
          57,
          58,
          59,
          60,
          61,
          62,
          63,
          64,
          65,
          66,
          67,
          68,
          69,
          70,
          71,
          72,
          73,
          74,
          75,
          76,
          77,
          78,
          79,
          80,
          81,
          82,
          83,
          84,
          85,
          86,
          87,
          88,
          89,
          90,
          91,
          92,
          93,
          94,
          95,
          96,
          97,
          98,
          99,
          100,
          101,
          102,
          103,
          104,
          105,
          106,
          107,
          108,
          109,
          110,
          111,
          112,
          113,
          114,
          115,
          116,
          117,
          118,
          119,
          120,
          121,
          122,
          123,
          124,
          125,
          126,
          127,
          128,
          129,
          130,
          131,
          132,
          133,
          134,
          135,
          136,
          137,
          138,
          139,
          140,
          141,
          142,
          143,
          144,
          145,
          146,
          147,
          148,
          149,
          150,
          151,
          152,
          153,
          154,
          155,
          156,
          157,
          158,
          159,
          160,
          161,
          162,
          163,
          164,
          165,
          166,
          167
         ],
         "xaxis": "x",
         "y": [
          0,
          0,
          0,
          0,
          0,
          0,
          28.359642254765088,
          302.74530451595274,
          404.4257668613486,
          229.47062414705078,
          204.7511538930444,
          383.17031551456097,
          508.2153936694913,
          294.0212757921958,
          278.72410645972064,
          322.5530462165539,
          499.50118784906175,
          559.1812303638225,
          385.76961445797696,
          233.91744718371237,
          140.5874295059107,
          75.06878474833326,
          30.175898410817165,
          3.7282927200530067,
          0.09999999999999999,
          0,
          0,
          0,
          0,
          0,
          31.641100209641802,
          347.2009613433786,
          429.15227721739956,
          228.2325332652819,
          201.702518833068,
          387.1627028948163,
          509.86437885612787,
          295.86622786921225,
          267.1997281219183,
          335.6625294540724,
          498.4679701329317,
          550.830646216496,
          387.95396365161895,
          248.8269770927832,
          160.83483202012636,
          86.23786955292326,
          36.22195334706552,
          6.88452550047051,
          0.8722222222222222,
          0.7000000000000001,
          0,
          0,
          0,
          0,
          29.601271119227334,
          325.8198343332436,
          420.60559975619,
          233.46116833199088,
          205.6519317811552,
          393.76451463634356,
          515.3825560615717,
          313.4190231394019,
          282.8317984320935,
          357.9233340173881,
          507.9765612030232,
          543.1130941545715,
          373.3325477582013,
          248.37177205075622,
          157.46013967666656,
          94.64245923200303,
          41.21157360072407,
          8.183333333333334,
          0.14518956032048844,
          0,
          0,
          0,
          0,
          0,
          28.36781139265351,
          310.54731857573665,
          400.432238608662,
          230.29496663932093,
          223.16725324994164,
          387.6111958509227,
          516.9188228328316,
          321.2951201482443,
          299.28407714802535,
          362.3913497381763,
          502.7308989202591,
          545.6616640932747,
          382.4368774948364,
          261.99320196292956,
          162.72582926517836,
          98.18581995072485,
          45.74963300888502,
          8.993079873253718,
          0,
          0,
          0,
          0,
          0,
          0,
          23.62216706177197,
          284.8896864735154,
          366.07044907567314,
          229.82927244574012,
          243.20674564415435,
          416.74061338087745,
          522.2636140389855,
          366.70847653241395,
          361.73378017574305,
          447.762178309239,
          546.7687813816782,
          509.4090944316143,
          349.56102213464345,
          209.8739901141887,
          140.58923752251408,
          99.1323184591481,
          69.39684461383136,
          28.673593181020276,
          4.961799352856756,
          0,
          0,
          0,
          0,
          0,
          0,
          5.325,
          46.884259376154425,
          160.03416099627722,
          307.1669749132145,
          457.3043216942074,
          538.1121371706189,
          546.3749939650453,
          536.1081035380183,
          496.38102434020766,
          428.03170174311146,
          362.33407359263975,
          267.1422479152159,
          179.58412877223546,
          118.97254254115398,
          87.9294576410445,
          61.42128884632435,
          33.3729130202936,
          9.835880152779415,
          0.0625,
          0,
          0,
          0,
          0,
          0,
          2.8242356380433002,
          28.848092263044993,
          115.20215033461739,
          246.26586798931157,
          404.02565876633247,
          465.435655277397,
          469.52290136162463,
          461.9726837010358,
          430.05052296023314,
          374.515454052138,
          307.9828415025989,
          219.10051344154093,
          161.13500480235817,
          102.7094638184218,
          60.13546482295234,
          28.031115189954566,
          4.985883497312153
         ],
         "yaxis": "y"
        },
        {
         "hovertemplate": "period=During<br>hour=%{x}<br>value=%{y}<extra></extra>",
         "legendgroup": "During",
         "line": {
          "color": "#FF7F0E",
          "dash": "solid",
          "shape": "spline"
         },
         "marker": {
          "symbol": "circle"
         },
         "mode": "lines",
         "name": "During",
         "orientation": "v",
         "showlegend": true,
         "type": "scatter",
         "x": [
          0,
          1,
          2,
          3,
          4,
          5,
          6,
          7,
          8,
          9,
          10,
          11,
          12,
          13,
          14,
          15,
          16,
          17,
          18,
          19,
          20,
          21,
          22,
          23,
          24,
          25,
          26,
          27,
          28,
          29,
          30,
          31,
          32,
          33,
          34,
          35,
          36,
          37,
          38,
          39,
          40,
          41,
          42,
          43,
          44,
          45,
          46,
          47,
          48,
          49,
          50,
          51,
          52,
          53,
          54,
          55,
          56,
          57,
          58,
          59,
          60,
          61,
          62,
          63,
          64,
          65,
          66,
          67,
          68,
          69,
          70,
          71,
          72,
          73,
          74,
          75,
          76,
          77,
          78,
          79,
          80,
          81,
          82,
          83,
          84,
          85,
          86,
          87,
          88,
          89,
          90,
          91,
          92,
          93,
          94,
          95,
          96,
          97,
          98,
          99,
          100,
          101,
          102,
          103,
          104,
          105,
          106,
          107,
          108,
          109,
          110,
          111,
          112,
          113,
          114,
          115,
          116,
          117,
          118,
          119,
          120,
          121,
          122,
          123,
          124,
          125,
          126,
          127,
          128,
          129,
          130,
          131,
          132,
          133,
          134,
          135,
          136,
          137,
          138,
          139,
          140,
          141,
          142,
          143,
          144,
          145,
          146,
          147,
          148,
          149,
          150,
          151,
          152,
          153,
          154,
          155,
          156,
          157,
          158,
          159,
          160,
          161,
          162,
          163,
          164,
          165,
          166,
          167
         ],
         "xaxis": "x",
         "y": [
          0,
          0,
          0,
          0,
          0,
          0,
          8.733333333333333,
          143.2102840914547,
          194.72006033685076,
          123.3107241275841,
          145.4977738666217,
          280.130452846929,
          465.96354122687563,
          257.3681559629913,
          229.32102681618653,
          273.23133625852324,
          386.22318441663646,
          447.4883588343204,
          353.18827240199795,
          226.65479975187438,
          131.40719150664745,
          66.24920512281848,
          28.52162417299384,
          5.174429199183074,
          0,
          0,
          0,
          0,
          0,
          0,
          9.395979797715347,
          153.29854948628812,
          202.13403633389078,
          123.08577019525,
          141.76131454111285,
          298.8680477887329,
          481.45469946235403,
          255.1885708331199,
          218.2996653557741,
          268.7737526963526,
          389.7820218455159,
          449.5116124560797,
          355.52603284148614,
          226.99576954045003,
          128.3051601453544,
          62.88552497604176,
          30.551354731116906,
          6.366666666666667,
          0.18333333333333335,
          0,
          0,
          0,
          0,
          0,
          8.831547795010168,
          142.44273009089923,
          197.94307197610658,
          125.93428385436879,
          149.45629592460855,
          294.0448512113214,
          476.75973792896974,
          271.15876438148365,
          236.49956371376723,
          276.00901308232204,
          396.5566045761445,
          450.0968915809103,
          366.6042579351071,
          236.22975529450287,
          132.2047860420811,
          69.34809777970878,
          32.888377597793415,
          7.209060666935719,
          0.3833333333333333,
          0,
          0,
          0,
          0,
          0,
          8.034821829221972,
          143.14245685057145,
          198.76826883617954,
          134.4156872151095,
          163.0475813133779,
          314.5937162071072,
          497.8488740372209,
          295.49740134776033,
          253.15392287298815,
          292.1588320629285,
          393.85063392787043,
          430.9577969898355,
          349.0862732928747,
          226.262571456194,
          132.5653219107804,
          72.78282476341634,
          36.065746111301756,
          10.774557309039972,
          2.4,
          0.3666666666666667,
          0,
          0,
          0,
          0,
          5.938165824457105,
          116.03273167433294,
          183.72610513920722,
          136.30032927807426,
          180.83132750620942,
          327.5603464123165,
          502.56436101328114,
          351.5519382192146,
          314.08879894077853,
          370.9135525771255,
          446.4209019633379,
          424.9220349769239,
          293.1712517037475,
          179.3398899465396,
          102.6741053565534,
          65.13114843416189,
          43.34970260059652,
          20.72460992088995,
          3.660023822711935,
          0,
          0,
          0,
          0,
          0,
          0,
          2.63125,
          35.13194444444445,
          147.7487609438089,
          335.13551726174484,
          533.7964684828078,
          607.8323707839619,
          633.4480012310191,
          629.1217861553783,
          535.4217813798618,
          427.8681453361096,
          327.7660507079103,
          229.16913072069022,
          149.19932659689354,
          94.02137994713583,
          61.12157845737545,
          40.50734178254228,
          22.450772966688003,
          4.908333333333334,
          0,
          0,
          0,
          0,
          0,
          0,
          1.3,
          25.084570462114016,
          115.22062648621834,
          287.3878899272443,
          474.17413868145377,
          569.536716830121,
          583.3033839378828,
          571.7373206947063,
          496.30847733127575,
          398.64627390441666,
          301.3525240173379,
          213.56909616777298,
          145.945916592296,
          91.9002502729935,
          52.56000187074255,
          27.20590448698167,
          5.516734705238285
         ],
         "yaxis": "y"
        }
       ],
       "layout": {
        "annotations": [
         {
          "align": "left",
          "bgcolor": "white",
          "bordercolor": "#2D2D2D",
          "borderpad": 5,
          "borderwidth": 1,
          "height": 45,
          "showarrow": false,
          "text": "",
          "width": 60,
          "x": 3,
          "y": 544
         },
         {
          "font": {
           "color": "#2D2D2D",
           "size": 18
          },
          "showarrow": false,
          "text": "",
          "x": 2,
          "y": 650
         },
         {
          "font": {
           "color": "#1F77B4",
           "size": 16
          },
          "showarrow": false,
          "text": "      4884",
          "x": 1,
          "y": 575
         },
         {
          "font": {
           "color": "#FF7F0E",
           "size": 16
          },
          "showarrow": false,
          "text": "      3766",
          "x": 1,
          "y": 550
         },
         {
          "font": {
           "color": "#D62728",
           "size": 16
          },
          "showarrow": false,
          "text": "     -22.9%",
          "x": 2,
          "y": 520
         },
         {
          "align": "left",
          "bgcolor": "white",
          "bordercolor": "#2D2D2D",
          "borderpad": 5,
          "borderwidth": 1,
          "height": 45,
          "showarrow": false,
          "text": "",
          "width": 60,
          "x": 27,
          "y": 544
         },
         {
          "font": {
           "color": "#2D2D2D",
           "size": 18
          },
          "showarrow": false,
          "text": "",
          "x": 26,
          "y": 650
         },
         {
          "font": {
           "color": "#1F77B4",
           "size": 16
          },
          "showarrow": false,
          "text": "      5010",
          "x": 25,
          "y": 575
         },
         {
          "font": {
           "color": "#FF7F0E",
           "size": 16
          },
          "showarrow": false,
          "text": "      3802",
          "x": 25,
          "y": 550
         },
         {
          "font": {
           "color": "#D62728",
           "size": 16
          },
          "showarrow": false,
          "text": "     -24.1%",
          "x": 26,
          "y": 520
         },
         {
          "align": "left",
          "bgcolor": "white",
          "bordercolor": "#2D2D2D",
          "borderpad": 5,
          "borderwidth": 1,
          "height": 45,
          "showarrow": false,
          "text": "",
          "width": 60,
          "x": 51,
          "y": 544
         },
         {
          "font": {
           "color": "#2D2D2D",
           "size": 18
          },
          "showarrow": false,
          "text": "",
          "x": 50,
          "y": 650
         },
         {
          "font": {
           "color": "#1F77B4",
           "size": 16
          },
          "showarrow": false,
          "text": "      5054",
          "x": 49,
          "y": 575
         },
         {
          "font": {
           "color": "#FF7F0E",
           "size": 16
          },
          "showarrow": false,
          "text": "      3870",
          "x": 49,
          "y": 550
         },
         {
          "font": {
           "color": "#D62728",
           "size": 16
          },
          "showarrow": false,
          "text": "     -23.4%",
          "x": 50,
          "y": 520
         },
         {
          "align": "left",
          "bgcolor": "white",
          "bordercolor": "#2D2D2D",
          "borderpad": 5,
          "borderwidth": 1,
          "height": 45,
          "showarrow": false,
          "text": "",
          "width": 60,
          "x": 75,
          "y": 544
         },
         {
          "font": {
           "color": "#2D2D2D",
           "size": 18
          },
          "showarrow": false,
          "text": "",
          "x": 74,
          "y": 650
         },
         {
          "font": {
           "color": "#1F77B4",
           "size": 16
          },
          "showarrow": false,
          "text": "      5089",
          "x": 73,
          "y": 575
         },
         {
          "font": {
           "color": "#FF7F0E",
           "size": 16
          },
          "showarrow": false,
          "text": "      3953",
          "x": 73,
          "y": 550
         },
         {
          "font": {
           "color": "#D62728",
           "size": 16
          },
          "showarrow": false,
          "text": "     -22.3%",
          "x": 74,
          "y": 520
         },
         {
          "align": "left",
          "bgcolor": "white",
          "bordercolor": "#2D2D2D",
          "borderpad": 5,
          "borderwidth": 1,
          "height": 45,
          "showarrow": false,
          "text": "",
          "width": 60,
          "x": 99,
          "y": 544
         },
         {
          "font": {
           "color": "#2D2D2D",
           "size": 18
          },
          "showarrow": false,
          "text": "",
          "x": 98,
          "y": 650
         },
         {
          "font": {
           "color": "#1F77B4",
           "size": 16
          },
          "showarrow": false,
          "text": "      5216",
          "x": 97,
          "y": 575
         },
         {
          "font": {
           "color": "#FF7F0E",
           "size": 16
          },
          "showarrow": false,
          "text": "      4068",
          "x": 97,
          "y": 550
         },
         {
          "font": {
           "color": "#D62728",
           "size": 16
          },
          "showarrow": false,
          "text": "     -22.0%",
          "x": 98,
          "y": 520
         },
         {
          "align": "left",
          "bgcolor": "white",
          "bordercolor": "#2D2D2D",
          "borderpad": 5,
          "borderwidth": 1,
          "height": 45,
          "showarrow": false,
          "text": "",
          "width": 60,
          "x": 123,
          "y": 544
         },
         {
          "font": {
           "color": "#2D2D2D",
           "size": 18
          },
          "showarrow": false,
          "text": "",
          "x": 122,
          "y": 650
         },
         {
          "font": {
           "color": "#1F77B4",
           "size": 16
          },
          "showarrow": false,
          "text": "      4637",
          "x": 121,
          "y": 575
         },
         {
          "font": {
           "color": "#FF7F0E",
           "size": 16
          },
          "showarrow": false,
          "text": "      4816",
          "x": 121,
          "y": 550
         },
         {
          "font": {
           "color": "#2CA02C",
           "size": 16
          },
          "showarrow": false,
          "text": "       3.9%",
          "x": 121,
          "y": 520
         },
         {
          "align": "left",
          "bgcolor": "white",
          "bordercolor": "#2D2D2D",
          "borderpad": 5,
          "borderwidth": 1,
          "height": 45,
          "showarrow": false,
          "text": "",
          "width": 60,
          "x": 147,
          "y": 544
         },
         {
          "font": {
           "color": "#2D2D2D",
           "size": 18
          },
          "showarrow": false,
          "text": "",
          "x": 146,
          "y": 650
         },
         {
          "font": {
           "color": "#1F77B4",
           "size": 16
          },
          "showarrow": false,
          "text": "      3893",
          "x": 145,
          "y": 575
         },
         {
          "font": {
           "color": "#FF7F0E",
           "size": 16
          },
          "showarrow": false,
          "text": "      4366",
          "x": 145,
          "y": 550
         },
         {
          "font": {
           "color": "#2CA02C",
           "size": 16
          },
          "showarrow": false,
          "text": "      12.2%",
          "x": 145,
          "y": 520
         }
        ],
        "autosize": true,
        "font": {
         "color": "#2D2D2D",
         "family": "Lato, sans-serif",
         "size": 18
        },
        "legend": {
         "bgcolor": "rgba(255,255,255, 0.0)",
         "title": {},
         "tracegroupgap": 0,
         "x": 0.99,
         "xanchor": "right",
         "y": 0.99,
         "yanchor": "top"
        },
        "margin": {
         "b": 32,
         "l": 0,
         "r": 0,
         "t": 48
        },
        "template": {
         "data": {
          "bar": [
           {
            "error_x": {
             "color": "rgb(36,36,36)"
            },
            "error_y": {
             "color": "rgb(36,36,36)"
            },
            "marker": {
             "line": {
              "color": "rgb(234,234,242)",
              "width": 0.5
             },
             "pattern": {
              "fillmode": "overlay",
              "size": 10,
              "solidity": 0.2
             }
            },
            "type": "bar"
           }
          ],
          "barpolar": [
           {
            "marker": {
             "line": {
              "color": "rgb(234,234,242)",
              "width": 0.5
             },
             "pattern": {
              "fillmode": "overlay",
              "size": 10,
              "solidity": 0.2
             }
            },
            "type": "barpolar"
           }
          ],
          "carpet": [
           {
            "aaxis": {
             "endlinecolor": "rgb(36,36,36)",
             "gridcolor": "white",
             "linecolor": "white",
             "minorgridcolor": "white",
             "startlinecolor": "rgb(36,36,36)"
            },
            "baxis": {
             "endlinecolor": "rgb(36,36,36)",
             "gridcolor": "white",
             "linecolor": "white",
             "minorgridcolor": "white",
             "startlinecolor": "rgb(36,36,36)"
            },
            "type": "carpet"
           }
          ],
          "choropleth": [
           {
            "colorbar": {
             "outlinewidth": 0,
             "tickcolor": "rgb(36,36,36)",
             "ticklen": 8,
             "ticks": "outside",
             "tickwidth": 2
            },
            "type": "choropleth"
           }
          ],
          "contour": [
           {
            "colorbar": {
             "outlinewidth": 0,
             "tickcolor": "rgb(36,36,36)",
             "ticklen": 8,
             "ticks": "outside",
             "tickwidth": 2
            },
            "colorscale": [
             [
              0,
              "rgb(2,4,25)"
             ],
             [
              0.06274509803921569,
              "rgb(24,15,41)"
             ],
             [
              0.12549019607843137,
              "rgb(47,23,57)"
             ],
             [
              0.18823529411764706,
              "rgb(71,28,72)"
             ],
             [
              0.25098039215686274,
              "rgb(97,30,82)"
             ],
             [
              0.3137254901960784,
              "rgb(123,30,89)"
             ],
             [
              0.3764705882352941,
              "rgb(150,27,91)"
             ],
             [
              0.4392156862745098,
              "rgb(177,22,88)"
             ],
             [
              0.5019607843137255,
              "rgb(203,26,79)"
             ],
             [
              0.5647058823529412,
              "rgb(223,47,67)"
             ],
             [
              0.6274509803921569,
              "rgb(236,76,61)"
             ],
             [
              0.6901960784313725,
              "rgb(242,107,73)"
             ],
             [
              0.7529411764705882,
              "rgb(244,135,95)"
             ],
             [
              0.8156862745098039,
              "rgb(245,162,122)"
             ],
             [
              0.8784313725490196,
              "rgb(246,188,153)"
             ],
             [
              0.9411764705882353,
              "rgb(247,212,187)"
             ],
             [
              1,
              "rgb(250,234,220)"
             ]
            ],
            "type": "contour"
           }
          ],
          "contourcarpet": [
           {
            "colorbar": {
             "outlinewidth": 0,
             "tickcolor": "rgb(36,36,36)",
             "ticklen": 8,
             "ticks": "outside",
             "tickwidth": 2
            },
            "type": "contourcarpet"
           }
          ],
          "heatmap": [
           {
            "colorbar": {
             "outlinewidth": 0,
             "tickcolor": "rgb(36,36,36)",
             "ticklen": 8,
             "ticks": "outside",
             "tickwidth": 2
            },
            "colorscale": [
             [
              0,
              "rgb(2,4,25)"
             ],
             [
              0.06274509803921569,
              "rgb(24,15,41)"
             ],
             [
              0.12549019607843137,
              "rgb(47,23,57)"
             ],
             [
              0.18823529411764706,
              "rgb(71,28,72)"
             ],
             [
              0.25098039215686274,
              "rgb(97,30,82)"
             ],
             [
              0.3137254901960784,
              "rgb(123,30,89)"
             ],
             [
              0.3764705882352941,
              "rgb(150,27,91)"
             ],
             [
              0.4392156862745098,
              "rgb(177,22,88)"
             ],
             [
              0.5019607843137255,
              "rgb(203,26,79)"
             ],
             [
              0.5647058823529412,
              "rgb(223,47,67)"
             ],
             [
              0.6274509803921569,
              "rgb(236,76,61)"
             ],
             [
              0.6901960784313725,
              "rgb(242,107,73)"
             ],
             [
              0.7529411764705882,
              "rgb(244,135,95)"
             ],
             [
              0.8156862745098039,
              "rgb(245,162,122)"
             ],
             [
              0.8784313725490196,
              "rgb(246,188,153)"
             ],
             [
              0.9411764705882353,
              "rgb(247,212,187)"
             ],
             [
              1,
              "rgb(250,234,220)"
             ]
            ],
            "type": "heatmap"
           }
          ],
          "heatmapgl": [
           {
            "colorbar": {
             "outlinewidth": 0,
             "tickcolor": "rgb(36,36,36)",
             "ticklen": 8,
             "ticks": "outside",
             "tickwidth": 2
            },
            "colorscale": [
             [
              0,
              "rgb(2,4,25)"
             ],
             [
              0.06274509803921569,
              "rgb(24,15,41)"
             ],
             [
              0.12549019607843137,
              "rgb(47,23,57)"
             ],
             [
              0.18823529411764706,
              "rgb(71,28,72)"
             ],
             [
              0.25098039215686274,
              "rgb(97,30,82)"
             ],
             [
              0.3137254901960784,
              "rgb(123,30,89)"
             ],
             [
              0.3764705882352941,
              "rgb(150,27,91)"
             ],
             [
              0.4392156862745098,
              "rgb(177,22,88)"
             ],
             [
              0.5019607843137255,
              "rgb(203,26,79)"
             ],
             [
              0.5647058823529412,
              "rgb(223,47,67)"
             ],
             [
              0.6274509803921569,
              "rgb(236,76,61)"
             ],
             [
              0.6901960784313725,
              "rgb(242,107,73)"
             ],
             [
              0.7529411764705882,
              "rgb(244,135,95)"
             ],
             [
              0.8156862745098039,
              "rgb(245,162,122)"
             ],
             [
              0.8784313725490196,
              "rgb(246,188,153)"
             ],
             [
              0.9411764705882353,
              "rgb(247,212,187)"
             ],
             [
              1,
              "rgb(250,234,220)"
             ]
            ],
            "type": "heatmapgl"
           }
          ],
          "histogram": [
           {
            "marker": {
             "pattern": {
              "fillmode": "overlay",
              "size": 10,
              "solidity": 0.2
             }
            },
            "type": "histogram"
           }
          ],
          "histogram2d": [
           {
            "colorbar": {
             "outlinewidth": 0,
             "tickcolor": "rgb(36,36,36)",
             "ticklen": 8,
             "ticks": "outside",
             "tickwidth": 2
            },
            "colorscale": [
             [
              0,
              "rgb(2,4,25)"
             ],
             [
              0.06274509803921569,
              "rgb(24,15,41)"
             ],
             [
              0.12549019607843137,
              "rgb(47,23,57)"
             ],
             [
              0.18823529411764706,
              "rgb(71,28,72)"
             ],
             [
              0.25098039215686274,
              "rgb(97,30,82)"
             ],
             [
              0.3137254901960784,
              "rgb(123,30,89)"
             ],
             [
              0.3764705882352941,
              "rgb(150,27,91)"
             ],
             [
              0.4392156862745098,
              "rgb(177,22,88)"
             ],
             [
              0.5019607843137255,
              "rgb(203,26,79)"
             ],
             [
              0.5647058823529412,
              "rgb(223,47,67)"
             ],
             [
              0.6274509803921569,
              "rgb(236,76,61)"
             ],
             [
              0.6901960784313725,
              "rgb(242,107,73)"
             ],
             [
              0.7529411764705882,
              "rgb(244,135,95)"
             ],
             [
              0.8156862745098039,
              "rgb(245,162,122)"
             ],
             [
              0.8784313725490196,
              "rgb(246,188,153)"
             ],
             [
              0.9411764705882353,
              "rgb(247,212,187)"
             ],
             [
              1,
              "rgb(250,234,220)"
             ]
            ],
            "type": "histogram2d"
           }
          ],
          "histogram2dcontour": [
           {
            "colorbar": {
             "outlinewidth": 0,
             "tickcolor": "rgb(36,36,36)",
             "ticklen": 8,
             "ticks": "outside",
             "tickwidth": 2
            },
            "colorscale": [
             [
              0,
              "rgb(2,4,25)"
             ],
             [
              0.06274509803921569,
              "rgb(24,15,41)"
             ],
             [
              0.12549019607843137,
              "rgb(47,23,57)"
             ],
             [
              0.18823529411764706,
              "rgb(71,28,72)"
             ],
             [
              0.25098039215686274,
              "rgb(97,30,82)"
             ],
             [
              0.3137254901960784,
              "rgb(123,30,89)"
             ],
             [
              0.3764705882352941,
              "rgb(150,27,91)"
             ],
             [
              0.4392156862745098,
              "rgb(177,22,88)"
             ],
             [
              0.5019607843137255,
              "rgb(203,26,79)"
             ],
             [
              0.5647058823529412,
              "rgb(223,47,67)"
             ],
             [
              0.6274509803921569,
              "rgb(236,76,61)"
             ],
             [
              0.6901960784313725,
              "rgb(242,107,73)"
             ],
             [
              0.7529411764705882,
              "rgb(244,135,95)"
             ],
             [
              0.8156862745098039,
              "rgb(245,162,122)"
             ],
             [
              0.8784313725490196,
              "rgb(246,188,153)"
             ],
             [
              0.9411764705882353,
              "rgb(247,212,187)"
             ],
             [
              1,
              "rgb(250,234,220)"
             ]
            ],
            "type": "histogram2dcontour"
           }
          ],
          "mesh3d": [
           {
            "colorbar": {
             "outlinewidth": 0,
             "tickcolor": "rgb(36,36,36)",
             "ticklen": 8,
             "ticks": "outside",
             "tickwidth": 2
            },
            "type": "mesh3d"
           }
          ],
          "parcoords": [
           {
            "line": {
             "colorbar": {
              "outlinewidth": 0,
              "tickcolor": "rgb(36,36,36)",
              "ticklen": 8,
              "ticks": "outside",
              "tickwidth": 2
             }
            },
            "type": "parcoords"
           }
          ],
          "pie": [
           {
            "automargin": true,
            "type": "pie"
           }
          ],
          "scatter": [
           {
            "fillpattern": {
             "fillmode": "overlay",
             "size": 10,
             "solidity": 0.2
            },
            "type": "scatter"
           }
          ],
          "scatter3d": [
           {
            "line": {
             "colorbar": {
              "outlinewidth": 0,
              "tickcolor": "rgb(36,36,36)",
              "ticklen": 8,
              "ticks": "outside",
              "tickwidth": 2
             }
            },
            "marker": {
             "colorbar": {
              "outlinewidth": 0,
              "tickcolor": "rgb(36,36,36)",
              "ticklen": 8,
              "ticks": "outside",
              "tickwidth": 2
             }
            },
            "type": "scatter3d"
           }
          ],
          "scattercarpet": [
           {
            "marker": {
             "colorbar": {
              "outlinewidth": 0,
              "tickcolor": "rgb(36,36,36)",
              "ticklen": 8,
              "ticks": "outside",
              "tickwidth": 2
             }
            },
            "type": "scattercarpet"
           }
          ],
          "scattergeo": [
           {
            "marker": {
             "colorbar": {
              "outlinewidth": 0,
              "tickcolor": "rgb(36,36,36)",
              "ticklen": 8,
              "ticks": "outside",
              "tickwidth": 2
             }
            },
            "type": "scattergeo"
           }
          ],
          "scattergl": [
           {
            "marker": {
             "colorbar": {
              "outlinewidth": 0,
              "tickcolor": "rgb(36,36,36)",
              "ticklen": 8,
              "ticks": "outside",
              "tickwidth": 2
             }
            },
            "type": "scattergl"
           }
          ],
          "scattermapbox": [
           {
            "marker": {
             "colorbar": {
              "outlinewidth": 0,
              "tickcolor": "rgb(36,36,36)",
              "ticklen": 8,
              "ticks": "outside",
              "tickwidth": 2
             }
            },
            "type": "scattermapbox"
           }
          ],
          "scatterpolar": [
           {
            "marker": {
             "colorbar": {
              "outlinewidth": 0,
              "tickcolor": "rgb(36,36,36)",
              "ticklen": 8,
              "ticks": "outside",
              "tickwidth": 2
             }
            },
            "type": "scatterpolar"
           }
          ],
          "scatterpolargl": [
           {
            "marker": {
             "colorbar": {
              "outlinewidth": 0,
              "tickcolor": "rgb(36,36,36)",
              "ticklen": 8,
              "ticks": "outside",
              "tickwidth": 2
             }
            },
            "type": "scatterpolargl"
           }
          ],
          "scatterternary": [
           {
            "marker": {
             "colorbar": {
              "outlinewidth": 0,
              "tickcolor": "rgb(36,36,36)",
              "ticklen": 8,
              "ticks": "outside",
              "tickwidth": 2
             }
            },
            "type": "scatterternary"
           }
          ],
          "surface": [
           {
            "colorbar": {
             "outlinewidth": 0,
             "tickcolor": "rgb(36,36,36)",
             "ticklen": 8,
             "ticks": "outside",
             "tickwidth": 2
            },
            "colorscale": [
             [
              0,
              "rgb(2,4,25)"
             ],
             [
              0.06274509803921569,
              "rgb(24,15,41)"
             ],
             [
              0.12549019607843137,
              "rgb(47,23,57)"
             ],
             [
              0.18823529411764706,
              "rgb(71,28,72)"
             ],
             [
              0.25098039215686274,
              "rgb(97,30,82)"
             ],
             [
              0.3137254901960784,
              "rgb(123,30,89)"
             ],
             [
              0.3764705882352941,
              "rgb(150,27,91)"
             ],
             [
              0.4392156862745098,
              "rgb(177,22,88)"
             ],
             [
              0.5019607843137255,
              "rgb(203,26,79)"
             ],
             [
              0.5647058823529412,
              "rgb(223,47,67)"
             ],
             [
              0.6274509803921569,
              "rgb(236,76,61)"
             ],
             [
              0.6901960784313725,
              "rgb(242,107,73)"
             ],
             [
              0.7529411764705882,
              "rgb(244,135,95)"
             ],
             [
              0.8156862745098039,
              "rgb(245,162,122)"
             ],
             [
              0.8784313725490196,
              "rgb(246,188,153)"
             ],
             [
              0.9411764705882353,
              "rgb(247,212,187)"
             ],
             [
              1,
              "rgb(250,234,220)"
             ]
            ],
            "type": "surface"
           }
          ],
          "table": [
           {
            "cells": {
             "fill": {
              "color": "rgb(231,231,240)"
             },
             "line": {
              "color": "white"
             }
            },
            "header": {
             "fill": {
              "color": "rgb(183,183,191)"
             },
             "line": {
              "color": "white"
             }
            },
            "type": "table"
           }
          ]
         },
         "layout": {
          "annotationdefaults": {
           "arrowcolor": "rgb(67,103,167)"
          },
          "autotypenumbers": "strict",
          "coloraxis": {
           "colorbar": {
            "outlinewidth": 0,
            "tickcolor": "rgb(36,36,36)",
            "ticklen": 8,
            "ticks": "outside",
            "tickwidth": 2
           }
          },
          "colorscale": {
           "sequential": [
            [
             0,
             "rgb(2,4,25)"
            ],
            [
             0.06274509803921569,
             "rgb(24,15,41)"
            ],
            [
             0.12549019607843137,
             "rgb(47,23,57)"
            ],
            [
             0.18823529411764706,
             "rgb(71,28,72)"
            ],
            [
             0.25098039215686274,
             "rgb(97,30,82)"
            ],
            [
             0.3137254901960784,
             "rgb(123,30,89)"
            ],
            [
             0.3764705882352941,
             "rgb(150,27,91)"
            ],
            [
             0.4392156862745098,
             "rgb(177,22,88)"
            ],
            [
             0.5019607843137255,
             "rgb(203,26,79)"
            ],
            [
             0.5647058823529412,
             "rgb(223,47,67)"
            ],
            [
             0.6274509803921569,
             "rgb(236,76,61)"
            ],
            [
             0.6901960784313725,
             "rgb(242,107,73)"
            ],
            [
             0.7529411764705882,
             "rgb(244,135,95)"
            ],
            [
             0.8156862745098039,
             "rgb(245,162,122)"
            ],
            [
             0.8784313725490196,
             "rgb(246,188,153)"
            ],
            [
             0.9411764705882353,
             "rgb(247,212,187)"
            ],
            [
             1,
             "rgb(250,234,220)"
            ]
           ],
           "sequentialminus": [
            [
             0,
             "rgb(2,4,25)"
            ],
            [
             0.06274509803921569,
             "rgb(24,15,41)"
            ],
            [
             0.12549019607843137,
             "rgb(47,23,57)"
            ],
            [
             0.18823529411764706,
             "rgb(71,28,72)"
            ],
            [
             0.25098039215686274,
             "rgb(97,30,82)"
            ],
            [
             0.3137254901960784,
             "rgb(123,30,89)"
            ],
            [
             0.3764705882352941,
             "rgb(150,27,91)"
            ],
            [
             0.4392156862745098,
             "rgb(177,22,88)"
            ],
            [
             0.5019607843137255,
             "rgb(203,26,79)"
            ],
            [
             0.5647058823529412,
             "rgb(223,47,67)"
            ],
            [
             0.6274509803921569,
             "rgb(236,76,61)"
            ],
            [
             0.6901960784313725,
             "rgb(242,107,73)"
            ],
            [
             0.7529411764705882,
             "rgb(244,135,95)"
            ],
            [
             0.8156862745098039,
             "rgb(245,162,122)"
            ],
            [
             0.8784313725490196,
             "rgb(246,188,153)"
            ],
            [
             0.9411764705882353,
             "rgb(247,212,187)"
            ],
            [
             1,
             "rgb(250,234,220)"
            ]
           ]
          },
          "colorway": [
           "rgb(76,114,176)",
           "rgb(221,132,82)",
           "rgb(85,168,104)",
           "rgb(196,78,82)",
           "rgb(129,114,179)",
           "rgb(147,120,96)",
           "rgb(218,139,195)",
           "rgb(140,140,140)",
           "rgb(204,185,116)",
           "rgb(100,181,205)"
          ],
          "font": {
           "color": "rgb(36,36,36)"
          },
          "geo": {
           "bgcolor": "white",
           "lakecolor": "white",
           "landcolor": "rgb(234,234,242)",
           "showlakes": true,
           "showland": true,
           "subunitcolor": "white"
          },
          "hoverlabel": {
           "align": "left"
          },
          "hovermode": "closest",
          "paper_bgcolor": "white",
          "plot_bgcolor": "rgb(234,234,242)",
          "polar": {
           "angularaxis": {
            "gridcolor": "white",
            "linecolor": "white",
            "showgrid": true,
            "ticks": ""
           },
           "bgcolor": "rgb(234,234,242)",
           "radialaxis": {
            "gridcolor": "white",
            "linecolor": "white",
            "showgrid": true,
            "ticks": ""
           }
          },
          "scene": {
           "xaxis": {
            "backgroundcolor": "rgb(234,234,242)",
            "gridcolor": "white",
            "gridwidth": 2,
            "linecolor": "white",
            "showbackground": true,
            "showgrid": true,
            "ticks": "",
            "zerolinecolor": "white"
           },
           "yaxis": {
            "backgroundcolor": "rgb(234,234,242)",
            "gridcolor": "white",
            "gridwidth": 2,
            "linecolor": "white",
            "showbackground": true,
            "showgrid": true,
            "ticks": "",
            "zerolinecolor": "white"
           },
           "zaxis": {
            "backgroundcolor": "rgb(234,234,242)",
            "gridcolor": "white",
            "gridwidth": 2,
            "linecolor": "white",
            "showbackground": true,
            "showgrid": true,
            "ticks": "",
            "zerolinecolor": "white"
           }
          },
          "shapedefaults": {
           "fillcolor": "rgb(67,103,167)",
           "line": {
            "width": 0
           },
           "opacity": 0.5
          },
          "ternary": {
           "aaxis": {
            "gridcolor": "white",
            "linecolor": "white",
            "showgrid": true,
            "ticks": ""
           },
           "baxis": {
            "gridcolor": "white",
            "linecolor": "white",
            "showgrid": true,
            "ticks": ""
           },
           "bgcolor": "rgb(234,234,242)",
           "caxis": {
            "gridcolor": "white",
            "linecolor": "white",
            "showgrid": true,
            "ticks": ""
           }
          },
          "xaxis": {
           "automargin": true,
           "gridcolor": "white",
           "linecolor": "white",
           "showgrid": true,
           "ticks": "",
           "title": {
            "standoff": 15
           },
           "zerolinecolor": "white"
          },
          "yaxis": {
           "automargin": true,
           "gridcolor": "white",
           "linecolor": "white",
           "showgrid": true,
           "ticks": "",
           "title": {
            "standoff": 15
           },
           "zerolinecolor": "white"
          }
         }
        },
        "title": {
         "font": {
          "size": 24
         },
         "text": "<b>24-64</b>"
        },
        "xaxis": {
         "anchor": "y",
         "autorange": true,
         "domain": [
          0,
          1
         ],
         "range": [
          -1.8427607680332123,
          167
         ],
         "tickfont": {
          "size": 18
         },
         "tickformat": "%b %Y",
         "ticktext": [
          "Mon",
          "Tue",
          "Wed",
          "Thu",
          "Fri",
          "Sat",
          "Sun"
         ],
         "tickvals": [
          0,
          24,
          48,
          72,
          96,
          120,
          144
         ],
         "title": {
          "text": "Hour of day"
         },
         "type": "linear"
        },
        "yaxis": {
         "anchor": "x",
         "autorange": true,
         "domain": [
          0,
          1
         ],
         "range": [
          -35.19155562394551,
          668.6395568549647
         ],
         "tickfont": {
          "size": 18
         },
         "title": {
          "text": "Steps"
         },
         "type": "linear"
        }
       }
      },
      "image/png": "[encoded data removed]",
      "text/html": [
       "<div>                            <div id=\"785f7444-a20e-47b7-bae0-369f06b3bae0\" class=\"plotly-graph-div\" style=\"height:500px; width:100%;\"></div>            <script type=\"text/javascript\">                require([\"plotly\"], function(Plotly) {                    window.PLOTLYENV=window.PLOTLYENV || {};                                    if (document.getElementById(\"785f7444-a20e-47b7-bae0-369f06b3bae0\")) {                    Plotly.newPlot(                        \"785f7444-a20e-47b7-bae0-369f06b3bae0\",                        [{\"hovertemplate\":\"period=Before<br>hour=%{x}<br>value=%{y}<extra></extra>\",\"legendgroup\":\"Before\",\"line\":{\"color\":\"#1F77B4\",\"dash\":\"solid\",\"shape\":\"spline\"},\"marker\":{\"symbol\":\"circle\"},\"mode\":\"lines\",\"name\":\"Before\",\"orientation\":\"v\",\"showlegend\":true,\"x\":[0,1,2,3,4,5,6,7,8,9,10,11,12,13,14,15,16,17,18,19,20,21,22,23,24,25,26,27,28,29,30,31,32,33,34,35,36,37,38,39,40,41,42,43,44,45,46,47,48,49,50,51,52,53,54,55,56,57,58,59,60,61,62,63,64,65,66,67,68,69,70,71,72,73,74,75,76,77,78,79,80,81,82,83,84,85,86,87,88,89,90,91,92,93,94,95,96,97,98,99,100,101,102,103,104,105,106,107,108,109,110,111,112,113,114,115,116,117,118,119,120,121,122,123,124,125,126,127,128,129,130,131,132,133,134,135,136,137,138,139,140,141,142,143,144,145,146,147,148,149,150,151,152,153,154,155,156,157,158,159,160,161,162,163,164,165,166,167],\"xaxis\":\"x\",\"y\":[0.0,0.0,0.0,0.0,0.0,0.0,28.359642254765088,302.74530451595274,404.4257668613486,229.47062414705078,204.7511538930444,383.17031551456097,508.2153936694913,294.0212757921958,278.72410645972064,322.5530462165539,499.50118784906175,559.1812303638225,385.76961445797696,233.91744718371237,140.5874295059107,75.06878474833326,30.175898410817165,3.7282927200530067,0.09999999999999999,0.0,0.0,0.0,0.0,0.0,31.641100209641802,347.2009613433786,429.15227721739956,228.2325332652819,201.702518833068,387.1627028948163,509.86437885612787,295.86622786921225,267.1997281219183,335.6625294540724,498.4679701329317,550.830646216496,387.95396365161895,248.8269770927832,160.83483202012636,86.23786955292326,36.22195334706552,6.88452550047051,0.8722222222222222,0.7000000000000001,0.0,0.0,0.0,0.0,29.601271119227334,325.8198343332436,420.60559975619,233.46116833199088,205.6519317811552,393.76451463634356,515.3825560615717,313.4190231394019,282.8317984320935,357.9233340173881,507.9765612030232,543.1130941545715,373.3325477582013,248.37177205075622,157.46013967666656,94.64245923200303,41.21157360072407,8.183333333333334,0.14518956032048844,0.0,0.0,0.0,0.0,0.0,28.36781139265351,310.54731857573665,400.432238608662,230.29496663932093,223.16725324994164,387.6111958509227,516.9188228328316,321.2951201482443,299.28407714802535,362.3913497381763,502.7308989202591,545.6616640932747,382.4368774948364,261.99320196292956,162.72582926517836,98.18581995072485,45.74963300888502,8.993079873253718,0.0,0.0,0.0,0.0,0.0,0.0,23.62216706177197,284.8896864735154,366.07044907567314,229.82927244574012,243.20674564415435,416.74061338087745,522.2636140389855,366.70847653241395,361.73378017574305,447.762178309239,546.7687813816782,509.4090944316143,349.56102213464345,209.8739901141887,140.58923752251408,99.1323184591481,69.39684461383136,28.673593181020276,4.961799352856756,0.0,0.0,0.0,0.0,0.0,0.0,5.325,46.884259376154425,160.03416099627722,307.1669749132145,457.3043216942074,538.1121371706189,546.3749939650453,536.1081035380183,496.38102434020766,428.03170174311146,362.33407359263975,267.1422479152159,179.58412877223546,118.97254254115398,87.9294576410445,61.42128884632435,33.3729130202936,9.835880152779415,0.0625,0.0,0.0,0.0,0.0,0.0,2.8242356380433002,28.848092263044993,115.20215033461739,246.26586798931157,404.02565876633247,465.435655277397,469.52290136162463,461.9726837010358,430.05052296023314,374.515454052138,307.9828415025989,219.10051344154093,161.13500480235817,102.7094638184218,60.13546482295234,28.031115189954566,4.985883497312153],\"yaxis\":\"y\",\"type\":\"scatter\"},{\"hovertemplate\":\"period=During<br>hour=%{x}<br>value=%{y}<extra></extra>\",\"legendgroup\":\"During\",\"line\":{\"color\":\"#FF7F0E\",\"dash\":\"solid\",\"shape\":\"spline\"},\"marker\":{\"symbol\":\"circle\"},\"mode\":\"lines\",\"name\":\"During\",\"orientation\":\"v\",\"showlegend\":true,\"x\":[0,1,2,3,4,5,6,7,8,9,10,11,12,13,14,15,16,17,18,19,20,21,22,23,24,25,26,27,28,29,30,31,32,33,34,35,36,37,38,39,40,41,42,43,44,45,46,47,48,49,50,51,52,53,54,55,56,57,58,59,60,61,62,63,64,65,66,67,68,69,70,71,72,73,74,75,76,77,78,79,80,81,82,83,84,85,86,87,88,89,90,91,92,93,94,95,96,97,98,99,100,101,102,103,104,105,106,107,108,109,110,111,112,113,114,115,116,117,118,119,120,121,122,123,124,125,126,127,128,129,130,131,132,133,134,135,136,137,138,139,140,141,142,143,144,145,146,147,148,149,150,151,152,153,154,155,156,157,158,159,160,161,162,163,164,165,166,167],\"xaxis\":\"x\",\"y\":[0.0,0.0,0.0,0.0,0.0,0.0,8.733333333333333,143.2102840914547,194.72006033685076,123.3107241275841,145.4977738666217,280.130452846929,465.96354122687563,257.3681559629913,229.32102681618653,273.23133625852324,386.22318441663646,447.4883588343204,353.18827240199795,226.65479975187438,131.40719150664745,66.24920512281848,28.52162417299384,5.174429199183074,0.0,0.0,0.0,0.0,0.0,0.0,9.395979797715347,153.29854948628812,202.13403633389078,123.08577019525,141.76131454111285,298.8680477887329,481.45469946235403,255.1885708331199,218.2996653557741,268.7737526963526,389.7820218455159,449.5116124560797,355.52603284148614,226.99576954045003,128.3051601453544,62.88552497604176,30.551354731116906,6.366666666666667,0.18333333333333335,0.0,0.0,0.0,0.0,0.0,8.831547795010168,142.44273009089923,197.94307197610658,125.93428385436879,149.45629592460855,294.0448512113214,476.75973792896974,271.15876438148365,236.49956371376723,276.00901308232204,396.5566045761445,450.0968915809103,366.6042579351071,236.22975529450287,132.2047860420811,69.34809777970878,32.888377597793415,7.209060666935719,0.3833333333333333,0.0,0.0,0.0,0.0,0.0,8.034821829221972,143.14245685057145,198.76826883617954,134.4156872151095,163.0475813133779,314.5937162071072,497.8488740372209,295.49740134776033,253.15392287298815,292.1588320629285,393.85063392787043,430.9577969898355,349.0862732928747,226.262571456194,132.5653219107804,72.78282476341634,36.065746111301756,10.774557309039972,2.4,0.3666666666666667,0.0,0.0,0.0,0.0,5.938165824457105,116.03273167433294,183.72610513920722,136.30032927807426,180.83132750620942,327.5603464123165,502.56436101328114,351.5519382192146,314.08879894077853,370.9135525771255,446.4209019633379,424.9220349769239,293.1712517037475,179.3398899465396,102.6741053565534,65.13114843416189,43.34970260059652,20.72460992088995,3.660023822711935,0.0,0.0,0.0,0.0,0.0,0.0,2.63125,35.13194444444445,147.7487609438089,335.13551726174484,533.7964684828078,607.8323707839619,633.4480012310191,629.1217861553783,535.4217813798618,427.8681453361096,327.7660507079103,229.16913072069022,149.19932659689354,94.02137994713583,61.12157845737545,40.50734178254228,22.450772966688003,4.908333333333334,0.0,0.0,0.0,0.0,0.0,0.0,1.3,25.084570462114016,115.22062648621834,287.3878899272443,474.17413868145377,569.536716830121,583.3033839378828,571.7373206947063,496.30847733127575,398.64627390441666,301.3525240173379,213.56909616777298,145.945916592296,91.9002502729935,52.56000187074255,27.20590448698167,5.516734705238285],\"yaxis\":\"y\",\"type\":\"scatter\"}],                        {\"template\":{\"data\":{\"histogram2dcontour\":[{\"type\":\"histogram2dcontour\",\"colorbar\":{\"outlinewidth\":0,\"tickcolor\":\"rgb(36,36,36)\",\"ticklen\":8,\"ticks\":\"outside\",\"tickwidth\":2},\"colorscale\":[[0.0,\"rgb(2,4,25)\"],[0.06274509803921569,\"rgb(24,15,41)\"],[0.12549019607843137,\"rgb(47,23,57)\"],[0.18823529411764706,\"rgb(71,28,72)\"],[0.25098039215686274,\"rgb(97,30,82)\"],[0.3137254901960784,\"rgb(123,30,89)\"],[0.3764705882352941,\"rgb(150,27,91)\"],[0.4392156862745098,\"rgb(177,22,88)\"],[0.5019607843137255,\"rgb(203,26,79)\"],[0.5647058823529412,\"rgb(223,47,67)\"],[0.6274509803921569,\"rgb(236,76,61)\"],[0.6901960784313725,\"rgb(242,107,73)\"],[0.7529411764705882,\"rgb(244,135,95)\"],[0.8156862745098039,\"rgb(245,162,122)\"],[0.8784313725490196,\"rgb(246,188,153)\"],[0.9411764705882353,\"rgb(247,212,187)\"],[1.0,\"rgb(250,234,220)\"]]}],\"choropleth\":[{\"type\":\"choropleth\",\"colorbar\":{\"outlinewidth\":0,\"tickcolor\":\"rgb(36,36,36)\",\"ticklen\":8,\"ticks\":\"outside\",\"tickwidth\":2}}],\"histogram2d\":[{\"type\":\"histogram2d\",\"colorbar\":{\"outlinewidth\":0,\"tickcolor\":\"rgb(36,36,36)\",\"ticklen\":8,\"ticks\":\"outside\",\"tickwidth\":2},\"colorscale\":[[0.0,\"rgb(2,4,25)\"],[0.06274509803921569,\"rgb(24,15,41)\"],[0.12549019607843137,\"rgb(47,23,57)\"],[0.18823529411764706,\"rgb(71,28,72)\"],[0.25098039215686274,\"rgb(97,30,82)\"],[0.3137254901960784,\"rgb(123,30,89)\"],[0.3764705882352941,\"rgb(150,27,91)\"],[0.4392156862745098,\"rgb(177,22,88)\"],[0.5019607843137255,\"rgb(203,26,79)\"],[0.5647058823529412,\"rgb(223,47,67)\"],[0.6274509803921569,\"rgb(236,76,61)\"],[0.6901960784313725,\"rgb(242,107,73)\"],[0.7529411764705882,\"rgb(244,135,95)\"],[0.8156862745098039,\"rgb(245,162,122)\"],[0.8784313725490196,\"rgb(246,188,153)\"],[0.9411764705882353,\"rgb(247,212,187)\"],[1.0,\"rgb(250,234,220)\"]]}],\"heatmap\":[{\"type\":\"heatmap\",\"colorbar\":{\"outlinewidth\":0,\"tickcolor\":\"rgb(36,36,36)\",\"ticklen\":8,\"ticks\":\"outside\",\"tickwidth\":2},\"colorscale\":[[0.0,\"rgb(2,4,25)\"],[0.06274509803921569,\"rgb(24,15,41)\"],[0.12549019607843137,\"rgb(47,23,57)\"],[0.18823529411764706,\"rgb(71,28,72)\"],[0.25098039215686274,\"rgb(97,30,82)\"],[0.3137254901960784,\"rgb(123,30,89)\"],[0.3764705882352941,\"rgb(150,27,91)\"],[0.4392156862745098,\"rgb(177,22,88)\"],[0.5019607843137255,\"rgb(203,26,79)\"],[0.5647058823529412,\"rgb(223,47,67)\"],[0.6274509803921569,\"rgb(236,76,61)\"],[0.6901960784313725,\"rgb(242,107,73)\"],[0.7529411764705882,\"rgb(244,135,95)\"],[0.8156862745098039,\"rgb(245,162,122)\"],[0.8784313725490196,\"rgb(246,188,153)\"],[0.9411764705882353,\"rgb(247,212,187)\"],[1.0,\"rgb(250,234,220)\"]]}],\"heatmapgl\":[{\"type\":\"heatmapgl\",\"colorbar\":{\"outlinewidth\":0,\"tickcolor\":\"rgb(36,36,36)\",\"ticklen\":8,\"ticks\":\"outside\",\"tickwidth\":2},\"colorscale\":[[0.0,\"rgb(2,4,25)\"],[0.06274509803921569,\"rgb(24,15,41)\"],[0.12549019607843137,\"rgb(47,23,57)\"],[0.18823529411764706,\"rgb(71,28,72)\"],[0.25098039215686274,\"rgb(97,30,82)\"],[0.3137254901960784,\"rgb(123,30,89)\"],[0.3764705882352941,\"rgb(150,27,91)\"],[0.4392156862745098,\"rgb(177,22,88)\"],[0.5019607843137255,\"rgb(203,26,79)\"],[0.5647058823529412,\"rgb(223,47,67)\"],[0.6274509803921569,\"rgb(236,76,61)\"],[0.6901960784313725,\"rgb(242,107,73)\"],[0.7529411764705882,\"rgb(244,135,95)\"],[0.8156862745098039,\"rgb(245,162,122)\"],[0.8784313725490196,\"rgb(246,188,153)\"],[0.9411764705882353,\"rgb(247,212,187)\"],[1.0,\"rgb(250,234,220)\"]]}],\"contourcarpet\":[{\"type\":\"contourcarpet\",\"colorbar\":{\"outlinewidth\":0,\"tickcolor\":\"rgb(36,36,36)\",\"ticklen\":8,\"ticks\":\"outside\",\"tickwidth\":2}}],\"contour\":[{\"type\":\"contour\",\"colorbar\":{\"outlinewidth\":0,\"tickcolor\":\"rgb(36,36,36)\",\"ticklen\":8,\"ticks\":\"outside\",\"tickwidth\":2},\"colorscale\":[[0.0,\"rgb(2,4,25)\"],[0.06274509803921569,\"rgb(24,15,41)\"],[0.12549019607843137,\"rgb(47,23,57)\"],[0.18823529411764706,\"rgb(71,28,72)\"],[0.25098039215686274,\"rgb(97,30,82)\"],[0.3137254901960784,\"rgb(123,30,89)\"],[0.3764705882352941,\"rgb(150,27,91)\"],[0.4392156862745098,\"rgb(177,22,88)\"],[0.5019607843137255,\"rgb(203,26,79)\"],[0.5647058823529412,\"rgb(223,47,67)\"],[0.6274509803921569,\"rgb(236,76,61)\"],[0.6901960784313725,\"rgb(242,107,73)\"],[0.7529411764705882,\"rgb(244,135,95)\"],[0.8156862745098039,\"rgb(245,162,122)\"],[0.8784313725490196,\"rgb(246,188,153)\"],[0.9411764705882353,\"rgb(247,212,187)\"],[1.0,\"rgb(250,234,220)\"]]}],\"surface\":[{\"type\":\"surface\",\"colorbar\":{\"outlinewidth\":0,\"tickcolor\":\"rgb(36,36,36)\",\"ticklen\":8,\"ticks\":\"outside\",\"tickwidth\":2},\"colorscale\":[[0.0,\"rgb(2,4,25)\"],[0.06274509803921569,\"rgb(24,15,41)\"],[0.12549019607843137,\"rgb(47,23,57)\"],[0.18823529411764706,\"rgb(71,28,72)\"],[0.25098039215686274,\"rgb(97,30,82)\"],[0.3137254901960784,\"rgb(123,30,89)\"],[0.3764705882352941,\"rgb(150,27,91)\"],[0.4392156862745098,\"rgb(177,22,88)\"],[0.5019607843137255,\"rgb(203,26,79)\"],[0.5647058823529412,\"rgb(223,47,67)\"],[0.6274509803921569,\"rgb(236,76,61)\"],[0.6901960784313725,\"rgb(242,107,73)\"],[0.7529411764705882,\"rgb(244,135,95)\"],[0.8156862745098039,\"rgb(245,162,122)\"],[0.8784313725490196,\"rgb(246,188,153)\"],[0.9411764705882353,\"rgb(247,212,187)\"],[1.0,\"rgb(250,234,220)\"]]}],\"mesh3d\":[{\"type\":\"mesh3d\",\"colorbar\":{\"outlinewidth\":0,\"tickcolor\":\"rgb(36,36,36)\",\"ticklen\":8,\"ticks\":\"outside\",\"tickwidth\":2}}],\"scatter\":[{\"fillpattern\":{\"fillmode\":\"overlay\",\"size\":10,\"solidity\":0.2},\"type\":\"scatter\"}],\"parcoords\":[{\"type\":\"parcoords\",\"line\":{\"colorbar\":{\"outlinewidth\":0,\"tickcolor\":\"rgb(36,36,36)\",\"ticklen\":8,\"ticks\":\"outside\",\"tickwidth\":2}}}],\"scatterpolargl\":[{\"type\":\"scatterpolargl\",\"marker\":{\"colorbar\":{\"outlinewidth\":0,\"tickcolor\":\"rgb(36,36,36)\",\"ticklen\":8,\"ticks\":\"outside\",\"tickwidth\":2}}}],\"bar\":[{\"error_x\":{\"color\":\"rgb(36,36,36)\"},\"error_y\":{\"color\":\"rgb(36,36,36)\"},\"marker\":{\"line\":{\"color\":\"rgb(234,234,242)\",\"width\":0.5},\"pattern\":{\"fillmode\":\"overlay\",\"size\":10,\"solidity\":0.2}},\"type\":\"bar\"}],\"scattergeo\":[{\"type\":\"scattergeo\",\"marker\":{\"colorbar\":{\"outlinewidth\":0,\"tickcolor\":\"rgb(36,36,36)\",\"ticklen\":8,\"ticks\":\"outside\",\"tickwidth\":2}}}],\"scatterpolar\":[{\"type\":\"scatterpolar\",\"marker\":{\"colorbar\":{\"outlinewidth\":0,\"tickcolor\":\"rgb(36,36,36)\",\"ticklen\":8,\"ticks\":\"outside\",\"tickwidth\":2}}}],\"histogram\":[{\"marker\":{\"pattern\":{\"fillmode\":\"overlay\",\"size\":10,\"solidity\":0.2}},\"type\":\"histogram\"}],\"scattergl\":[{\"type\":\"scattergl\",\"marker\":{\"colorbar\":{\"outlinewidth\":0,\"tickcolor\":\"rgb(36,36,36)\",\"ticklen\":8,\"ticks\":\"outside\",\"tickwidth\":2}}}],\"scatter3d\":[{\"type\":\"scatter3d\",\"line\":{\"colorbar\":{\"outlinewidth\":0,\"tickcolor\":\"rgb(36,36,36)\",\"ticklen\":8,\"ticks\":\"outside\",\"tickwidth\":2}},\"marker\":{\"colorbar\":{\"outlinewidth\":0,\"tickcolor\":\"rgb(36,36,36)\",\"ticklen\":8,\"ticks\":\"outside\",\"tickwidth\":2}}}],\"scattermapbox\":[{\"type\":\"scattermapbox\",\"marker\":{\"colorbar\":{\"outlinewidth\":0,\"tickcolor\":\"rgb(36,36,36)\",\"ticklen\":8,\"ticks\":\"outside\",\"tickwidth\":2}}}],\"scatterternary\":[{\"type\":\"scatterternary\",\"marker\":{\"colorbar\":{\"outlinewidth\":0,\"tickcolor\":\"rgb(36,36,36)\",\"ticklen\":8,\"ticks\":\"outside\",\"tickwidth\":2}}}],\"scattercarpet\":[{\"type\":\"scattercarpet\",\"marker\":{\"colorbar\":{\"outlinewidth\":0,\"tickcolor\":\"rgb(36,36,36)\",\"ticklen\":8,\"ticks\":\"outside\",\"tickwidth\":2}}}],\"carpet\":[{\"aaxis\":{\"endlinecolor\":\"rgb(36,36,36)\",\"gridcolor\":\"white\",\"linecolor\":\"white\",\"minorgridcolor\":\"white\",\"startlinecolor\":\"rgb(36,36,36)\"},\"baxis\":{\"endlinecolor\":\"rgb(36,36,36)\",\"gridcolor\":\"white\",\"linecolor\":\"white\",\"minorgridcolor\":\"white\",\"startlinecolor\":\"rgb(36,36,36)\"},\"type\":\"carpet\"}],\"table\":[{\"cells\":{\"fill\":{\"color\":\"rgb(231,231,240)\"},\"line\":{\"color\":\"white\"}},\"header\":{\"fill\":{\"color\":\"rgb(183,183,191)\"},\"line\":{\"color\":\"white\"}},\"type\":\"table\"}],\"barpolar\":[{\"marker\":{\"line\":{\"color\":\"rgb(234,234,242)\",\"width\":0.5},\"pattern\":{\"fillmode\":\"overlay\",\"size\":10,\"solidity\":0.2}},\"type\":\"barpolar\"}],\"pie\":[{\"automargin\":true,\"type\":\"pie\"}]},\"layout\":{\"autotypenumbers\":\"strict\",\"colorway\":[\"rgb(76,114,176)\",\"rgb(221,132,82)\",\"rgb(85,168,104)\",\"rgb(196,78,82)\",\"rgb(129,114,179)\",\"rgb(147,120,96)\",\"rgb(218,139,195)\",\"rgb(140,140,140)\",\"rgb(204,185,116)\",\"rgb(100,181,205)\"],\"font\":{\"color\":\"rgb(36,36,36)\"},\"hovermode\":\"closest\",\"hoverlabel\":{\"align\":\"left\"},\"paper_bgcolor\":\"white\",\"plot_bgcolor\":\"rgb(234,234,242)\",\"polar\":{\"bgcolor\":\"rgb(234,234,242)\",\"angularaxis\":{\"gridcolor\":\"white\",\"linecolor\":\"white\",\"showgrid\":true,\"ticks\":\"\"},\"radialaxis\":{\"gridcolor\":\"white\",\"linecolor\":\"white\",\"showgrid\":true,\"ticks\":\"\"}},\"ternary\":{\"bgcolor\":\"rgb(234,234,242)\",\"aaxis\":{\"gridcolor\":\"white\",\"linecolor\":\"white\",\"showgrid\":true,\"ticks\":\"\"},\"baxis\":{\"gridcolor\":\"white\",\"linecolor\":\"white\",\"showgrid\":true,\"ticks\":\"\"},\"caxis\":{\"gridcolor\":\"white\",\"linecolor\":\"white\",\"showgrid\":true,\"ticks\":\"\"}},\"coloraxis\":{\"colorbar\":{\"outlinewidth\":0,\"tickcolor\":\"rgb(36,36,36)\",\"ticklen\":8,\"ticks\":\"outside\",\"tickwidth\":2}},\"colorscale\":{\"sequential\":[[0.0,\"rgb(2,4,25)\"],[0.06274509803921569,\"rgb(24,15,41)\"],[0.12549019607843137,\"rgb(47,23,57)\"],[0.18823529411764706,\"rgb(71,28,72)\"],[0.25098039215686274,\"rgb(97,30,82)\"],[0.3137254901960784,\"rgb(123,30,89)\"],[0.3764705882352941,\"rgb(150,27,91)\"],[0.4392156862745098,\"rgb(177,22,88)\"],[0.5019607843137255,\"rgb(203,26,79)\"],[0.5647058823529412,\"rgb(223,47,67)\"],[0.6274509803921569,\"rgb(236,76,61)\"],[0.6901960784313725,\"rgb(242,107,73)\"],[0.7529411764705882,\"rgb(244,135,95)\"],[0.8156862745098039,\"rgb(245,162,122)\"],[0.8784313725490196,\"rgb(246,188,153)\"],[0.9411764705882353,\"rgb(247,212,187)\"],[1.0,\"rgb(250,234,220)\"]],\"sequentialminus\":[[0.0,\"rgb(2,4,25)\"],[0.06274509803921569,\"rgb(24,15,41)\"],[0.12549019607843137,\"rgb(47,23,57)\"],[0.18823529411764706,\"rgb(71,28,72)\"],[0.25098039215686274,\"rgb(97,30,82)\"],[0.3137254901960784,\"rgb(123,30,89)\"],[0.3764705882352941,\"rgb(150,27,91)\"],[0.4392156862745098,\"rgb(177,22,88)\"],[0.5019607843137255,\"rgb(203,26,79)\"],[0.5647058823529412,\"rgb(223,47,67)\"],[0.6274509803921569,\"rgb(236,76,61)\"],[0.6901960784313725,\"rgb(242,107,73)\"],[0.7529411764705882,\"rgb(244,135,95)\"],[0.8156862745098039,\"rgb(245,162,122)\"],[0.8784313725490196,\"rgb(246,188,153)\"],[0.9411764705882353,\"rgb(247,212,187)\"],[1.0,\"rgb(250,234,220)\"]]},\"xaxis\":{\"gridcolor\":\"white\",\"linecolor\":\"white\",\"showgrid\":true,\"ticks\":\"\",\"title\":{\"standoff\":15},\"zerolinecolor\":\"white\",\"automargin\":true},\"yaxis\":{\"gridcolor\":\"white\",\"linecolor\":\"white\",\"showgrid\":true,\"ticks\":\"\",\"title\":{\"standoff\":15},\"zerolinecolor\":\"white\",\"automargin\":true},\"scene\":{\"xaxis\":{\"backgroundcolor\":\"rgb(234,234,242)\",\"gridcolor\":\"white\",\"linecolor\":\"white\",\"showbackground\":true,\"showgrid\":true,\"ticks\":\"\",\"zerolinecolor\":\"white\",\"gridwidth\":2},\"yaxis\":{\"backgroundcolor\":\"rgb(234,234,242)\",\"gridcolor\":\"white\",\"linecolor\":\"white\",\"showbackground\":true,\"showgrid\":true,\"ticks\":\"\",\"zerolinecolor\":\"white\",\"gridwidth\":2},\"zaxis\":{\"backgroundcolor\":\"rgb(234,234,242)\",\"gridcolor\":\"white\",\"linecolor\":\"white\",\"showbackground\":true,\"showgrid\":true,\"ticks\":\"\",\"zerolinecolor\":\"white\",\"gridwidth\":2}},\"shapedefaults\":{\"fillcolor\":\"rgb(67,103,167)\",\"line\":{\"width\":0},\"opacity\":0.5},\"annotationdefaults\":{\"arrowcolor\":\"rgb(67,103,167)\"},\"geo\":{\"bgcolor\":\"white\",\"landcolor\":\"rgb(234,234,242)\",\"subunitcolor\":\"white\",\"showland\":true,\"showlakes\":true,\"lakecolor\":\"white\"}}},\"xaxis\":{\"anchor\":\"y\",\"domain\":[0.0,1.0],\"title\":{\"text\":\"Hour of day\"},\"tickvals\":[0,24,48,72,96,120,144],\"ticktext\":[\"Mon\",\"Tue\",\"Wed\",\"Thu\",\"Fri\",\"Sat\",\"Sun\"],\"tickfont\":{\"size\":18},\"tickformat\":\"%b %Y\"},\"yaxis\":{\"anchor\":\"x\",\"domain\":[0.0,1.0],\"title\":{\"text\":\"Steps\"},\"tickfont\":{\"size\":18}},\"legend\":{\"title\":{},\"tracegroupgap\":0,\"bgcolor\":\"rgba(255,255,255, 0.0)\",\"yanchor\":\"top\",\"y\":0.99,\"xanchor\":\"right\",\"x\":0.99},\"title\":{\"text\":\"<b>24-64</b>\",\"font\":{\"size\":24}},\"height\":500,\"annotations\":[{\"align\":\"left\",\"bgcolor\":\"white\",\"bordercolor\":\"#2D2D2D\",\"borderpad\":5,\"borderwidth\":1,\"height\":45,\"showarrow\":false,\"text\":\"\",\"width\":60,\"x\":3,\"y\":544},{\"font\":{\"color\":\"#2D2D2D\",\"size\":18},\"showarrow\":false,\"text\":\"\",\"x\":2,\"y\":650},{\"font\":{\"color\":\"#1F77B4\",\"size\":16},\"showarrow\":false,\"text\":\"      4884\",\"x\":1,\"y\":575.0},{\"font\":{\"color\":\"#FF7F0E\",\"size\":16},\"showarrow\":false,\"text\":\"      3766\",\"x\":1,\"y\":550},{\"font\":{\"color\":\"#D62728\",\"size\":16},\"showarrow\":false,\"text\":\"     -22.9%\",\"x\":2,\"y\":520},{\"align\":\"left\",\"bgcolor\":\"white\",\"bordercolor\":\"#2D2D2D\",\"borderpad\":5,\"borderwidth\":1,\"height\":45,\"showarrow\":false,\"text\":\"\",\"width\":60,\"x\":27,\"y\":544},{\"font\":{\"color\":\"#2D2D2D\",\"size\":18},\"showarrow\":false,\"text\":\"\",\"x\":26,\"y\":650},{\"font\":{\"color\":\"#1F77B4\",\"size\":16},\"showarrow\":false,\"text\":\"      5010\",\"x\":25,\"y\":575.0},{\"font\":{\"color\":\"#FF7F0E\",\"size\":16},\"showarrow\":false,\"text\":\"      3802\",\"x\":25,\"y\":550},{\"font\":{\"color\":\"#D62728\",\"size\":16},\"showarrow\":false,\"text\":\"     -24.1%\",\"x\":26,\"y\":520},{\"align\":\"left\",\"bgcolor\":\"white\",\"bordercolor\":\"#2D2D2D\",\"borderpad\":5,\"borderwidth\":1,\"height\":45,\"showarrow\":false,\"text\":\"\",\"width\":60,\"x\":51,\"y\":544},{\"font\":{\"color\":\"#2D2D2D\",\"size\":18},\"showarrow\":false,\"text\":\"\",\"x\":50,\"y\":650},{\"font\":{\"color\":\"#1F77B4\",\"size\":16},\"showarrow\":false,\"text\":\"      5054\",\"x\":49,\"y\":575.0},{\"font\":{\"color\":\"#FF7F0E\",\"size\":16},\"showarrow\":false,\"text\":\"      3870\",\"x\":49,\"y\":550},{\"font\":{\"color\":\"#D62728\",\"size\":16},\"showarrow\":false,\"text\":\"     -23.4%\",\"x\":50,\"y\":520},{\"align\":\"left\",\"bgcolor\":\"white\",\"bordercolor\":\"#2D2D2D\",\"borderpad\":5,\"borderwidth\":1,\"height\":45,\"showarrow\":false,\"text\":\"\",\"width\":60,\"x\":75,\"y\":544},{\"font\":{\"color\":\"#2D2D2D\",\"size\":18},\"showarrow\":false,\"text\":\"\",\"x\":74,\"y\":650},{\"font\":{\"color\":\"#1F77B4\",\"size\":16},\"showarrow\":false,\"text\":\"      5089\",\"x\":73,\"y\":575.0},{\"font\":{\"color\":\"#FF7F0E\",\"size\":16},\"showarrow\":false,\"text\":\"      3953\",\"x\":73,\"y\":550},{\"font\":{\"color\":\"#D62728\",\"size\":16},\"showarrow\":false,\"text\":\"     -22.3%\",\"x\":74,\"y\":520},{\"align\":\"left\",\"bgcolor\":\"white\",\"bordercolor\":\"#2D2D2D\",\"borderpad\":5,\"borderwidth\":1,\"height\":45,\"showarrow\":false,\"text\":\"\",\"width\":60,\"x\":99,\"y\":544},{\"font\":{\"color\":\"#2D2D2D\",\"size\":18},\"showarrow\":false,\"text\":\"\",\"x\":98,\"y\":650},{\"font\":{\"color\":\"#1F77B4\",\"size\":16},\"showarrow\":false,\"text\":\"      5216\",\"x\":97,\"y\":575.0},{\"font\":{\"color\":\"#FF7F0E\",\"size\":16},\"showarrow\":false,\"text\":\"      4068\",\"x\":97,\"y\":550},{\"font\":{\"color\":\"#D62728\",\"size\":16},\"showarrow\":false,\"text\":\"     -22.0%\",\"x\":98,\"y\":520},{\"align\":\"left\",\"bgcolor\":\"white\",\"bordercolor\":\"#2D2D2D\",\"borderpad\":5,\"borderwidth\":1,\"height\":45,\"showarrow\":false,\"text\":\"\",\"width\":60,\"x\":123,\"y\":544},{\"font\":{\"color\":\"#2D2D2D\",\"size\":18},\"showarrow\":false,\"text\":\"\",\"x\":122,\"y\":650},{\"font\":{\"color\":\"#1F77B4\",\"size\":16},\"showarrow\":false,\"text\":\"      4637\",\"x\":121,\"y\":575.0},{\"font\":{\"color\":\"#FF7F0E\",\"size\":16},\"showarrow\":false,\"text\":\"      4816\",\"x\":121,\"y\":550},{\"font\":{\"color\":\"#2CA02C\",\"size\":16},\"showarrow\":false,\"text\":\"       3.9%\",\"x\":121,\"y\":520},{\"align\":\"left\",\"bgcolor\":\"white\",\"bordercolor\":\"#2D2D2D\",\"borderpad\":5,\"borderwidth\":1,\"height\":45,\"showarrow\":false,\"text\":\"\",\"width\":60,\"x\":147,\"y\":544},{\"font\":{\"color\":\"#2D2D2D\",\"size\":18},\"showarrow\":false,\"text\":\"\",\"x\":146,\"y\":650},{\"font\":{\"color\":\"#1F77B4\",\"size\":16},\"showarrow\":false,\"text\":\"      3893\",\"x\":145,\"y\":575.0},{\"font\":{\"color\":\"#FF7F0E\",\"size\":16},\"showarrow\":false,\"text\":\"      4366\",\"x\":145,\"y\":550},{\"font\":{\"color\":\"#2CA02C\",\"size\":16},\"showarrow\":false,\"text\":\"      12.2%\",\"x\":145,\"y\":520}],\"margin\":{\"l\":0,\"r\":0,\"t\":48,\"b\":32},\"font\":{\"size\":18,\"color\":\"#2D2D2D\",\"family\":\"Lato, sans-serif\"}},                        {\"responsive\": true}                    ).then(function(){\n",
       "                            \n",
       "var gd = document.getElementById('785f7444-a20e-47b7-bae0-369f06b3bae0');\n",
       "var x = new MutationObserver(function (mutations, observer) {{\n",
       "        var display = window.getComputedStyle(gd).display;\n",
       "        if (!display || display === 'none') {{\n",
       "            console.log([gd, 'removed!']);\n",
       "            Plotly.purge(gd);\n",
       "            observer.disconnect();\n",
       "        }}\n",
       "}});\n",
       "\n",
       "// Listen for the removal of the full notebook cells\n",
       "var notebookContainer = gd.closest('#notebook-container');\n",
       "if (notebookContainer) {{\n",
       "    x.observe(notebookContainer, {childList: true});\n",
       "}}\n",
       "\n",
       "// Listen for the clearing of the current output cell\n",
       "var outputEl = gd.closest('.output');\n",
       "if (outputEl) {{\n",
       "    x.observe(outputEl, {childList: true});\n",
       "}}\n",
       "\n",
       "                        })                };                });            </script>        </div>"
      ]
     },
     "metadata": {},
     "output_type": "display_data"
    }
   ],
   "source": [
    "# users = df[df['work_age'] == True]\n",
    "show_plot(df, 'All')\n",
    "show_plot(df[df['work_age'] == False], '18-24 & 65+')\n",
    "show_plot(df[df['work_age'] == True], '24-64')"
   ]
  },
  {
   "cell_type": "code",
   "execution_count": 10,
   "id": "23536fdf-0f52-4588-91fe-cbfb038eaa41",
   "metadata": {},
   "outputs": [
    {
     "data": {
      "text/plain": [
       "0.17265171710835814"
      ]
     },
     "execution_count": 10,
     "metadata": {},
     "output_type": "execute_result"
    }
   ],
   "source": [
    "avgBefore = (4602 + 4720 + 4782 + 4823 + 5007 + 4358 + 3593) / 7\n",
    "avgAfter = (3508 + 3535 + 3618 + 3692 + 3849 + 4334 + 3844) / 7\n",
    "\n",
    "1 - avgAfter / avgBefore"
   ]
  },
  {
   "cell_type": "code",
   "execution_count": 11,
   "id": "99929936-beea-4fc4-875b-cb6d55fdc2f6",
   "metadata": {
    "tags": []
   },
   "outputs": [],
   "source": [
    "#workers = df[df['work_age'] == True]\n",
    "#non_workers = df[df['work_age'] == False]\n",
    "\n",
    "#widgets.VBox([plot_weekdays('All', df), plot_weekdays('Workers', workers), plot_weekdays('Non workers', non_workers)])"
   ]
  },
  {
   "cell_type": "code",
   "execution_count": 13,
   "id": "3f111621-b4a3-4e43-aba3-d4960cc4a7ba",
   "metadata": {
    "tags": []
   },
   "outputs": [
    {
     "data": {
      "text/plain": [
       "[-2.0872572396447,\n",
       " 0.0,\n",
       " 0.0,\n",
       " 0.0,\n",
       " 0.0,\n",
       " 0.0,\n",
       " 0.0,\n",
       " -2.7167087919571866,\n",
       " -12.901588639101838,\n",
       " -25.255783506153534,\n",
       " -2.599937627913789,\n",
       " 45.57213733378319,\n",
       " 52.24758311623367,\n",
       " 64.34595011040858,\n",
       " 74.48116586360658,\n",
       " 20.230951592761926,\n",
       " -8.215716052770404,\n",
       " -43.08324341760755,\n",
       " -41.547548909022765,\n",
       " -35.91140168541608,\n",
       " -32.16694864850297,\n",
       " -33.332206032056085,\n",
       " -26.440088459993518,\n",
       " -14.467678335166458]"
      ]
     },
     "execution_count": 13,
     "metadata": {},
     "output_type": "execute_result"
    }
   ],
   "source": [
    "saturdayBefore = steps['Before'][120:144]\n",
    "saturdayBefore.index = [i - 120 for i in saturdayBefore.index]\n",
    "saturdayAfter = steps['During'][120:144]\n",
    "saturdayAfter.index = [i - 120 for i in saturdayAfter.index]\n",
    "\n",
    "saturdayAfter = [saturdayAfter[i] - saturdayBefore[i] for i in saturdayBefore.index]\n",
    "saturdayAfter"
   ]
  },
  {
   "cell_type": "code",
   "execution_count": 15,
   "id": "97e9de88-9675-4405-814a-9e7a4cb0a42e",
   "metadata": {
    "tags": []
   },
   "outputs": [
    {
     "data": {
      "text/plain": [
       "0       4.317655\n",
       "1       0.000000\n",
       "2       0.000000\n",
       "3       0.000000\n",
       "4       0.000000\n",
       "5       0.000000\n",
       "6       0.000000\n",
       "7       1.225000\n",
       "8      25.202569\n",
       "9     112.830052\n",
       "10    271.783549\n",
       "11    467.398485\n",
       "12    546.288441\n",
       "13    580.394584\n",
       "14    574.506920\n",
       "15    483.224190\n",
       "16    389.004430\n",
       "17    300.469142\n",
       "18    217.673486\n",
       "19    145.023745\n",
       "20     90.745536\n",
       "21     59.766155\n",
       "22     41.155576\n",
       "23     23.086003\n",
       "Name: During, dtype: float64"
      ]
     },
     "execution_count": 15,
     "metadata": {},
     "output_type": "execute_result"
    }
   ],
   "source": [
    "saturday = steps['During'][120:144]\n",
    "saturday.index = [i - 120 for i in saturday.index]\n",
    "saturday"
   ]
  },
  {
   "cell_type": "code",
   "execution_count": 16,
   "id": "a2e2a81c-5de9-4941-8528-1c401385084f",
   "metadata": {
    "tags": []
   },
   "outputs": [
    {
     "data": {
      "text/plain": [
       "-5731.897007461757"
      ]
     },
     "execution_count": 16,
     "metadata": {},
     "output_type": "execute_result"
    }
   ],
   "source": [
    "diffs\n",
    "\n",
    "weekdayDiff = 0\n",
    "weekendDiff = 0\n",
    "\n",
    "for i, diff in enumerate(diffs):\n",
    "    if i < 5: weekdayDiff += diff\n",
    "    else: weekendDiff += diff\n",
    "    \n",
    "weekdayDiff"
   ]
  },
  {
   "cell_type": "code",
   "execution_count": 17,
   "id": "12d818af-7d0f-401d-9c07-2ce9cce339dc",
   "metadata": {},
   "outputs": [
    {
     "data": {
      "text/plain": [
       "227.8076883043259"
      ]
     },
     "execution_count": 17,
     "metadata": {},
     "output_type": "execute_result"
    }
   ],
   "source": [
    "weekendDiff"
   ]
  },
  {
   "cell_type": "code",
   "execution_count": 18,
   "id": "bf2d8fa2-5777-4bd4-8a82-eb71832b78b5",
   "metadata": {},
   "outputs": [
    {
     "data": {
      "text/plain": [
       "-5504.089319157431"
      ]
     },
     "execution_count": 18,
     "metadata": {},
     "output_type": "execute_result"
    }
   ],
   "source": [
    "weekdayDiff + weekendDiff"
   ]
  },
  {
   "cell_type": "code",
   "execution_count": null,
   "id": "ee4e5af9-fbb9-46b1-96c4-4d7fe6930137",
   "metadata": {},
   "outputs": [],
   "source": []
  },
  {
   "cell_type": "code",
   "execution_count": 19,
   "id": "404ce054-47fc-4f3e-913a-43a53742fcc0",
   "metadata": {},
   "outputs": [
    {
     "data": {
      "text/html": [
       "<div>\n",
       "<style scoped>\n",
       "    .dataframe tbody tr th:only-of-type {\n",
       "        vertical-align: middle;\n",
       "    }\n",
       "\n",
       "    .dataframe tbody tr th {\n",
       "        vertical-align: top;\n",
       "    }\n",
       "\n",
       "    .dataframe thead th {\n",
       "        text-align: right;\n",
       "    }\n",
       "</style>\n",
       "<table border=\"1\" class=\"dataframe\">\n",
       "  <thead>\n",
       "    <tr style=\"text-align: right;\">\n",
       "      <th></th>\n",
       "      <th>id</th>\n",
       "      <th>gender</th>\n",
       "      <th>ageRange</th>\n",
       "      <th>occupation</th>\n",
       "      <th>compareDate</th>\n",
       "      <th>stepsEstimate</th>\n",
       "      <th>series</th>\n",
       "      <th>hour</th>\n",
       "      <th>steps</th>\n",
       "      <th>work_age</th>\n",
       "      <th>period</th>\n",
       "    </tr>\n",
       "  </thead>\n",
       "  <tbody>\n",
       "    <tr>\n",
       "      <th>316334</th>\n",
       "      <td>5f9fd6960e1ca900098a5f6a</td>\n",
       "      <td>Male</td>\n",
       "      <td>18-24</td>\n",
       "      <td>None</td>\n",
       "      <td>2020-03-16</td>\n",
       "      <td>0.40</td>\n",
       "      <td>2020-05-16</td>\n",
       "      <td>0</td>\n",
       "      <td>0.00</td>\n",
       "      <td>False</td>\n",
       "      <td>During</td>\n",
       "    </tr>\n",
       "    <tr>\n",
       "      <th>4320614</th>\n",
       "      <td>60893d94a7dbe700080651c7</td>\n",
       "      <td>Female</td>\n",
       "      <td>18-24</td>\n",
       "      <td>student</td>\n",
       "      <td>2020-03-16</td>\n",
       "      <td>0.30</td>\n",
       "      <td>2020-10-16</td>\n",
       "      <td>0</td>\n",
       "      <td>0.00</td>\n",
       "      <td>False</td>\n",
       "      <td>During</td>\n",
       "    </tr>\n",
       "    <tr>\n",
       "      <th>1062254</th>\n",
       "      <td>5fbf921f14c1ad0009a66e3d</td>\n",
       "      <td>Female</td>\n",
       "      <td>75-84</td>\n",
       "      <td>None</td>\n",
       "      <td>2020-03-16</td>\n",
       "      <td>0.00</td>\n",
       "      <td>2019-03-16</td>\n",
       "      <td>0</td>\n",
       "      <td>0.00</td>\n",
       "      <td>False</td>\n",
       "      <td>Before</td>\n",
       "    </tr>\n",
       "    <tr>\n",
       "      <th>2313854</th>\n",
       "      <td>603d367905b9990009cd672a</td>\n",
       "      <td>Female</td>\n",
       "      <td>55-64</td>\n",
       "      <td>Regionchef</td>\n",
       "      <td>2020-03-16</td>\n",
       "      <td>-0.45</td>\n",
       "      <td>2020-04-16</td>\n",
       "      <td>0</td>\n",
       "      <td>15.00</td>\n",
       "      <td>True</td>\n",
       "      <td>During</td>\n",
       "    </tr>\n",
       "    <tr>\n",
       "      <th>1062422</th>\n",
       "      <td>5fbf921f14c1ad0009a66e3d</td>\n",
       "      <td>Female</td>\n",
       "      <td>75-84</td>\n",
       "      <td>None</td>\n",
       "      <td>2020-03-16</td>\n",
       "      <td>0.00</td>\n",
       "      <td>2019-04-16</td>\n",
       "      <td>0</td>\n",
       "      <td>18.25</td>\n",
       "      <td>False</td>\n",
       "      <td>Before</td>\n",
       "    </tr>\n",
       "    <tr>\n",
       "      <th>...</th>\n",
       "      <td>...</td>\n",
       "      <td>...</td>\n",
       "      <td>...</td>\n",
       "      <td>...</td>\n",
       "      <td>...</td>\n",
       "      <td>...</td>\n",
       "      <td>...</td>\n",
       "      <td>...</td>\n",
       "      <td>...</td>\n",
       "      <td>...</td>\n",
       "      <td>...</td>\n",
       "    </tr>\n",
       "    <tr>\n",
       "      <th>4064245</th>\n",
       "      <td>607ff09a08b31500083cf405</td>\n",
       "      <td>Female</td>\n",
       "      <td>None</td>\n",
       "      <td>None</td>\n",
       "      <td>2020-03-16</td>\n",
       "      <td>-0.55</td>\n",
       "      <td>2020-05-16</td>\n",
       "      <td>167</td>\n",
       "      <td>0.00</td>\n",
       "      <td>False</td>\n",
       "      <td>During</td>\n",
       "    </tr>\n",
       "    <tr>\n",
       "      <th>1195645</th>\n",
       "      <td>5fbfcbe24713fa0008064588</td>\n",
       "      <td>Male</td>\n",
       "      <td>25-34</td>\n",
       "      <td>M.D</td>\n",
       "      <td>2020-03-16</td>\n",
       "      <td>-0.10</td>\n",
       "      <td>2020-07-16</td>\n",
       "      <td>167</td>\n",
       "      <td>17.00</td>\n",
       "      <td>True</td>\n",
       "      <td>During</td>\n",
       "    </tr>\n",
       "    <tr>\n",
       "      <th>1922077</th>\n",
       "      <td>600ef8a79b461a000842a6ab</td>\n",
       "      <td>Female</td>\n",
       "      <td>55-64</td>\n",
       "      <td>Administrator</td>\n",
       "      <td>2020-03-16</td>\n",
       "      <td>0.30</td>\n",
       "      <td>2020-10-16</td>\n",
       "      <td>167</td>\n",
       "      <td>14.60</td>\n",
       "      <td>True</td>\n",
       "      <td>During</td>\n",
       "    </tr>\n",
       "    <tr>\n",
       "      <th>204445</th>\n",
       "      <td>5f900bc0060b1000080facb4</td>\n",
       "      <td>Male</td>\n",
       "      <td>45-54</td>\n",
       "      <td>None</td>\n",
       "      <td>2020-03-16</td>\n",
       "      <td>-0.25</td>\n",
       "      <td>2020-09-16</td>\n",
       "      <td>167</td>\n",
       "      <td>0.00</td>\n",
       "      <td>True</td>\n",
       "      <td>During</td>\n",
       "    </tr>\n",
       "    <tr>\n",
       "      <th>1960717</th>\n",
       "      <td>60187ceb72a8eb0008e405a5</td>\n",
       "      <td>Female</td>\n",
       "      <td>55-64</td>\n",
       "      <td>key account manager</td>\n",
       "      <td>2020-03-16</td>\n",
       "      <td>-0.50</td>\n",
       "      <td>2020-12-16</td>\n",
       "      <td>167</td>\n",
       "      <td>0.00</td>\n",
       "      <td>True</td>\n",
       "      <td>During</td>\n",
       "    </tr>\n",
       "  </tbody>\n",
       "</table>\n",
       "<p>4858392 rows × 11 columns</p>\n",
       "</div>"
      ],
      "text/plain": [
       "                               id  gender ageRange           occupation  \\\n",
       "316334   5f9fd6960e1ca900098a5f6a    Male    18-24                 None   \n",
       "4320614  60893d94a7dbe700080651c7  Female    18-24             student    \n",
       "1062254  5fbf921f14c1ad0009a66e3d  Female    75-84                 None   \n",
       "2313854  603d367905b9990009cd672a  Female    55-64           Regionchef   \n",
       "1062422  5fbf921f14c1ad0009a66e3d  Female    75-84                 None   \n",
       "...                           ...     ...      ...                  ...   \n",
       "4064245  607ff09a08b31500083cf405  Female     None                 None   \n",
       "1195645  5fbfcbe24713fa0008064588    Male    25-34                  M.D   \n",
       "1922077  600ef8a79b461a000842a6ab  Female    55-64        Administrator   \n",
       "204445   5f900bc0060b1000080facb4    Male    45-54                 None   \n",
       "1960717  60187ceb72a8eb0008e405a5  Female    55-64  key account manager   \n",
       "\n",
       "        compareDate  stepsEstimate      series  hour  steps  work_age  period  \n",
       "316334   2020-03-16           0.40  2020-05-16     0   0.00     False  During  \n",
       "4320614  2020-03-16           0.30  2020-10-16     0   0.00     False  During  \n",
       "1062254  2020-03-16           0.00  2019-03-16     0   0.00     False  Before  \n",
       "2313854  2020-03-16          -0.45  2020-04-16     0  15.00      True  During  \n",
       "1062422  2020-03-16           0.00  2019-04-16     0  18.25     False  Before  \n",
       "...             ...            ...         ...   ...    ...       ...     ...  \n",
       "4064245  2020-03-16          -0.55  2020-05-16   167   0.00     False  During  \n",
       "1195645  2020-03-16          -0.10  2020-07-16   167  17.00      True  During  \n",
       "1922077  2020-03-16           0.30  2020-10-16   167  14.60      True  During  \n",
       "204445   2020-03-16          -0.25  2020-09-16   167   0.00      True  During  \n",
       "1960717  2020-03-16          -0.50  2020-12-16   167   0.00      True  During  \n",
       "\n",
       "[4858392 rows x 11 columns]"
      ]
     },
     "execution_count": 19,
     "metadata": {},
     "output_type": "execute_result"
    }
   ],
   "source": [
    "df"
   ]
  },
  {
   "cell_type": "code",
   "execution_count": null,
   "id": "1bc0f834-8186-425d-88a7-a49676f2fdb8",
   "metadata": {},
   "outputs": [],
   "source": []
  }
 ],
 "metadata": {
  "kernelspec": {
   "display_name": "Python 3 (ipykernel)",
   "language": "python",
   "name": "python3"
  },
  "language_info": {
   "codemirror_mode": {
    "name": "ipython",
    "version": 3
   },
   "file_extension": ".py",
   "mimetype": "text/x-python",
   "name": "python",
   "nbconvert_exporter": "python",
   "pygments_lexer": "ipython3",
   "version": "3.9.12"
  }
 },
 "nbformat": 4,
 "nbformat_minor": 5
}
