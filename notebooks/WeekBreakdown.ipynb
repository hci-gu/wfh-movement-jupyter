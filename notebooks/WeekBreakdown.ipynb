{
 "cells": [
  {
   "cell_type": "code",
   "execution_count": null,
   "id": "ed493913-e1bf-49a1-be52-68434ad192fd",
   "metadata": {},
   "outputs": [],
   "source": [
    "import pandas as pd\n",
    "import numpy as np\n",
    "import ruptures as rpt\n",
    "import plotly.io as pio\n",
    "import plotly.express as px\n",
    "from plotly.subplots import make_subplots\n",
    "import plotly.graph_objects as go\n",
    "import ipywidgets as widgets\n",
    "import matplotlib.pyplot as plt\n",
    "\n",
    "pio.templates.default = \"seaborn\"\n",
    "pd.options.plotting.backend = \"plotly\"\n",
    "\n",
    "%matplotlib inline"
   ]
  },
  {
   "cell_type": "code",
   "execution_count": null,
   "id": "623184e4-9883-45ee-8472-0c25bf659d28",
   "metadata": {},
   "outputs": [],
   "source": [
    "%store -r df"
   ]
  },
  {
   "cell_type": "code",
   "execution_count": null,
   "id": "7ace2c71-44d7-4647-944e-e2eecbbbd7eb",
   "metadata": {},
   "outputs": [],
   "source": [
    "%run functions.ipynb"
   ]
  },
  {
   "cell_type": "code",
   "execution_count": null,
   "id": "bbdd0bb4-95f8-4c75-9022-f0afd1086f00",
   "metadata": {},
   "outputs": [],
   "source": [
    "def plot_weekdays(title, users):\n",
    "    steps = users.groupby(['hour','series']).median().unstack('series')['steps']\n",
    "    plot = steps.plot.line(markers=False, line_shape='spline', height=400, title=title)\n",
    "    \n",
    "    days = ['Mon', 'Tue', 'Wed', 'Thu', 'Fri', 'Sat', 'Sun']\n",
    "    for day in range(0,7):\n",
    "        start = day * 24\n",
    "        end = start + 23\n",
    "        stepsBefore = steps['before'][start:end].sum()\n",
    "        stepsAfter = steps['after'][start:end].sum()\n",
    "        offset = start + 2\n",
    "        \n",
    "        annotate_diff(plot, offset, 600, 50, days[day], stepsBefore, stepsAfter)\n",
    "\n",
    "    return go.FigureWidget(plot)"
   ]
  },
  {
   "cell_type": "code",
   "execution_count": null,
   "id": "9ebcdbd5-b2ac-438c-8568-386463ca590b",
   "metadata": {},
   "outputs": [],
   "source": [
    "users = df[df['work_age'] == False]\n",
    "steps = users.groupby(['hour','series']).median().unstack('series')['steps']\n",
    "plot = steps.plot.line(markers=False, line_shape='spline', height=400)\n",
    "\n",
    "weekend_start = (24 * 5) - 1\n",
    "ranges = [{'start':0, 'end': weekend_start, 'length': 5}, {'start': weekend_start, 'end': 167, 'length': 2}]\n",
    "\n",
    "weekday_dec = 0\n",
    "weekend_dec = 0\n",
    "\n",
    "for range in ranges:\n",
    "    start = range['start']\n",
    "    end = range['end']\n",
    "    stepsBefore = steps['before'][start:end].sum()\n",
    "    stepsAfter = steps['after'][start:end].sum()\n",
    "    if start == 0:\n",
    "        weekday_dec = stepsAfter - stepsBefore\n",
    "    else:\n",
    "        weekend_dec = stepsAfter - stepsBefore\n",
    "    \n",
    "    annotate_diff(plot, start, 600, 50, '', stepsBefore, stepsAfter)\n",
    "    # plot.add_vrect(x0=start, x1=end - 1, opacity=0.15, layer=\"below\", line_width=2, line_dash=\"dash\")\n",
    "\n",
    "diff = weekend_dec + weekday_dec\n",
    "plot.add_annotation(x=146, y=700, text='{:10.0f} (weekday)'.format(weekday_dec), showarrow=False, font=dict(\n",
    "    color='black',\n",
    "    size=14,\n",
    "))\n",
    "plot.add_annotation(x=146, y=650, text='{:10.0f} (weekend)'.format(weekend_dec), showarrow=False, font=dict(\n",
    "    color='black',\n",
    "    size=14,\n",
    "))\n",
    "plot.add_annotation(x=140, y=600, text='{:10.0f}'.format(diff), showarrow=False, font=dict(\n",
    "    color='black',\n",
    "    size=14,\n",
    "))\n",
    "    \n",
    "plot.show()"
   ]
  },
  {
   "cell_type": "code",
   "execution_count": null,
   "id": "99929936-beea-4fc4-875b-cb6d55fdc2f6",
   "metadata": {},
   "outputs": [],
   "source": [
    "\n",
    "workers = df[df['work_age'] == True]\n",
    "non_workers = df[df['work_age'] == False]\n",
    "\n",
    "widgets.VBox([plot_weekdays('All', df), plot_weekdays('Workers', workers), plot_weekdays('Non workers', non_workers)])"
   ]
  },
  {
   "cell_type": "code",
   "execution_count": null,
   "id": "3f111621-b4a3-4e43-aba3-d4960cc4a7ba",
   "metadata": {},
   "outputs": [],
   "source": []
  }
 ],
 "metadata": {
  "kernelspec": {
   "display_name": "Python 3 (ipykernel)",
   "language": "python",
   "name": "python3"
  },
  "language_info": {
   "codemirror_mode": {
    "name": "ipython",
    "version": 3
   },
   "file_extension": ".py",
   "mimetype": "text/x-python",
   "name": "python",
   "nbconvert_exporter": "python",
   "pygments_lexer": "ipython3",
   "version": "3.9.7"
  }
 },
 "nbformat": 4,
 "nbformat_minor": 5
}
