{
 "cells": [
  {
   "cell_type": "code",
   "execution_count": null,
   "id": "d5074a5a-8715-459f-b02f-0b264ef547b5",
   "metadata": {},
   "outputs": [],
   "source": [
    "import pandas as pd\n",
    "import numpy as np\n",
    "import plotly.io as pio\n",
    "import plotly.express as px\n",
    "from plotly.subplots import make_subplots\n",
    "import plotly.graph_objects as go\n",
    "import ipywidgets as widgets\n",
    "import matplotlib.pyplot as plt\n",
    "\n",
    "import functions as helpers\n",
    "\n",
    "pio.templates.default = \"seaborn\"\n",
    "pd.options.plotting.backend = \"plotly\"\n",
    "\n",
    "%matplotlib inline"
   ]
  },
  {
   "cell_type": "code",
   "execution_count": null,
   "id": "7c6ba000-a8fa-4961-a6a2-1b18b6ed4523",
   "metadata": {},
   "outputs": [],
   "source": [
    "%store -r df"
   ]
  },
  {
   "cell_type": "code",
   "execution_count": null,
   "id": "3cc044cc-f83f-4eab-92ff-6392ab97f3d5",
   "metadata": {},
   "outputs": [],
   "source": [
    "age_ranges = ['18-24', '25-34', '35-44', '45-54', '55-64', '65-74','75-84', '85-94']\n",
    "\n",
    "figs = []\n",
    "m = 25\n",
    "for age_range in age_ranges:\n",
    "    fig = df[df['ageRange'] == age_range].groupby(['hour','series']).median().unstack('series')['steps'].plot.line(markers=False, line_shape='spline', width=300, height=250, title=age_range)\n",
    "    fig.update_layout(annotations=[], overwrite=True)\n",
    "    fig.update_layout(showlegend=False, margin=dict(t=m,l=m,b=m,r=m))\n",
    "    fig.update_layout(xaxis = dict(\n",
    "        tickvals = [0,6,12,18,23],\n",
    "        ticktext = ['00:00', '06:00', '12:00', '18:00', '23:00']\n",
    "    ), yaxis_title=None, xaxis_title=None)\n",
    "    figs.append(go.FigureWidget(fig))\n",
    "        \n",
    "widgets.VBox([widgets.HBox([figs[0], figs[1], figs[2]]),widgets.HBox([figs[3], figs[4], figs[5]]), widgets.HBox([figs[6], figs[7]])])\n"
   ]
  },
  {
   "cell_type": "code",
   "execution_count": null,
   "id": "3c77e230-1a0e-4a6d-9ec7-b7bc9bb295d6",
   "metadata": {
    "tags": []
   },
   "outputs": [],
   "source": [
    "non_workers = df[df['work_age'] == False]\n",
    "plot = (non_workers.groupby(['hour','series'])\n",
    "   .median().unstack('series')['steps'].plot.line(title='Non workers',line_shape='spline', height=200))\n",
    "plot.update_layout(xaxis = dict(\n",
    "        tickmode = 'array',\n",
    "        tickvals = [0,24, 48, 72, 96, 120, 144, 168],\n",
    "        ticktext = ['Mon', 'Tue', 'Wed', 'Thur', 'Fri', 'Sat', 'Sun']\n",
    "    ))"
   ]
  },
  {
   "cell_type": "code",
   "execution_count": null,
   "id": "1eeaac6e-4b34-439f-9562-daa0c9ad9b6e",
   "metadata": {},
   "outputs": [],
   "source": [
    "workers = df[df['work_age'] == True]\n",
    "steps = workers.groupby(['hour','series']).median().unstack('series')['steps']\n",
    "plot = steps.plot.line(title='Workers', line_shape='spline', height=900, markers=True)\n",
    "plot.update_layout(xaxis = dict(\n",
    "        tickmode = 'array',\n",
    "        tickvals = [0,6,12,18,23],\n",
    "        ticktext = ['00:00', '06:00', '12:00', '18:00', '23:00']\n",
    "    ))\n",
    "\n",
    "periods = [{'from':5,'to':9,'label':'06:00 - 08:59'},{'from':9,'to':14,'label':'09:00 - 13:59'},{'from':14,'to':23,'label':'14:00 - 23:59'}]\n",
    "for p in periods:\n",
    "    middle = p['from'] + ((p['to'] - p['from']) / 2)\n",
    "    stepsBefore = steps['before'][p['from']:p['to'] + 1].sum()\n",
    "    stepsAfter = steps['after'][p['from']:p['to'] + 1].sum()\n",
    "    annotate_diff(plot, middle, 580, p['label'], stepsBefore, stepsAfter)\n",
    "    \n",
    "    plot.add_vrect(x0=p['from'] + 0.05, x1=p['to'] - 0.05, opacity=0.15, layer=\"below\", line_width=2, line_dash=\"dash\")\n",
    "    \n",
    "plot.show()"
   ]
  },
  {
   "cell_type": "code",
   "execution_count": null,
   "id": "ed73bf80-771c-4e6f-aec7-671f24bbc41f",
   "metadata": {},
   "outputs": [],
   "source": []
  }
 ],
 "metadata": {
  "kernelspec": {
   "display_name": "Python 3 (ipykernel)",
   "language": "python",
   "name": "python3"
  },
  "language_info": {
   "codemirror_mode": {
    "name": "ipython",
    "version": 3
   },
   "file_extension": ".py",
   "mimetype": "text/x-python",
   "name": "python",
   "nbconvert_exporter": "python",
   "pygments_lexer": "ipython3",
   "version": "3.9.7"
  }
 },
 "nbformat": 4,
 "nbformat_minor": 5
}
