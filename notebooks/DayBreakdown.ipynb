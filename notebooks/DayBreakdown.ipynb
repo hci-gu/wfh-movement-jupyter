{
 "cells": [
  {
   "cell_type": "code",
   "execution_count": null,
   "id": "d5074a5a-8715-459f-b02f-0b264ef547b5",
   "metadata": {},
   "outputs": [],
   "source": [
    "import pandas as pd\n",
    "import numpy as np\n",
    "import ruptures as rpt\n",
    "import plotly.express as px\n",
    "import ipywidgets as widgets\n",
    "import matplotlib.pyplot as plt\n",
    "\n",
    "pd.options.plotting.backend = \"plotly\"\n",
    "\n",
    "%matplotlib inline"
   ]
  },
  {
   "cell_type": "code",
   "execution_count": null,
   "id": "7c6ba000-a8fa-4961-a6a2-1b18b6ed4523",
   "metadata": {},
   "outputs": [],
   "source": [
    "%store -r df"
   ]
  },
  {
   "cell_type": "code",
   "execution_count": null,
   "id": "b8ed7e59-27bf-44e5-9f59-e2e0ce99f7ac",
   "metadata": {
    "tags": []
   },
   "outputs": [],
   "source": [
    "value = ''\n",
    "fdf = df[(df.ageRange.notnull()) & (df.ageRange == value)] if value else df\n",
    "fdf"
   ]
  },
  {
   "cell_type": "code",
   "execution_count": null,
   "id": "043e7f63-30ab-47db-b6e1-5f75efb52790",
   "metadata": {},
   "outputs": [],
   "source": [
    "work_ages = ['25-34', '35-44','45-54','55-64']\n",
    "df['work_age'] = df.ageRange.isin(work_ages)\n",
    "#non_work_ages = ['18-24', '65-74','75-84','85-94']\n",
    "#non_working_df = df[df.ageRange.isin(non_work_ages)]"
   ]
  },
  {
   "cell_type": "code",
   "execution_count": null,
   "id": "25a51add-5a04-447c-9194-889d060d22b4",
   "metadata": {
    "jupyter": {
     "source_hidden": true
    },
    "tags": []
   },
   "outputs": [],
   "source": [
    "# fdf.pivot(index='hour', columns='series', values='steps')\n",
    "\n",
    "(df.groupby(['hour','series'])\n",
    "   .median().unstack('series')['steps'].plot.line(markers=True, line_shape='spline', height=200))\n",
    "# grouped.pivot(index='hour', columns='series')\n",
    "\n",
    "# grouped.plot(kind=\"line\")\n",
    "#fig = px.line(grouped, y=\"steps\")\n",
    "#fig.show()"
   ]
  },
  {
   "cell_type": "code",
   "execution_count": null,
   "id": "00d40f08-4223-474c-8948-4155df53d527",
   "metadata": {
    "jupyter": {
     "source_hidden": true
    },
    "tags": []
   },
   "outputs": [],
   "source": [
    "before = df[df['series'] == 'before']\n",
    "plot = before.groupby(['hour','work_age']).median().unstack('work_age')['steps'].plot.line(title='Before working from home', line_shape='spline', height=200)\n",
    "plot.update_layout(xaxis = dict(\n",
    "        tickmode = 'array',\n",
    "        tickvals = [0,24, 48, 72, 96, 120, 144, 168],\n",
    "        ticktext = ['Mon', 'Tue', 'Wed', 'Thur', 'Fri', 'Sat', 'Sun']\n",
    "    ))"
   ]
  },
  {
   "cell_type": "code",
   "execution_count": null,
   "id": "3c77e230-1a0e-4a6d-9ec7-b7bc9bb295d6",
   "metadata": {
    "jupyter": {
     "source_hidden": true
    },
    "tags": []
   },
   "outputs": [],
   "source": [
    "after = df[df['series'] == 'after']\n",
    "plot = (after.groupby(['hour','work_age'])\n",
    "   .median().unstack('work_age')['steps'].plot.line(title='After working from home',line_shape='spline', height=200))\n",
    "plot.update_layout(xaxis = dict(\n",
    "        tickmode = 'array',\n",
    "        tickvals = [0,24, 48, 72, 96, 120, 144, 168],\n",
    "        ticktext = ['Mon', 'Tue', 'Wed', 'Thur', 'Fri', 'Sat', 'Sun']\n",
    "    ))"
   ]
  },
  {
   "cell_type": "code",
   "execution_count": null,
   "id": "11cdd3c7-4884-4ca7-9fe8-a7ecb825ef2b",
   "metadata": {},
   "outputs": [],
   "source": [
    "series_df = fdf[fdf['series'] == 'before']\n",
    "\n",
    "(series_df.groupby(['hour'])\n",
    "   .median()['steps'].plot.line())"
   ]
  },
  {
   "cell_type": "code",
   "execution_count": null,
   "id": "aec55c2c-8aff-491c-8030-071946b039c7",
   "metadata": {},
   "outputs": [],
   "source": [
    "series_df = fdf[fdf['series'] == 'after']\n",
    "\n",
    "(series_df.groupby(['hour'])\n",
    "   .median()['steps'].plot.line())"
   ]
  },
  {
   "cell_type": "code",
   "execution_count": null,
   "id": "13a67155-6bc7-43f3-9364-9546feb011a8",
   "metadata": {},
   "outputs": [],
   "source": [
    "steps_before = np.array(fdf[fdf['series'] == 'before'].groupby(['hour']).median()['steps'])\n",
    "steps_after = np.array(fdf[fdf['series'] == 'after'].groupby(['hour']).median()['steps'])\n",
    "# signal = np.stack((steps_before, steps_after), axis=1)\n",
    "signal = steps_before\n",
    "\n",
    "signal"
   ]
  },
  {
   "cell_type": "code",
   "execution_count": null,
   "id": "a3ed442c-3102-4691-8943-243e35009626",
   "metadata": {
    "tags": []
   },
   "outputs": [],
   "source": [
    "#n_samples, dim, sigma = 1000, 3, 4\n",
    "#n_bkps = 4  # number of breakpoints\n",
    "#signal, bkps = rpt.pw_constant(n_samples, dim, n_bkps, noise_std=sigma)\n",
    "#bkps"
   ]
  },
  {
   "cell_type": "code",
   "execution_count": null,
   "id": "40cbd920-dcd1-4dde-b0fd-03a4695afdb7",
   "metadata": {},
   "outputs": [],
   "source": [
    "# detection\n",
    "#cost = rpt.costs.CostL2()\n",
    "model = \"l2\"\n",
    "algo = rpt.Binseg(model=model).fit(signal)\n",
    "my_bkps = algo.predict(n_bkps=3)\n",
    "\n",
    "# display\n",
    "rpt.display(signal, my_bkps, figsize=(17, 6))\n",
    "plt.show()\n",
    "\n",
    "df2 = fdf[fdf['series'] == 'before']\n",
    "bkps_timestamps = df2.iloc[[0] + my_bkps[:-1] +[-1]].index\n",
    "durations = (bkps_timestamps[1:] - bkps_timestamps[:-1])\n",
    "d = durations.seconds/60/60\n",
    "d_f = pd.DataFrame(d)\n"
   ]
  },
  {
   "cell_type": "code",
   "execution_count": null,
   "id": "eca3feb4-33d9-4ce8-a35a-86106c35da01",
   "metadata": {},
   "outputs": [],
   "source": []
  },
  {
   "cell_type": "code",
   "execution_count": null,
   "id": "8aea5f2c-d786-4e41-b1ba-be6cdc3097ec",
   "metadata": {},
   "outputs": [],
   "source": [
    "new_signal = np.array([0,1,2,3,4,6,6,6,6,6,10,10,10,13,14,10,11,10,10,10,10,10,10,23])\n",
    "\n",
    "cost = rpt.costs.CostL2()\n",
    "model = \"l2\"\n",
    "algo = rpt.Binseg(model=model).fit(new_signal)\n",
    "my_bkps = algo.predict(n_bkps=3)\n",
    "\n",
    "print(signal)\n",
    "print(my_bkps)\n",
    "\n",
    "# display\n",
    "rpt.display(new_signal, my_bkps, figsize=(17, 6))\n",
    "plt.show()"
   ]
  },
  {
   "cell_type": "code",
   "execution_count": null,
   "id": "a739acd0-0860-4268-aa57-75ac56d9e5b5",
   "metadata": {},
   "outputs": [],
   "source": []
  }
 ],
 "metadata": {
  "kernelspec": {
   "display_name": "Python 3 (ipykernel)",
   "language": "python",
   "name": "python3"
  },
  "language_info": {
   "codemirror_mode": {
    "name": "ipython",
    "version": 3
   },
   "file_extension": ".py",
   "mimetype": "text/x-python",
   "name": "python",
   "nbconvert_exporter": "python",
   "pygments_lexer": "ipython3",
   "version": "3.9.7"
  }
 },
 "nbformat": 4,
 "nbformat_minor": 5
}
