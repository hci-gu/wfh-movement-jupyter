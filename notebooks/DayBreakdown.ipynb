{
 "cells": [
  {
   "cell_type": "code",
   "execution_count": null,
   "id": "d5074a5a-8715-459f-b02f-0b264ef547b5",
   "metadata": {},
   "outputs": [],
   "source": [
    "import pandas as pd\n",
    "import numpy as np\n",
    "import ruptures as rpt\n",
    "import plotly.io as pio\n",
    "import plotly.express as px\n",
    "from plotly.subplots import make_subplots\n",
    "import plotly.graph_objects as go\n",
    "import ipywidgets as widgets\n",
    "import matplotlib.pyplot as plt\n",
    "\n",
    "pio.templates.default = \"seaborn\"\n",
    "pd.options.plotting.backend = \"plotly\"\n",
    "\n",
    "%matplotlib inline"
   ]
  },
  {
   "cell_type": "code",
   "execution_count": null,
   "id": "7c6ba000-a8fa-4961-a6a2-1b18b6ed4523",
   "metadata": {},
   "outputs": [],
   "source": [
    "%store -r df"
   ]
  },
  {
   "cell_type": "code",
   "execution_count": null,
   "id": "b8ed7e59-27bf-44e5-9f59-e2e0ce99f7ac",
   "metadata": {
    "tags": []
   },
   "outputs": [],
   "source": [
    "value = ''\n",
    "fdf = df[(df.ageRange.notnull()) & (df.ageRange == value)] if value else df\n",
    "fdf"
   ]
  },
  {
   "cell_type": "code",
   "execution_count": null,
   "id": "043e7f63-30ab-47db-b6e1-5f75efb52790",
   "metadata": {},
   "outputs": [],
   "source": [
    "work_ages = ['25-34', '35-44','45-54','55-64']\n",
    "df['work_age'] = df.ageRange.isin(work_ages)\n",
    "#non_work_ages = ['18-24', '65-74','75-84','85-94']\n",
    "#non_working_df = df[df.ageRange.isin(non_work_ages)]"
   ]
  },
  {
   "cell_type": "code",
   "execution_count": null,
   "id": "25a51add-5a04-447c-9194-889d060d22b4",
   "metadata": {
    "tags": []
   },
   "outputs": [],
   "source": [
    "# fdf.pivot(index='hour', columns='series', values='steps')\n",
    "\n",
    "(df.groupby(['hour','series'])\n",
    "   .median().unstack('series')['steps'].plot.line(markers=False, line_shape='spline', height=400))\n",
    "# grouped.pivot(index='hour', columns='series')\n",
    "\n",
    "# grouped.plot(kind=\"line\")\n",
    "#fig = px.line(grouped, y=\"steps\")\n",
    "#fig.show()"
   ]
  },
  {
   "cell_type": "code",
   "execution_count": null,
   "id": "3cc044cc-f83f-4eab-92ff-6392ab97f3d5",
   "metadata": {},
   "outputs": [],
   "source": [
    "#df.groupby(['hour','series']).median().unstack('series')['steps'].plot.line(markers=False, line_shape='spline', height=900)\n",
    "\n",
    "#fig = df.groupby(['hour','series']).median().unstack('series')['steps'].plot.line(markers=False, line_shape='spline', width=500, height=400)\n",
    "\n",
    "age_ranges = ['18-24', '25-34', '35-44', '45-54', '55-64', '65-74','75-84', '85-94']\n",
    "\n",
    "figs = []\n",
    "m = 25\n",
    "for age_range in age_ranges:\n",
    "    fig = df[df['ageRange'] == age_range].groupby(['hour','series']).median().unstack('series')['steps'].plot.line(markers=False, line_shape='spline', width=300, height=250, title=age_range)\n",
    "    fig.update_layout(annotations=[], overwrite=True)\n",
    "    fig.update_layout(showlegend=False, margin=dict(t=m,l=m,b=m,r=m))\n",
    "    fig.update_layout(xaxis = dict(\n",
    "        tickvals = [0,6,12,18,23],\n",
    "        ticktext = ['00:00', '06:00', '12:00', '18:00', '23:00']\n",
    "    ), yaxis_title=None, xaxis_title=None)\n",
    "    figs.append(go.FigureWidget(fig))\n",
    "        \n",
    "        \n",
    "#fig.add_trace(line_fig, row=1, col=1)\n",
    "#fig.add_trace(\n",
    "#    go.Scatter(x=[20, 30, 40], y=[50, 60, 70]),\n",
    "#    row=1, col=2\n",
    "#)\n",
    "\n",
    "#subplots = widgets.HBox([fig, fig])\n",
    "#subplots.update_layout(height=600, width=800, title_text=\"Agegroups\")\n",
    "#subplots.show()\n",
    "widgets.VBox([widgets.HBox([figs[0], figs[1], figs[2]]),widgets.HBox([figs[3], figs[4], figs[5]]), widgets.HBox([figs[6], figs[7]])])\n"
   ]
  },
  {
   "cell_type": "code",
   "execution_count": null,
   "id": "3c77e230-1a0e-4a6d-9ec7-b7bc9bb295d6",
   "metadata": {
    "tags": []
   },
   "outputs": [],
   "source": [
    "non_workers = df[df['work_age'] == False]\n",
    "plot = (non_workers.groupby(['hour','series'])\n",
    "   .median().unstack('series')['steps'].plot.line(title='Non workers',line_shape='spline', height=200))\n",
    "plot.update_layout(xaxis = dict(\n",
    "        tickmode = 'array',\n",
    "        tickvals = [0,24, 48, 72, 96, 120, 144, 168],\n",
    "        ticktext = ['Mon', 'Tue', 'Wed', 'Thur', 'Fri', 'Sat', 'Sun']\n",
    "    ))"
   ]
  },
  {
   "cell_type": "code",
   "execution_count": null,
   "id": "1eeaac6e-4b34-439f-9562-daa0c9ad9b6e",
   "metadata": {},
   "outputs": [],
   "source": [
    "workers = df[df['work_age'] == True]\n",
    "steps = workers.groupby(['hour','series']).median().unstack('series')['steps']\n",
    "plot = steps.plot.line(title='Workers', line_shape='spline', height=900, markers=True)\n",
    "plot.update_layout(xaxis = dict(\n",
    "        tickmode = 'array',\n",
    "        tickvals = [0,6,12,18,23],\n",
    "        ticktext = ['00:00', '06:00', '12:00', '18:00', '23:00']\n",
    "    ))\n",
    "\n",
    "periods = [{'from':5,'to':9,'label':'06:00 - 08:59'},{'from':9,'to':14,'label':'09:00 - 13:59'},{'from':14,'to':23,'label':'14:00 - 23:59'}]\n",
    "for p in periods:\n",
    "    middle = p['from'] + ((p['to'] - p['from']) / 2)\n",
    "    plot.add_annotation(x=middle, y=610, text=p['label'], showarrow=False, font=dict(\n",
    "        color=\"black\",\n",
    "        size=18,\n",
    "    ))\n",
    "    \n",
    "    stepsBefore = steps['before'][p['from']:p['to'] + 1].sum()\n",
    "    stepsAfter = steps['after'][p['from']:p['to'] + 1].sum()\n",
    "    diff = (1 - (stepsBefore / stepsAfter)) * 100\n",
    "    \n",
    "    plot.add_annotation(x=middle - 0.325, y=585, text='{:10.1f}%'.format(diff), showarrow=False, font=dict(\n",
    "        color=\"black\",\n",
    "        size=24,\n",
    "    ))\n",
    "    \n",
    "    plot.add_vrect(x0=p['from'] + 0.05, x1=p['to'] - 0.05, opacity=0.15, layer=\"below\", line_width=2, line_dash=\"dash\")\n",
    "    \n",
    "plot.show()"
   ]
  },
  {
   "cell_type": "code",
   "execution_count": null,
   "id": "11cdd3c7-4884-4ca7-9fe8-a7ecb825ef2b",
   "metadata": {},
   "outputs": [],
   "source": [
    "series_df = fdf[fdf['series'] == 'before']\n",
    "\n",
    "(series_df.groupby(['hour'])\n",
    "   .median()['steps'].plot.line())"
   ]
  },
  {
   "cell_type": "code",
   "execution_count": null,
   "id": "aec55c2c-8aff-491c-8030-071946b039c7",
   "metadata": {},
   "outputs": [],
   "source": [
    "series_df = fdf[fdf['series'] == 'after']\n",
    "\n",
    "(series_df.groupby(['hour'])\n",
    "   .median()['steps'].plot.line())"
   ]
  },
  {
   "cell_type": "code",
   "execution_count": null,
   "id": "13a67155-6bc7-43f3-9364-9546feb011a8",
   "metadata": {},
   "outputs": [],
   "source": [
    "steps_before = np.array(fdf[fdf['series'] == 'before'].groupby(['hour']).median()['steps'])\n",
    "steps_after = np.array(fdf[fdf['series'] == 'after'].groupby(['hour']).median()['steps'])\n",
    "\n",
    "signal = steps_before"
   ]
  },
  {
   "cell_type": "code",
   "execution_count": null,
   "id": "40cbd920-dcd1-4dde-b0fd-03a4695afdb7",
   "metadata": {},
   "outputs": [],
   "source": [
    "# detection\n",
    "#cost = rpt.costs.CostL2()\n",
    "model = \"l2\"\n",
    "algo = rpt.Binseg(model=model).fit(signal)\n",
    "my_bkps = algo.predict(n_bkps=3)\n",
    "\n",
    "# display\n",
    "rpt.display(signal, my_bkps, figsize=(17, 6))\n",
    "plt.show()\n",
    "\n",
    "# df2 = fdf[fdf['series'] == 'after']\n",
    "# bkps_timestamps = df2.iloc[[0] + my_bkps[:-1] +[-1]].index\n",
    "# durations = (bkps_timestamps[1:] - bkps_timestamps[:-1])\n",
    "# durations\n"
   ]
  },
  {
   "cell_type": "code",
   "execution_count": null,
   "id": "eca3feb4-33d9-4ce8-a35a-86106c35da01",
   "metadata": {},
   "outputs": [],
   "source": []
  },
  {
   "cell_type": "code",
   "execution_count": null,
   "id": "a739acd0-0860-4268-aa57-75ac56d9e5b5",
   "metadata": {},
   "outputs": [],
   "source": []
  }
 ],
 "metadata": {
  "kernelspec": {
   "display_name": "Python 3 (ipykernel)",
   "language": "python",
   "name": "python3"
  },
  "language_info": {
   "codemirror_mode": {
    "name": "ipython",
    "version": 3
   },
   "file_extension": ".py",
   "mimetype": "text/x-python",
   "name": "python",
   "nbconvert_exporter": "python",
   "pygments_lexer": "ipython3",
   "version": "3.9.7"
  }
 },
 "nbformat": 4,
 "nbformat_minor": 5
}
